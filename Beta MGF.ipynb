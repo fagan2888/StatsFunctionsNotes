{
 "cells": [
  {
   "cell_type": "code",
   "execution_count": 1,
   "metadata": {},
   "outputs": [],
   "source": [
    "import Distributions: Beta, mean, var, mgf, pdf\n",
    "import ForwardDiff: Dual, derivative\n",
    "import HypergeometricFunctions: drummond1F1\n",
    "import Plots\n",
    "import Polynomials: Polynomial\n",
    "import QuadGK: quadgk\n",
    "import Test: @test, @testset\n",
    "import SpecialFunctions: gamma, lgamma"
   ]
  },
  {
   "cell_type": "markdown",
   "metadata": {},
   "source": [
    "I've recently been studying [moment-generating functions](https://en.wikipedia.org/wiki/Moment-generating_function) as a pathway to [cumulants](https://en.wikipedia.org/wiki/Cumulant), which I'm interested in because I'm trying to build a deeper understanding of [Edgeworth expansions](https://en.wikipedia.org/wiki/Edgeworth_series). When I tried to call the `mgf` function on a `Beta` distribution object from the [Distributions.jl](https://github.com/JuliaStats/Distributions.jl/) package, I was surprised to see the method wasn't defined.\n",
    "\n",
    "I set about implementing the missing function, which led me down a deep rabbit hole. This notebook walks through my discoveries in a cleaned up, linearized retelling of how I tried to figure out how to implement `mgf(Beta, t)` correctly. In practice, my real workflow is much more chaotic and has even more mistakes in it."
   ]
  },
  {
   "cell_type": "markdown",
   "metadata": {},
   "source": [
    "### Moment-Generating Functions"
   ]
  },
  {
   "cell_type": "markdown",
   "metadata": {},
   "source": [
    "In general, the moment-generating function (or MGF for short) of a random variable $X$ is defined as:\n",
    "\n",
    "$$\n",
    "M_X(t) = \\mathbb{E}_{X}[\\exp(t X)]\n",
    "$$\n",
    "\n",
    "If $X$ is bounded between $a$ and $b$ and has a density function, $f(x)$, then we can write this as:\n",
    "\n",
    "$$\n",
    "M_X(t) = \\int_{a}^{b} \\exp(t x) f(x) dx\n",
    "$$"
   ]
  },
  {
   "cell_type": "markdown",
   "metadata": {},
   "source": [
    "### Step 1: Looking Up the Formula"
   ]
  },
  {
   "cell_type": "markdown",
   "metadata": {},
   "source": [
    "For many popular distributions, there is a well-known analytic formula that does not require evaluating an integral. For example, the MGF of the Bernoulli distribution is:\n",
    "\n",
    "$$\n",
    "M(t) = 1 - p + p \\exp(t)\n",
    "$$"
   ]
  },
  {
   "cell_type": "markdown",
   "metadata": {},
   "source": [
    "Most of the functions in Distributions.jl correspond to well-known formulas like this one, almost all of which can be found on Wikipedia. There's conveniently a little window on the righthand side of the Wikipedia page for the [beta distribution](https://en.wikipedia.org/wiki/Beta_distribution) that contains just such a formula for the beta distribution:"
   ]
  },
  {
   "cell_type": "markdown",
   "metadata": {},
   "source": [
    "$$\n",
    "M(t) = 1 + \\sum_{k = 1}^{\\infty} (\\prod_{r = 0}^{k - 1} \\frac{\\alpha + r}{\\alpha + \\beta + r}) \\frac{t^k}{k!}\n",
    "$$"
   ]
  },
  {
   "cell_type": "markdown",
   "metadata": {},
   "source": [
    "This infinite series formula seems simple at first and suggests that we could try approximating $M(t)$ by truncating the infinite series, but we'll soon see that truncating this series is dangerous."
   ]
  },
  {
   "cell_type": "markdown",
   "metadata": {},
   "source": [
    "As a quick aside, throughout this document, we're going to almost always simplify things and hold $\\alpha$ and $\\beta$ fixed to the values so that only need to think of $M(t)$ as a function of $t$ and can ignore how it varies depending on $\\alpha$ and $\\beta$."
   ]
  },
  {
   "cell_type": "code",
   "execution_count": 2,
   "metadata": {},
   "outputs": [
    {
     "data": {
      "text/plain": [
       "(2.0, 2.0)"
      ]
     },
     "execution_count": 2,
     "metadata": {},
     "output_type": "execute_result"
    }
   ],
   "source": [
    "α, β = 2.0, 2.0"
   ]
  },
  {
   "cell_type": "markdown",
   "metadata": {},
   "source": [
    "These parameter values are nice to work with because they let us simplify the density function $f(x)$ to:\n",
    "\n",
    "$$\n",
    "f(x) = \\frac{x^{\\alpha - 1} (1 - x)^{\\beta - 1}}{B(\\alpha, \\beta)} = \\frac{x (1 - x)}{B(2, 2)} = \\frac{x (1 - x)}{\\frac{1}{6}} = 6 (x - x^2)\n",
    "$$"
   ]
  },
  {
   "cell_type": "markdown",
   "metadata": {},
   "source": [
    "This means that the MGF is:\n",
    "\n",
    "$$\n",
    "M(t) = \\int_{0}^{1} \\exp(x t) 6 (x - x^2) dx\n",
    "$$"
   ]
  },
  {
   "cell_type": "markdown",
   "metadata": {},
   "source": [
    "### First Approach: Naively Implement Infinite Series"
   ]
  },
  {
   "cell_type": "code",
   "execution_count": 3,
   "metadata": {},
   "outputs": [
    {
     "data": {
      "text/plain": [
       "beta_mgf_v0 (generic function with 2 methods)"
      ]
     },
     "execution_count": 3,
     "metadata": {},
     "output_type": "execute_result"
    }
   ],
   "source": [
    "function beta_mgf_v0(α::Number, β::Number, t::Number, k_max::Integer = 1_000)\n",
    "    s = one(t)\n",
    "    k = 0\n",
    "    converged = false\n",
    "    while !converged\n",
    "        k += 1\n",
    "        p = one(t)\n",
    "        for r in 0:(k - 1)\n",
    "            p *= (α + r) / (α + β + r)\n",
    "        end\n",
    "        term = (p / gamma(k + 1)) * t^k\n",
    "        if s == s + term || k > k_max\n",
    "            converged = true\n",
    "        else\n",
    "            s += term\n",
    "        end\n",
    "    end\n",
    "    s\n",
    "end"
   ]
  },
  {
   "cell_type": "code",
   "execution_count": 4,
   "metadata": {},
   "outputs": [
    {
     "data": {
      "text/plain": [
       "3.0000000000000004"
      ]
     },
     "execution_count": 4,
     "metadata": {},
     "output_type": "execute_result"
    }
   ],
   "source": [
    "beta_mgf_v0(α, β, 2.0)"
   ]
  },
  {
   "cell_type": "markdown",
   "metadata": {},
   "source": [
    "We now immediately confront the main challenge with trying to translate math into code: we often want to write code because the math is very tedious to evaluate by hand. But this means that we often don't know offhand if the answer we have is correct since we haven't previously evaluated it by hand."
   ]
  },
  {
   "cell_type": "markdown",
   "metadata": {},
   "source": [
    "In the case of MGF's, we can try to address this problem by enumerating invariants that mathematical reasoning tells us must apply to our function. We can then check whether these invariants apply. In our case, we have the following result, which explains the origin of name, moment-generating function:\n",
    "\n",
    "* The n-th derivative of M(t) evaluated at 0 equals the n-th non-centered moment of the random variable X.\n",
    "* In particular, this implies that:\n",
    "    * $M(0) = 1$\n",
    "    * $M\\prime(0) = \\mathbb{E}_{X}[X]$\n",
    "    * $M\\prime\\prime(0) = \\mathbb{E}_{X}[X^2] = \\mathbb{V}_{X}[X] + \\mathbb{E}_{X}[X]^2$"
   ]
  },
  {
   "cell_type": "markdown",
   "metadata": {},
   "source": [
    "Let's test that against our code:"
   ]
  },
  {
   "cell_type": "code",
   "execution_count": 5,
   "metadata": {},
   "outputs": [
    {
     "name": "stdout",
     "output_type": "stream",
     "text": [
      "\u001b[37mDerivatives at 0: \u001b[39m\u001b[91m\u001b[1mTest Failed\u001b[22m\u001b[39m at \u001b[39m\u001b[1mIn[5]:7\u001b[22m\n",
      "  Expression: M′(0.0) ≈ mean(d)\n",
      "   Evaluated: 0.0 ≈ 0.5\n",
      "Stacktrace:\n",
      " [1] top-level scope at \u001b[1mIn[5]:7\u001b[22m\n",
      " [2] top-level scope at \u001b[1m/Users/johnmyleswhite/julia/usr/share/julia/stdlib/v1.5/Test/src/Test.jl:1114\u001b[22m\n",
      " [3] top-level scope at \u001b[1mIn[5]:2\u001b[22m\n",
      "\u001b[37mDerivatives at 0: \u001b[39m\u001b[91m\u001b[1mTest Failed\u001b[22m\u001b[39m at \u001b[39m\u001b[1mIn[5]:8\u001b[22m\n",
      "  Expression: M′′(0.0) ≈ var(d) + mean(d) ^ 2\n",
      "   Evaluated: 0.0 ≈ 0.3\n",
      "Stacktrace:\n",
      " [1] top-level scope at \u001b[1mIn[5]:8\u001b[22m\n",
      " [2] top-level scope at \u001b[1m/Users/johnmyleswhite/julia/usr/share/julia/stdlib/v1.5/Test/src/Test.jl:1114\u001b[22m\n",
      " [3] top-level scope at \u001b[1mIn[5]:2\u001b[22m\n",
      "\u001b[37m\u001b[1mTest Summary:    | \u001b[22m\u001b[39m\u001b[91m\u001b[1mFail  \u001b[22m\u001b[39m\u001b[36m\u001b[1mTotal\u001b[22m\u001b[39m\n",
      "Derivatives at 0 | \u001b[91m   2  \u001b[39m\u001b[36m    2\u001b[39m\n"
     ]
    },
    {
     "ename": "Test.TestSetException",
     "evalue": "Some tests did not pass: 0 passed, 2 failed, 0 errored, 0 broken.",
     "output_type": "error",
     "traceback": [
      "Some tests did not pass: 0 passed, 2 failed, 0 errored, 0 broken.",
      "",
      "Stacktrace:",
      " [1] finish(::Test.DefaultTestSet) at /Users/johnmyleswhite/julia/usr/share/julia/stdlib/v1.5/Test/src/Test.jl:879",
      " [2] top-level scope at /Users/johnmyleswhite/julia/usr/share/julia/stdlib/v1.5/Test/src/Test.jl:1125",
      " [3] top-level scope at In[5]:2"
     ]
    }
   ],
   "source": [
    "@testset \"Derivatives at 0\" begin\n",
    "    for α in 2:2, β in 2:2\n",
    "        d = Beta(α, β)\n",
    "        M = t -> beta_mgf_v0(α, β, t)\n",
    "        M′ = t -> derivative(M, t)\n",
    "        M′′ = t -> derivative(M′, t)\n",
    "        @test M′(0.0) ≈ mean(d)\n",
    "        @test M′′(0.0) ≈ var(d) + mean(d)^2\n",
    "    end\n",
    "end"
   ]
  },
  {
   "cell_type": "markdown",
   "metadata": {},
   "source": [
    "These tests fail, which tells us something is wrong. Unfortunately, it's not immediately obvious what's wrong. In this case, what's wrong is quite subtle and required me to step through the implementation line-by-line while inspecting intermediate variables to discover that the problem is that the infinite series needs to be evaluated to a larger number of terms to compute the derivative at `0.0` than are needed to compute the function itself at `0`. But we won't evaluate the series enough times if we terminate whenever `s == s + term` since that condition only verifies that the function values have stopped changing. Instead, we need to use `s === s + term` to ensure that the derivative has stoppped changing.\n",
    "\n",
    "If this argument doesn't make sense to you, you can either ignore this or explore the following two topics:\n",
    "\n",
    "1. Note that ForwardDiff calculates derivatives using dual numbers, which pair the value of a function with a dual variable that is the value of the derivative of the function.\n",
    "2. ForwardDiff uses `==` to check only the value of the function at the start when the state variable `s` is just a `Float64` number and not yet a dual number."
   ]
  },
  {
   "cell_type": "code",
   "execution_count": 6,
   "metadata": {},
   "outputs": [
    {
     "data": {
      "text/plain": [
       "true"
      ]
     },
     "execution_count": 6,
     "metadata": {},
     "output_type": "execute_result"
    }
   ],
   "source": [
    "Dual(1, 0) == Dual(1, 1)"
   ]
  },
  {
   "cell_type": "code",
   "execution_count": 7,
   "metadata": {},
   "outputs": [
    {
     "data": {
      "text/plain": [
       "false"
      ]
     },
     "execution_count": 7,
     "metadata": {},
     "output_type": "execute_result"
    }
   ],
   "source": [
    "Dual(1, 0) === Dual(1, 1)"
   ]
  },
  {
   "cell_type": "markdown",
   "metadata": {},
   "source": [
    "We can easily fix this first bug by replacing `==` with `===`:"
   ]
  },
  {
   "cell_type": "code",
   "execution_count": 8,
   "metadata": {},
   "outputs": [
    {
     "data": {
      "text/plain": [
       "beta_mgf_v1 (generic function with 2 methods)"
      ]
     },
     "execution_count": 8,
     "metadata": {},
     "output_type": "execute_result"
    }
   ],
   "source": [
    "function beta_mgf_v1(α::Number, β::Number, t::Number, k_max::Integer = 1_000)\n",
    "    s = one(t)\n",
    "    k = 0\n",
    "    converged = false\n",
    "    while !converged\n",
    "        k += 1\n",
    "        p = one(t)\n",
    "        for r in 0:(k - 1)\n",
    "            p *= (α + r) / (α + β + r)\n",
    "        end\n",
    "        term = (p / gamma(k + 1)) * t^k\n",
    "        if s === s + term || k > k_max\n",
    "            converged = true\n",
    "        else\n",
    "            s += term\n",
    "        end\n",
    "    end\n",
    "    s\n",
    "end"
   ]
  },
  {
   "cell_type": "code",
   "execution_count": 9,
   "metadata": {},
   "outputs": [
    {
     "name": "stdout",
     "output_type": "stream",
     "text": [
      "\u001b[37m\u001b[1mTest Summary:    | \u001b[22m\u001b[39m\u001b[32m\u001b[1mPass  \u001b[22m\u001b[39m\u001b[36m\u001b[1mTotal\u001b[22m\u001b[39m\n",
      "Derivatives at 0 | \u001b[32m1250  \u001b[39m\u001b[36m 1250\u001b[39m\n"
     ]
    },
    {
     "data": {
      "text/plain": [
       "Test.DefaultTestSet(\"Derivatives at 0\", Any[], 1250, false)"
      ]
     },
     "execution_count": 9,
     "metadata": {},
     "output_type": "execute_result"
    }
   ],
   "source": [
    "@testset \"Derivatives at 0\" begin\n",
    "    for α in 1:25, β in 1:25\n",
    "        d = Beta(α, β)\n",
    "        M = t -> beta_mgf_v1(α, β, t)\n",
    "        M′ = t -> derivative(M, t)\n",
    "        M′′ = t -> derivative(M′, t)\n",
    "        @test M′(0.0) ≈ mean(d)\n",
    "        @test M′′(0.0) ≈ var(d) + mean(d)^2\n",
    "    end\n",
    "end"
   ]
  },
  {
   "cell_type": "markdown",
   "metadata": {},
   "source": [
    "At this point, we might be feeling pretty good about ourselves. We've passed a non-trivial test of correctness, which suggests that our approach works reasonably well. We've also tested our code over a non-trivial range (if still extremely small) range of values for $\\alpha$ and $\\beta$ and gotten correct answers.\n",
    "\n",
    "Feeling proud of ourselves, we might then decide to plot the MGF over a range of values for $t$ (which is the parameter that we held fixed at `0.0` in our tests) to see what our new function looks like:"
   ]
  },
  {
   "cell_type": "code",
   "execution_count": 10,
   "metadata": {},
   "outputs": [
    {
     "data": {
      "image/svg+xml": [
       "<?xml version=\"1.0\" encoding=\"utf-8\"?>\n",
       "<svg xmlns=\"http://www.w3.org/2000/svg\" xmlns:xlink=\"http://www.w3.org/1999/xlink\" width=\"600\" height=\"400\" viewBox=\"0 0 2400 1600\">\n",
       "<defs>\n",
       "  <clipPath id=\"clip950\">\n",
       "    <rect x=\"0\" y=\"0\" width=\"2400\" height=\"1600\"/>\n",
       "  </clipPath>\n",
       "</defs>\n",
       "<path clip-path=\"url(#clip950)\" d=\"\n",
       "M0 1600 L2400 1600 L2400 0 L0 0  Z\n",
       "  \" fill=\"#ffffff\" fill-rule=\"evenodd\" fill-opacity=\"1\"/>\n",
       "<defs>\n",
       "  <clipPath id=\"clip951\">\n",
       "    <rect x=\"480\" y=\"0\" width=\"1681\" height=\"1600\"/>\n",
       "  </clipPath>\n",
       "</defs>\n",
       "<path clip-path=\"url(#clip950)\" d=\"\n",
       "M231.227 1486.45 L2352.76 1486.45 L2352.76 47.2441 L231.227 47.2441  Z\n",
       "  \" fill=\"#ffffff\" fill-rule=\"evenodd\" fill-opacity=\"1\"/>\n",
       "<defs>\n",
       "  <clipPath id=\"clip952\">\n",
       "    <rect x=\"231\" y=\"47\" width=\"2123\" height=\"1440\"/>\n",
       "  </clipPath>\n",
       "</defs>\n",
       "<polyline clip-path=\"url(#clip952)\" style=\"stroke:#000000; stroke-width:2; stroke-opacity:0.1; fill:none\" points=\"\n",
       "  291.271,1486.45 291.271,47.2441 \n",
       "  \"/>\n",
       "<polyline clip-path=\"url(#clip952)\" style=\"stroke:#000000; stroke-width:2; stroke-opacity:0.1; fill:none\" points=\"\n",
       "  791.631,1486.45 791.631,47.2441 \n",
       "  \"/>\n",
       "<polyline clip-path=\"url(#clip952)\" style=\"stroke:#000000; stroke-width:2; stroke-opacity:0.1; fill:none\" points=\"\n",
       "  1291.99,1486.45 1291.99,47.2441 \n",
       "  \"/>\n",
       "<polyline clip-path=\"url(#clip952)\" style=\"stroke:#000000; stroke-width:2; stroke-opacity:0.1; fill:none\" points=\"\n",
       "  1792.35,1486.45 1792.35,47.2441 \n",
       "  \"/>\n",
       "<polyline clip-path=\"url(#clip952)\" style=\"stroke:#000000; stroke-width:2; stroke-opacity:0.1; fill:none\" points=\"\n",
       "  2292.71,1486.45 2292.71,47.2441 \n",
       "  \"/>\n",
       "<polyline clip-path=\"url(#clip952)\" style=\"stroke:#000000; stroke-width:2; stroke-opacity:0.1; fill:none\" points=\"\n",
       "  231.227,1445.72 2352.76,1445.72 \n",
       "  \"/>\n",
       "<polyline clip-path=\"url(#clip952)\" style=\"stroke:#000000; stroke-width:2; stroke-opacity:0.1; fill:none\" points=\"\n",
       "  231.227,1113.39 2352.76,1113.39 \n",
       "  \"/>\n",
       "<polyline clip-path=\"url(#clip952)\" style=\"stroke:#000000; stroke-width:2; stroke-opacity:0.1; fill:none\" points=\"\n",
       "  231.227,781.072 2352.76,781.072 \n",
       "  \"/>\n",
       "<polyline clip-path=\"url(#clip952)\" style=\"stroke:#000000; stroke-width:2; stroke-opacity:0.1; fill:none\" points=\"\n",
       "  231.227,448.75 2352.76,448.75 \n",
       "  \"/>\n",
       "<polyline clip-path=\"url(#clip952)\" style=\"stroke:#000000; stroke-width:2; stroke-opacity:0.1; fill:none\" points=\"\n",
       "  231.227,116.428 2352.76,116.428 \n",
       "  \"/>\n",
       "<polyline clip-path=\"url(#clip950)\" style=\"stroke:#000000; stroke-width:4; stroke-opacity:1; fill:none\" points=\"\n",
       "  231.227,1486.45 2352.76,1486.45 \n",
       "  \"/>\n",
       "<polyline clip-path=\"url(#clip950)\" style=\"stroke:#000000; stroke-width:4; stroke-opacity:1; fill:none\" points=\"\n",
       "  231.227,1486.45 231.227,47.2441 \n",
       "  \"/>\n",
       "<polyline clip-path=\"url(#clip950)\" style=\"stroke:#000000; stroke-width:4; stroke-opacity:1; fill:none\" points=\"\n",
       "  291.271,1486.45 291.271,1469.18 \n",
       "  \"/>\n",
       "<polyline clip-path=\"url(#clip950)\" style=\"stroke:#000000; stroke-width:4; stroke-opacity:1; fill:none\" points=\"\n",
       "  791.631,1486.45 791.631,1469.18 \n",
       "  \"/>\n",
       "<polyline clip-path=\"url(#clip950)\" style=\"stroke:#000000; stroke-width:4; stroke-opacity:1; fill:none\" points=\"\n",
       "  1291.99,1486.45 1291.99,1469.18 \n",
       "  \"/>\n",
       "<polyline clip-path=\"url(#clip950)\" style=\"stroke:#000000; stroke-width:4; stroke-opacity:1; fill:none\" points=\"\n",
       "  1792.35,1486.45 1792.35,1469.18 \n",
       "  \"/>\n",
       "<polyline clip-path=\"url(#clip950)\" style=\"stroke:#000000; stroke-width:4; stroke-opacity:1; fill:none\" points=\"\n",
       "  2292.71,1486.45 2292.71,1469.18 \n",
       "  \"/>\n",
       "<polyline clip-path=\"url(#clip950)\" style=\"stroke:#000000; stroke-width:4; stroke-opacity:1; fill:none\" points=\"\n",
       "  231.227,1445.72 256.686,1445.72 \n",
       "  \"/>\n",
       "<polyline clip-path=\"url(#clip950)\" style=\"stroke:#000000; stroke-width:4; stroke-opacity:1; fill:none\" points=\"\n",
       "  231.227,1113.39 256.686,1113.39 \n",
       "  \"/>\n",
       "<polyline clip-path=\"url(#clip950)\" style=\"stroke:#000000; stroke-width:4; stroke-opacity:1; fill:none\" points=\"\n",
       "  231.227,781.072 256.686,781.072 \n",
       "  \"/>\n",
       "<polyline clip-path=\"url(#clip950)\" style=\"stroke:#000000; stroke-width:4; stroke-opacity:1; fill:none\" points=\"\n",
       "  231.227,448.75 256.686,448.75 \n",
       "  \"/>\n",
       "<polyline clip-path=\"url(#clip950)\" style=\"stroke:#000000; stroke-width:4; stroke-opacity:1; fill:none\" points=\"\n",
       "  231.227,116.428 256.686,116.428 \n",
       "  \"/>\n",
       "<path clip-path=\"url(#clip950)\" d=\"M 0 0 M245.125 1525.04 L257.602 1525.04 L257.602 1528.83 L245.125 1528.83 L245.125 1525.04 Z\" fill=\"#000000\" fill-rule=\"evenodd\" fill-opacity=\"1\" /><path clip-path=\"url(#clip950)\" d=\"M 0 0 M263.482 1535.98 L271.12 1535.98 L271.12 1509.62 L262.81 1511.29 L262.81 1507.03 L271.074 1505.36 L275.75 1505.36 L275.75 1535.98 L283.389 1535.98 L283.389 1539.92 L263.482 1539.92 L263.482 1535.98 Z\" fill=\"#000000\" fill-rule=\"evenodd\" fill-opacity=\"1\" /><path clip-path=\"url(#clip950)\" d=\"M 0 0 M298.458 1508.44 Q294.847 1508.44 293.018 1512 Q291.213 1515.55 291.213 1522.67 Q291.213 1529.78 293.018 1533.35 Q294.847 1536.89 298.458 1536.89 Q302.092 1536.89 303.898 1533.35 Q305.727 1529.78 305.727 1522.67 Q305.727 1515.55 303.898 1512 Q302.092 1508.44 298.458 1508.44 M298.458 1504.73 Q304.268 1504.73 307.324 1509.34 Q310.403 1513.92 310.403 1522.67 Q310.403 1531.4 307.324 1536.01 Q304.268 1540.59 298.458 1540.59 Q292.648 1540.59 289.569 1536.01 Q286.514 1531.4 286.514 1522.67 Q286.514 1513.92 289.569 1509.34 Q292.648 1504.73 298.458 1504.73 Z\" fill=\"#000000\" fill-rule=\"evenodd\" fill-opacity=\"1\" /><path clip-path=\"url(#clip950)\" d=\"M 0 0 M325.472 1508.44 Q321.861 1508.44 320.032 1512 Q318.227 1515.55 318.227 1522.67 Q318.227 1529.78 320.032 1533.35 Q321.861 1536.89 325.472 1536.89 Q329.106 1536.89 330.912 1533.35 Q332.74 1529.78 332.74 1522.67 Q332.74 1515.55 330.912 1512 Q329.106 1508.44 325.472 1508.44 M325.472 1504.73 Q331.282 1504.73 334.338 1509.34 Q337.416 1513.92 337.416 1522.67 Q337.416 1531.4 334.338 1536.01 Q331.282 1540.59 325.472 1540.59 Q319.662 1540.59 316.583 1536.01 Q313.528 1531.4 313.528 1522.67 Q313.528 1513.92 316.583 1509.34 Q319.662 1504.73 325.472 1504.73 Z\" fill=\"#000000\" fill-rule=\"evenodd\" fill-opacity=\"1\" /><path clip-path=\"url(#clip950)\" d=\"M 0 0 M758.877 1525.04 L771.354 1525.04 L771.354 1528.83 L758.877 1528.83 L758.877 1525.04 Z\" fill=\"#000000\" fill-rule=\"evenodd\" fill-opacity=\"1\" /><path clip-path=\"url(#clip950)\" d=\"M 0 0 M776.469 1505.36 L794.826 1505.36 L794.826 1509.3 L780.752 1509.3 L780.752 1517.77 Q781.77 1517.42 782.789 1517.26 Q783.807 1517.07 784.826 1517.07 Q790.613 1517.07 793.992 1520.24 Q797.372 1523.42 797.372 1528.83 Q797.372 1534.41 793.9 1537.51 Q790.428 1540.59 784.108 1540.59 Q781.932 1540.59 779.664 1540.22 Q777.418 1539.85 775.011 1539.11 L775.011 1534.41 Q777.094 1535.54 779.316 1536.1 Q781.539 1536.66 784.016 1536.66 Q788.02 1536.66 790.358 1534.55 Q792.696 1532.44 792.696 1528.83 Q792.696 1525.22 790.358 1523.11 Q788.02 1521.01 784.016 1521.01 Q782.141 1521.01 780.266 1521.42 Q778.414 1521.84 776.469 1522.72 L776.469 1505.36 Z\" fill=\"#000000\" fill-rule=\"evenodd\" fill-opacity=\"1\" /><path clip-path=\"url(#clip950)\" d=\"M 0 0 M812.441 1508.44 Q808.83 1508.44 807.001 1512 Q805.196 1515.55 805.196 1522.67 Q805.196 1529.78 807.001 1533.35 Q808.83 1536.89 812.441 1536.89 Q816.076 1536.89 817.881 1533.35 Q819.71 1529.78 819.71 1522.67 Q819.71 1515.55 817.881 1512 Q816.076 1508.44 812.441 1508.44 M812.441 1504.73 Q818.251 1504.73 821.307 1509.34 Q824.386 1513.92 824.386 1522.67 Q824.386 1531.4 821.307 1536.01 Q818.251 1540.59 812.441 1540.59 Q806.631 1540.59 803.552 1536.01 Q800.497 1531.4 800.497 1522.67 Q800.497 1513.92 803.552 1509.34 Q806.631 1504.73 812.441 1504.73 Z\" fill=\"#000000\" fill-rule=\"evenodd\" fill-opacity=\"1\" /><path clip-path=\"url(#clip950)\" d=\"M 0 0 M1291.99 1508.44 Q1288.38 1508.44 1286.55 1512 Q1284.75 1515.55 1284.75 1522.67 Q1284.75 1529.78 1286.55 1533.35 Q1288.38 1536.89 1291.99 1536.89 Q1295.63 1536.89 1297.43 1533.35 Q1299.26 1529.78 1299.26 1522.67 Q1299.26 1515.55 1297.43 1512 Q1295.63 1508.44 1291.99 1508.44 M1291.99 1504.73 Q1297.8 1504.73 1300.86 1509.34 Q1303.94 1513.92 1303.94 1522.67 Q1303.94 1531.4 1300.86 1536.01 Q1297.8 1540.59 1291.99 1540.59 Q1286.18 1540.59 1283.1 1536.01 Q1280.05 1531.4 1280.05 1522.67 Q1280.05 1513.92 1283.1 1509.34 Q1286.18 1504.73 1291.99 1504.73 Z\" fill=\"#000000\" fill-rule=\"evenodd\" fill-opacity=\"1\" /><path clip-path=\"url(#clip950)\" d=\"M 0 0 M1769.12 1505.36 L1787.48 1505.36 L1787.48 1509.3 L1773.41 1509.3 L1773.41 1517.77 Q1774.42 1517.42 1775.44 1517.26 Q1776.46 1517.07 1777.48 1517.07 Q1783.27 1517.07 1786.65 1520.24 Q1790.03 1523.42 1790.03 1528.83 Q1790.03 1534.41 1786.55 1537.51 Q1783.08 1540.59 1776.76 1540.59 Q1774.59 1540.59 1772.32 1540.22 Q1770.07 1539.85 1767.66 1539.11 L1767.66 1534.41 Q1769.75 1535.54 1771.97 1536.1 Q1774.19 1536.66 1776.67 1536.66 Q1780.67 1536.66 1783.01 1534.55 Q1785.35 1532.44 1785.35 1528.83 Q1785.35 1525.22 1783.01 1523.11 Q1780.67 1521.01 1776.67 1521.01 Q1774.79 1521.01 1772.92 1521.42 Q1771.07 1521.84 1769.12 1522.72 L1769.12 1505.36 Z\" fill=\"#000000\" fill-rule=\"evenodd\" fill-opacity=\"1\" /><path clip-path=\"url(#clip950)\" d=\"M 0 0 M1805.1 1508.44 Q1801.48 1508.44 1799.66 1512 Q1797.85 1515.55 1797.85 1522.67 Q1797.85 1529.78 1799.66 1533.35 Q1801.48 1536.89 1805.1 1536.89 Q1808.73 1536.89 1810.53 1533.35 Q1812.36 1529.78 1812.36 1522.67 Q1812.36 1515.55 1810.53 1512 Q1808.73 1508.44 1805.1 1508.44 M1805.1 1504.73 Q1810.91 1504.73 1813.96 1509.34 Q1817.04 1513.92 1817.04 1522.67 Q1817.04 1531.4 1813.96 1536.01 Q1810.91 1540.59 1805.1 1540.59 Q1799.28 1540.59 1796.21 1536.01 Q1793.15 1531.4 1793.15 1522.67 Q1793.15 1513.92 1796.21 1509.34 Q1799.28 1504.73 1805.1 1504.73 Z\" fill=\"#000000\" fill-rule=\"evenodd\" fill-opacity=\"1\" /><path clip-path=\"url(#clip950)\" d=\"M 0 0 M2256.08 1535.98 L2263.72 1535.98 L2263.72 1509.62 L2255.41 1511.29 L2255.41 1507.03 L2263.67 1505.36 L2268.35 1505.36 L2268.35 1535.98 L2275.99 1535.98 L2275.99 1539.92 L2256.08 1539.92 L2256.08 1535.98 Z\" fill=\"#000000\" fill-rule=\"evenodd\" fill-opacity=\"1\" /><path clip-path=\"url(#clip950)\" d=\"M 0 0 M2291.06 1508.44 Q2287.45 1508.44 2285.62 1512 Q2283.81 1515.55 2283.81 1522.67 Q2283.81 1529.78 2285.62 1533.35 Q2287.45 1536.89 2291.06 1536.89 Q2294.69 1536.89 2296.5 1533.35 Q2298.33 1529.78 2298.33 1522.67 Q2298.33 1515.55 2296.5 1512 Q2294.69 1508.44 2291.06 1508.44 M2291.06 1504.73 Q2296.87 1504.73 2299.92 1509.34 Q2303 1513.92 2303 1522.67 Q2303 1531.4 2299.92 1536.01 Q2296.87 1540.59 2291.06 1540.59 Q2285.25 1540.59 2282.17 1536.01 Q2279.11 1531.4 2279.11 1522.67 Q2279.11 1513.92 2282.17 1509.34 Q2285.25 1504.73 2291.06 1504.73 Z\" fill=\"#000000\" fill-rule=\"evenodd\" fill-opacity=\"1\" /><path clip-path=\"url(#clip950)\" d=\"M 0 0 M2318.07 1508.44 Q2314.46 1508.44 2312.63 1512 Q2310.83 1515.55 2310.83 1522.67 Q2310.83 1529.78 2312.63 1533.35 Q2314.46 1536.89 2318.07 1536.89 Q2321.71 1536.89 2323.51 1533.35 Q2325.34 1529.78 2325.34 1522.67 Q2325.34 1515.55 2323.51 1512 Q2321.71 1508.44 2318.07 1508.44 M2318.07 1504.73 Q2323.88 1504.73 2326.94 1509.34 Q2330.02 1513.92 2330.02 1522.67 Q2330.02 1531.4 2326.94 1536.01 Q2323.88 1540.59 2318.07 1540.59 Q2312.26 1540.59 2309.18 1536.01 Q2306.13 1531.4 2306.13 1522.67 Q2306.13 1513.92 2309.18 1509.34 Q2312.26 1504.73 2318.07 1504.73 Z\" fill=\"#000000\" fill-rule=\"evenodd\" fill-opacity=\"1\" /><path clip-path=\"url(#clip950)\" d=\"M 0 0 M195.283 1431.51 Q191.672 1431.51 189.843 1435.08 Q188.038 1438.62 188.038 1445.75 Q188.038 1452.86 189.843 1456.42 Q191.672 1459.96 195.283 1459.96 Q198.917 1459.96 200.723 1456.42 Q202.552 1452.86 202.552 1445.75 Q202.552 1438.62 200.723 1435.08 Q198.917 1431.51 195.283 1431.51 M195.283 1427.81 Q201.093 1427.81 204.149 1432.42 Q207.227 1437 207.227 1445.75 Q207.227 1454.48 204.149 1459.08 Q201.093 1463.67 195.283 1463.67 Q189.473 1463.67 186.394 1459.08 Q183.339 1454.48 183.339 1445.75 Q183.339 1437 186.394 1432.42 Q189.473 1427.81 195.283 1427.81 Z\" fill=\"#000000\" fill-rule=\"evenodd\" fill-opacity=\"1\" /><path clip-path=\"url(#clip950)\" d=\"M 0 0 M61.8391 1133.19 L69.4779 1133.19 L69.4779 1106.82 L61.1678 1108.49 L61.1678 1104.23 L69.4316 1102.56 L74.1075 1102.56 L74.1075 1133.19 L81.7464 1133.19 L81.7464 1137.12 L61.8391 1137.12 L61.8391 1133.19 Z\" fill=\"#000000\" fill-rule=\"evenodd\" fill-opacity=\"1\" /><path clip-path=\"url(#clip950)\" d=\"M 0 0 M114.987 1111.66 L104.408 1122.28 L114.987 1132.86 L112.232 1135.66 L101.607 1125.04 L90.9824 1135.66 L88.251 1132.86 L98.8065 1122.28 L88.251 1111.66 L90.9824 1108.86 L101.607 1119.48 L112.232 1108.86 L114.987 1111.66 Z\" fill=\"#000000\" fill-rule=\"evenodd\" fill-opacity=\"1\" /><path clip-path=\"url(#clip950)\" d=\"M 0 0 M120.867 1133.19 L128.505 1133.19 L128.505 1106.82 L120.195 1108.49 L120.195 1104.23 L128.459 1102.56 L133.135 1102.56 L133.135 1133.19 L140.774 1133.19 L140.774 1137.12 L120.867 1137.12 L120.867 1133.19 Z\" fill=\"#000000\" fill-rule=\"evenodd\" fill-opacity=\"1\" /><path clip-path=\"url(#clip950)\" d=\"M 0 0 M155.843 1105.64 Q152.232 1105.64 150.403 1109.2 Q148.598 1112.75 148.598 1119.88 Q148.598 1126.98 150.403 1130.55 Q152.232 1134.09 155.843 1134.09 Q159.477 1134.09 161.283 1130.55 Q163.112 1126.98 163.112 1119.88 Q163.112 1112.75 161.283 1109.2 Q159.477 1105.64 155.843 1105.64 M155.843 1101.94 Q161.653 1101.94 164.709 1106.54 Q167.788 1111.13 167.788 1119.88 Q167.788 1128.6 164.709 1133.21 Q161.653 1137.79 155.843 1137.79 Q150.033 1137.79 146.954 1133.21 Q143.899 1128.6 143.899 1119.88 Q143.899 1111.13 146.954 1106.54 Q150.033 1101.94 155.843 1101.94 Z\" fill=\"#000000\" fill-rule=\"evenodd\" fill-opacity=\"1\" /><path clip-path=\"url(#clip950)\" d=\"M 0 0 M180.483 1094.57 Q183.21 1095.15 184.733 1097 Q186.276 1098.84 186.276 1101.55 Q186.276 1105.71 183.417 1107.98 Q180.558 1110.26 175.292 1110.26 Q173.524 1110.26 171.643 1109.9 Q169.781 1109.56 167.788 1108.86 L167.788 1105.2 Q169.367 1106.12 171.248 1106.59 Q173.129 1107.06 175.179 1107.06 Q178.753 1107.06 180.614 1105.65 Q182.495 1104.24 182.495 1101.55 Q182.495 1099.07 180.746 1097.67 Q179.016 1096.26 175.913 1096.26 L172.64 1096.26 L172.64 1093.14 L176.063 1093.14 Q178.865 1093.14 180.351 1092.03 Q181.837 1090.9 181.837 1088.8 Q181.837 1086.63 180.295 1085.49 Q178.771 1084.32 175.913 1084.32 Q174.351 1084.32 172.565 1084.66 Q170.778 1085 168.634 1085.71 L168.634 1082.33 Q170.797 1081.73 172.678 1081.42 Q174.577 1081.12 176.251 1081.12 Q180.577 1081.12 183.097 1083.1 Q185.617 1085.05 185.617 1088.4 Q185.617 1090.73 184.282 1092.35 Q182.947 1093.95 180.483 1094.57 Z\" fill=\"#000000\" fill-rule=\"evenodd\" fill-opacity=\"1\" /><path clip-path=\"url(#clip950)\" d=\"M 0 0 M191.053 1106.51 L197.259 1106.51 L197.259 1085.09 L190.507 1086.45 L190.507 1082.99 L197.222 1081.63 L201.021 1081.63 L201.021 1106.51 L207.227 1106.51 L207.227 1109.71 L191.053 1109.71 L191.053 1106.51 Z\" fill=\"#000000\" fill-rule=\"evenodd\" fill-opacity=\"1\" /><path clip-path=\"url(#clip950)\" d=\"M 0 0 M65.427 800.865 L81.7464 800.865 L81.7464 804.8 L59.802 804.8 L59.802 800.865 Q62.4641 798.11 67.0474 793.48 Q71.6538 788.828 72.8344 787.485 Q75.0797 784.962 75.9594 783.226 Q76.8621 781.466 76.8621 779.777 Q76.8621 777.022 74.9177 775.286 Q72.9964 773.55 69.8946 773.55 Q67.6955 773.55 65.2418 774.314 Q62.8113 775.078 60.0335 776.629 L60.0335 771.906 Q62.8576 770.772 65.3113 770.193 Q67.765 769.615 69.802 769.615 Q75.1723 769.615 78.3668 772.3 Q81.5612 774.985 81.5612 779.476 Q81.5612 781.605 80.751 783.527 Q79.964 785.425 77.8575 788.017 Q77.2788 788.689 74.177 791.906 Q71.0751 795.101 65.427 800.865 Z\" fill=\"#000000\" fill-rule=\"evenodd\" fill-opacity=\"1\" /><path clip-path=\"url(#clip950)\" d=\"M 0 0 M114.987 779.337 L104.408 789.962 L114.987 800.54 L112.232 803.341 L101.607 792.716 L90.9824 803.341 L88.251 800.54 L98.8065 789.962 L88.251 779.337 L90.9824 776.536 L101.607 787.161 L112.232 776.536 L114.987 779.337 Z\" fill=\"#000000\" fill-rule=\"evenodd\" fill-opacity=\"1\" /><path clip-path=\"url(#clip950)\" d=\"M 0 0 M120.867 800.865 L128.505 800.865 L128.505 774.499 L120.195 776.166 L120.195 771.906 L128.459 770.24 L133.135 770.24 L133.135 800.865 L140.774 800.865 L140.774 804.8 L120.867 804.8 L120.867 800.865 Z\" fill=\"#000000\" fill-rule=\"evenodd\" fill-opacity=\"1\" /><path clip-path=\"url(#clip950)\" d=\"M 0 0 M155.843 773.318 Q152.232 773.318 150.403 776.883 Q148.598 780.425 148.598 787.554 Q148.598 794.661 150.403 798.226 Q152.232 801.767 155.843 801.767 Q159.477 801.767 161.283 798.226 Q163.112 794.661 163.112 787.554 Q163.112 780.425 161.283 776.883 Q159.477 773.318 155.843 773.318 M155.843 769.615 Q161.653 769.615 164.709 774.221 Q167.788 778.804 167.788 787.554 Q167.788 796.281 164.709 800.888 Q161.653 805.471 155.843 805.471 Q150.033 805.471 146.954 800.888 Q143.899 796.281 143.899 787.554 Q143.899 778.804 146.954 774.221 Q150.033 769.615 155.843 769.615 Z\" fill=\"#000000\" fill-rule=\"evenodd\" fill-opacity=\"1\" /><path clip-path=\"url(#clip950)\" d=\"M 0 0 M180.483 762.249 Q183.21 762.832 184.733 764.675 Q186.276 766.518 186.276 769.227 Q186.276 773.383 183.417 775.659 Q180.558 777.935 175.292 777.935 Q173.524 777.935 171.643 777.577 Q169.781 777.239 167.788 776.543 L167.788 772.875 Q169.367 773.797 171.248 774.267 Q173.129 774.737 175.179 774.737 Q178.753 774.737 180.614 773.327 Q182.495 771.916 182.495 769.227 Q182.495 766.744 180.746 765.352 Q179.016 763.942 175.913 763.942 L172.64 763.942 L172.64 760.82 L176.063 760.82 Q178.865 760.82 180.351 759.71 Q181.837 758.582 181.837 756.475 Q181.837 754.312 180.295 753.165 Q178.771 751.999 175.913 751.999 Q174.351 751.999 172.565 752.337 Q170.778 752.676 168.634 753.391 L168.634 750.005 Q170.797 749.403 172.678 749.102 Q174.577 748.801 176.251 748.801 Q180.577 748.801 183.097 750.776 Q185.617 752.732 185.617 756.08 Q185.617 758.412 184.282 760.03 Q182.947 761.628 180.483 762.249 Z\" fill=\"#000000\" fill-rule=\"evenodd\" fill-opacity=\"1\" /><path clip-path=\"url(#clip950)\" d=\"M 0 0 M191.053 774.192 L197.259 774.192 L197.259 752.77 L190.507 754.124 L190.507 750.663 L197.222 749.309 L201.021 749.309 L201.021 774.192 L207.227 774.192 L207.227 777.389 L191.053 777.389 L191.053 774.192 Z\" fill=\"#000000\" fill-rule=\"evenodd\" fill-opacity=\"1\" /><path clip-path=\"url(#clip950)\" d=\"M 0 0 M74.6168 453.844 Q77.9732 454.561 79.8482 456.83 Q81.7464 459.098 81.7464 462.432 Q81.7464 467.547 78.2279 470.348 Q74.7094 473.149 68.2279 473.149 Q66.052 473.149 63.7372 472.709 Q61.4455 472.293 58.9919 471.436 L58.9919 466.922 Q60.9363 468.057 63.2511 468.635 Q65.5659 469.214 68.089 469.214 Q72.4872 469.214 74.7788 467.478 Q77.0936 465.742 77.0936 462.432 Q77.0936 459.376 74.9408 457.663 Q72.8112 455.927 68.9918 455.927 L64.964 455.927 L64.964 452.084 L69.177 452.084 Q72.626 452.084 74.4547 450.719 Q76.2834 449.33 76.2834 446.737 Q76.2834 444.075 74.3853 442.663 Q72.5103 441.228 68.9918 441.228 Q67.0705 441.228 64.8715 441.645 Q62.6724 442.061 60.0335 442.941 L60.0335 438.774 Q62.6955 438.034 65.0103 437.663 Q67.3483 437.293 69.4085 437.293 Q74.7325 437.293 77.8343 439.723 Q80.9362 442.131 80.9362 446.251 Q80.9362 449.122 79.2927 451.112 Q77.6492 453.08 74.6168 453.844 Z\" fill=\"#000000\" fill-rule=\"evenodd\" fill-opacity=\"1\" /><path clip-path=\"url(#clip950)\" d=\"M 0 0 M114.987 447.015 L104.408 457.64 L114.987 468.219 L112.232 471.02 L101.607 460.395 L90.9824 471.02 L88.251 468.219 L98.8065 457.64 L88.251 447.015 L90.9824 444.214 L101.607 454.839 L112.232 444.214 L114.987 447.015 Z\" fill=\"#000000\" fill-rule=\"evenodd\" fill-opacity=\"1\" /><path clip-path=\"url(#clip950)\" d=\"M 0 0 M120.867 468.543 L128.505 468.543 L128.505 442.177 L120.195 443.844 L120.195 439.585 L128.459 437.918 L133.135 437.918 L133.135 468.543 L140.774 468.543 L140.774 472.478 L120.867 472.478 L120.867 468.543 Z\" fill=\"#000000\" fill-rule=\"evenodd\" fill-opacity=\"1\" /><path clip-path=\"url(#clip950)\" d=\"M 0 0 M155.843 440.997 Q152.232 440.997 150.403 444.561 Q148.598 448.103 148.598 455.233 Q148.598 462.339 150.403 465.904 Q152.232 469.445 155.843 469.445 Q159.477 469.445 161.283 465.904 Q163.112 462.339 163.112 455.233 Q163.112 448.103 161.283 444.561 Q159.477 440.997 155.843 440.997 M155.843 437.293 Q161.653 437.293 164.709 441.899 Q167.788 446.483 167.788 455.233 Q167.788 463.959 164.709 468.566 Q161.653 473.149 155.843 473.149 Q150.033 473.149 146.954 468.566 Q143.899 463.959 143.899 455.233 Q143.899 446.483 146.954 441.899 Q150.033 437.293 155.843 437.293 Z\" fill=\"#000000\" fill-rule=\"evenodd\" fill-opacity=\"1\" /><path clip-path=\"url(#clip950)\" d=\"M 0 0 M180.483 429.927 Q183.21 430.51 184.733 432.353 Q186.276 434.197 186.276 436.905 Q186.276 441.061 183.417 443.337 Q180.558 445.613 175.292 445.613 Q173.524 445.613 171.643 445.256 Q169.781 444.917 167.788 444.221 L167.788 440.554 Q169.367 441.475 171.248 441.945 Q173.129 442.416 175.179 442.416 Q178.753 442.416 180.614 441.005 Q182.495 439.594 182.495 436.905 Q182.495 434.422 180.746 433.031 Q179.016 431.62 175.913 431.62 L172.64 431.62 L172.64 428.498 L176.063 428.498 Q178.865 428.498 180.351 427.388 Q181.837 426.26 181.837 424.153 Q181.837 421.99 180.295 420.843 Q178.771 419.677 175.913 419.677 Q174.351 419.677 172.565 420.016 Q170.778 420.354 168.634 421.069 L168.634 417.683 Q170.797 417.082 172.678 416.781 Q174.577 416.48 176.251 416.48 Q180.577 416.48 183.097 418.454 Q185.617 420.41 185.617 423.758 Q185.617 426.09 184.282 427.708 Q182.947 429.307 180.483 429.927 Z\" fill=\"#000000\" fill-rule=\"evenodd\" fill-opacity=\"1\" /><path clip-path=\"url(#clip950)\" d=\"M 0 0 M191.053 441.87 L197.259 441.87 L197.259 420.448 L190.507 421.802 L190.507 418.342 L197.222 416.987 L201.021 416.987 L201.021 441.87 L207.227 441.87 L207.227 445.067 L191.053 445.067 L191.053 441.87 Z\" fill=\"#000000\" fill-rule=\"evenodd\" fill-opacity=\"1\" /><path clip-path=\"url(#clip950)\" d=\"M 0 0 M72.1631 109.67 L60.3576 128.119 L72.1631 128.119 L72.1631 109.67 M70.9362 105.596 L76.8158 105.596 L76.8158 128.119 L81.7464 128.119 L81.7464 132.008 L76.8158 132.008 L76.8158 140.156 L72.1631 140.156 L72.1631 132.008 L56.5613 132.008 L56.5613 127.494 L70.9362 105.596 Z\" fill=\"#000000\" fill-rule=\"evenodd\" fill-opacity=\"1\" /><path clip-path=\"url(#clip950)\" d=\"M 0 0 M114.987 114.693 L104.408 125.318 L114.987 135.897 L112.232 138.698 L101.607 128.073 L90.9824 138.698 L88.251 135.897 L98.8065 125.318 L88.251 114.693 L90.9824 111.892 L101.607 122.517 L112.232 111.892 L114.987 114.693 Z\" fill=\"#000000\" fill-rule=\"evenodd\" fill-opacity=\"1\" /><path clip-path=\"url(#clip950)\" d=\"M 0 0 M120.867 136.221 L128.505 136.221 L128.505 109.855 L120.195 111.522 L120.195 107.263 L128.459 105.596 L133.135 105.596 L133.135 136.221 L140.774 136.221 L140.774 140.156 L120.867 140.156 L120.867 136.221 Z\" fill=\"#000000\" fill-rule=\"evenodd\" fill-opacity=\"1\" /><path clip-path=\"url(#clip950)\" d=\"M 0 0 M155.843 108.675 Q152.232 108.675 150.403 112.24 Q148.598 115.781 148.598 122.911 Q148.598 130.017 150.403 133.582 Q152.232 137.124 155.843 137.124 Q159.477 137.124 161.283 133.582 Q163.112 130.017 163.112 122.911 Q163.112 115.781 161.283 112.24 Q159.477 108.675 155.843 108.675 M155.843 104.971 Q161.653 104.971 164.709 109.578 Q167.788 114.161 167.788 122.911 Q167.788 131.638 164.709 136.244 Q161.653 140.827 155.843 140.827 Q150.033 140.827 146.954 136.244 Q143.899 131.638 143.899 122.911 Q143.899 114.161 146.954 109.578 Q150.033 104.971 155.843 104.971 Z\" fill=\"#000000\" fill-rule=\"evenodd\" fill-opacity=\"1\" /><path clip-path=\"url(#clip950)\" d=\"M 0 0 M180.483 97.6054 Q183.21 98.1885 184.733 100.032 Q186.276 101.875 186.276 104.583 Q186.276 108.74 183.417 111.015 Q180.558 113.291 175.292 113.291 Q173.524 113.291 171.643 112.934 Q169.781 112.595 167.788 111.899 L167.788 108.232 Q169.367 109.153 171.248 109.624 Q173.129 110.094 175.179 110.094 Q178.753 110.094 180.614 108.683 Q182.495 107.273 182.495 104.583 Q182.495 102.1 180.746 100.709 Q179.016 99.2981 175.913 99.2981 L172.64 99.2981 L172.64 96.176 L176.063 96.176 Q178.865 96.176 180.351 95.0664 Q181.837 93.9379 181.837 91.8314 Q181.837 89.6685 180.295 88.5213 Q178.771 87.3552 175.913 87.3552 Q174.351 87.3552 172.565 87.6937 Q170.778 88.0323 168.634 88.747 L168.634 85.3616 Q170.797 84.7597 172.678 84.4588 Q174.577 84.1579 176.251 84.1579 Q180.577 84.1579 183.097 86.1327 Q185.617 88.0887 185.617 91.4365 Q185.617 93.7686 184.282 95.3861 Q182.947 96.9848 180.483 97.6054 Z\" fill=\"#000000\" fill-rule=\"evenodd\" fill-opacity=\"1\" /><path clip-path=\"url(#clip950)\" d=\"M 0 0 M191.053 109.548 L197.259 109.548 L197.259 88.1263 L190.507 89.4805 L190.507 86.0198 L197.222 84.6657 L201.021 84.6657 L201.021 109.548 L207.227 109.548 L207.227 112.746 L191.053 112.746 L191.053 109.548 Z\" fill=\"#000000\" fill-rule=\"evenodd\" fill-opacity=\"1\" /><polyline clip-path=\"url(#clip952)\" style=\"stroke:#009af9; stroke-width:4; stroke-opacity:1; fill:none\" points=\"\n",
       "  657.901,1445.72 659.905,1445.72 661.908,1445.72 663.912,1445.72 665.915,1445.72 667.918,1445.72 669.922,1445.72 671.925,1445.72 673.929,1445.72 675.932,1445.72 \n",
       "  677.936,1445.72 679.939,1445.72 681.943,1445.72 683.946,1445.72 685.949,1445.72 687.953,1445.72 689.956,1445.72 691.96,1445.72 693.963,1445.72 695.967,1445.72 \n",
       "  697.97,1445.72 699.974,1445.72 701.977,1445.72 703.98,1445.72 705.984,1445.72 707.987,1445.72 709.991,1445.72 711.994,1445.72 713.998,1445.72 716.001,1445.72 \n",
       "  718.005,1445.72 720.008,1445.72 722.011,1445.72 724.015,1445.72 726.018,1445.72 728.022,1445.72 730.025,1445.72 732.029,1445.72 734.032,1445.72 736.036,1445.72 \n",
       "  738.039,1445.72 740.042,1445.72 742.046,1445.72 744.049,1445.72 746.053,1445.72 748.056,1445.72 750.06,1445.72 752.063,1445.72 754.067,1445.72 756.07,1445.72 \n",
       "  758.073,1445.72 760.077,1445.72 762.08,1445.72 764.084,1445.72 766.087,1445.72 768.091,1445.72 770.094,1445.72 772.098,1445.72 774.101,1445.72 776.105,1445.72 \n",
       "  778.108,1445.72 780.111,1445.72 782.115,1445.72 784.118,1445.72 786.122,1445.72 788.125,1445.72 790.129,1445.72 792.132,1445.72 794.136,1445.72 796.139,1445.72 \n",
       "  798.142,1445.72 800.146,1445.72 802.149,1445.72 804.153,1445.72 806.156,1445.72 808.16,1445.72 810.163,1445.72 812.167,1445.72 814.17,1445.72 816.173,1445.72 \n",
       "  818.177,1445.72 820.18,1445.72 822.184,1445.72 824.187,1445.72 826.191,1445.72 828.194,1445.72 830.198,1445.72 832.201,1445.72 834.204,1445.72 836.208,1445.72 \n",
       "  838.211,1445.72 840.215,1445.72 842.218,1445.72 844.222,1445.72 846.225,1445.72 848.229,1445.72 850.232,1445.72 852.235,1445.72 854.239,1445.72 856.242,1445.72 \n",
       "  858.246,1445.72 860.249,1445.72 862.253,1445.72 864.256,1445.72 866.26,1445.72 868.263,1445.72 870.266,1445.72 872.27,1445.72 874.273,1445.72 876.277,1445.72 \n",
       "  878.28,1445.72 880.284,1445.72 882.287,1445.72 884.291,1445.72 886.294,1445.72 888.297,1445.72 890.301,1445.72 892.304,1445.72 894.308,1445.72 896.311,1445.72 \n",
       "  898.315,1445.72 900.318,1445.72 902.322,1445.72 904.325,1445.72 906.328,1445.72 908.332,1445.72 910.335,1445.72 912.339,1445.72 914.342,1445.72 916.346,1445.72 \n",
       "  918.349,1445.72 920.353,1445.72 922.356,1445.72 924.359,1445.72 926.363,1445.72 928.366,1445.72 930.37,1445.72 932.373,1445.72 934.377,1445.72 936.38,1445.72 \n",
       "  938.384,1445.72 940.387,1445.72 942.39,1445.72 944.394,1445.72 946.397,1445.72 948.401,1445.72 950.404,1445.72 952.408,1445.72 954.411,1445.72 956.415,1445.72 \n",
       "  958.418,1445.72 960.421,1445.72 962.425,1445.72 964.428,1445.72 966.432,1445.72 968.435,1445.72 970.439,1445.72 972.442,1445.72 974.446,1445.72 976.449,1445.72 \n",
       "  978.452,1445.72 980.456,1445.72 982.459,1445.72 984.463,1445.72 986.466,1445.72 988.47,1445.72 990.473,1445.72 992.477,1445.72 994.48,1445.72 996.483,1445.72 \n",
       "  998.487,1445.72 1000.49,1445.72 1002.49,1445.72 1004.5,1445.72 1006.5,1445.72 1008.5,1445.72 1010.51,1445.72 1012.51,1445.72 1014.51,1445.72 1016.52,1445.72 \n",
       "  1018.52,1445.72 1020.52,1445.72 1022.53,1445.72 1024.53,1445.72 1026.54,1445.72 1028.54,1445.72 1030.54,1445.72 1032.55,1445.72 1034.55,1445.72 1036.55,1445.72 \n",
       "  1038.56,1445.72 1040.56,1445.72 1042.56,1445.72 1044.57,1445.72 1046.57,1445.72 1048.57,1445.72 1050.58,1445.72 1052.58,1445.72 1054.58,1445.72 1056.59,1445.72 \n",
       "  1058.59,1445.72 1060.59,1445.72 1062.6,1445.72 1064.6,1445.72 1066.6,1445.72 1068.61,1445.72 1070.61,1445.72 1072.61,1445.72 1074.62,1445.72 1076.62,1445.72 \n",
       "  1078.62,1445.72 1080.63,1445.72 1082.63,1445.72 1084.64,1445.72 1086.64,1445.72 1088.64,1445.72 1090.65,1445.72 1092.65,1445.72 1094.65,1445.72 1096.66,1445.72 \n",
       "  1098.66,1445.72 1100.66,1445.72 1102.67,1445.72 1104.67,1445.72 1106.67,1445.72 1108.68,1445.72 1110.68,1445.72 1112.68,1445.72 1114.69,1445.72 1116.69,1445.72 \n",
       "  1118.69,1445.72 1120.7,1445.72 1122.7,1445.72 1124.7,1445.72 1126.71,1445.72 1128.71,1445.72 1130.71,1445.72 1132.72,1445.72 1134.72,1445.72 1136.72,1445.72 \n",
       "  1138.73,1445.72 1140.73,1445.72 1142.74,1445.72 1144.74,1445.72 1146.74,1445.72 1148.75,1445.72 1150.75,1445.72 1152.75,1445.72 1154.76,1445.72 1156.76,1445.72 \n",
       "  1158.76,1445.72 1160.77,1445.72 1162.77,1445.72 1164.77,1445.72 1166.78,1445.72 1168.78,1445.72 1170.78,1445.72 1172.79,1445.72 1174.79,1445.72 1176.79,1445.72 \n",
       "  1178.8,1445.72 1180.8,1445.72 1182.8,1445.72 1184.81,1445.72 1186.81,1445.72 1188.81,1445.72 1190.82,1445.72 1192.82,1445.72 1194.82,1445.72 1196.83,1445.72 \n",
       "  1198.83,1445.72 1200.83,1445.72 1202.84,1445.72 1204.84,1445.72 1206.85,1445.72 1208.85,1445.72 1210.85,1445.72 1212.86,1445.72 1214.86,1445.72 1216.86,1445.72 \n",
       "  1218.87,1445.72 1220.87,1445.72 1222.87,1445.72 1224.88,1445.72 1226.88,1445.72 1228.88,1445.72 1230.89,1445.72 1232.89,1445.72 1234.89,1445.72 1236.9,1445.72 \n",
       "  1238.9,1445.72 1240.9,1445.72 1242.91,1445.72 1244.91,1445.72 1246.91,1445.72 1248.92,1445.72 1250.92,1445.72 1252.92,1445.72 1254.93,1445.72 1256.93,1445.72 \n",
       "  1258.93,1445.72 1260.94,1445.72 1262.94,1445.72 1264.95,1445.72 1266.95,1445.72 1268.95,1445.72 1270.96,1445.72 1272.96,1445.72 1274.96,1445.72 1276.97,1445.72 \n",
       "  1278.97,1445.72 1280.97,1445.72 1282.98,1445.72 1284.98,1445.72 1286.98,1445.72 1288.99,1445.72 1290.99,1445.72 1292.99,1445.72 1295,1445.72 1297,1445.72 \n",
       "  1299,1445.72 1301.01,1445.72 1303.01,1445.72 1305.01,1445.72 1307.02,1445.72 1309.02,1445.72 1311.02,1445.72 1313.03,1445.72 1315.03,1445.72 1317.03,1445.72 \n",
       "  1319.04,1445.72 1321.04,1445.72 1323.05,1445.72 1325.05,1445.72 1327.05,1445.72 1329.06,1445.72 1331.06,1445.72 1333.06,1445.72 1335.07,1445.72 1337.07,1445.72 \n",
       "  1339.07,1445.72 1341.08,1445.72 1343.08,1445.72 1345.08,1445.72 1347.09,1445.72 1349.09,1445.72 1351.09,1445.72 1353.1,1445.72 1355.1,1445.72 1357.1,1445.72 \n",
       "  1359.11,1445.72 1361.11,1445.72 1363.11,1445.72 1365.12,1445.72 1367.12,1445.72 1369.12,1445.72 1371.13,1445.72 1373.13,1445.72 1375.13,1445.72 1377.14,1445.72 \n",
       "  1379.14,1445.72 1381.15,1445.72 1383.15,1445.72 1385.15,1445.72 1387.16,1445.72 1389.16,1445.72 1391.16,1445.72 1393.17,1445.72 1395.17,1445.72 1397.17,1445.72 \n",
       "  1399.18,1445.72 1401.18,1445.72 1403.18,1445.72 1405.19,1445.72 1407.19,1445.72 1409.19,1445.72 1411.2,1445.72 1413.2,1445.72 1415.2,1445.72 1417.21,1445.72 \n",
       "  1419.21,1445.72 1421.21,1445.72 1423.22,1445.72 1425.22,1445.72 1427.22,1445.72 1429.23,1445.72 1431.23,1445.72 1433.23,1445.72 1435.24,1445.72 1437.24,1445.72 \n",
       "  1439.24,1445.72 1441.25,1445.72 1443.25,1445.72 1445.26,1445.72 1447.26,1445.72 1449.26,1445.72 1451.27,1445.72 1453.27,1445.72 1455.27,1445.72 1457.28,1445.72 \n",
       "  1459.28,1445.72 1461.28,1445.72 1463.29,1445.72 1465.29,1445.72 1467.29,1445.72 1469.3,1445.72 1471.3,1445.72 1473.3,1445.72 1475.31,1445.72 1477.31,1445.72 \n",
       "  1479.31,1445.72 1481.32,1445.72 1483.32,1445.72 1485.32,1445.72 1487.33,1445.72 1489.33,1445.72 1491.33,1445.72 1493.34,1445.72 1495.34,1445.72 1497.34,1445.72 \n",
       "  1499.35,1445.72 1501.35,1445.72 1503.36,1445.72 1505.36,1445.72 1507.36,1445.72 1509.37,1445.72 1511.37,1445.72 1513.37,1445.72 1515.38,1445.72 1517.38,1445.72 \n",
       "  1519.38,1445.72 1521.39,1445.72 1523.39,1445.72 1525.39,1445.72 1527.4,1445.72 1529.4,1445.72 1531.4,1445.72 1533.41,1445.72 1535.41,1445.72 1537.41,1445.72 \n",
       "  1539.42,1445.72 1541.42,1445.72 1543.42,1445.72 1545.43,1445.72 1547.43,1445.72 1549.43,1445.72 1551.44,1445.72 1553.44,1445.72 1555.44,1445.72 1557.45,1445.72 \n",
       "  1559.45,1445.72 1561.46,1445.72 1563.46,1445.72 1565.46,1445.72 1567.47,1445.72 1569.47,1445.72 1571.47,1445.72 1573.48,1445.72 1575.48,1445.72 1577.48,1445.72 \n",
       "  1579.49,1445.72 1581.49,1445.72 1583.49,1445.72 1585.5,1445.72 1587.5,1445.72 1589.5,1445.72 1591.51,1445.72 1593.51,1445.72 1595.51,1445.72 1597.52,1445.72 \n",
       "  1599.52,1445.72 1601.52,1445.72 1603.53,1445.72 1605.53,1445.72 1607.53,1445.72 1609.54,1445.72 1611.54,1445.72 1613.54,1445.72 1615.55,1445.72 1617.55,1445.72 \n",
       "  1619.56,1445.72 1621.56,1445.72 1623.56,1445.72 1625.57,1445.72 1627.57,1445.72 1629.57,1445.72 1631.58,1445.72 1633.58,1445.72 1635.58,1445.72 1637.59,1445.72 \n",
       "  1639.59,1445.72 1641.59,1445.72 1643.6,1445.72 1645.6,1445.72 1647.6,1445.72 1649.61,1445.72 1651.61,1445.72 1653.61,1445.72 1655.62,1445.72 1657.62,1445.72 \n",
       "  1659.62,1445.72 1661.63,1445.72 1663.63,1445.72 1665.63,1445.72 1667.64,1445.72 1669.64,1445.72 1671.64,1445.72 1673.65,1445.72 1675.65,1445.72 1677.65,1445.72 \n",
       "  1679.66,1445.72 1681.66,1445.72 1683.67,1445.72 1685.67,1445.72 1687.67,1445.72 1689.68,1445.72 1691.68,1445.72 1693.68,1445.72 1695.69,1445.72 1697.69,1445.72 \n",
       "  1699.69,1445.72 1701.7,1445.72 1703.7,1445.72 1705.7,1445.72 1707.71,1445.72 1709.71,1445.72 1711.71,1445.72 1713.72,1445.72 1715.72,1445.72 1717.72,1445.72 \n",
       "  1719.73,1445.72 1721.73,1445.72 1723.73,1445.72 1725.74,1445.72 1727.74,1445.72 1729.74,1445.72 1731.75,1445.72 1733.75,1445.72 1735.75,1445.72 1737.76,1445.72 \n",
       "  1739.76,1445.72 1741.77,1445.72 1743.77,1445.72 1745.77,1445.72 1747.78,1445.72 1749.78,1445.72 1751.78,1445.72 1753.79,1445.72 1755.79,1445.72 1757.79,1445.72 \n",
       "  1759.8,1445.72 1761.8,1445.72 1763.8,1445.72 1765.81,1445.72 1767.81,1445.72 1769.81,1445.72 1771.82,1445.72 1773.82,1445.72 1775.82,1445.72 1777.83,1445.72 \n",
       "  1779.83,1445.72 1781.83,1445.72 1783.84,1445.72 1785.84,1445.72 1787.84,1445.72 1789.85,1445.72 1791.85,1445.72 1793.85,1445.72 1795.86,1445.72 1797.86,1445.72 \n",
       "  1799.87,1445.72 1801.87,1445.72 1803.87,1445.72 1805.88,1445.72 1807.88,1445.72 1809.88,1445.72 1811.89,1445.72 1813.89,1445.72 1815.89,1445.72 1817.9,1445.72 \n",
       "  1819.9,1445.72 1821.9,1445.72 1823.91,1445.72 1825.91,1445.72 1827.91,1445.72 1829.92,1445.72 1831.92,1445.72 1833.92,1445.72 1835.93,1445.72 1837.93,1445.72 \n",
       "  1839.93,1445.72 1841.94,1445.72 1843.94,1445.72 1845.94,1445.72 1847.95,1445.72 1849.95,1445.72 1851.95,1445.72 1853.96,1445.72 1855.96,1445.72 1857.97,1445.72 \n",
       "  1859.97,1445.72 1861.97,1445.72 1863.98,1445.72 1865.98,1445.72 1867.98,1445.72 1869.99,1445.72 1871.99,1445.72 1873.99,1445.72 1876,1445.72 1878,1445.72 \n",
       "  1880,1445.72 1882.01,1445.72 1884.01,1445.72 1886.01,1445.72 1888.02,1445.72 1890.02,1445.72 1892.02,1445.72 1894.03,1445.72 1896.03,1445.72 1898.03,1445.72 \n",
       "  1900.04,1445.72 1902.04,1445.72 1904.04,1445.72 1906.05,1445.72 1908.05,1445.72 1910.05,1445.72 1912.06,1445.72 1914.06,1445.72 1916.06,1445.72 1918.07,1445.72 \n",
       "  1920.07,1445.72 1922.08,1445.72 1924.08,1445.72 1926.08,1445.72 1928.09,1445.72 1930.09,1445.72 1932.09,1445.72 1934.1,1445.72 1936.1,1445.72 1938.1,1445.72 \n",
       "  1940.11,1445.72 1942.11,1445.71 1944.11,1445.71 1946.12,1445.71 1948.12,1445.71 1950.12,1445.71 1952.13,1445.71 1954.13,1445.71 1956.13,1445.71 1958.14,1445.71 \n",
       "  1960.14,1445.71 1962.14,1445.71 1964.15,1445.71 1966.15,1445.71 1968.15,1445.71 1970.16,1445.7 1972.16,1445.7 1974.16,1445.7 1976.17,1445.7 1978.17,1445.69 \n",
       "  1980.18,1445.69 1982.18,1445.68 1984.18,1445.67 1986.19,1445.66 1988.19,1445.65 1990.19,1445.64 1992.2,1445.62 1994.2,1445.6 1996.2,1445.57 1998.21,1445.54 \n",
       "  2000.21,1445.51 2002.21,1445.46 2004.22,1445.41 2006.22,1445.34 2008.22,1445.26 2010.23,1445.16 2012.23,1445.04 2014.23,1444.89 2016.24,1444.72 2018.24,1444.5 \n",
       "  2020.24,1444.24 2022.25,1443.92 2024.25,1443.54 2026.25,1443.07 2028.26,1442.5 2030.26,1441.81 2032.26,1440.97 2034.27,1439.95 2036.27,1438.71 2038.28,1437.2 \n",
       "  2040.28,1435.37 2042.28,1433.15 2044.29,1430.44 2046.29,1427.15 2048.29,1423.15 2050.3,1418.3 2052.3,1412.39 2054.3,1405.22 2056.31,1396.5 2058.31,1385.9 \n",
       "  2060.31,1373.02 2062.32,1357.36 2064.32,1338.33 2066.32,1315.2 2068.33,1287.08 2070.33,1252.9 2072.33,1211.35 2074.34,1160.85 2076.34,1099.47 2078.34,1024.85 \n",
       "  2080.35,934.137 2082.35,823.87 2084.35,689.827 2086.36,526.878 2088.36,328.788 2090.36,87.9763 \n",
       "  \"/>\n",
       "<path clip-path=\"url(#clip950)\" d=\"\n",
       "M1989.74 251.724 L2280.76 251.724 L2280.76 130.764 L1989.74 130.764  Z\n",
       "  \" fill=\"#ffffff\" fill-rule=\"evenodd\" fill-opacity=\"1\"/>\n",
       "<polyline clip-path=\"url(#clip950)\" style=\"stroke:#000000; stroke-width:4; stroke-opacity:1; fill:none\" points=\"\n",
       "  1989.74,251.724 2280.76,251.724 2280.76,130.764 1989.74,130.764 1989.74,251.724 \n",
       "  \"/>\n",
       "<polyline clip-path=\"url(#clip950)\" style=\"stroke:#009af9; stroke-width:4; stroke-opacity:1; fill:none\" points=\"\n",
       "  2013.74,191.244 2157.74,191.244 \n",
       "  \"/>\n",
       "<path clip-path=\"url(#clip950)\" d=\"M 0 0 M2195.58 210.931 Q2193.77 215.561 2192.06 216.973 Q2190.35 218.385 2187.48 218.385 L2184.08 218.385 L2184.08 214.82 L2186.58 214.82 Q2188.33 214.82 2189.31 213.987 Q2190.28 213.154 2191.46 210.052 L2192.22 208.107 L2181.74 182.598 L2186.25 182.598 L2194.35 202.876 L2202.46 182.598 L2206.97 182.598 L2195.58 210.931 Z\" fill=\"#000000\" fill-rule=\"evenodd\" fill-opacity=\"1\" /><path clip-path=\"url(#clip950)\" d=\"M 0 0 M2212.85 204.589 L2220.49 204.589 L2220.49 178.223 L2212.18 179.89 L2212.18 175.631 L2220.44 173.964 L2225.12 173.964 L2225.12 204.589 L2232.76 204.589 L2232.76 208.524 L2212.85 208.524 L2212.85 204.589 Z\" fill=\"#000000\" fill-rule=\"evenodd\" fill-opacity=\"1\" /></svg>\n"
      ]
     },
     "execution_count": 10,
     "metadata": {},
     "output_type": "execute_result"
    }
   ],
   "source": [
    "Plots.plot(\n",
    "    range(-100.0, 100.0, length = 1000),\n",
    "    t -> beta_mgf_v1(α, β, t),\n",
    ")"
   ]
  },
  {
   "cell_type": "markdown",
   "metadata": {},
   "source": [
    "Something seems off here, although it's a bit subtle: what happpened to the values below `-50.0`?"
   ]
  },
  {
   "cell_type": "code",
   "execution_count": 11,
   "metadata": {},
   "outputs": [
    {
     "data": {
      "text/plain": [
       "81.0113650124519"
      ]
     },
     "execution_count": 11,
     "metadata": {},
     "output_type": "execute_result"
    }
   ],
   "source": [
    "beta_mgf_v1(α, β, -50.0)"
   ]
  },
  {
   "cell_type": "code",
   "execution_count": 12,
   "metadata": {},
   "outputs": [
    {
     "data": {
      "text/plain": [
       "0.04800326879492561"
      ]
     },
     "execution_count": 12,
     "metadata": {},
     "output_type": "execute_result"
    }
   ],
   "source": [
    "beta_mgf_v1(α, β, -10.0)"
   ]
  },
  {
   "cell_type": "markdown",
   "metadata": {},
   "source": [
    "This is a place where intuition comes into play for me: I didn't know for sure that the MGF should be monotonic (although we'll prove it is soon), but it didn't seem possible the the function would start growing for negative values of $t$. So I had to stop, convinve myself the function is monotonic and then conclude that this behavior is a bug."
   ]
  },
  {
   "cell_type": "markdown",
   "metadata": {},
   "source": [
    "To see why the MGF must be monotonic, note that $\\exp(x)^{t_1} \\leq \\exp(x)^{t_2}$ whenever $t_1 \\leq t_2$ and $0 \\leq x$. Then note that the MGF is:"
   ]
  },
  {
   "cell_type": "markdown",
   "metadata": {},
   "source": [
    "$$\n",
    "M(t)\n",
    "= \\int_{0}^{1} \\exp(x t) \\frac{x^{\\alpha - 1} (1 - x)^{\\beta - 1}}{B(\\alpha, \\beta)} dx\n",
    "= \\int_{0}^{1} \\exp(x)^t \\frac{x^{\\alpha - 1} (1 - x)^{\\beta - 1}}{B(\\alpha, \\beta)} dx\n",
    "$$"
   ]
  },
  {
   "cell_type": "markdown",
   "metadata": {},
   "source": [
    "This implies that:\n",
    "\n",
    "$$\n",
    "M(t_1)\n",
    "= \\int_{0}^{1} \\exp(x)^{t_1} \\frac{x^{\\alpha - 1} (1 - x)^{\\beta - 1}}{B(\\alpha, \\beta)} dx\n",
    "\\leq \\int_{0}^{1} \\exp(x)^{t_2} \\frac{x^{\\alpha - 1} (1 - x)^{\\beta - 1}}{B(\\alpha, \\beta)} dx\n",
    "= M(t_2)\n",
    "$$"
   ]
  },
  {
   "cell_type": "markdown",
   "metadata": {},
   "source": [
    "So we now have a clear sign of problems: $M(t)$ is provably monotonic, but our implementation is not."
   ]
  },
  {
   "cell_type": "markdown",
   "metadata": {},
   "source": [
    "### Performance Optimization"
   ]
  },
  {
   "cell_type": "markdown",
   "metadata": {},
   "source": [
    "Before we move on to debugging, I want to optimize our implementation at bit. In the naive translation of the math into code, we do a lot of redundant work while calculating each coefficient because:\n",
    "\n",
    "```\n",
    "for r in 0:(k - 1)\n",
    "    p *= (α + r) / (α + β + r)\n",
    "end\n",
    "```\n",
    "\n",
    "differs from its value at `k = k - 1` only by a single term in the product. As such, we'll first optimize this loop and then look for bugs afterwards."
   ]
  },
  {
   "cell_type": "code",
   "execution_count": 13,
   "metadata": {},
   "outputs": [
    {
     "data": {
      "text/plain": [
       "beta_mgf_v2 (generic function with 2 methods)"
      ]
     },
     "execution_count": 13,
     "metadata": {},
     "output_type": "execute_result"
    }
   ],
   "source": [
    "function beta_mgf_v2(α::Number, β::Number, t::Number, k_max::Integer = 1_000)\n",
    "    s = one(t)\n",
    "    p = one(t)\n",
    "    k = 0\n",
    "    converged = false\n",
    "    while !converged\n",
    "        k += 1\n",
    "        r = k - 1\n",
    "        p *= (α + r) / (α + β + r)\n",
    "        term = (p / gamma(k + 1)) * t^k\n",
    "        if s === s + term || k > k_max\n",
    "            converged = true\n",
    "        else\n",
    "            s += term\n",
    "        end\n",
    "    end\n",
    "    s\n",
    "end"
   ]
  },
  {
   "cell_type": "code",
   "execution_count": 14,
   "metadata": {},
   "outputs": [
    {
     "data": {
      "text/plain": [
       "3.0000000000000004"
      ]
     },
     "execution_count": 14,
     "metadata": {},
     "output_type": "execute_result"
    }
   ],
   "source": [
    "beta_mgf_v2(α, β, 2.0)"
   ]
  },
  {
   "cell_type": "markdown",
   "metadata": {},
   "source": [
    "Before moving on, I want to note that we can go beyond demonstrating that $M(t)$ is monotonic. We can also give non-trivial lower and upper bounds."
   ]
  },
  {
   "cell_type": "markdown",
   "metadata": {},
   "source": [
    "Note that:\n",
    "\n",
    "$$\n",
    "M(t)\n",
    "= \\int_{0}^{1} \\exp(x)^t f(x) dx\n",
    "$$\n",
    "\n",
    "If $t > 0$, we know that:\n",
    "\n",
    "$$\n",
    "\\int_{0}^{1} \\exp(0)^t f(x) dx\n",
    "\\leq \\int_{0}^{1} \\exp(x)^t f(x) dx\n",
    "\\leq \\int_{0}^{1} \\exp(1)^t f(x) dx\n",
    "$$\n",
    "\n",
    "But $\\exp(0)^t$ and $\\exp(1)^t$ only depend on $t$, so we can pull them out of the integral:\n",
    "\n",
    "$$\n",
    "\\exp(0)^t \\int_{0}^{1} f(x) dx\n",
    "\\leq \\int_{0}^{1} \\exp(x)^t f(x) dx\n",
    "\\leq \\exp(1)^t \\int_{0}^{1} f(x) dx\n",
    "$$\n",
    "\n",
    "But $f(x)$ is a density, so:\n",
    "\n",
    "$$\n",
    "\\int_{0}^{1} f(x) dx = 1\n",
    "$$\n",
    "\n",
    "This means that we have:\n",
    "\n",
    "$$\n",
    "\\exp(0)^t\n",
    "\\leq \\int_{0}^{1} \\exp(x)^t f(x) dx\n",
    "\\leq \\exp(1)^t\n",
    "$$\n",
    "\n",
    "If $t < 0$, the argument flips around. Together, we get:\n",
    "\n",
    "$$\n",
    "1 \\leq M(t) \\leq e^t: t \\geq 0\n",
    "$$\n",
    "\n",
    "$$\n",
    "e^t \\leq M(t) \\leq 1: t < 0\n",
    "$$"
   ]
  },
  {
   "cell_type": "markdown",
   "metadata": {},
   "source": [
    "This gives us a set of mathematical checks we want to pass:\n",
    "\n",
    "1. $M(0) = 1$\n",
    "2. $M\\prime(0) = \\mathbb{E}_{X}[X]$\n",
    "3. $M\\prime\\prime(0) = \\mathbb{V}_{X} + \\mathbb{E}_{X}[X]^2$\n",
    "4. $M(t_1) \\leq M(t_2) : t_1 \\leq t_2$\n",
    "5. $1 \\leq M(t) \\leq e^t : t \\geq 0$\n",
    "6. $e^t \\leq M(t) \\leq 1 : t < 0$"
   ]
  },
  {
   "cell_type": "markdown",
   "metadata": {},
   "source": [
    "### Taking Logs"
   ]
  },
  {
   "cell_type": "markdown",
   "metadata": {},
   "source": [
    "The first thing I wondered is whether the coefficients were becoming unstable from the iterated product. To test that idea, I implemented the coefficients to work in log space, which isn't clearly helpful since we have to use `exp` to come back out of log sppace, but doing this let me see that the coefficients were not the only thing wrong in the implementation."
   ]
  },
  {
   "cell_type": "code",
   "execution_count": 15,
   "metadata": {},
   "outputs": [
    {
     "data": {
      "text/plain": [
       "beta_mgf_v3 (generic function with 2 methods)"
      ]
     },
     "execution_count": 15,
     "metadata": {},
     "output_type": "execute_result"
    }
   ],
   "source": [
    "function beta_mgf_v3(α::Number, β::Number, t::Number, k_max::Integer = 1_000)\n",
    "    s = one(t)\n",
    "    p = zero(t)\n",
    "    k = 0\n",
    "    converged = false\n",
    "    while !converged\n",
    "        k += 1\n",
    "        r = k - 1\n",
    "        p += log(α + r) - log(α + β + r)\n",
    "        term = exp(p - lgamma(k + 1)) * t^k\n",
    "        if s === s + term || k > k_max\n",
    "            converged = true\n",
    "        else\n",
    "            s += term\n",
    "        end\n",
    "    end\n",
    "    s\n",
    "end"
   ]
  },
  {
   "cell_type": "code",
   "execution_count": 16,
   "metadata": {},
   "outputs": [
    {
     "data": {
      "text/plain": [
       "-25822.098712402487"
      ]
     },
     "execution_count": 16,
     "metadata": {},
     "output_type": "execute_result"
    }
   ],
   "source": [
    "beta_mgf_v3(α, β, -50.0)"
   ]
  },
  {
   "cell_type": "markdown",
   "metadata": {},
   "source": [
    "This is clearly wrong: we now have a negative number, which violates our lower bound of $e^t$."
   ]
  },
  {
   "cell_type": "code",
   "execution_count": 17,
   "metadata": {},
   "outputs": [
    {
     "data": {
      "text/plain": [
       "1.9287498479639178e-22"
      ]
     },
     "execution_count": 17,
     "metadata": {},
     "output_type": "execute_result"
    }
   ],
   "source": [
    "exp(-50.0)"
   ]
  },
  {
   "cell_type": "markdown",
   "metadata": {},
   "source": [
    "Since changing the coefficients change the answer so much, I also tried to deal with the `t^k` term in yet another iteration of log transforming terms:"
   ]
  },
  {
   "cell_type": "code",
   "execution_count": 18,
   "metadata": {},
   "outputs": [
    {
     "data": {
      "text/plain": [
       "beta_mgf_v4 (generic function with 2 methods)"
      ]
     },
     "execution_count": 18,
     "metadata": {},
     "output_type": "execute_result"
    }
   ],
   "source": [
    "function beta_mgf_v4(α::Number, β::Number, t::Number, k_max::Integer = 1_000)\n",
    "    s = one(t)\n",
    "    p = zero(t)\n",
    "    k = 0\n",
    "    converged = false\n",
    "    while !converged\n",
    "        k += 1\n",
    "        r = k - 1\n",
    "        p += log(α + r) - log(α + β + r)\n",
    "        term = sign(t)^k * exp(p - lgamma(k + 1) + k * log(abs(t)))\n",
    "        if s === s + term || k > k_max\n",
    "            converged = true\n",
    "        else\n",
    "            s += term\n",
    "        end\n",
    "    end\n",
    "    s\n",
    "end"
   ]
  },
  {
   "cell_type": "code",
   "execution_count": 19,
   "metadata": {},
   "outputs": [
    {
     "data": {
      "text/plain": [
       "-32029.2467989566"
      ]
     },
     "execution_count": 19,
     "metadata": {},
     "output_type": "execute_result"
    }
   ],
   "source": [
    "beta_mgf_v4(α, β, -50.0)"
   ]
  },
  {
   "cell_type": "markdown",
   "metadata": {},
   "source": [
    "Plotting both suggests there's still a lot wrong:"
   ]
  },
  {
   "cell_type": "code",
   "execution_count": 20,
   "metadata": {},
   "outputs": [
    {
     "data": {
      "image/svg+xml": [
       "<?xml version=\"1.0\" encoding=\"utf-8\"?>\n",
       "<svg xmlns=\"http://www.w3.org/2000/svg\" xmlns:xlink=\"http://www.w3.org/1999/xlink\" width=\"600\" height=\"400\" viewBox=\"0 0 2400 1600\">\n",
       "<defs>\n",
       "  <clipPath id=\"clip990\">\n",
       "    <rect x=\"0\" y=\"0\" width=\"2400\" height=\"1600\"/>\n",
       "  </clipPath>\n",
       "</defs>\n",
       "<path clip-path=\"url(#clip990)\" d=\"\n",
       "M0 1600 L2400 1600 L2400 0 L0 0  Z\n",
       "  \" fill=\"#ffffff\" fill-rule=\"evenodd\" fill-opacity=\"1\"/>\n",
       "<defs>\n",
       "  <clipPath id=\"clip991\">\n",
       "    <rect x=\"480\" y=\"0\" width=\"1681\" height=\"1600\"/>\n",
       "  </clipPath>\n",
       "</defs>\n",
       "<path clip-path=\"url(#clip990)\" d=\"\n",
       "M230.255 1486.45 L2352.76 1486.45 L2352.76 47.2441 L230.255 47.2441  Z\n",
       "  \" fill=\"#ffffff\" fill-rule=\"evenodd\" fill-opacity=\"1\"/>\n",
       "<defs>\n",
       "  <clipPath id=\"clip992\">\n",
       "    <rect x=\"230\" y=\"47\" width=\"2124\" height=\"1440\"/>\n",
       "  </clipPath>\n",
       "</defs>\n",
       "<polyline clip-path=\"url(#clip992)\" style=\"stroke:#000000; stroke-width:2; stroke-opacity:0.1; fill:none\" points=\"\n",
       "  290.326,1486.45 290.326,47.2441 \n",
       "  \"/>\n",
       "<polyline clip-path=\"url(#clip992)\" style=\"stroke:#000000; stroke-width:2; stroke-opacity:0.1; fill:none\" points=\"\n",
       "  745.408,1486.45 745.408,47.2441 \n",
       "  \"/>\n",
       "<polyline clip-path=\"url(#clip992)\" style=\"stroke:#000000; stroke-width:2; stroke-opacity:0.1; fill:none\" points=\"\n",
       "  1200.49,1486.45 1200.49,47.2441 \n",
       "  \"/>\n",
       "<polyline clip-path=\"url(#clip992)\" style=\"stroke:#000000; stroke-width:2; stroke-opacity:0.1; fill:none\" points=\"\n",
       "  1655.57,1486.45 1655.57,47.2441 \n",
       "  \"/>\n",
       "<polyline clip-path=\"url(#clip992)\" style=\"stroke:#000000; stroke-width:2; stroke-opacity:0.1; fill:none\" points=\"\n",
       "  2110.65,1486.45 2110.65,47.2441 \n",
       "  \"/>\n",
       "<polyline clip-path=\"url(#clip992)\" style=\"stroke:#000000; stroke-width:2; stroke-opacity:0.1; fill:none\" points=\"\n",
       "  230.255,1350.39 2352.76,1350.39 \n",
       "  \"/>\n",
       "<polyline clip-path=\"url(#clip992)\" style=\"stroke:#000000; stroke-width:2; stroke-opacity:0.1; fill:none\" points=\"\n",
       "  230.255,1139.98 2352.76,1139.98 \n",
       "  \"/>\n",
       "<polyline clip-path=\"url(#clip992)\" style=\"stroke:#000000; stroke-width:2; stroke-opacity:0.1; fill:none\" points=\"\n",
       "  230.255,929.582 2352.76,929.582 \n",
       "  \"/>\n",
       "<polyline clip-path=\"url(#clip992)\" style=\"stroke:#000000; stroke-width:2; stroke-opacity:0.1; fill:none\" points=\"\n",
       "  230.255,719.181 2352.76,719.181 \n",
       "  \"/>\n",
       "<polyline clip-path=\"url(#clip992)\" style=\"stroke:#000000; stroke-width:2; stroke-opacity:0.1; fill:none\" points=\"\n",
       "  230.255,508.779 2352.76,508.779 \n",
       "  \"/>\n",
       "<polyline clip-path=\"url(#clip992)\" style=\"stroke:#000000; stroke-width:2; stroke-opacity:0.1; fill:none\" points=\"\n",
       "  230.255,298.378 2352.76,298.378 \n",
       "  \"/>\n",
       "<polyline clip-path=\"url(#clip992)\" style=\"stroke:#000000; stroke-width:2; stroke-opacity:0.1; fill:none\" points=\"\n",
       "  230.255,87.9765 2352.76,87.9765 \n",
       "  \"/>\n",
       "<polyline clip-path=\"url(#clip990)\" style=\"stroke:#000000; stroke-width:4; stroke-opacity:1; fill:none\" points=\"\n",
       "  230.255,1486.45 2352.76,1486.45 \n",
       "  \"/>\n",
       "<polyline clip-path=\"url(#clip990)\" style=\"stroke:#000000; stroke-width:4; stroke-opacity:1; fill:none\" points=\"\n",
       "  230.255,1486.45 230.255,47.2441 \n",
       "  \"/>\n",
       "<polyline clip-path=\"url(#clip990)\" style=\"stroke:#000000; stroke-width:4; stroke-opacity:1; fill:none\" points=\"\n",
       "  290.326,1486.45 290.326,1469.18 \n",
       "  \"/>\n",
       "<polyline clip-path=\"url(#clip990)\" style=\"stroke:#000000; stroke-width:4; stroke-opacity:1; fill:none\" points=\"\n",
       "  745.408,1486.45 745.408,1469.18 \n",
       "  \"/>\n",
       "<polyline clip-path=\"url(#clip990)\" style=\"stroke:#000000; stroke-width:4; stroke-opacity:1; fill:none\" points=\"\n",
       "  1200.49,1486.45 1200.49,1469.18 \n",
       "  \"/>\n",
       "<polyline clip-path=\"url(#clip990)\" style=\"stroke:#000000; stroke-width:4; stroke-opacity:1; fill:none\" points=\"\n",
       "  1655.57,1486.45 1655.57,1469.18 \n",
       "  \"/>\n",
       "<polyline clip-path=\"url(#clip990)\" style=\"stroke:#000000; stroke-width:4; stroke-opacity:1; fill:none\" points=\"\n",
       "  2110.65,1486.45 2110.65,1469.18 \n",
       "  \"/>\n",
       "<polyline clip-path=\"url(#clip990)\" style=\"stroke:#000000; stroke-width:4; stroke-opacity:1; fill:none\" points=\"\n",
       "  230.255,1350.39 255.725,1350.39 \n",
       "  \"/>\n",
       "<polyline clip-path=\"url(#clip990)\" style=\"stroke:#000000; stroke-width:4; stroke-opacity:1; fill:none\" points=\"\n",
       "  230.255,1139.98 255.725,1139.98 \n",
       "  \"/>\n",
       "<polyline clip-path=\"url(#clip990)\" style=\"stroke:#000000; stroke-width:4; stroke-opacity:1; fill:none\" points=\"\n",
       "  230.255,929.582 255.725,929.582 \n",
       "  \"/>\n",
       "<polyline clip-path=\"url(#clip990)\" style=\"stroke:#000000; stroke-width:4; stroke-opacity:1; fill:none\" points=\"\n",
       "  230.255,719.181 255.725,719.181 \n",
       "  \"/>\n",
       "<polyline clip-path=\"url(#clip990)\" style=\"stroke:#000000; stroke-width:4; stroke-opacity:1; fill:none\" points=\"\n",
       "  230.255,508.779 255.725,508.779 \n",
       "  \"/>\n",
       "<polyline clip-path=\"url(#clip990)\" style=\"stroke:#000000; stroke-width:4; stroke-opacity:1; fill:none\" points=\"\n",
       "  230.255,298.378 255.725,298.378 \n",
       "  \"/>\n",
       "<polyline clip-path=\"url(#clip990)\" style=\"stroke:#000000; stroke-width:4; stroke-opacity:1; fill:none\" points=\"\n",
       "  230.255,87.9765 255.725,87.9765 \n",
       "  \"/>\n",
       "<path clip-path=\"url(#clip990)\" d=\"M 0 0 M244.18 1525.04 L256.657 1525.04 L256.657 1528.83 L244.18 1528.83 L244.18 1525.04 Z\" fill=\"#000000\" fill-rule=\"evenodd\" fill-opacity=\"1\" /><path clip-path=\"url(#clip990)\" d=\"M 0 0 M262.537 1535.98 L270.176 1535.98 L270.176 1509.62 L261.866 1511.29 L261.866 1507.03 L270.129 1505.36 L274.805 1505.36 L274.805 1535.98 L282.444 1535.98 L282.444 1539.92 L262.537 1539.92 L262.537 1535.98 Z\" fill=\"#000000\" fill-rule=\"evenodd\" fill-opacity=\"1\" /><path clip-path=\"url(#clip990)\" d=\"M 0 0 M297.513 1508.44 Q293.902 1508.44 292.074 1512 Q290.268 1515.55 290.268 1522.67 Q290.268 1529.78 292.074 1533.35 Q293.902 1536.89 297.513 1536.89 Q301.148 1536.89 302.953 1533.35 Q304.782 1529.78 304.782 1522.67 Q304.782 1515.55 302.953 1512 Q301.148 1508.44 297.513 1508.44 M297.513 1504.73 Q303.324 1504.73 306.379 1509.34 Q309.458 1513.92 309.458 1522.67 Q309.458 1531.4 306.379 1536.01 Q303.324 1540.59 297.513 1540.59 Q291.703 1540.59 288.625 1536.01 Q285.569 1531.4 285.569 1522.67 Q285.569 1513.92 288.625 1509.34 Q291.703 1504.73 297.513 1504.73 Z\" fill=\"#000000\" fill-rule=\"evenodd\" fill-opacity=\"1\" /><path clip-path=\"url(#clip990)\" d=\"M 0 0 M324.527 1508.44 Q320.916 1508.44 319.087 1512 Q317.282 1515.55 317.282 1522.67 Q317.282 1529.78 319.087 1533.35 Q320.916 1536.89 324.527 1536.89 Q328.161 1536.89 329.967 1533.35 Q331.796 1529.78 331.796 1522.67 Q331.796 1515.55 329.967 1512 Q328.161 1508.44 324.527 1508.44 M324.527 1504.73 Q330.337 1504.73 333.393 1509.34 Q336.472 1513.92 336.472 1522.67 Q336.472 1531.4 333.393 1536.01 Q330.337 1540.59 324.527 1540.59 Q318.717 1540.59 315.638 1536.01 Q312.583 1531.4 312.583 1522.67 Q312.583 1513.92 315.638 1509.34 Q318.717 1504.73 324.527 1504.73 Z\" fill=\"#000000\" fill-rule=\"evenodd\" fill-opacity=\"1\" /><path clip-path=\"url(#clip990)\" d=\"M 0 0 M713.105 1525.04 L725.581 1525.04 L725.581 1528.83 L713.105 1528.83 L713.105 1525.04 Z\" fill=\"#000000\" fill-rule=\"evenodd\" fill-opacity=\"1\" /><path clip-path=\"url(#clip990)\" d=\"M 0 0 M729.47 1505.36 L751.692 1505.36 L751.692 1507.35 L739.146 1539.92 L734.262 1539.92 L746.067 1509.3 L729.47 1509.3 L729.47 1505.36 Z\" fill=\"#000000\" fill-rule=\"evenodd\" fill-opacity=\"1\" /><path clip-path=\"url(#clip990)\" d=\"M 0 0 M756.808 1505.36 L775.164 1505.36 L775.164 1509.3 L761.09 1509.3 L761.09 1517.77 Q762.109 1517.42 763.127 1517.26 Q764.146 1517.07 765.164 1517.07 Q770.951 1517.07 774.331 1520.24 Q777.711 1523.42 777.711 1528.83 Q777.711 1534.41 774.239 1537.51 Q770.766 1540.59 764.447 1540.59 Q762.271 1540.59 760.002 1540.22 Q757.757 1539.85 755.35 1539.11 L755.35 1534.41 Q757.433 1535.54 759.655 1536.1 Q761.877 1536.66 764.354 1536.66 Q768.359 1536.66 770.697 1534.55 Q773.035 1532.44 773.035 1528.83 Q773.035 1525.22 770.697 1523.11 Q768.359 1521.01 764.354 1521.01 Q762.479 1521.01 760.604 1521.42 Q758.752 1521.84 756.808 1522.72 L756.808 1505.36 Z\" fill=\"#000000\" fill-rule=\"evenodd\" fill-opacity=\"1\" /><path clip-path=\"url(#clip990)\" d=\"M 0 0 M1167.73 1525.04 L1180.21 1525.04 L1180.21 1528.83 L1167.73 1528.83 L1167.73 1525.04 Z\" fill=\"#000000\" fill-rule=\"evenodd\" fill-opacity=\"1\" /><path clip-path=\"url(#clip990)\" d=\"M 0 0 M1185.33 1505.36 L1203.68 1505.36 L1203.68 1509.3 L1189.61 1509.3 L1189.61 1517.77 Q1190.63 1517.42 1191.65 1517.26 Q1192.67 1517.07 1193.68 1517.07 Q1199.47 1517.07 1202.85 1520.24 Q1206.23 1523.42 1206.23 1528.83 Q1206.23 1534.41 1202.76 1537.51 Q1199.29 1540.59 1192.97 1540.59 Q1190.79 1540.59 1188.52 1540.22 Q1186.28 1539.85 1183.87 1539.11 L1183.87 1534.41 Q1185.95 1535.54 1188.17 1536.1 Q1190.4 1536.66 1192.87 1536.66 Q1196.88 1536.66 1199.22 1534.55 Q1201.55 1532.44 1201.55 1528.83 Q1201.55 1525.22 1199.22 1523.11 Q1196.88 1521.01 1192.87 1521.01 Q1191 1521.01 1189.12 1521.42 Q1187.27 1521.84 1185.33 1522.72 L1185.33 1505.36 Z\" fill=\"#000000\" fill-rule=\"evenodd\" fill-opacity=\"1\" /><path clip-path=\"url(#clip990)\" d=\"M 0 0 M1221.3 1508.44 Q1217.69 1508.44 1215.86 1512 Q1214.05 1515.55 1214.05 1522.67 Q1214.05 1529.78 1215.86 1533.35 Q1217.69 1536.89 1221.3 1536.89 Q1224.93 1536.89 1226.74 1533.35 Q1228.57 1529.78 1228.57 1522.67 Q1228.57 1515.55 1226.74 1512 Q1224.93 1508.44 1221.3 1508.44 M1221.3 1504.73 Q1227.11 1504.73 1230.17 1509.34 Q1233.24 1513.92 1233.24 1522.67 Q1233.24 1531.4 1230.17 1536.01 Q1227.11 1540.59 1221.3 1540.59 Q1215.49 1540.59 1212.41 1536.01 Q1209.35 1531.4 1209.35 1522.67 Q1209.35 1513.92 1212.41 1509.34 Q1215.49 1504.73 1221.3 1504.73 Z\" fill=\"#000000\" fill-rule=\"evenodd\" fill-opacity=\"1\" /><path clip-path=\"url(#clip990)\" d=\"M 0 0 M1623.62 1525.04 L1636.09 1525.04 L1636.09 1528.83 L1623.62 1528.83 L1623.62 1525.04 Z\" fill=\"#000000\" fill-rule=\"evenodd\" fill-opacity=\"1\" /><path clip-path=\"url(#clip990)\" d=\"M 0 0 M1645.19 1535.98 L1661.51 1535.98 L1661.51 1539.92 L1639.56 1539.92 L1639.56 1535.98 Q1642.23 1533.23 1646.81 1528.6 Q1651.42 1523.95 1652.6 1522.61 Q1654.84 1520.08 1655.72 1518.35 Q1656.62 1516.59 1656.62 1514.9 Q1656.62 1512.14 1654.68 1510.41 Q1652.76 1508.67 1649.66 1508.67 Q1647.46 1508.67 1645 1509.43 Q1642.57 1510.2 1639.8 1511.75 L1639.8 1507.03 Q1642.62 1505.89 1645.07 1505.31 Q1647.53 1504.73 1649.56 1504.73 Q1654.93 1504.73 1658.13 1507.42 Q1661.32 1510.11 1661.32 1514.6 Q1661.32 1516.73 1660.51 1518.65 Q1659.73 1520.54 1657.62 1523.14 Q1657.04 1523.81 1653.94 1527.03 Q1650.84 1530.22 1645.19 1535.98 Z\" fill=\"#000000\" fill-rule=\"evenodd\" fill-opacity=\"1\" /><path clip-path=\"url(#clip990)\" d=\"M 0 0 M1666.62 1505.36 L1684.98 1505.36 L1684.98 1509.3 L1670.91 1509.3 L1670.91 1517.77 Q1671.92 1517.42 1672.94 1517.26 Q1673.96 1517.07 1674.98 1517.07 Q1680.77 1517.07 1684.15 1520.24 Q1687.53 1523.42 1687.53 1528.83 Q1687.53 1534.41 1684.05 1537.51 Q1680.58 1540.59 1674.26 1540.59 Q1672.09 1540.59 1669.82 1540.22 Q1667.57 1539.85 1665.17 1539.11 L1665.17 1534.41 Q1667.25 1535.54 1669.47 1536.1 Q1671.69 1536.66 1674.17 1536.66 Q1678.17 1536.66 1680.51 1534.55 Q1682.85 1532.44 1682.85 1528.83 Q1682.85 1525.22 1680.51 1523.11 Q1678.17 1521.01 1674.17 1521.01 Q1672.3 1521.01 1670.42 1521.42 Q1668.57 1521.84 1666.62 1522.72 L1666.62 1505.36 Z\" fill=\"#000000\" fill-rule=\"evenodd\" fill-opacity=\"1\" /><path clip-path=\"url(#clip990)\" d=\"M 0 0 M2110.65 1508.44 Q2107.04 1508.44 2105.21 1512 Q2103.41 1515.55 2103.41 1522.67 Q2103.41 1529.78 2105.21 1533.35 Q2107.04 1536.89 2110.65 1536.89 Q2114.29 1536.89 2116.09 1533.35 Q2117.92 1529.78 2117.92 1522.67 Q2117.92 1515.55 2116.09 1512 Q2114.29 1508.44 2110.65 1508.44 M2110.65 1504.73 Q2116.46 1504.73 2119.52 1509.34 Q2122.6 1513.92 2122.6 1522.67 Q2122.6 1531.4 2119.52 1536.01 Q2116.46 1540.59 2110.65 1540.59 Q2104.84 1540.59 2101.76 1536.01 Q2098.71 1531.4 2098.71 1522.67 Q2098.71 1513.92 2101.76 1509.34 Q2104.84 1504.73 2110.65 1504.73 Z\" fill=\"#000000\" fill-rule=\"evenodd\" fill-opacity=\"1\" /><path clip-path=\"url(#clip990)\" d=\"M 0 0 M47.3007 1359.23 L59.7774 1359.23 L59.7774 1363.02 L47.3007 1363.02 L47.3007 1359.23 Z\" fill=\"#000000\" fill-rule=\"evenodd\" fill-opacity=\"1\" /><path clip-path=\"url(#clip990)\" d=\"M 0 0 M89.3143 1354.97 Q86.1662 1354.97 84.3143 1357.12 Q82.4857 1359.27 82.4857 1363.02 Q82.4857 1366.75 84.3143 1368.93 Q86.1662 1371.08 89.3143 1371.08 Q92.4625 1371.08 94.2911 1368.93 Q96.143 1366.75 96.143 1363.02 Q96.143 1359.27 94.2911 1357.12 Q92.4625 1354.97 89.3143 1354.97 M98.5967 1340.32 L98.5967 1344.58 Q96.8374 1343.74 95.0319 1343.3 Q93.2495 1342.86 91.4902 1342.86 Q86.8606 1342.86 84.4069 1345.99 Q81.9764 1349.11 81.6292 1355.43 Q82.9949 1353.42 85.0551 1352.35 Q87.1153 1351.27 89.5921 1351.27 Q94.8004 1351.27 97.8096 1354.44 Q100.842 1357.59 100.842 1363.02 Q100.842 1368.35 97.6939 1371.57 Q94.5458 1374.78 89.3143 1374.78 Q83.319 1374.78 80.1477 1370.2 Q76.9764 1365.59 76.9764 1356.87 Q76.9764 1348.67 80.8653 1343.81 Q84.7542 1338.93 91.3051 1338.93 Q93.0643 1338.93 94.8467 1339.28 Q96.6522 1339.62 98.5967 1340.32 Z\" fill=\"#000000\" fill-rule=\"evenodd\" fill-opacity=\"1\" /><path clip-path=\"url(#clip990)\" d=\"M 0 0 M134.083 1348.65 L123.504 1359.27 L134.083 1369.85 L131.328 1372.65 L120.703 1362.03 L110.078 1372.65 L107.347 1369.85 L117.902 1359.27 L107.347 1348.65 L110.078 1345.85 L120.703 1356.47 L131.328 1345.85 L134.083 1348.65 Z\" fill=\"#000000\" fill-rule=\"evenodd\" fill-opacity=\"1\" /><path clip-path=\"url(#clip990)\" d=\"M 0 0 M139.962 1370.18 L147.601 1370.18 L147.601 1343.81 L139.291 1345.48 L139.291 1341.22 L147.555 1339.55 L152.231 1339.55 L152.231 1370.18 L159.87 1370.18 L159.87 1374.11 L139.962 1374.11 L139.962 1370.18 Z\" fill=\"#000000\" fill-rule=\"evenodd\" fill-opacity=\"1\" /><path clip-path=\"url(#clip990)\" d=\"M 0 0 M174.939 1342.63 Q171.328 1342.63 169.499 1346.2 Q167.694 1349.74 167.694 1356.87 Q167.694 1363.97 169.499 1367.54 Q171.328 1371.08 174.939 1371.08 Q178.573 1371.08 180.379 1367.54 Q182.207 1363.97 182.207 1356.87 Q182.207 1349.74 180.379 1346.2 Q178.573 1342.63 174.939 1342.63 M174.939 1338.93 Q180.749 1338.93 183.805 1343.53 Q186.883 1348.12 186.883 1356.87 Q186.883 1365.59 183.805 1370.2 Q180.749 1374.78 174.939 1374.78 Q169.129 1374.78 166.05 1370.2 Q162.994 1365.59 162.994 1356.87 Q162.994 1348.12 166.05 1343.53 Q169.129 1338.93 174.939 1338.93 Z\" fill=\"#000000\" fill-rule=\"evenodd\" fill-opacity=\"1\" /><path clip-path=\"url(#clip990)\" d=\"M 0 0 M188.689 1346.12 L188.689 1342.66 Q190.118 1343.34 191.585 1343.69 Q193.052 1344.05 194.463 1344.05 Q198.224 1344.05 200.199 1341.53 Q202.193 1338.99 202.475 1333.84 Q201.384 1335.46 199.71 1336.32 Q198.036 1337.19 196.005 1337.19 Q191.792 1337.19 189.328 1334.65 Q186.883 1332.09 186.883 1327.67 Q186.883 1323.34 189.441 1320.73 Q191.999 1318.11 196.25 1318.11 Q201.121 1318.11 203.679 1321.86 Q206.255 1325.58 206.255 1332.69 Q206.255 1339.33 203.096 1343.3 Q199.955 1347.25 194.632 1347.25 Q193.203 1347.25 191.736 1346.97 Q190.269 1346.68 188.689 1346.12 M196.25 1334.21 Q198.807 1334.21 200.293 1332.46 Q201.798 1330.72 201.798 1327.67 Q201.798 1324.64 200.293 1322.89 Q198.807 1321.12 196.25 1321.12 Q193.692 1321.12 192.187 1322.89 Q190.701 1324.64 190.701 1327.67 Q190.701 1330.72 192.187 1332.46 Q193.692 1334.21 196.25 1334.21 Z\" fill=\"#000000\" fill-rule=\"evenodd\" fill-opacity=\"1\" /><path clip-path=\"url(#clip990)\" d=\"M 0 0 M48.8053 1148.83 L61.2821 1148.83 L61.2821 1152.62 L48.8053 1152.62 L48.8053 1148.83 Z\" fill=\"#000000\" fill-rule=\"evenodd\" fill-opacity=\"1\" /><path clip-path=\"url(#clip990)\" d=\"M 0 0 M79.9394 1129.15 L98.2958 1129.15 L98.2958 1133.09 L84.2218 1133.09 L84.2218 1141.56 Q85.2403 1141.21 86.2588 1141.05 Q87.2773 1140.86 88.2958 1140.86 Q94.0828 1140.86 97.4624 1144.04 Q100.842 1147.21 100.842 1152.62 Q100.842 1158.2 97.3698 1161.3 Q93.8976 1164.38 87.5782 1164.38 Q85.4023 1164.38 83.1338 1164.01 Q80.8884 1163.64 78.481 1162.9 L78.481 1158.2 Q80.5644 1159.34 82.7866 1159.89 Q85.0088 1160.45 87.4856 1160.45 Q91.4902 1160.45 93.8282 1158.34 Q96.1661 1156.23 96.1661 1152.62 Q96.1661 1149.01 93.8282 1146.91 Q91.4902 1144.8 87.4856 1144.8 Q85.6106 1144.8 83.7356 1145.22 Q81.8838 1145.63 79.9394 1146.51 L79.9394 1129.15 Z\" fill=\"#000000\" fill-rule=\"evenodd\" fill-opacity=\"1\" /><path clip-path=\"url(#clip990)\" d=\"M 0 0 M134.083 1138.25 L123.504 1148.87 L134.083 1159.45 L131.328 1162.25 L120.703 1151.63 L110.078 1162.25 L107.347 1159.45 L117.902 1148.87 L107.347 1138.25 L110.078 1135.45 L120.703 1146.07 L131.328 1135.45 L134.083 1138.25 Z\" fill=\"#000000\" fill-rule=\"evenodd\" fill-opacity=\"1\" /><path clip-path=\"url(#clip990)\" d=\"M 0 0 M139.962 1159.78 L147.601 1159.78 L147.601 1133.41 L139.291 1135.08 L139.291 1130.82 L147.555 1129.15 L152.231 1129.15 L152.231 1159.78 L159.87 1159.78 L159.87 1163.71 L139.962 1163.71 L139.962 1159.78 Z\" fill=\"#000000\" fill-rule=\"evenodd\" fill-opacity=\"1\" /><path clip-path=\"url(#clip990)\" d=\"M 0 0 M174.939 1132.23 Q171.328 1132.23 169.499 1135.79 Q167.694 1139.34 167.694 1146.47 Q167.694 1153.57 169.499 1157.14 Q171.328 1160.68 174.939 1160.68 Q178.573 1160.68 180.379 1157.14 Q182.207 1153.57 182.207 1146.47 Q182.207 1139.34 180.379 1135.79 Q178.573 1132.23 174.939 1132.23 M174.939 1128.53 Q180.749 1128.53 183.805 1133.13 Q186.883 1137.72 186.883 1146.47 Q186.883 1155.19 183.805 1159.8 Q180.749 1164.38 174.939 1164.38 Q169.129 1164.38 166.05 1159.8 Q162.994 1155.19 162.994 1146.47 Q162.994 1137.72 166.05 1133.13 Q169.129 1128.53 174.939 1128.53 Z\" fill=\"#000000\" fill-rule=\"evenodd\" fill-opacity=\"1\" /><path clip-path=\"url(#clip990)\" d=\"M 0 0 M188.689 1135.72 L188.689 1132.26 Q190.118 1132.93 191.585 1133.29 Q193.052 1133.65 194.463 1133.65 Q198.224 1133.65 200.199 1131.13 Q202.193 1128.59 202.475 1123.44 Q201.384 1125.05 199.71 1125.92 Q198.036 1126.78 196.005 1126.78 Q191.792 1126.78 189.328 1124.25 Q186.883 1121.69 186.883 1117.27 Q186.883 1112.94 189.441 1110.33 Q191.999 1107.71 196.25 1107.71 Q201.121 1107.71 203.679 1111.46 Q206.255 1115.18 206.255 1122.29 Q206.255 1128.93 203.096 1132.9 Q199.955 1136.85 194.632 1136.85 Q193.203 1136.85 191.736 1136.56 Q190.269 1136.28 188.689 1135.72 M196.25 1123.81 Q198.807 1123.81 200.293 1122.06 Q201.798 1120.31 201.798 1117.27 Q201.798 1114.24 200.293 1112.49 Q198.807 1110.72 196.25 1110.72 Q193.692 1110.72 192.187 1112.49 Q190.701 1114.24 190.701 1117.27 Q190.701 1120.31 192.187 1122.06 Q193.692 1123.81 196.25 1123.81 Z\" fill=\"#000000\" fill-rule=\"evenodd\" fill-opacity=\"1\" /><path clip-path=\"url(#clip990)\" d=\"M 0 0 M45.9812 938.426 L58.458 938.426 L58.458 942.222 L45.9812 942.222 L45.9812 938.426 Z\" fill=\"#000000\" fill-rule=\"evenodd\" fill-opacity=\"1\" /><path clip-path=\"url(#clip990)\" d=\"M 0 0 M91.2588 922.824 L79.4533 941.273 L91.2588 941.273 L91.2588 922.824 M90.0319 918.75 L95.9115 918.75 L95.9115 941.273 L100.842 941.273 L100.842 945.162 L95.9115 945.162 L95.9115 953.31 L91.2588 953.31 L91.2588 945.162 L75.657 945.162 L75.657 940.648 L90.0319 918.75 Z\" fill=\"#000000\" fill-rule=\"evenodd\" fill-opacity=\"1\" /><path clip-path=\"url(#clip990)\" d=\"M 0 0 M134.083 927.847 L123.504 938.472 L134.083 949.051 L131.328 951.852 L120.703 941.227 L110.078 951.852 L107.347 949.051 L117.902 938.472 L107.347 927.847 L110.078 925.046 L120.703 935.671 L131.328 925.046 L134.083 927.847 Z\" fill=\"#000000\" fill-rule=\"evenodd\" fill-opacity=\"1\" /><path clip-path=\"url(#clip990)\" d=\"M 0 0 M139.962 949.375 L147.601 949.375 L147.601 923.009 L139.291 924.676 L139.291 920.417 L147.555 918.75 L152.231 918.75 L152.231 949.375 L159.87 949.375 L159.87 953.31 L139.962 953.31 L139.962 949.375 Z\" fill=\"#000000\" fill-rule=\"evenodd\" fill-opacity=\"1\" /><path clip-path=\"url(#clip990)\" d=\"M 0 0 M174.939 921.829 Q171.328 921.829 169.499 925.393 Q167.694 928.935 167.694 936.065 Q167.694 943.171 169.499 946.736 Q171.328 950.277 174.939 950.277 Q178.573 950.277 180.379 946.736 Q182.207 943.171 182.207 936.065 Q182.207 928.935 180.379 925.393 Q178.573 921.829 174.939 921.829 M174.939 918.125 Q180.749 918.125 183.805 922.731 Q186.883 927.315 186.883 936.065 Q186.883 944.791 183.805 949.398 Q180.749 953.981 174.939 953.981 Q169.129 953.981 166.05 949.398 Q162.994 944.791 162.994 936.065 Q162.994 927.315 166.05 922.731 Q169.129 918.125 174.939 918.125 Z\" fill=\"#000000\" fill-rule=\"evenodd\" fill-opacity=\"1\" /><path clip-path=\"url(#clip990)\" d=\"M 0 0 M188.689 925.316 L188.689 921.856 Q190.118 922.533 191.585 922.89 Q193.052 923.248 194.463 923.248 Q198.224 923.248 200.199 920.727 Q202.193 918.188 202.475 913.035 Q201.384 914.652 199.71 915.518 Q198.036 916.383 196.005 916.383 Q191.792 916.383 189.328 913.844 Q186.883 911.286 186.883 906.866 Q186.883 902.54 189.441 899.926 Q191.999 897.312 196.25 897.312 Q201.121 897.312 203.679 901.054 Q206.255 904.778 206.255 911.888 Q206.255 918.527 203.096 922.495 Q199.955 926.445 194.632 926.445 Q193.203 926.445 191.736 926.163 Q190.269 925.881 188.689 925.316 M196.25 913.411 Q198.807 913.411 200.293 911.662 Q201.798 909.913 201.798 906.866 Q201.798 903.838 200.293 902.089 Q198.807 900.321 196.25 900.321 Q193.692 900.321 192.187 902.089 Q190.701 903.838 190.701 906.866 Q190.701 909.913 192.187 911.662 Q193.692 913.411 196.25 913.411 Z\" fill=\"#000000\" fill-rule=\"evenodd\" fill-opacity=\"1\" /><path clip-path=\"url(#clip990)\" d=\"M 0 0 M48.4118 728.024 L60.8885 728.024 L60.8885 731.821 L48.4118 731.821 L48.4118 728.024 Z\" fill=\"#000000\" fill-rule=\"evenodd\" fill-opacity=\"1\" /><path clip-path=\"url(#clip990)\" d=\"M 0 0 M93.7124 724.274 Q97.0689 724.992 98.9439 727.26 Q100.842 729.529 100.842 732.862 Q100.842 737.978 97.3235 740.779 Q93.805 743.58 87.3236 743.58 Q85.1477 743.58 82.8329 743.14 Q80.5412 742.723 78.0875 741.867 L78.0875 737.353 Q80.032 738.487 82.3468 739.066 Q84.6616 739.645 87.1847 739.645 Q91.5828 739.645 93.8745 737.908 Q96.1893 736.172 96.1893 732.862 Q96.1893 729.807 94.0365 728.094 Q91.9069 726.358 88.0875 726.358 L84.0597 726.358 L84.0597 722.515 L88.2727 722.515 Q91.7217 722.515 93.5504 721.149 Q95.3791 719.76 95.3791 717.168 Q95.3791 714.506 93.481 713.094 Q91.606 711.659 88.0875 711.659 Q86.1662 711.659 83.9671 712.075 Q81.7681 712.492 79.1292 713.372 L79.1292 709.205 Q81.7912 708.464 84.106 708.094 Q86.444 707.723 88.5041 707.723 Q93.8282 707.723 96.93 710.154 Q100.032 712.561 100.032 716.682 Q100.032 719.552 98.3883 721.543 Q96.7448 723.51 93.7124 724.274 Z\" fill=\"#000000\" fill-rule=\"evenodd\" fill-opacity=\"1\" /><path clip-path=\"url(#clip990)\" d=\"M 0 0 M134.083 717.446 L123.504 728.071 L134.083 738.649 L131.328 741.45 L120.703 730.825 L110.078 741.45 L107.347 738.649 L117.902 728.071 L107.347 717.446 L110.078 714.645 L120.703 725.27 L131.328 714.645 L134.083 717.446 Z\" fill=\"#000000\" fill-rule=\"evenodd\" fill-opacity=\"1\" /><path clip-path=\"url(#clip990)\" d=\"M 0 0 M139.962 738.973 L147.601 738.973 L147.601 712.608 L139.291 714.274 L139.291 710.015 L147.555 708.348 L152.231 708.348 L152.231 738.973 L159.87 738.973 L159.87 742.908 L139.962 742.908 L139.962 738.973 Z\" fill=\"#000000\" fill-rule=\"evenodd\" fill-opacity=\"1\" /><path clip-path=\"url(#clip990)\" d=\"M 0 0 M174.939 711.427 Q171.328 711.427 169.499 714.992 Q167.694 718.534 167.694 725.663 Q167.694 732.77 169.499 736.334 Q171.328 739.876 174.939 739.876 Q178.573 739.876 180.379 736.334 Q182.207 732.77 182.207 725.663 Q182.207 718.534 180.379 714.992 Q178.573 711.427 174.939 711.427 M174.939 707.723 Q180.749 707.723 183.805 712.33 Q186.883 716.913 186.883 725.663 Q186.883 734.39 183.805 738.996 Q180.749 743.58 174.939 743.58 Q169.129 743.58 166.05 738.996 Q162.994 734.39 162.994 725.663 Q162.994 716.913 166.05 712.33 Q169.129 707.723 174.939 707.723 Z\" fill=\"#000000\" fill-rule=\"evenodd\" fill-opacity=\"1\" /><path clip-path=\"url(#clip990)\" d=\"M 0 0 M188.689 714.915 L188.689 711.454 Q190.118 712.131 191.585 712.489 Q193.052 712.846 194.463 712.846 Q198.224 712.846 200.199 710.326 Q202.193 707.787 202.475 702.634 Q201.384 704.251 199.71 705.116 Q198.036 705.981 196.005 705.981 Q191.792 705.981 189.328 703.442 Q186.883 700.884 186.883 696.465 Q186.883 692.139 189.441 689.525 Q191.999 686.91 196.25 686.91 Q201.121 686.91 203.679 690.653 Q206.255 694.377 206.255 701.486 Q206.255 708.125 203.096 712.094 Q199.955 716.043 194.632 716.043 Q193.203 716.043 191.736 715.761 Q190.269 715.479 188.689 714.915 M196.25 703.01 Q198.807 703.01 200.293 701.261 Q201.798 699.511 201.798 696.465 Q201.798 693.437 200.293 691.687 Q198.807 689.919 196.25 689.919 Q193.692 689.919 192.187 691.687 Q190.701 693.437 190.701 696.465 Q190.701 699.511 192.187 701.261 Q193.692 703.01 196.25 703.01 Z\" fill=\"#000000\" fill-rule=\"evenodd\" fill-opacity=\"1\" /><path clip-path=\"url(#clip990)\" d=\"M 0 0 M49.2219 517.623 L61.6987 517.623 L61.6987 521.419 L49.2219 521.419 L49.2219 517.623 Z\" fill=\"#000000\" fill-rule=\"evenodd\" fill-opacity=\"1\" /><path clip-path=\"url(#clip990)\" d=\"M 0 0 M84.5227 528.572 L100.842 528.572 L100.842 532.507 L78.8977 532.507 L78.8977 528.572 Q81.5597 525.817 86.143 521.188 Q90.7495 516.535 91.93 515.192 Q94.1754 512.669 95.055 510.933 Q95.9578 509.174 95.9578 507.484 Q95.9578 504.729 94.0134 502.993 Q92.0921 501.257 88.9903 501.257 Q86.7912 501.257 84.3375 502.021 Q81.907 502.785 79.1292 504.336 L79.1292 499.614 Q81.9533 498.479 84.4069 497.901 Q86.8606 497.322 88.8977 497.322 Q94.268 497.322 97.4624 500.007 Q100.657 502.692 100.657 507.183 Q100.657 509.313 99.8467 511.234 Q99.0596 513.132 96.9532 515.725 Q96.3745 516.396 93.2726 519.614 Q90.1708 522.808 84.5227 528.572 Z\" fill=\"#000000\" fill-rule=\"evenodd\" fill-opacity=\"1\" /><path clip-path=\"url(#clip990)\" d=\"M 0 0 M134.083 507.044 L123.504 517.669 L134.083 528.248 L131.328 531.049 L120.703 520.424 L110.078 531.049 L107.347 528.248 L117.902 517.669 L107.347 507.044 L110.078 504.243 L120.703 514.868 L131.328 504.243 L134.083 507.044 Z\" fill=\"#000000\" fill-rule=\"evenodd\" fill-opacity=\"1\" /><path clip-path=\"url(#clip990)\" d=\"M 0 0 M139.962 528.572 L147.601 528.572 L147.601 502.206 L139.291 503.873 L139.291 499.614 L147.555 497.947 L152.231 497.947 L152.231 528.572 L159.87 528.572 L159.87 532.507 L139.962 532.507 L139.962 528.572 Z\" fill=\"#000000\" fill-rule=\"evenodd\" fill-opacity=\"1\" /><path clip-path=\"url(#clip990)\" d=\"M 0 0 M174.939 501.026 Q171.328 501.026 169.499 504.59 Q167.694 508.132 167.694 515.262 Q167.694 522.368 169.499 525.933 Q171.328 529.475 174.939 529.475 Q178.573 529.475 180.379 525.933 Q182.207 522.368 182.207 515.262 Q182.207 508.132 180.379 504.59 Q178.573 501.026 174.939 501.026 M174.939 497.322 Q180.749 497.322 183.805 501.928 Q186.883 506.512 186.883 515.262 Q186.883 523.989 183.805 528.595 Q180.749 533.178 174.939 533.178 Q169.129 533.178 166.05 528.595 Q162.994 523.989 162.994 515.262 Q162.994 506.512 166.05 501.928 Q169.129 497.322 174.939 497.322 Z\" fill=\"#000000\" fill-rule=\"evenodd\" fill-opacity=\"1\" /><path clip-path=\"url(#clip990)\" d=\"M 0 0 M188.689 504.514 L188.689 501.053 Q190.118 501.73 191.585 502.087 Q193.052 502.445 194.463 502.445 Q198.224 502.445 200.199 499.924 Q202.193 497.385 202.475 492.232 Q201.384 493.85 199.71 494.715 Q198.036 495.58 196.005 495.58 Q191.792 495.58 189.328 493.041 Q186.883 490.483 186.883 486.063 Q186.883 481.737 189.441 479.123 Q191.999 476.509 196.25 476.509 Q201.121 476.509 203.679 480.252 Q206.255 483.975 206.255 491.085 Q206.255 497.724 203.096 501.692 Q199.955 505.642 194.632 505.642 Q193.203 505.642 191.736 505.36 Q190.269 505.078 188.689 504.514 M196.25 492.608 Q198.807 492.608 200.293 490.859 Q201.798 489.11 201.798 486.063 Q201.798 483.035 200.293 481.286 Q198.807 479.518 196.25 479.518 Q193.692 479.518 192.187 481.286 Q190.701 483.035 190.701 486.063 Q190.701 489.11 192.187 490.859 Q193.692 492.608 196.25 492.608 Z\" fill=\"#000000\" fill-rule=\"evenodd\" fill-opacity=\"1\" /><path clip-path=\"url(#clip990)\" d=\"M 0 0 M50.5877 307.221 L63.0645 307.221 L63.0645 311.018 L50.5877 311.018 L50.5877 307.221 Z\" fill=\"#000000\" fill-rule=\"evenodd\" fill-opacity=\"1\" /><path clip-path=\"url(#clip990)\" d=\"M 0 0 M80.9347 318.17 L88.5736 318.17 L88.5736 291.805 L80.2634 293.471 L80.2634 289.212 L88.5273 287.546 L93.2032 287.546 L93.2032 318.17 L100.842 318.17 L100.842 322.106 L80.9347 322.106 L80.9347 318.17 Z\" fill=\"#000000\" fill-rule=\"evenodd\" fill-opacity=\"1\" /><path clip-path=\"url(#clip990)\" d=\"M 0 0 M134.083 296.643 L123.504 307.268 L134.083 317.846 L131.328 320.647 L120.703 310.022 L110.078 320.647 L107.347 317.846 L117.902 307.268 L107.347 296.643 L110.078 293.842 L120.703 304.467 L131.328 293.842 L134.083 296.643 Z\" fill=\"#000000\" fill-rule=\"evenodd\" fill-opacity=\"1\" /><path clip-path=\"url(#clip990)\" d=\"M 0 0 M139.962 318.17 L147.601 318.17 L147.601 291.805 L139.291 293.471 L139.291 289.212 L147.555 287.546 L152.231 287.546 L152.231 318.17 L159.87 318.17 L159.87 322.106 L139.962 322.106 L139.962 318.17 Z\" fill=\"#000000\" fill-rule=\"evenodd\" fill-opacity=\"1\" /><path clip-path=\"url(#clip990)\" d=\"M 0 0 M174.939 290.624 Q171.328 290.624 169.499 294.189 Q167.694 297.731 167.694 304.86 Q167.694 311.967 169.499 315.532 Q171.328 319.073 174.939 319.073 Q178.573 319.073 180.379 315.532 Q182.207 311.967 182.207 304.86 Q182.207 297.731 180.379 294.189 Q178.573 290.624 174.939 290.624 M174.939 286.921 Q180.749 286.921 183.805 291.527 Q186.883 296.11 186.883 304.86 Q186.883 313.587 183.805 318.194 Q180.749 322.777 174.939 322.777 Q169.129 322.777 166.05 318.194 Q162.994 313.587 162.994 304.86 Q162.994 296.11 166.05 291.527 Q169.129 286.921 174.939 286.921 Z\" fill=\"#000000\" fill-rule=\"evenodd\" fill-opacity=\"1\" /><path clip-path=\"url(#clip990)\" d=\"M 0 0 M188.689 294.112 L188.689 290.651 Q190.118 291.329 191.585 291.686 Q193.052 292.043 194.463 292.043 Q198.224 292.043 200.199 289.523 Q202.193 286.984 202.475 281.831 Q201.384 283.448 199.71 284.313 Q198.036 285.178 196.005 285.178 Q191.792 285.178 189.328 282.639 Q186.883 280.082 186.883 275.662 Q186.883 271.336 189.441 268.722 Q191.999 266.107 196.25 266.107 Q201.121 266.107 203.679 269.85 Q206.255 273.574 206.255 280.683 Q206.255 287.323 203.096 291.291 Q199.955 295.241 194.632 295.241 Q193.203 295.241 191.736 294.958 Q190.269 294.676 188.689 294.112 M196.25 282.207 Q198.807 282.207 200.293 280.458 Q201.798 278.709 201.798 275.662 Q201.798 272.634 200.293 270.885 Q198.807 269.117 196.25 269.117 Q193.692 269.117 192.187 270.885 Q190.701 272.634 190.701 275.662 Q190.701 278.709 192.187 280.458 Q193.692 282.207 196.25 282.207 Z\" fill=\"#000000\" fill-rule=\"evenodd\" fill-opacity=\"1\" /><path clip-path=\"url(#clip990)\" d=\"M 0 0 M194.311 73.7752 Q190.7 73.7752 188.871 77.34 Q187.066 80.8816 187.066 88.0112 Q187.066 95.1177 188.871 98.6825 Q190.7 102.224 194.311 102.224 Q197.945 102.224 199.751 98.6825 Q201.579 95.1177 201.579 88.0112 Q201.579 80.8816 199.751 77.34 Q197.945 73.7752 194.311 73.7752 M194.311 70.0715 Q200.121 70.0715 203.177 74.678 Q206.255 79.2613 206.255 88.0112 Q206.255 96.738 203.177 101.344 Q200.121 105.928 194.311 105.928 Q188.501 105.928 185.422 101.344 Q182.366 96.738 182.366 88.0112 Q182.366 79.2613 185.422 74.678 Q188.501 70.0715 194.311 70.0715 Z\" fill=\"#000000\" fill-rule=\"evenodd\" fill-opacity=\"1\" /><polyline clip-path=\"url(#clip992)\" style=\"stroke:#009af9; stroke-width:4; stroke-opacity:1; fill:none\" points=\"\n",
       "  983.836,1445.72 985.84,1317.22 987.845,1196.43 989.849,1089.17 991.853,989.535 993.858,898.19 995.862,817.032 997.866,746.891 999.871,680.847 1001.88,622.511 \n",
       "  1003.88,570.408 1005.88,520.818 1007.89,479.824 1009.89,438.579 1011.9,403.28 1013.9,371.958 1015.91,344.266 1017.91,318.083 1019.91,294.016 1021.92,273.257 \n",
       "  1023.92,255.381 1025.93,238.272 1027.93,222.391 1029.94,209.415 1031.94,197.004 1033.94,185.98 1035.95,175.586 1037.95,166.701 1039.96,158.874 1041.96,151.664 \n",
       "  1043.97,145.105 1045.97,139.187 1047.98,133.733 1049.98,129.153 1051.98,124.679 1053.99,120.831 1055.99,117.497 1058,114.357 1060,111.653 1062.01,109.247 \n",
       "  1064.01,106.955 1066.01,105.022 1068.02,103.238 1070.02,101.591 1072.03,100.183 1074.03,98.9005 1076.04,97.7394 1078.04,96.6972 1080.05,95.7904 1082.05,94.9316 \n",
       "  1084.05,94.2295 1086.06,93.5451 1088.06,92.9547 1090.07,92.4118 1092.07,91.9371 1094.08,91.4964 1096.08,91.129 1098.08,90.7868 1100.09,90.4759 1102.09,90.215 \n",
       "  1104.1,89.9667 1106.1,89.7488 1108.11,89.5558 1110.11,89.3815 1112.12,89.2279 1114.12,89.0928 1116.12,88.9686 1118.13,88.8636 1120.13,88.762 1122.14,88.6757 \n",
       "  1124.14,88.6013 1126.15,88.5289 1128.15,88.4657 1130.15,88.4149 1132.16,88.3617 1134.16,88.3202 1136.17,88.281 1138.17,88.2459 1140.18,88.2161 1142.18,88.1893 \n",
       "  1144.18,88.165 1146.19,88.1435 1148.19,88.1239 1150.2,88.1081 1152.2,88.0929 1154.21,88.0795 1156.21,88.0677 1158.22,88.0566 1160.22,88.0479 1162.22,88.0394 \n",
       "  1164.23,88.0321 1166.23,88.0255 1168.24,88.0203 1170.24,88.0152 1172.25,88.0101 1174.25,88.0062 1176.25,88.0025 1178.26,87.9996 1180.26,87.9968 1182.27,87.9944 \n",
       "  1184.27,87.9925 1186.28,87.9902 1188.28,87.9888 1190.29,87.9872 1192.29,87.9859 1194.29,87.9847 1196.3,87.9838 1198.3,87.9828 1200.31,87.982 1202.31,87.9813 \n",
       "  1204.32,87.9807 1206.32,87.9802 1208.32,87.9797 1210.33,87.9793 1212.33,87.979 1214.34,87.9786 1216.34,87.9783 1218.35,87.9781 1220.35,87.9779 1222.36,87.9777 \n",
       "  1224.36,87.9776 1226.36,87.9774 1228.37,87.9773 1230.37,87.9772 1232.38,87.9771 1234.38,87.977 1236.39,87.9769 1238.39,87.9769 1240.39,87.9768 1242.4,87.9768 \n",
       "  1244.4,87.9767 1246.41,87.9767 1248.41,87.9767 1250.42,87.9766 1252.42,87.9766 1254.42,87.9766 1256.43,87.9766 1258.43,87.9766 1260.44,87.9766 1262.44,87.9765 \n",
       "  1264.45,87.9765 1266.45,87.9765 1268.46,87.9765 1270.46,87.9765 1272.46,87.9765 1274.47,87.9765 1276.47,87.9765 1278.48,87.9765 1280.48,87.9765 1282.49,87.9765 \n",
       "  1284.49,87.9765 1286.49,87.9765 1288.5,87.9765 1290.5,87.9765 1292.51,87.9765 1294.51,87.9765 1296.52,87.9765 1298.52,87.9765 1300.53,87.9765 1302.53,87.9765 \n",
       "  1304.53,87.9765 1306.54,87.9765 1308.54,87.9765 1310.55,87.9765 1312.55,87.9765 1314.56,87.9765 1316.56,87.9765 1318.56,87.9765 1320.57,87.9765 1322.57,87.9765 \n",
       "  1324.58,87.9765 1326.58,87.9765 1328.59,87.9765 1330.59,87.9765 1332.6,87.9765 1334.6,87.9765 1336.6,87.9765 1338.61,87.9765 1340.61,87.9765 1342.62,87.9765 \n",
       "  1344.62,87.9765 1346.63,87.9765 1348.63,87.9765 1350.63,87.9765 1352.64,87.9765 1354.64,87.9765 1356.65,87.9765 1358.65,87.9765 1360.66,87.9765 1362.66,87.9765 \n",
       "  1364.66,87.9765 1366.67,87.9765 1368.67,87.9765 1370.68,87.9765 1372.68,87.9765 1374.69,87.9765 1376.69,87.9765 1378.7,87.9765 1380.7,87.9765 1382.7,87.9765 \n",
       "  1384.71,87.9765 1386.71,87.9765 1388.72,87.9765 1390.72,87.9765 1392.73,87.9765 1394.73,87.9765 1396.73,87.9765 1398.74,87.9765 1400.74,87.9765 1402.75,87.9765 \n",
       "  1404.75,87.9765 1406.76,87.9765 1408.76,87.9765 1410.77,87.9765 1412.77,87.9765 1414.77,87.9765 1416.78,87.9765 1418.78,87.9765 1420.79,87.9765 1422.79,87.9765 \n",
       "  1424.8,87.9765 1426.8,87.9765 1428.8,87.9765 1430.81,87.9765 1432.81,87.9765 1434.82,87.9765 1436.82,87.9765 1438.83,87.9765 1440.83,87.9765 1442.84,87.9765 \n",
       "  1444.84,87.9765 1446.84,87.9765 1448.85,87.9765 1450.85,87.9765 1452.86,87.9765 1454.86,87.9765 1456.87,87.9765 1458.87,87.9765 1460.87,87.9765 1462.88,87.9765 \n",
       "  1464.88,87.9765 1466.89,87.9765 1468.89,87.9765 1470.9,87.9765 1472.9,87.9765 1474.9,87.9765 1476.91,87.9765 1478.91,87.9765 1480.92,87.9765 1482.92,87.9765 \n",
       "  1484.93,87.9765 1486.93,87.9765 1488.94,87.9765 1490.94,87.9765 1492.94,87.9765 1494.95,87.9765 1496.95,87.9765 1498.96,87.9765 1500.96,87.9765 1502.97,87.9765 \n",
       "  1504.97,87.9765 1506.97,87.9765 1508.98,87.9765 1510.98,87.9765 1512.99,87.9765 1514.99,87.9765 1517,87.9765 1519,87.9765 1521.01,87.9765 1523.01,87.9765 \n",
       "  1525.01,87.9765 1527.02,87.9765 1529.02,87.9765 1531.03,87.9765 1533.03,87.9765 1535.04,87.9765 1537.04,87.9765 1539.04,87.9765 1541.05,87.9765 1543.05,87.9765 \n",
       "  1545.06,87.9765 1547.06,87.9765 1549.07,87.9765 1551.07,87.9765 1553.08,87.9765 1555.08,87.9765 1557.08,87.9765 1559.09,87.9765 1561.09,87.9765 1563.1,87.9765 \n",
       "  1565.1,87.9765 1567.11,87.9765 1569.11,87.9765 1571.11,87.9765 1573.12,87.9765 1575.12,87.9765 1577.13,87.9765 1579.13,87.9765 1581.14,87.9765 1583.14,87.9765 \n",
       "  1585.14,87.9765 1587.15,87.9765 1589.15,87.9765 1591.16,87.9765 1593.16,87.9765 1595.17,87.9765 1597.17,87.9765 1599.18,87.9765 1601.18,87.9765 1603.18,87.9765 \n",
       "  1605.19,87.9765 1607.19,87.9765 1609.2,87.9765 1611.2,87.9765 1613.21,87.9765 1615.21,87.9765 1617.21,87.9765 1619.22,87.9765 1621.22,87.9765 1623.23,87.9765 \n",
       "  1625.23,87.9765 1627.24,87.9765 1629.24,87.9765 1631.25,87.9765 1633.25,87.9765 1635.25,87.9765 1637.26,87.9765 1639.26,87.9765 1641.27,87.9765 1643.27,87.9765 \n",
       "  1645.28,87.9765 1647.28,87.9765 1649.28,87.9765 1651.29,87.9765 1653.29,87.9765 1655.3,87.9765 1657.3,87.9765 1659.31,87.9765 1661.31,87.9765 1663.32,87.9765 \n",
       "  1665.32,87.9765 1667.32,87.9765 1669.33,87.9765 1671.33,87.9765 1673.34,87.9765 1675.34,87.9765 1677.35,87.9765 1679.35,87.9765 1681.35,87.9765 1683.36,87.9765 \n",
       "  1685.36,87.9765 1687.37,87.9765 1689.37,87.9765 1691.38,87.9765 1693.38,87.9765 1695.38,87.9765 1697.39,87.9765 1699.39,87.9765 1701.4,87.9765 1703.4,87.9765 \n",
       "  1705.41,87.9765 1707.41,87.9765 1709.42,87.9765 1711.42,87.9765 1713.42,87.9765 1715.43,87.9765 1717.43,87.9765 1719.44,87.9765 1721.44,87.9765 1723.45,87.9765 \n",
       "  1725.45,87.9765 1727.45,87.9765 1729.46,87.9765 1731.46,87.9765 1733.47,87.9765 1735.47,87.9765 1737.48,87.9765 1739.48,87.9765 1741.49,87.9765 1743.49,87.9765 \n",
       "  1745.49,87.9765 1747.5,87.9765 1749.5,87.9765 1751.51,87.9765 1753.51,87.9765 1755.52,87.9765 1757.52,87.9765 1759.52,87.9765 1761.53,87.9765 1763.53,87.9765 \n",
       "  1765.54,87.9765 1767.54,87.9765 1769.55,87.9765 1771.55,87.9765 1773.55,87.9765 1775.56,87.9765 1777.56,87.9765 1779.57,87.9765 1781.57,87.9765 1783.58,87.9765 \n",
       "  1785.58,87.9765 1787.59,87.9765 1789.59,87.9765 1791.59,87.9765 1793.6,87.9765 1795.6,87.9765 1797.61,87.9765 1799.61,87.9765 1801.62,87.9765 1803.62,87.9765 \n",
       "  1805.62,87.9765 1807.63,87.9765 1809.63,87.9765 1811.64,87.9765 1813.64,87.9765 1815.65,87.9765 1817.65,87.9765 1819.66,87.9765 1821.66,87.9765 1823.66,87.9765 \n",
       "  1825.67,87.9765 1827.67,87.9765 1829.68,87.9765 1831.68,87.9765 1833.69,87.9765 1835.69,87.9765 1837.69,87.9765 1839.7,87.9765 1841.7,87.9765 1843.71,87.9765 \n",
       "  1845.71,87.9765 1847.72,87.9765 1849.72,87.9765 1851.73,87.9765 1853.73,87.9765 1855.73,87.9765 1857.74,87.9765 1859.74,87.9765 1861.75,87.9765 1863.75,87.9765 \n",
       "  1865.76,87.9765 1867.76,87.9765 1869.76,87.9765 1871.77,87.9765 1873.77,87.9765 1875.78,87.9765 1877.78,87.9765 1879.79,87.9765 1881.79,87.9765 1883.79,87.9765 \n",
       "  1885.8,87.9765 1887.8,87.9765 1889.81,87.9765 1891.81,87.9765 1893.82,87.9765 1895.82,87.9765 1897.83,87.9765 1899.83,87.9765 1901.83,87.9765 1903.84,87.9765 \n",
       "  1905.84,87.9765 1907.85,87.9765 1909.85,87.9765 1911.86,87.9765 1913.86,87.9765 1915.86,87.9765 1917.87,87.9765 1919.87,87.9765 1921.88,87.9765 1923.88,87.9765 \n",
       "  1925.89,87.9765 1927.89,87.9765 1929.9,87.9765 1931.9,87.9765 1933.9,87.9765 1935.91,87.9765 1937.91,87.9765 1939.92,87.9765 1941.92,87.9765 1943.93,87.9765 \n",
       "  1945.93,87.9765 1947.93,87.9765 1949.94,87.9765 1951.94,87.9765 1953.95,87.9765 1955.95,87.9765 1957.96,87.9765 1959.96,87.9765 1961.97,87.9765 1963.97,87.9765 \n",
       "  1965.97,87.9765 1967.98,87.9765 1969.98,87.9765 1971.99,87.9765 1973.99,87.9765 1976,87.9765 1978,87.9765 1980,87.9765 1982.01,87.9765 1984.01,87.9765 \n",
       "  1986.02,87.9765 1988.02,87.9765 1990.03,87.9765 1992.03,87.9765 1994.03,87.9765 1996.04,87.9765 1998.04,87.9765 2000.05,87.9765 2002.05,87.9765 2004.06,87.9765 \n",
       "  2006.06,87.9765 2008.07,87.9765 2010.07,87.9765 2012.07,87.9765 2014.08,87.9765 2016.08,87.9765 2018.09,87.9765 2020.09,87.9765 2022.1,87.9765 2024.1,87.9765 \n",
       "  2026.1,87.9765 2028.11,87.9765 2030.11,87.9765 2032.12,87.9765 2034.12,87.9765 2036.13,87.9765 2038.13,87.9765 2040.14,87.9765 2042.14,87.9765 2044.14,87.9765 \n",
       "  2046.15,87.9765 2048.15,87.9765 2050.16,87.9765 2052.16,87.9765 2054.17,87.9765 2056.17,87.9765 2058.17,87.9765 2060.18,87.9765 2062.18,87.9765 2064.19,87.9765 \n",
       "  2066.19,87.9765 2068.2,87.9765 2070.2,87.9765 2072.21,87.9765 2074.21,87.9765 2076.21,87.9765 2078.22,87.9765 2080.22,87.9765 2082.23,87.9765 2084.23,87.9765 \n",
       "  2086.24,87.9765 2088.24,87.9765 2090.24,87.9765 2092.25,87.9765 2094.25,87.9765 2096.26,87.9765 2098.26,87.9765 2100.27,87.9765 2102.27,87.9765 2104.27,87.9765 \n",
       "  2106.28,87.9765 2108.28,87.9765 2110.29,87.9765 2112.29,87.9765 2114.3,87.9765 2116.3,87.9765 2118.31,87.9765 2120.31,87.9765 2122.31,87.9765 2124.32,87.9765 \n",
       "  2126.32,87.9765 2128.33,87.9765 2130.33,87.9765 2132.34,87.9765 2134.34,87.9765 2136.34,87.9765 2138.35,87.9765 2140.35,87.9765 2142.36,87.9765 2144.36,87.9765 \n",
       "  2146.37,87.9765 2148.37,87.9765 2150.38,87.9765 2152.38,87.9765 2154.38,87.9765 2156.39,87.9765 2158.39,87.9765 2160.4,87.9765 2162.4,87.9765 2164.41,87.9765 \n",
       "  2166.41,87.9765 2168.41,87.9765 2170.42,87.9765 2172.42,87.9765 2174.43,87.9765 2176.43,87.9765 2178.44,87.9765 2180.44,87.9765 2182.45,87.9765 2184.45,87.9765 \n",
       "  2186.45,87.9765 2188.46,87.9765 2190.46,87.9765 2192.47,87.9765 2194.47,87.9765 2196.48,87.9765 2198.48,87.9765 2200.48,87.9765 2202.49,87.9765 2204.49,87.9765 \n",
       "  2206.5,87.9765 2208.5,87.9765 2210.51,87.9765 2212.51,87.9765 2214.51,87.9765 2216.52,87.9765 2218.52,87.9765 2220.53,87.9765 2222.53,87.9765 2224.54,87.9765 \n",
       "  2226.54,87.9765 2228.55,87.9765 2230.55,87.9765 2232.55,87.9765 2234.56,87.9765 2236.56,87.9765 2238.57,87.9765 2240.57,87.9765 2242.58,87.9765 2244.58,87.9765 \n",
       "  2246.58,87.9765 2248.59,87.9765 2250.59,87.9765 2252.6,87.9765 2254.6,87.9765 2256.61,87.9765 2258.61,87.9765 2260.62,87.9764 2262.62,87.9764 2264.62,87.9764 \n",
       "  2266.63,87.9764 2268.63,87.9764 2270.64,87.9764 2272.64,87.9764 2274.65,87.9764 2276.65,87.9764 2278.65,87.9764 2280.66,87.9764 2282.66,87.9764 2284.67,87.9763 \n",
       "  2286.67,87.9763 2288.68,87.9763 2290.68,87.9763 2292.69,87.9763 \n",
       "  \"/>\n",
       "<path clip-path=\"url(#clip990)\" d=\"\n",
       "M1989.74 251.724 L2280.76 251.724 L2280.76 130.764 L1989.74 130.764  Z\n",
       "  \" fill=\"#ffffff\" fill-rule=\"evenodd\" fill-opacity=\"1\"/>\n",
       "<polyline clip-path=\"url(#clip990)\" style=\"stroke:#000000; stroke-width:4; stroke-opacity:1; fill:none\" points=\"\n",
       "  1989.74,251.724 2280.76,251.724 2280.76,130.764 1989.74,130.764 1989.74,251.724 \n",
       "  \"/>\n",
       "<polyline clip-path=\"url(#clip990)\" style=\"stroke:#009af9; stroke-width:4; stroke-opacity:1; fill:none\" points=\"\n",
       "  2013.74,191.244 2157.74,191.244 \n",
       "  \"/>\n",
       "<path clip-path=\"url(#clip990)\" d=\"M 0 0 M2195.58 210.931 Q2193.77 215.561 2192.06 216.973 Q2190.35 218.385 2187.48 218.385 L2184.08 218.385 L2184.08 214.82 L2186.58 214.82 Q2188.33 214.82 2189.31 213.987 Q2190.28 213.154 2191.46 210.052 L2192.22 208.107 L2181.74 182.598 L2186.25 182.598 L2194.35 202.876 L2202.46 182.598 L2206.97 182.598 L2195.58 210.931 Z\" fill=\"#000000\" fill-rule=\"evenodd\" fill-opacity=\"1\" /><path clip-path=\"url(#clip990)\" d=\"M 0 0 M2212.85 204.589 L2220.49 204.589 L2220.49 178.223 L2212.18 179.89 L2212.18 175.631 L2220.44 173.964 L2225.12 173.964 L2225.12 204.589 L2232.76 204.589 L2232.76 208.524 L2212.85 208.524 L2212.85 204.589 Z\" fill=\"#000000\" fill-rule=\"evenodd\" fill-opacity=\"1\" /></svg>\n"
      ]
     },
     "execution_count": 20,
     "metadata": {},
     "output_type": "execute_result"
    }
   ],
   "source": [
    "Plots.plot(\n",
    "    range(-100.0, 10.0, length = 1000),\n",
    "    t -> beta_mgf_v3(α, β, t),\n",
    ")"
   ]
  },
  {
   "cell_type": "code",
   "execution_count": 21,
   "metadata": {},
   "outputs": [
    {
     "data": {
      "image/svg+xml": [
       "<?xml version=\"1.0\" encoding=\"utf-8\"?>\n",
       "<svg xmlns=\"http://www.w3.org/2000/svg\" xmlns:xlink=\"http://www.w3.org/1999/xlink\" width=\"600\" height=\"400\" viewBox=\"0 0 2400 1600\">\n",
       "<defs>\n",
       "  <clipPath id=\"clip030\">\n",
       "    <rect x=\"0\" y=\"0\" width=\"2400\" height=\"1600\"/>\n",
       "  </clipPath>\n",
       "</defs>\n",
       "<path clip-path=\"url(#clip030)\" d=\"\n",
       "M0 1600 L2400 1600 L2400 0 L0 0  Z\n",
       "  \" fill=\"#ffffff\" fill-rule=\"evenodd\" fill-opacity=\"1\"/>\n",
       "<defs>\n",
       "  <clipPath id=\"clip031\">\n",
       "    <rect x=\"480\" y=\"0\" width=\"1681\" height=\"1600\"/>\n",
       "  </clipPath>\n",
       "</defs>\n",
       "<path clip-path=\"url(#clip030)\" d=\"\n",
       "M265.116 1486.45 L2352.76 1486.45 L2352.76 47.2441 L265.116 47.2441  Z\n",
       "  \" fill=\"#ffffff\" fill-rule=\"evenodd\" fill-opacity=\"1\"/>\n",
       "<defs>\n",
       "  <clipPath id=\"clip032\">\n",
       "    <rect x=\"265\" y=\"47\" width=\"2089\" height=\"1440\"/>\n",
       "  </clipPath>\n",
       "</defs>\n",
       "<polyline clip-path=\"url(#clip032)\" style=\"stroke:#000000; stroke-width:2; stroke-opacity:0.1; fill:none\" points=\"\n",
       "  324.2,1486.45 324.2,47.2441 \n",
       "  \"/>\n",
       "<polyline clip-path=\"url(#clip032)\" style=\"stroke:#000000; stroke-width:2; stroke-opacity:0.1; fill:none\" points=\"\n",
       "  771.807,1486.45 771.807,47.2441 \n",
       "  \"/>\n",
       "<polyline clip-path=\"url(#clip032)\" style=\"stroke:#000000; stroke-width:2; stroke-opacity:0.1; fill:none\" points=\"\n",
       "  1219.41,1486.45 1219.41,47.2441 \n",
       "  \"/>\n",
       "<polyline clip-path=\"url(#clip032)\" style=\"stroke:#000000; stroke-width:2; stroke-opacity:0.1; fill:none\" points=\"\n",
       "  1667.02,1486.45 1667.02,47.2441 \n",
       "  \"/>\n",
       "<polyline clip-path=\"url(#clip032)\" style=\"stroke:#000000; stroke-width:2; stroke-opacity:0.1; fill:none\" points=\"\n",
       "  2114.63,1486.45 2114.63,47.2441 \n",
       "  \"/>\n",
       "<polyline clip-path=\"url(#clip032)\" style=\"stroke:#000000; stroke-width:2; stroke-opacity:0.1; fill:none\" points=\"\n",
       "  265.116,1445.49 2352.76,1445.49 \n",
       "  \"/>\n",
       "<polyline clip-path=\"url(#clip032)\" style=\"stroke:#000000; stroke-width:2; stroke-opacity:0.1; fill:none\" points=\"\n",
       "  265.116,989.777 2352.76,989.777 \n",
       "  \"/>\n",
       "<polyline clip-path=\"url(#clip032)\" style=\"stroke:#000000; stroke-width:2; stroke-opacity:0.1; fill:none\" points=\"\n",
       "  265.116,534.064 2352.76,534.064 \n",
       "  \"/>\n",
       "<polyline clip-path=\"url(#clip032)\" style=\"stroke:#000000; stroke-width:2; stroke-opacity:0.1; fill:none\" points=\"\n",
       "  265.116,78.3514 2352.76,78.3514 \n",
       "  \"/>\n",
       "<polyline clip-path=\"url(#clip030)\" style=\"stroke:#000000; stroke-width:4; stroke-opacity:1; fill:none\" points=\"\n",
       "  265.116,1486.45 2352.76,1486.45 \n",
       "  \"/>\n",
       "<polyline clip-path=\"url(#clip030)\" style=\"stroke:#000000; stroke-width:4; stroke-opacity:1; fill:none\" points=\"\n",
       "  265.116,1486.45 265.116,47.2441 \n",
       "  \"/>\n",
       "<polyline clip-path=\"url(#clip030)\" style=\"stroke:#000000; stroke-width:4; stroke-opacity:1; fill:none\" points=\"\n",
       "  324.2,1486.45 324.2,1469.18 \n",
       "  \"/>\n",
       "<polyline clip-path=\"url(#clip030)\" style=\"stroke:#000000; stroke-width:4; stroke-opacity:1; fill:none\" points=\"\n",
       "  771.807,1486.45 771.807,1469.18 \n",
       "  \"/>\n",
       "<polyline clip-path=\"url(#clip030)\" style=\"stroke:#000000; stroke-width:4; stroke-opacity:1; fill:none\" points=\"\n",
       "  1219.41,1486.45 1219.41,1469.18 \n",
       "  \"/>\n",
       "<polyline clip-path=\"url(#clip030)\" style=\"stroke:#000000; stroke-width:4; stroke-opacity:1; fill:none\" points=\"\n",
       "  1667.02,1486.45 1667.02,1469.18 \n",
       "  \"/>\n",
       "<polyline clip-path=\"url(#clip030)\" style=\"stroke:#000000; stroke-width:4; stroke-opacity:1; fill:none\" points=\"\n",
       "  2114.63,1486.45 2114.63,1469.18 \n",
       "  \"/>\n",
       "<polyline clip-path=\"url(#clip030)\" style=\"stroke:#000000; stroke-width:4; stroke-opacity:1; fill:none\" points=\"\n",
       "  265.116,1445.49 290.168,1445.49 \n",
       "  \"/>\n",
       "<polyline clip-path=\"url(#clip030)\" style=\"stroke:#000000; stroke-width:4; stroke-opacity:1; fill:none\" points=\"\n",
       "  265.116,989.777 290.168,989.777 \n",
       "  \"/>\n",
       "<polyline clip-path=\"url(#clip030)\" style=\"stroke:#000000; stroke-width:4; stroke-opacity:1; fill:none\" points=\"\n",
       "  265.116,534.064 290.168,534.064 \n",
       "  \"/>\n",
       "<polyline clip-path=\"url(#clip030)\" style=\"stroke:#000000; stroke-width:4; stroke-opacity:1; fill:none\" points=\"\n",
       "  265.116,78.3514 290.168,78.3514 \n",
       "  \"/>\n",
       "<path clip-path=\"url(#clip030)\" d=\"M 0 0 M278.055 1525.04 L290.532 1525.04 L290.532 1528.83 L278.055 1528.83 L278.055 1525.04 Z\" fill=\"#000000\" fill-rule=\"evenodd\" fill-opacity=\"1\" /><path clip-path=\"url(#clip030)\" d=\"M 0 0 M296.411 1535.98 L304.05 1535.98 L304.05 1509.62 L295.74 1511.29 L295.74 1507.03 L304.004 1505.36 L308.68 1505.36 L308.68 1535.98 L316.318 1535.98 L316.318 1539.92 L296.411 1539.92 L296.411 1535.98 Z\" fill=\"#000000\" fill-rule=\"evenodd\" fill-opacity=\"1\" /><path clip-path=\"url(#clip030)\" d=\"M 0 0 M331.388 1508.44 Q327.777 1508.44 325.948 1512 Q324.142 1515.55 324.142 1522.67 Q324.142 1529.78 325.948 1533.35 Q327.777 1536.89 331.388 1536.89 Q335.022 1536.89 336.828 1533.35 Q338.656 1529.78 338.656 1522.67 Q338.656 1515.55 336.828 1512 Q335.022 1508.44 331.388 1508.44 M331.388 1504.73 Q337.198 1504.73 340.253 1509.34 Q343.332 1513.92 343.332 1522.67 Q343.332 1531.4 340.253 1536.01 Q337.198 1540.59 331.388 1540.59 Q325.578 1540.59 322.499 1536.01 Q319.443 1531.4 319.443 1522.67 Q319.443 1513.92 322.499 1509.34 Q325.578 1504.73 331.388 1504.73 Z\" fill=\"#000000\" fill-rule=\"evenodd\" fill-opacity=\"1\" /><path clip-path=\"url(#clip030)\" d=\"M 0 0 M358.402 1508.44 Q354.79 1508.44 352.962 1512 Q351.156 1515.55 351.156 1522.67 Q351.156 1529.78 352.962 1533.35 Q354.79 1536.89 358.402 1536.89 Q362.036 1536.89 363.841 1533.35 Q365.67 1529.78 365.67 1522.67 Q365.67 1515.55 363.841 1512 Q362.036 1508.44 358.402 1508.44 M358.402 1504.73 Q364.212 1504.73 367.267 1509.34 Q370.346 1513.92 370.346 1522.67 Q370.346 1531.4 367.267 1536.01 Q364.212 1540.59 358.402 1540.59 Q352.591 1540.59 349.513 1536.01 Q346.457 1531.4 346.457 1522.67 Q346.457 1513.92 349.513 1509.34 Q352.591 1504.73 358.402 1504.73 Z\" fill=\"#000000\" fill-rule=\"evenodd\" fill-opacity=\"1\" /><path clip-path=\"url(#clip030)\" d=\"M 0 0 M739.504 1525.04 L751.981 1525.04 L751.981 1528.83 L739.504 1528.83 L739.504 1525.04 Z\" fill=\"#000000\" fill-rule=\"evenodd\" fill-opacity=\"1\" /><path clip-path=\"url(#clip030)\" d=\"M 0 0 M755.87 1505.36 L778.092 1505.36 L778.092 1507.35 L765.546 1539.92 L760.662 1539.92 L772.467 1509.3 L755.87 1509.3 L755.87 1505.36 Z\" fill=\"#000000\" fill-rule=\"evenodd\" fill-opacity=\"1\" /><path clip-path=\"url(#clip030)\" d=\"M 0 0 M783.208 1505.36 L801.564 1505.36 L801.564 1509.3 L787.49 1509.3 L787.49 1517.77 Q788.509 1517.42 789.527 1517.26 Q790.546 1517.07 791.564 1517.07 Q797.351 1517.07 800.731 1520.24 Q804.111 1523.42 804.111 1528.83 Q804.111 1534.41 800.638 1537.51 Q797.166 1540.59 790.847 1540.59 Q788.671 1540.59 786.402 1540.22 Q784.157 1539.85 781.75 1539.11 L781.75 1534.41 Q783.833 1535.54 786.055 1536.1 Q788.277 1536.66 790.754 1536.66 Q794.759 1536.66 797.097 1534.55 Q799.435 1532.44 799.435 1528.83 Q799.435 1525.22 797.097 1523.11 Q794.759 1521.01 790.754 1521.01 Q788.879 1521.01 787.004 1521.42 Q785.152 1521.84 783.208 1522.72 L783.208 1505.36 Z\" fill=\"#000000\" fill-rule=\"evenodd\" fill-opacity=\"1\" /><path clip-path=\"url(#clip030)\" d=\"M 0 0 M1186.66 1525.04 L1199.14 1525.04 L1199.14 1528.83 L1186.66 1528.83 L1186.66 1525.04 Z\" fill=\"#000000\" fill-rule=\"evenodd\" fill-opacity=\"1\" /><path clip-path=\"url(#clip030)\" d=\"M 0 0 M1204.25 1505.36 L1222.61 1505.36 L1222.61 1509.3 L1208.54 1509.3 L1208.54 1517.77 Q1209.55 1517.42 1210.57 1517.26 Q1211.59 1517.07 1212.61 1517.07 Q1218.4 1517.07 1221.78 1520.24 Q1225.16 1523.42 1225.16 1528.83 Q1225.16 1534.41 1221.68 1537.51 Q1218.21 1540.59 1211.89 1540.59 Q1209.72 1540.59 1207.45 1540.22 Q1205.2 1539.85 1202.79 1539.11 L1202.79 1534.41 Q1204.88 1535.54 1207.1 1536.1 Q1209.32 1536.66 1211.8 1536.66 Q1215.8 1536.66 1218.14 1534.55 Q1220.48 1532.44 1220.48 1528.83 Q1220.48 1525.22 1218.14 1523.11 Q1215.8 1521.01 1211.8 1521.01 Q1209.92 1521.01 1208.05 1521.42 Q1206.2 1521.84 1204.25 1522.72 L1204.25 1505.36 Z\" fill=\"#000000\" fill-rule=\"evenodd\" fill-opacity=\"1\" /><path clip-path=\"url(#clip030)\" d=\"M 0 0 M1240.22 1508.44 Q1236.61 1508.44 1234.78 1512 Q1232.98 1515.55 1232.98 1522.67 Q1232.98 1529.78 1234.78 1533.35 Q1236.61 1536.89 1240.22 1536.89 Q1243.86 1536.89 1245.66 1533.35 Q1247.49 1529.78 1247.49 1522.67 Q1247.49 1515.55 1245.66 1512 Q1243.86 1508.44 1240.22 1508.44 M1240.22 1504.73 Q1246.03 1504.73 1249.09 1509.34 Q1252.17 1513.92 1252.17 1522.67 Q1252.17 1531.4 1249.09 1536.01 Q1246.03 1540.59 1240.22 1540.59 Q1234.41 1540.59 1231.34 1536.01 Q1228.28 1531.4 1228.28 1522.67 Q1228.28 1513.92 1231.34 1509.34 Q1234.41 1504.73 1240.22 1504.73 Z\" fill=\"#000000\" fill-rule=\"evenodd\" fill-opacity=\"1\" /><path clip-path=\"url(#clip030)\" d=\"M 0 0 M1635.07 1525.04 L1647.54 1525.04 L1647.54 1528.83 L1635.07 1528.83 L1635.07 1525.04 Z\" fill=\"#000000\" fill-rule=\"evenodd\" fill-opacity=\"1\" /><path clip-path=\"url(#clip030)\" d=\"M 0 0 M1656.64 1535.98 L1672.96 1535.98 L1672.96 1539.92 L1651.01 1539.92 L1651.01 1535.98 Q1653.68 1533.23 1658.26 1528.6 Q1662.87 1523.95 1664.05 1522.61 Q1666.29 1520.08 1667.17 1518.35 Q1668.07 1516.59 1668.07 1514.9 Q1668.07 1512.14 1666.13 1510.41 Q1664.21 1508.67 1661.11 1508.67 Q1658.91 1508.67 1656.45 1509.43 Q1654.02 1510.2 1651.25 1511.75 L1651.25 1507.03 Q1654.07 1505.89 1656.52 1505.31 Q1658.98 1504.73 1661.01 1504.73 Q1666.39 1504.73 1669.58 1507.42 Q1672.77 1510.11 1672.77 1514.6 Q1672.77 1516.73 1671.96 1518.65 Q1671.18 1520.54 1669.07 1523.14 Q1668.49 1523.81 1665.39 1527.03 Q1662.29 1530.22 1656.64 1535.98 Z\" fill=\"#000000\" fill-rule=\"evenodd\" fill-opacity=\"1\" /><path clip-path=\"url(#clip030)\" d=\"M 0 0 M1678.07 1505.36 L1696.43 1505.36 L1696.43 1509.3 L1682.36 1509.3 L1682.36 1517.77 Q1683.38 1517.42 1684.39 1517.26 Q1685.41 1517.07 1686.43 1517.07 Q1692.22 1517.07 1695.6 1520.24 Q1698.98 1523.42 1698.98 1528.83 Q1698.98 1534.41 1695.51 1537.51 Q1692.03 1540.59 1685.71 1540.59 Q1683.54 1540.59 1681.27 1540.22 Q1679.02 1539.85 1676.62 1539.11 L1676.62 1534.41 Q1678.7 1535.54 1680.92 1536.1 Q1683.14 1536.66 1685.62 1536.66 Q1689.63 1536.66 1691.96 1534.55 Q1694.3 1532.44 1694.3 1528.83 Q1694.3 1525.22 1691.96 1523.11 Q1689.63 1521.01 1685.62 1521.01 Q1683.75 1521.01 1681.87 1521.42 Q1680.02 1521.84 1678.07 1522.72 L1678.07 1505.36 Z\" fill=\"#000000\" fill-rule=\"evenodd\" fill-opacity=\"1\" /><path clip-path=\"url(#clip030)\" d=\"M 0 0 M2114.63 1508.44 Q2111.02 1508.44 2109.19 1512 Q2107.38 1515.55 2107.38 1522.67 Q2107.38 1529.78 2109.19 1533.35 Q2111.02 1536.89 2114.63 1536.89 Q2118.26 1536.89 2120.07 1533.35 Q2121.9 1529.78 2121.9 1522.67 Q2121.9 1515.55 2120.07 1512 Q2118.26 1508.44 2114.63 1508.44 M2114.63 1504.73 Q2120.44 1504.73 2123.49 1509.34 Q2126.57 1513.92 2126.57 1522.67 Q2126.57 1531.4 2123.49 1536.01 Q2120.44 1540.59 2114.63 1540.59 Q2108.82 1540.59 2105.74 1536.01 Q2102.68 1531.4 2102.68 1522.67 Q2102.68 1513.92 2105.74 1509.34 Q2108.82 1504.73 2114.63 1504.73 Z\" fill=\"#000000\" fill-rule=\"evenodd\" fill-opacity=\"1\" /><path clip-path=\"url(#clip030)\" d=\"M 0 0 M229.172 1431.29 Q225.561 1431.29 223.732 1434.85 Q221.926 1438.39 221.926 1445.52 Q221.926 1452.63 223.732 1456.2 Q225.561 1459.74 229.172 1459.74 Q232.806 1459.74 234.612 1456.2 Q236.44 1452.63 236.44 1445.52 Q236.44 1438.39 234.612 1434.85 Q232.806 1431.29 229.172 1431.29 M229.172 1427.58 Q234.982 1427.58 238.037 1432.19 Q241.116 1436.77 241.116 1445.52 Q241.116 1454.25 238.037 1458.86 Q234.982 1463.44 229.172 1463.44 Q223.362 1463.44 220.283 1458.86 Q217.227 1454.25 217.227 1445.52 Q217.227 1436.77 220.283 1432.19 Q223.362 1427.58 229.172 1427.58 Z\" fill=\"#000000\" fill-rule=\"evenodd\" fill-opacity=\"1\" /><path clip-path=\"url(#clip030)\" d=\"M 0 0 M58.2352 978.944 L76.5916 978.944 L76.5916 982.879 L62.5176 982.879 L62.5176 991.352 Q63.5361 991.004 64.5546 990.842 Q65.5731 990.657 66.5916 990.657 Q72.3786 990.657 75.7583 993.828 Q79.1379 997 79.1379 1002.42 Q79.1379 1008 75.6657 1011.1 Q72.1935 1014.18 65.8741 1014.18 Q63.6981 1014.18 61.4296 1013.81 Q59.1843 1013.43 56.7769 1012.69 L56.7769 1008 Q58.8602 1009.13 61.0824 1009.68 Q63.3046 1010.24 65.7815 1010.24 Q69.7861 1010.24 72.124 1008.13 Q74.462 1006.03 74.462 1002.42 Q74.462 998.805 72.124 996.699 Q69.7861 994.592 65.7815 994.592 Q63.9065 994.592 62.0315 995.009 Q60.1796 995.426 58.2352 996.305 L58.2352 978.944 Z\" fill=\"#000000\" fill-rule=\"evenodd\" fill-opacity=\"1\" /><path clip-path=\"url(#clip030)\" d=\"M 0 0 M84.2073 1007.62 L89.0915 1007.62 L89.0915 1013.5 L84.2073 1013.5 L84.2073 1007.62 Z\" fill=\"#000000\" fill-rule=\"evenodd\" fill-opacity=\"1\" /><path clip-path=\"url(#clip030)\" d=\"M 0 0 M104.161 982.023 Q100.55 982.023 98.7211 985.588 Q96.9156 989.129 96.9156 996.259 Q96.9156 1003.37 98.7211 1006.93 Q100.55 1010.47 104.161 1010.47 Q107.795 1010.47 109.601 1006.93 Q111.429 1003.37 111.429 996.259 Q111.429 989.129 109.601 985.588 Q107.795 982.023 104.161 982.023 M104.161 978.319 Q109.971 978.319 113.027 982.926 Q116.105 987.509 116.105 996.259 Q116.105 1004.99 113.027 1009.59 Q109.971 1014.18 104.161 1014.18 Q98.3507 1014.18 95.272 1009.59 Q92.2165 1004.99 92.2165 996.259 Q92.2165 987.509 95.272 982.926 Q98.3507 978.319 104.161 978.319 Z\" fill=\"#000000\" fill-rule=\"evenodd\" fill-opacity=\"1\" /><path clip-path=\"url(#clip030)\" d=\"M 0 0 M149.346 988.041 L138.767 998.666 L149.346 1009.25 L146.591 1012.05 L135.966 1001.42 L125.341 1012.05 L122.61 1009.25 L133.165 998.666 L122.61 988.041 L125.341 985.241 L135.966 995.865 L146.591 985.241 L149.346 988.041 Z\" fill=\"#000000\" fill-rule=\"evenodd\" fill-opacity=\"1\" /><path clip-path=\"url(#clip030)\" d=\"M 0 0 M155.225 1009.57 L162.864 1009.57 L162.864 983.204 L154.554 984.87 L154.554 980.611 L162.818 978.944 L167.494 978.944 L167.494 1009.57 L175.133 1009.57 L175.133 1013.5 L155.225 1013.5 L155.225 1009.57 Z\" fill=\"#000000\" fill-rule=\"evenodd\" fill-opacity=\"1\" /><path clip-path=\"url(#clip030)\" d=\"M 0 0 M190.202 982.023 Q186.591 982.023 184.762 985.588 Q182.957 989.129 182.957 996.259 Q182.957 1003.37 184.762 1006.93 Q186.591 1010.47 190.202 1010.47 Q193.836 1010.47 195.642 1006.93 Q197.471 1003.37 197.471 996.259 Q197.471 989.129 195.642 985.588 Q193.836 982.023 190.202 982.023 M190.202 978.319 Q196.012 978.319 199.068 982.926 Q202.146 987.509 202.146 996.259 Q202.146 1004.99 199.068 1009.59 Q196.012 1014.18 190.202 1014.18 Q184.392 1014.18 181.313 1009.59 Q178.258 1004.99 178.258 996.259 Q178.258 987.509 181.313 982.926 Q184.392 978.319 190.202 978.319 Z\" fill=\"#000000\" fill-rule=\"evenodd\" fill-opacity=\"1\" /><path clip-path=\"url(#clip030)\" d=\"M 0 0 M206.717 982.897 L219.976 982.897 L219.976 986.094 L202.146 986.094 L202.146 982.897 Q204.309 980.658 208.033 976.897 Q211.776 973.117 212.735 972.026 Q214.56 969.976 215.274 968.565 Q216.008 967.136 216.008 965.763 Q216.008 963.525 214.428 962.114 Q212.867 960.703 210.347 960.703 Q208.56 960.703 206.566 961.324 Q204.591 961.945 202.335 963.205 L202.335 959.368 Q204.629 958.446 206.623 957.976 Q208.616 957.506 210.271 957.506 Q214.635 957.506 217.23 959.688 Q219.826 961.869 219.826 965.518 Q219.826 967.248 219.168 968.81 Q218.528 970.352 216.817 972.458 Q216.346 973.004 213.826 975.618 Q211.306 978.213 206.717 982.897 Z\" fill=\"#000000\" fill-rule=\"evenodd\" fill-opacity=\"1\" /><path clip-path=\"url(#clip030)\" d=\"M 0 0 M224.133 958.014 L239.047 958.014 L239.047 961.211 L227.612 961.211 L227.612 968.095 Q228.44 967.813 229.267 967.681 Q230.095 967.531 230.922 967.531 Q235.624 967.531 238.37 970.107 Q241.116 972.684 241.116 977.085 Q241.116 981.618 238.295 984.138 Q235.474 986.639 230.339 986.639 Q228.571 986.639 226.728 986.338 Q224.904 986.037 222.948 985.436 L222.948 981.618 Q224.641 982.539 226.446 982.991 Q228.252 983.442 230.264 983.442 Q233.518 983.442 235.417 981.73 Q237.317 980.019 237.317 977.085 Q237.317 974.151 235.417 972.439 Q233.518 970.728 230.264 970.728 Q228.741 970.728 227.217 971.066 Q225.713 971.405 224.133 972.12 L224.133 958.014 Z\" fill=\"#000000\" fill-rule=\"evenodd\" fill-opacity=\"1\" /><path clip-path=\"url(#clip030)\" d=\"M 0 0 M58.2902 553.856 L65.929 553.856 L65.929 527.491 L57.6189 529.158 L57.6189 524.898 L65.8827 523.232 L70.5586 523.232 L70.5586 553.856 L78.1975 553.856 L78.1975 557.792 L58.2902 557.792 L58.2902 553.856 Z\" fill=\"#000000\" fill-rule=\"evenodd\" fill-opacity=\"1\" /><path clip-path=\"url(#clip030)\" d=\"M 0 0 M83.2669 551.912 L88.1511 551.912 L88.1511 557.792 L83.2669 557.792 L83.2669 551.912 Z\" fill=\"#000000\" fill-rule=\"evenodd\" fill-opacity=\"1\" /><path clip-path=\"url(#clip030)\" d=\"M 0 0 M103.22 526.31 Q99.6094 526.31 97.7807 529.875 Q95.9752 533.417 95.9752 540.546 Q95.9752 547.653 97.7807 551.218 Q99.6094 554.759 103.22 554.759 Q106.855 554.759 108.66 551.218 Q110.489 547.653 110.489 540.546 Q110.489 533.417 108.66 529.875 Q106.855 526.31 103.22 526.31 M103.22 522.607 Q109.031 522.607 112.086 527.213 Q115.165 531.796 115.165 540.546 Q115.165 549.273 112.086 553.88 Q109.031 558.463 103.22 558.463 Q97.4103 558.463 94.3317 553.88 Q91.2761 549.273 91.2761 540.546 Q91.2761 531.796 94.3317 527.213 Q97.4103 522.607 103.22 522.607 Z\" fill=\"#000000\" fill-rule=\"evenodd\" fill-opacity=\"1\" /><path clip-path=\"url(#clip030)\" d=\"M 0 0 M148.405 532.329 L137.827 542.954 L148.405 553.532 L145.651 556.333 L135.026 545.708 L124.401 556.333 L121.669 553.532 L132.225 542.954 L121.669 532.329 L124.401 529.528 L135.026 540.153 L145.651 529.528 L148.405 532.329 Z\" fill=\"#000000\" fill-rule=\"evenodd\" fill-opacity=\"1\" /><path clip-path=\"url(#clip030)\" d=\"M 0 0 M154.285 553.856 L161.924 553.856 L161.924 527.491 L153.614 529.158 L153.614 524.898 L161.878 523.232 L166.553 523.232 L166.553 553.856 L174.192 553.856 L174.192 557.792 L154.285 557.792 L154.285 553.856 Z\" fill=\"#000000\" fill-rule=\"evenodd\" fill-opacity=\"1\" /><path clip-path=\"url(#clip030)\" d=\"M 0 0 M189.262 526.31 Q185.651 526.31 183.822 529.875 Q182.016 533.417 182.016 540.546 Q182.016 547.653 183.822 551.218 Q185.651 554.759 189.262 554.759 Q192.896 554.759 194.701 551.218 Q196.53 547.653 196.53 540.546 Q196.53 533.417 194.701 529.875 Q192.896 526.31 189.262 526.31 M189.262 522.607 Q195.072 522.607 198.127 527.213 Q201.206 531.796 201.206 540.546 Q201.206 549.273 198.127 553.88 Q195.072 558.463 189.262 558.463 Q183.452 558.463 180.373 553.88 Q177.317 549.273 177.317 540.546 Q177.317 531.796 180.373 527.213 Q183.452 522.607 189.262 522.607 Z\" fill=\"#000000\" fill-rule=\"evenodd\" fill-opacity=\"1\" /><path clip-path=\"url(#clip030)\" d=\"M 0 0 M205.776 527.184 L219.036 527.184 L219.036 530.381 L201.206 530.381 L201.206 527.184 Q203.369 524.946 207.093 521.184 Q210.836 517.404 211.795 516.313 Q213.619 514.263 214.334 512.852 Q215.067 511.423 215.067 510.05 Q215.067 507.812 213.488 506.401 Q211.927 504.991 209.406 504.991 Q207.62 504.991 205.626 505.611 Q203.651 506.232 201.394 507.492 L201.394 503.655 Q203.689 502.734 205.682 502.264 Q207.676 501.793 209.331 501.793 Q213.694 501.793 216.29 503.975 Q218.885 506.157 218.885 509.806 Q218.885 511.536 218.227 513.097 Q217.588 514.639 215.876 516.746 Q215.406 517.291 212.886 519.905 Q210.365 522.501 205.776 527.184 Z\" fill=\"#000000\" fill-rule=\"evenodd\" fill-opacity=\"1\" /><path clip-path=\"url(#clip030)\" d=\"M 0 0 M231.75 514.827 Q229.192 514.827 227.687 516.576 Q226.202 518.325 226.202 521.372 Q226.202 524.4 227.687 526.168 Q229.192 527.917 231.75 527.917 Q234.308 527.917 235.794 526.168 Q237.298 524.4 237.298 521.372 Q237.298 518.325 235.794 516.576 Q234.308 514.827 231.75 514.827 M239.292 502.922 L239.292 506.383 Q237.862 505.705 236.395 505.348 Q234.947 504.991 233.518 504.991 Q229.756 504.991 227.763 507.53 Q225.788 510.069 225.506 515.203 Q226.615 513.567 228.289 512.702 Q229.963 511.818 231.976 511.818 Q236.207 511.818 238.652 514.395 Q241.116 516.952 241.116 521.372 Q241.116 525.698 238.558 528.312 Q236 530.927 231.75 530.927 Q226.879 530.927 224.302 527.203 Q221.725 523.46 221.725 516.369 Q221.725 509.711 224.885 505.762 Q228.045 501.793 233.367 501.793 Q234.797 501.793 236.245 502.076 Q237.712 502.358 239.292 502.922 Z\" fill=\"#000000\" fill-rule=\"evenodd\" fill-opacity=\"1\" /><path clip-path=\"url(#clip030)\" d=\"M 0 0 M59.2855 98.1438 L66.9244 98.1438 L66.9244 71.7782 L58.6143 73.4449 L58.6143 69.1856 L66.8781 67.519 L71.554 67.519 L71.554 98.1438 L79.1928 98.1438 L79.1928 102.079 L59.2855 102.079 L59.2855 98.1438 Z\" fill=\"#000000\" fill-rule=\"evenodd\" fill-opacity=\"1\" /><path clip-path=\"url(#clip030)\" d=\"M 0 0 M84.2623 96.1994 L89.1465 96.1994 L89.1465 102.079 L84.2623 102.079 L84.2623 96.1994 Z\" fill=\"#000000\" fill-rule=\"evenodd\" fill-opacity=\"1\" /><path clip-path=\"url(#clip030)\" d=\"M 0 0 M94.2622 67.519 L112.619 67.519 L112.619 71.4541 L98.5446 71.4541 L98.5446 79.9263 Q99.5631 79.5791 100.582 79.4171 Q101.6 79.2319 102.619 79.2319 Q108.406 79.2319 111.785 82.4032 Q115.165 85.5744 115.165 90.9911 Q115.165 96.5697 111.693 99.6716 Q108.22 102.75 101.901 102.75 Q99.7251 102.75 97.4566 102.38 Q95.2113 102.01 92.8039 101.269 L92.8039 96.5697 Q94.8872 97.704 97.1094 98.2596 Q99.3316 98.8151 101.808 98.8151 Q105.813 98.8151 108.151 96.7086 Q110.489 94.6022 110.489 90.9911 Q110.489 87.38 108.151 85.2735 Q105.813 83.167 101.808 83.167 Q99.9335 83.167 98.0585 83.5837 Q96.2066 84.0004 94.2622 84.88 L94.2622 67.519 Z\" fill=\"#000000\" fill-rule=\"evenodd\" fill-opacity=\"1\" /><path clip-path=\"url(#clip030)\" d=\"M 0 0 M148.405 76.6161 L137.827 87.2411 L148.405 97.8197 L145.651 100.621 L135.026 89.9957 L124.401 100.621 L121.669 97.8197 L132.225 87.2411 L121.669 76.6161 L124.401 73.8152 L135.026 84.4402 L145.651 73.8152 L148.405 76.6161 Z\" fill=\"#000000\" fill-rule=\"evenodd\" fill-opacity=\"1\" /><path clip-path=\"url(#clip030)\" d=\"M 0 0 M154.285 98.1438 L161.924 98.1438 L161.924 71.7782 L153.614 73.4449 L153.614 69.1856 L161.878 67.519 L166.553 67.519 L166.553 98.1438 L174.192 98.1438 L174.192 102.079 L154.285 102.079 L154.285 98.1438 Z\" fill=\"#000000\" fill-rule=\"evenodd\" fill-opacity=\"1\" /><path clip-path=\"url(#clip030)\" d=\"M 0 0 M189.262 70.5977 Q185.651 70.5977 183.822 74.1625 Q182.016 77.7041 182.016 84.8337 Q182.016 91.9401 183.822 95.5049 Q185.651 99.0466 189.262 99.0466 Q192.896 99.0466 194.701 95.5049 Q196.53 91.9401 196.53 84.8337 Q196.53 77.7041 194.701 74.1625 Q192.896 70.5977 189.262 70.5977 M189.262 66.894 Q195.072 66.894 198.127 71.5004 Q201.206 76.0837 201.206 84.8337 Q201.206 93.5605 198.127 98.167 Q195.072 102.75 189.262 102.75 Q183.452 102.75 180.373 98.167 Q177.317 93.5605 177.317 84.8337 Q177.317 76.0837 180.373 71.5004 Q183.452 66.894 189.262 66.894 Z\" fill=\"#000000\" fill-rule=\"evenodd\" fill-opacity=\"1\" /><path clip-path=\"url(#clip030)\" d=\"M 0 0 M205.776 71.4713 L219.036 71.4713 L219.036 74.6686 L201.206 74.6686 L201.206 71.4713 Q203.369 69.2331 207.093 65.4716 Q210.836 61.6912 211.795 60.6004 Q213.619 58.5503 214.334 57.1397 Q215.067 55.7103 215.067 54.3374 Q215.067 52.0993 213.488 50.6887 Q211.927 49.2781 209.406 49.2781 Q207.62 49.2781 205.626 49.8987 Q203.651 50.5194 201.394 51.7795 L201.394 47.9427 Q203.689 47.0212 205.682 46.551 Q207.676 46.0808 209.331 46.0808 Q213.694 46.0808 216.29 48.2625 Q218.885 50.4442 218.885 54.0929 Q218.885 55.8232 218.227 57.3842 Q217.588 58.9265 215.876 61.0329 Q215.406 61.5784 212.886 64.1926 Q210.365 66.7881 205.776 71.4713 Z\" fill=\"#000000\" fill-rule=\"evenodd\" fill-opacity=\"1\" /><path clip-path=\"url(#clip030)\" d=\"M 0 0 M231.75 59.1146 Q229.192 59.1146 227.687 60.8637 Q226.202 62.6128 226.202 65.6597 Q226.202 68.6877 227.687 70.4556 Q229.192 72.2048 231.75 72.2048 Q234.308 72.2048 235.794 70.4556 Q237.298 68.6877 237.298 65.6597 Q237.298 62.6128 235.794 60.8637 Q234.308 59.1146 231.75 59.1146 M239.292 47.2092 L239.292 50.6699 Q237.862 49.9928 236.395 49.6354 Q234.947 49.2781 233.518 49.2781 Q229.756 49.2781 227.763 51.8171 Q225.788 54.3562 225.506 59.4907 Q226.615 57.8544 228.289 56.9893 Q229.963 56.1053 231.976 56.1053 Q236.207 56.1053 238.652 58.682 Q241.116 61.2398 241.116 65.6597 Q241.116 69.9854 238.558 72.5997 Q236 75.214 231.75 75.214 Q226.879 75.214 224.302 71.4901 Q221.725 67.7473 221.725 60.6568 Q221.725 53.9988 224.885 50.0492 Q228.045 46.0808 233.367 46.0808 Q234.797 46.0808 236.245 46.3629 Q237.712 46.645 239.292 47.2092 Z\" fill=\"#000000\" fill-rule=\"evenodd\" fill-opacity=\"1\" /><polyline clip-path=\"url(#clip032)\" style=\"stroke:#009af9; stroke-width:4; stroke-opacity:1; fill:none\" points=\"\n",
       "  324.2,87.9763 326.172,550.842 328.143,389.77 330.115,664.002 332.086,715.364 334.058,854.573 336.029,887.204 338,978.444 339.972,914.983 341.943,1116.72 \n",
       "  343.915,991.65 345.886,1105 347.858,1205.97 349.829,1206.02 351.801,1305.67 353.772,1253.9 355.743,1228.8 357.715,1288.94 359.686,1292.27 361.658,1336.37 \n",
       "  363.629,1337.13 365.601,1374 367.572,1356.49 369.544,1365.35 371.515,1364.19 373.486,1382.34 375.458,1389.71 377.429,1394.07 379.401,1392.08 381.372,1398.74 \n",
       "  383.344,1405.32 385.315,1416.71 387.286,1418.25 389.258,1418.41 391.229,1421.79 393.201,1427.02 395.172,1431.28 397.144,1432.82 399.115,1429.19 401.087,1436.17 \n",
       "  403.058,1433.87 405.029,1434.41 407.001,1437.63 408.972,1439.08 410.944,1439.39 412.915,1439.09 414.887,1439.66 416.858,1441.1 418.83,1440.45 420.801,1441.51 \n",
       "  422.772,1440.08 424.744,1442.08 426.715,1443.55 428.687,1443.59 430.658,1443.73 432.63,1444.55 434.601,1443.92 436.573,1444.21 438.544,1444.44 440.515,1444.59 \n",
       "  442.487,1445.28 444.458,1444.49 446.43,1445.72 448.401,1445.71 450.373,1444.76 452.344,1444.78 454.316,1445.08 456.287,1445.23 458.258,1445.31 460.23,1445.15 \n",
       "  462.201,1445.24 464.173,1445.36 466.144,1445.35 468.116,1445.33 470.087,1445.25 472.059,1445.39 474.03,1445.38 476.001,1445.35 477.973,1445.4 479.944,1445.43 \n",
       "  481.916,1445.44 483.887,1445.45 485.859,1445.49 487.83,1445.47 489.802,1445.45 491.773,1445.42 493.744,1445.46 495.716,1445.45 497.687,1445.47 499.659,1445.51 \n",
       "  501.63,1445.49 503.602,1445.5 505.573,1445.47 507.545,1445.43 509.516,1445.48 511.487,1445.49 513.459,1445.48 515.43,1445.49 517.402,1445.49 519.373,1445.49 \n",
       "  521.345,1445.49 523.316,1445.48 525.287,1445.51 527.259,1445.49 529.23,1445.49 531.202,1445.49 533.173,1445.49 535.145,1445.49 537.116,1445.49 539.088,1445.49 \n",
       "  541.059,1445.49 543.03,1445.49 545.002,1445.49 546.973,1445.49 548.945,1445.49 550.916,1445.49 552.888,1445.49 554.859,1445.49 556.831,1445.49 558.802,1445.49 \n",
       "  560.773,1445.49 562.745,1445.49 564.716,1445.49 566.688,1445.49 568.659,1445.49 570.631,1445.49 572.602,1445.49 574.574,1445.49 576.545,1445.49 578.516,1445.49 \n",
       "  580.488,1445.49 582.459,1445.49 584.431,1445.49 586.402,1445.49 588.374,1445.49 590.345,1445.49 592.317,1445.49 594.288,1445.49 596.259,1445.49 598.231,1445.49 \n",
       "  600.202,1445.49 602.174,1445.49 604.145,1445.49 606.117,1445.49 608.088,1445.49 610.06,1445.49 612.031,1445.49 614.002,1445.49 615.974,1445.49 617.945,1445.49 \n",
       "  619.917,1445.49 621.888,1445.49 623.86,1445.49 625.831,1445.49 627.803,1445.49 629.774,1445.49 631.745,1445.49 633.717,1445.49 635.688,1445.49 637.66,1445.49 \n",
       "  639.631,1445.49 641.603,1445.49 643.574,1445.49 645.546,1445.49 647.517,1445.49 649.488,1445.49 651.46,1445.49 653.431,1445.49 655.403,1445.49 657.374,1445.49 \n",
       "  659.346,1445.49 661.317,1445.49 663.288,1445.49 665.26,1445.49 667.231,1445.49 669.203,1445.49 671.174,1445.49 673.146,1445.49 675.117,1445.49 677.089,1445.49 \n",
       "  679.06,1445.49 681.031,1445.49 683.003,1445.49 684.974,1445.49 686.946,1445.49 688.917,1445.49 690.889,1445.49 692.86,1445.49 694.832,1445.49 696.803,1445.49 \n",
       "  698.774,1445.49 700.746,1445.49 702.717,1445.49 704.689,1445.49 706.66,1445.49 708.632,1445.49 710.603,1445.49 712.575,1445.49 714.546,1445.49 716.517,1445.49 \n",
       "  718.489,1445.49 720.46,1445.49 722.432,1445.49 724.403,1445.49 726.375,1445.49 728.346,1445.49 730.318,1445.49 732.289,1445.49 734.26,1445.49 736.232,1445.49 \n",
       "  738.203,1445.49 740.175,1445.49 742.146,1445.49 744.118,1445.49 746.089,1445.49 748.061,1445.49 750.032,1445.49 752.003,1445.49 753.975,1445.49 755.946,1445.49 \n",
       "  757.918,1445.49 759.889,1445.49 761.861,1445.49 763.832,1445.49 765.804,1445.49 767.775,1445.49 769.746,1445.49 771.718,1445.49 773.689,1445.49 775.661,1445.49 \n",
       "  777.632,1445.49 779.604,1445.49 781.575,1445.49 783.547,1445.49 785.518,1445.49 787.489,1445.49 789.461,1445.49 791.432,1445.49 793.404,1445.49 795.375,1445.49 \n",
       "  797.347,1445.49 799.318,1445.49 801.289,1445.49 803.261,1445.49 805.232,1445.49 807.204,1445.49 809.175,1445.49 811.147,1445.49 813.118,1445.49 815.09,1445.49 \n",
       "  817.061,1445.49 819.032,1445.49 821.004,1445.49 822.975,1445.49 824.947,1445.49 826.918,1445.49 828.89,1445.49 830.861,1445.49 832.833,1445.49 834.804,1445.49 \n",
       "  836.775,1445.49 838.747,1445.49 840.718,1445.49 842.69,1445.49 844.661,1445.49 846.633,1445.49 848.604,1445.49 850.576,1445.49 852.547,1445.49 854.518,1445.49 \n",
       "  856.49,1445.49 858.461,1445.49 860.433,1445.49 862.404,1445.49 864.376,1445.49 866.347,1445.49 868.319,1445.49 870.29,1445.49 872.261,1445.49 874.233,1445.49 \n",
       "  876.204,1445.49 878.176,1445.49 880.147,1445.49 882.119,1445.49 884.09,1445.49 886.062,1445.49 888.033,1445.49 890.004,1445.49 891.976,1445.49 893.947,1445.49 \n",
       "  895.919,1445.49 897.89,1445.49 899.862,1445.49 901.833,1445.49 903.805,1445.49 905.776,1445.49 907.747,1445.49 909.719,1445.49 911.69,1445.49 913.662,1445.49 \n",
       "  915.633,1445.49 917.605,1445.49 919.576,1445.49 921.548,1445.49 923.519,1445.49 925.49,1445.49 927.462,1445.49 929.433,1445.49 931.405,1445.49 933.376,1445.49 \n",
       "  935.348,1445.49 937.319,1445.49 939.29,1445.49 941.262,1445.49 943.233,1445.49 945.205,1445.49 947.176,1445.49 949.148,1445.49 951.119,1445.49 953.091,1445.49 \n",
       "  955.062,1445.49 957.033,1445.49 959.005,1445.49 960.976,1445.49 962.948,1445.49 964.919,1445.49 966.891,1445.49 968.862,1445.49 970.834,1445.49 972.805,1445.49 \n",
       "  974.776,1445.49 976.748,1445.49 978.719,1445.49 980.691,1445.49 982.662,1445.49 984.634,1445.49 986.605,1445.49 988.577,1445.49 990.548,1445.49 992.519,1445.49 \n",
       "  994.491,1445.49 996.462,1445.49 998.434,1445.49 1000.41,1445.49 1002.38,1445.49 1004.35,1445.49 1006.32,1445.49 1008.29,1445.49 1010.26,1445.49 1012.23,1445.49 \n",
       "  1014.21,1445.49 1016.18,1445.49 1018.15,1445.49 1020.12,1445.49 1022.09,1445.49 1024.06,1445.49 1026.03,1445.49 1028.01,1445.49 1029.98,1445.49 1031.95,1445.49 \n",
       "  1033.92,1445.49 1035.89,1445.49 1037.86,1445.49 1039.83,1445.49 1041.81,1445.49 1043.78,1445.49 1045.75,1445.49 1047.72,1445.49 1049.69,1445.49 1051.66,1445.49 \n",
       "  1053.63,1445.49 1055.61,1445.49 1057.58,1445.49 1059.55,1445.49 1061.52,1445.49 1063.49,1445.49 1065.46,1445.49 1067.43,1445.49 1069.41,1445.49 1071.38,1445.49 \n",
       "  1073.35,1445.49 1075.32,1445.49 1077.29,1445.49 1079.26,1445.49 1081.23,1445.49 1083.21,1445.49 1085.18,1445.49 1087.15,1445.49 1089.12,1445.49 1091.09,1445.49 \n",
       "  1093.06,1445.49 1095.03,1445.49 1097.01,1445.49 1098.98,1445.49 1100.95,1445.49 1102.92,1445.49 1104.89,1445.49 1106.86,1445.49 1108.83,1445.49 1110.81,1445.49 \n",
       "  1112.78,1445.49 1114.75,1445.49 1116.72,1445.49 1118.69,1445.49 1120.66,1445.49 1122.63,1445.49 1124.61,1445.49 1126.58,1445.49 1128.55,1445.49 1130.52,1445.49 \n",
       "  1132.49,1445.49 1134.46,1445.49 1136.43,1445.49 1138.41,1445.49 1140.38,1445.49 1142.35,1445.49 1144.32,1445.49 1146.29,1445.49 1148.26,1445.49 1150.23,1445.49 \n",
       "  1152.21,1445.49 1154.18,1445.49 1156.15,1445.49 1158.12,1445.49 1160.09,1445.49 1162.06,1445.49 1164.03,1445.49 1166.01,1445.49 1167.98,1445.49 1169.95,1445.49 \n",
       "  1171.92,1445.49 1173.89,1445.49 1175.86,1445.49 1177.84,1445.49 1179.81,1445.49 1181.78,1445.49 1183.75,1445.49 1185.72,1445.49 1187.69,1445.49 1189.66,1445.49 \n",
       "  1191.64,1445.49 1193.61,1445.49 1195.58,1445.49 1197.55,1445.49 1199.52,1445.49 1201.49,1445.49 1203.46,1445.49 1205.44,1445.49 1207.41,1445.49 1209.38,1445.49 \n",
       "  1211.35,1445.49 1213.32,1445.49 1215.29,1445.49 1217.26,1445.49 1219.24,1445.49 1221.21,1445.49 1223.18,1445.49 1225.15,1445.49 1227.12,1445.49 1229.09,1445.49 \n",
       "  1231.06,1445.49 1233.04,1445.49 1235.01,1445.49 1236.98,1445.49 1238.95,1445.49 1240.92,1445.49 1242.89,1445.49 1244.86,1445.49 1246.84,1445.49 1248.81,1445.49 \n",
       "  1250.78,1445.49 1252.75,1445.49 1254.72,1445.49 1256.69,1445.49 1258.66,1445.49 1260.64,1445.49 1262.61,1445.49 1264.58,1445.49 1266.55,1445.49 1268.52,1445.49 \n",
       "  1270.49,1445.49 1272.46,1445.49 1274.44,1445.49 1276.41,1445.49 1278.38,1445.49 1280.35,1445.49 1282.32,1445.49 1284.29,1445.49 1286.26,1445.49 1288.24,1445.49 \n",
       "  1290.21,1445.49 1292.18,1445.49 1294.15,1445.49 1296.12,1445.49 1298.09,1445.49 1300.06,1445.49 1302.04,1445.49 1304.01,1445.49 1305.98,1445.49 1307.95,1445.49 \n",
       "  1309.92,1445.49 1311.89,1445.49 1313.86,1445.49 1315.84,1445.49 1317.81,1445.49 1319.78,1445.49 1321.75,1445.49 1323.72,1445.49 1325.69,1445.49 1327.66,1445.49 \n",
       "  1329.64,1445.49 1331.61,1445.49 1333.58,1445.49 1335.55,1445.49 1337.52,1445.49 1339.49,1445.49 1341.46,1445.49 1343.44,1445.49 1345.41,1445.49 1347.38,1445.49 \n",
       "  1349.35,1445.49 1351.32,1445.49 1353.29,1445.49 1355.26,1445.49 1357.24,1445.49 1359.21,1445.49 1361.18,1445.49 1363.15,1445.49 1365.12,1445.49 1367.09,1445.49 \n",
       "  1369.07,1445.49 1371.04,1445.49 1373.01,1445.49 1374.98,1445.49 1376.95,1445.49 1378.92,1445.49 1380.89,1445.49 1382.87,1445.49 1384.84,1445.49 1386.81,1445.49 \n",
       "  1388.78,1445.49 1390.75,1445.49 1392.72,1445.49 1394.69,1445.49 1396.67,1445.49 1398.64,1445.49 1400.61,1445.49 1402.58,1445.49 1404.55,1445.49 1406.52,1445.49 \n",
       "  1408.49,1445.49 1410.47,1445.49 1412.44,1445.49 1414.41,1445.49 1416.38,1445.49 1418.35,1445.49 1420.32,1445.49 1422.29,1445.49 1424.27,1445.49 1426.24,1445.49 \n",
       "  1428.21,1445.49 1430.18,1445.49 1432.15,1445.49 1434.12,1445.49 1436.09,1445.49 1438.07,1445.49 1440.04,1445.49 1442.01,1445.49 1443.98,1445.49 1445.95,1445.49 \n",
       "  1447.92,1445.49 1449.89,1445.49 1451.87,1445.49 1453.84,1445.49 1455.81,1445.49 1457.78,1445.49 1459.75,1445.49 1461.72,1445.49 1463.69,1445.49 1465.67,1445.49 \n",
       "  1467.64,1445.49 1469.61,1445.49 1471.58,1445.49 1473.55,1445.49 1475.52,1445.49 1477.49,1445.49 1479.47,1445.49 1481.44,1445.49 1483.41,1445.49 1485.38,1445.49 \n",
       "  1487.35,1445.49 1489.32,1445.49 1491.29,1445.49 1493.27,1445.49 1495.24,1445.49 1497.21,1445.49 1499.18,1445.49 1501.15,1445.49 1503.12,1445.49 1505.09,1445.49 \n",
       "  1507.07,1445.49 1509.04,1445.49 1511.01,1445.49 1512.98,1445.49 1514.95,1445.49 1516.92,1445.49 1518.89,1445.49 1520.87,1445.49 1522.84,1445.49 1524.81,1445.49 \n",
       "  1526.78,1445.49 1528.75,1445.49 1530.72,1445.49 1532.69,1445.49 1534.67,1445.49 1536.64,1445.49 1538.61,1445.49 1540.58,1445.49 1542.55,1445.49 1544.52,1445.49 \n",
       "  1546.49,1445.49 1548.47,1445.49 1550.44,1445.49 1552.41,1445.49 1554.38,1445.49 1556.35,1445.49 1558.32,1445.49 1560.3,1445.49 1562.27,1445.49 1564.24,1445.49 \n",
       "  1566.21,1445.49 1568.18,1445.49 1570.15,1445.49 1572.12,1445.49 1574.1,1445.49 1576.07,1445.49 1578.04,1445.49 1580.01,1445.49 1581.98,1445.49 1583.95,1445.49 \n",
       "  1585.92,1445.49 1587.9,1445.49 1589.87,1445.49 1591.84,1445.49 1593.81,1445.49 1595.78,1445.49 1597.75,1445.49 1599.72,1445.49 1601.7,1445.49 1603.67,1445.49 \n",
       "  1605.64,1445.49 1607.61,1445.49 1609.58,1445.49 1611.55,1445.49 1613.52,1445.49 1615.5,1445.49 1617.47,1445.49 1619.44,1445.49 1621.41,1445.49 1623.38,1445.49 \n",
       "  1625.35,1445.49 1627.32,1445.49 1629.3,1445.49 1631.27,1445.49 1633.24,1445.49 1635.21,1445.49 1637.18,1445.49 1639.15,1445.49 1641.12,1445.49 1643.1,1445.49 \n",
       "  1645.07,1445.49 1647.04,1445.49 1649.01,1445.49 1650.98,1445.49 1652.95,1445.49 1654.92,1445.49 1656.9,1445.49 1658.87,1445.49 1660.84,1445.49 1662.81,1445.49 \n",
       "  1664.78,1445.49 1666.75,1445.49 1668.72,1445.49 1670.7,1445.49 1672.67,1445.49 1674.64,1445.49 1676.61,1445.49 1678.58,1445.49 1680.55,1445.49 1682.52,1445.49 \n",
       "  1684.5,1445.49 1686.47,1445.49 1688.44,1445.49 1690.41,1445.49 1692.38,1445.49 1694.35,1445.49 1696.32,1445.49 1698.3,1445.49 1700.27,1445.49 1702.24,1445.49 \n",
       "  1704.21,1445.49 1706.18,1445.49 1708.15,1445.49 1710.12,1445.49 1712.1,1445.49 1714.07,1445.49 1716.04,1445.49 1718.01,1445.49 1719.98,1445.49 1721.95,1445.49 \n",
       "  1723.92,1445.49 1725.9,1445.49 1727.87,1445.49 1729.84,1445.49 1731.81,1445.49 1733.78,1445.49 1735.75,1445.49 1737.72,1445.49 1739.7,1445.49 1741.67,1445.49 \n",
       "  1743.64,1445.49 1745.61,1445.49 1747.58,1445.49 1749.55,1445.49 1751.52,1445.49 1753.5,1445.49 1755.47,1445.49 1757.44,1445.49 1759.41,1445.49 1761.38,1445.49 \n",
       "  1763.35,1445.49 1765.33,1445.49 1767.3,1445.49 1769.27,1445.49 1771.24,1445.49 1773.21,1445.49 1775.18,1445.49 1777.15,1445.49 1779.13,1445.49 1781.1,1445.49 \n",
       "  1783.07,1445.49 1785.04,1445.49 1787.01,1445.49 1788.98,1445.49 1790.95,1445.49 1792.93,1445.49 1794.9,1445.49 1796.87,1445.49 1798.84,1445.49 1800.81,1445.49 \n",
       "  1802.78,1445.49 1804.75,1445.49 1806.73,1445.49 1808.7,1445.49 1810.67,1445.49 1812.64,1445.49 1814.61,1445.49 1816.58,1445.49 1818.55,1445.49 1820.53,1445.49 \n",
       "  1822.5,1445.49 1824.47,1445.49 1826.44,1445.49 1828.41,1445.49 1830.38,1445.49 1832.35,1445.49 1834.33,1445.49 1836.3,1445.49 1838.27,1445.49 1840.24,1445.49 \n",
       "  1842.21,1445.49 1844.18,1445.49 1846.15,1445.49 1848.13,1445.49 1850.1,1445.49 1852.07,1445.49 1854.04,1445.49 1856.01,1445.49 1857.98,1445.49 1859.95,1445.49 \n",
       "  1861.93,1445.49 1863.9,1445.49 1865.87,1445.49 1867.84,1445.49 1869.81,1445.49 1871.78,1445.49 1873.75,1445.49 1875.73,1445.49 1877.7,1445.49 1879.67,1445.49 \n",
       "  1881.64,1445.49 1883.61,1445.49 1885.58,1445.49 1887.55,1445.49 1889.53,1445.49 1891.5,1445.49 1893.47,1445.49 1895.44,1445.49 1897.41,1445.49 1899.38,1445.49 \n",
       "  1901.35,1445.49 1903.33,1445.49 1905.3,1445.49 1907.27,1445.49 1909.24,1445.49 1911.21,1445.49 1913.18,1445.49 1915.15,1445.49 1917.13,1445.49 1919.1,1445.49 \n",
       "  1921.07,1445.49 1923.04,1445.49 1925.01,1445.49 1926.98,1445.49 1928.95,1445.49 1930.93,1445.49 1932.9,1445.49 1934.87,1445.49 1936.84,1445.49 1938.81,1445.49 \n",
       "  1940.78,1445.49 1942.75,1445.49 1944.73,1445.49 1946.7,1445.49 1948.67,1445.49 1950.64,1445.49 1952.61,1445.49 1954.58,1445.49 1956.56,1445.49 1958.53,1445.49 \n",
       "  1960.5,1445.49 1962.47,1445.49 1964.44,1445.49 1966.41,1445.49 1968.38,1445.49 1970.36,1445.49 1972.33,1445.49 1974.3,1445.49 1976.27,1445.49 1978.24,1445.49 \n",
       "  1980.21,1445.49 1982.18,1445.49 1984.16,1445.49 1986.13,1445.49 1988.1,1445.49 1990.07,1445.49 1992.04,1445.49 1994.01,1445.49 1995.98,1445.49 1997.96,1445.49 \n",
       "  1999.93,1445.49 2001.9,1445.49 2003.87,1445.49 2005.84,1445.49 2007.81,1445.49 2009.78,1445.49 2011.76,1445.49 2013.73,1445.49 2015.7,1445.49 2017.67,1445.49 \n",
       "  2019.64,1445.49 2021.61,1445.49 2023.58,1445.49 2025.56,1445.49 2027.53,1445.49 2029.5,1445.49 2031.47,1445.49 2033.44,1445.49 2035.41,1445.49 2037.38,1445.49 \n",
       "  2039.36,1445.49 2041.33,1445.49 2043.3,1445.49 2045.27,1445.49 2047.24,1445.49 2049.21,1445.49 2051.18,1445.49 2053.16,1445.49 2055.13,1445.49 2057.1,1445.49 \n",
       "  2059.07,1445.49 2061.04,1445.49 2063.01,1445.49 2064.98,1445.49 2066.96,1445.49 2068.93,1445.49 2070.9,1445.49 2072.87,1445.49 2074.84,1445.49 2076.81,1445.49 \n",
       "  2078.78,1445.49 2080.76,1445.49 2082.73,1445.49 2084.7,1445.49 2086.67,1445.49 2088.64,1445.49 2090.61,1445.49 2092.58,1445.49 2094.56,1445.49 2096.53,1445.49 \n",
       "  2098.5,1445.49 2100.47,1445.49 2102.44,1445.49 2104.41,1445.49 2106.38,1445.49 2108.36,1445.49 2110.33,1445.49 2112.3,1445.49 2114.27,1445.49 2116.24,1445.49 \n",
       "  2118.21,1445.49 2120.18,1445.49 2122.16,1445.49 2124.13,1445.49 2126.1,1445.49 2128.07,1445.49 2130.04,1445.49 2132.01,1445.49 2133.98,1445.49 2135.96,1445.49 \n",
       "  2137.93,1445.49 2139.9,1445.49 2141.87,1445.49 2143.84,1445.49 2145.81,1445.49 2147.78,1445.49 2149.76,1445.49 2151.73,1445.49 2153.7,1445.49 2155.67,1445.49 \n",
       "  2157.64,1445.49 2159.61,1445.49 2161.59,1445.49 2163.56,1445.49 2165.53,1445.49 2167.5,1445.49 2169.47,1445.49 2171.44,1445.49 2173.41,1445.49 2175.39,1445.49 \n",
       "  2177.36,1445.49 2179.33,1445.49 2181.3,1445.49 2183.27,1445.49 2185.24,1445.49 2187.21,1445.49 2189.19,1445.49 2191.16,1445.49 2193.13,1445.49 2195.1,1445.49 \n",
       "  2197.07,1445.49 2199.04,1445.49 2201.01,1445.49 2202.99,1445.49 2204.96,1445.49 2206.93,1445.49 2208.9,1445.49 2210.87,1445.49 2212.84,1445.49 2214.81,1445.49 \n",
       "  2216.79,1445.49 2218.76,1445.49 2220.73,1445.49 2222.7,1445.49 2224.67,1445.49 2226.64,1445.49 2228.61,1445.49 2230.59,1445.49 2232.56,1445.49 2234.53,1445.49 \n",
       "  2236.5,1445.49 2238.47,1445.49 2240.44,1445.49 2242.41,1445.49 2244.39,1445.49 2246.36,1445.49 2248.33,1445.49 2250.3,1445.49 2252.27,1445.49 2254.24,1445.49 \n",
       "  2256.21,1445.49 2258.19,1445.49 2260.16,1445.49 2262.13,1445.49 2264.1,1445.49 2266.07,1445.49 2268.04,1445.49 2270.01,1445.49 2271.99,1445.49 2273.96,1445.49 \n",
       "  2275.93,1445.49 2277.9,1445.49 2279.87,1445.49 2281.84,1445.49 2283.81,1445.49 2285.79,1445.49 2287.76,1445.49 2289.73,1445.49 2291.7,1445.49 2293.67,1445.49 \n",
       "  \n",
       "  \"/>\n",
       "<path clip-path=\"url(#clip030)\" d=\"\n",
       "M1989.74 251.724 L2280.76 251.724 L2280.76 130.764 L1989.74 130.764  Z\n",
       "  \" fill=\"#ffffff\" fill-rule=\"evenodd\" fill-opacity=\"1\"/>\n",
       "<polyline clip-path=\"url(#clip030)\" style=\"stroke:#000000; stroke-width:4; stroke-opacity:1; fill:none\" points=\"\n",
       "  1989.74,251.724 2280.76,251.724 2280.76,130.764 1989.74,130.764 1989.74,251.724 \n",
       "  \"/>\n",
       "<polyline clip-path=\"url(#clip030)\" style=\"stroke:#009af9; stroke-width:4; stroke-opacity:1; fill:none\" points=\"\n",
       "  2013.74,191.244 2157.74,191.244 \n",
       "  \"/>\n",
       "<path clip-path=\"url(#clip030)\" d=\"M 0 0 M2195.58 210.931 Q2193.77 215.561 2192.06 216.973 Q2190.35 218.385 2187.48 218.385 L2184.08 218.385 L2184.08 214.82 L2186.58 214.82 Q2188.33 214.82 2189.31 213.987 Q2190.28 213.154 2191.46 210.052 L2192.22 208.107 L2181.74 182.598 L2186.25 182.598 L2194.35 202.876 L2202.46 182.598 L2206.97 182.598 L2195.58 210.931 Z\" fill=\"#000000\" fill-rule=\"evenodd\" fill-opacity=\"1\" /><path clip-path=\"url(#clip030)\" d=\"M 0 0 M2212.85 204.589 L2220.49 204.589 L2220.49 178.223 L2212.18 179.89 L2212.18 175.631 L2220.44 173.964 L2225.12 173.964 L2225.12 204.589 L2232.76 204.589 L2232.76 208.524 L2212.85 208.524 L2212.85 204.589 Z\" fill=\"#000000\" fill-rule=\"evenodd\" fill-opacity=\"1\" /></svg>\n"
      ]
     },
     "execution_count": 21,
     "metadata": {},
     "output_type": "execute_result"
    }
   ],
   "source": [
    "Plots.plot(\n",
    "    range(-100.0, 10.0, length = 1000),\n",
    "    t -> beta_mgf_v4(α, β, t),\n",
    ")"
   ]
  },
  {
   "cell_type": "markdown",
   "metadata": {},
   "source": [
    "In V3, we're failing the lower bound of $e^t$ check. In V4, we're failing monotonicity."
   ]
  },
  {
   "cell_type": "markdown",
   "metadata": {},
   "source": [
    "### Inspecting Partial Sums"
   ]
  },
  {
   "cell_type": "markdown",
   "metadata": {},
   "source": [
    "At this point, it became clear to me that I needed to evaluate the partial sums for a range of values of `k_max` and see what was happening."
   ]
  },
  {
   "cell_type": "code",
   "execution_count": 22,
   "metadata": {},
   "outputs": [
    {
     "data": {
      "text/plain": [
       "beta_mgf_v5 (generic function with 2 methods)"
      ]
     },
     "execution_count": 22,
     "metadata": {},
     "output_type": "execute_result"
    }
   ],
   "source": [
    "function beta_mgf_v5(α::Number, β::Number, t::Number, k_max::Integer = 1_000)\n",
    "    s = one(t)\n",
    "    p = zero(t)\n",
    "    k = 0\n",
    "    converged = false\n",
    "    while !converged\n",
    "        k += 1\n",
    "        r = k - 1\n",
    "        p += log(α + r) - log(α + β + r)\n",
    "        term = sign(t)^k * exp(p - lgamma(k + 1) + k * log(abs(t)))\n",
    "        if k > k_max\n",
    "            converged = true\n",
    "        else\n",
    "            s += term\n",
    "        end\n",
    "    end\n",
    "    s\n",
    "end"
   ]
  },
  {
   "cell_type": "code",
   "execution_count": 23,
   "metadata": {},
   "outputs": [
    {
     "data": {
      "image/svg+xml": [
       "<?xml version=\"1.0\" encoding=\"utf-8\"?>\n",
       "<svg xmlns=\"http://www.w3.org/2000/svg\" xmlns:xlink=\"http://www.w3.org/1999/xlink\" width=\"600\" height=\"400\" viewBox=\"0 0 2400 1600\">\n",
       "<defs>\n",
       "  <clipPath id=\"clip070\">\n",
       "    <rect x=\"0\" y=\"0\" width=\"2400\" height=\"1600\"/>\n",
       "  </clipPath>\n",
       "</defs>\n",
       "<path clip-path=\"url(#clip070)\" d=\"\n",
       "M0 1600 L2400 1600 L2400 0 L0 0  Z\n",
       "  \" fill=\"#ffffff\" fill-rule=\"evenodd\" fill-opacity=\"1\"/>\n",
       "<defs>\n",
       "  <clipPath id=\"clip071\">\n",
       "    <rect x=\"480\" y=\"0\" width=\"1681\" height=\"1600\"/>\n",
       "  </clipPath>\n",
       "</defs>\n",
       "<path clip-path=\"url(#clip070)\" d=\"\n",
       "M245.07 1486.45 L2352.76 1486.45 L2352.76 47.2441 L245.07 47.2441  Z\n",
       "  \" fill=\"#ffffff\" fill-rule=\"evenodd\" fill-opacity=\"1\"/>\n",
       "<defs>\n",
       "  <clipPath id=\"clip072\">\n",
       "    <rect x=\"245\" y=\"47\" width=\"2109\" height=\"1440\"/>\n",
       "  </clipPath>\n",
       "</defs>\n",
       "<polyline clip-path=\"url(#clip072)\" style=\"stroke:#000000; stroke-width:2; stroke-opacity:0.1; fill:none\" points=\"\n",
       "  284.637,1486.45 284.637,47.2441 \n",
       "  \"/>\n",
       "<polyline clip-path=\"url(#clip072)\" style=\"stroke:#000000; stroke-width:2; stroke-opacity:0.1; fill:none\" points=\"\n",
       "  786.754,1486.45 786.754,47.2441 \n",
       "  \"/>\n",
       "<polyline clip-path=\"url(#clip072)\" style=\"stroke:#000000; stroke-width:2; stroke-opacity:0.1; fill:none\" points=\"\n",
       "  1288.87,1486.45 1288.87,47.2441 \n",
       "  \"/>\n",
       "<polyline clip-path=\"url(#clip072)\" style=\"stroke:#000000; stroke-width:2; stroke-opacity:0.1; fill:none\" points=\"\n",
       "  1790.99,1486.45 1790.99,47.2441 \n",
       "  \"/>\n",
       "<polyline clip-path=\"url(#clip072)\" style=\"stroke:#000000; stroke-width:2; stroke-opacity:0.1; fill:none\" points=\"\n",
       "  2293.1,1486.45 2293.1,47.2441 \n",
       "  \"/>\n",
       "<polyline clip-path=\"url(#clip072)\" style=\"stroke:#000000; stroke-width:2; stroke-opacity:0.1; fill:none\" points=\"\n",
       "  245.07,1368.6 2352.76,1368.6 \n",
       "  \"/>\n",
       "<polyline clip-path=\"url(#clip072)\" style=\"stroke:#000000; stroke-width:2; stroke-opacity:0.1; fill:none\" points=\"\n",
       "  245.07,1166.97 2352.76,1166.97 \n",
       "  \"/>\n",
       "<polyline clip-path=\"url(#clip072)\" style=\"stroke:#000000; stroke-width:2; stroke-opacity:0.1; fill:none\" points=\"\n",
       "  245.07,965.337 2352.76,965.337 \n",
       "  \"/>\n",
       "<polyline clip-path=\"url(#clip072)\" style=\"stroke:#000000; stroke-width:2; stroke-opacity:0.1; fill:none\" points=\"\n",
       "  245.07,763.708 2352.76,763.708 \n",
       "  \"/>\n",
       "<polyline clip-path=\"url(#clip072)\" style=\"stroke:#000000; stroke-width:2; stroke-opacity:0.1; fill:none\" points=\"\n",
       "  245.07,562.078 2352.76,562.078 \n",
       "  \"/>\n",
       "<polyline clip-path=\"url(#clip072)\" style=\"stroke:#000000; stroke-width:2; stroke-opacity:0.1; fill:none\" points=\"\n",
       "  245.07,360.449 2352.76,360.449 \n",
       "  \"/>\n",
       "<polyline clip-path=\"url(#clip072)\" style=\"stroke:#000000; stroke-width:2; stroke-opacity:0.1; fill:none\" points=\"\n",
       "  245.07,158.819 2352.76,158.819 \n",
       "  \"/>\n",
       "<polyline clip-path=\"url(#clip070)\" style=\"stroke:#000000; stroke-width:4; stroke-opacity:1; fill:none\" points=\"\n",
       "  245.07,1486.45 2352.76,1486.45 \n",
       "  \"/>\n",
       "<polyline clip-path=\"url(#clip070)\" style=\"stroke:#000000; stroke-width:4; stroke-opacity:1; fill:none\" points=\"\n",
       "  245.07,1486.45 245.07,47.2441 \n",
       "  \"/>\n",
       "<polyline clip-path=\"url(#clip070)\" style=\"stroke:#000000; stroke-width:4; stroke-opacity:1; fill:none\" points=\"\n",
       "  284.637,1486.45 284.637,1469.18 \n",
       "  \"/>\n",
       "<polyline clip-path=\"url(#clip070)\" style=\"stroke:#000000; stroke-width:4; stroke-opacity:1; fill:none\" points=\"\n",
       "  786.754,1486.45 786.754,1469.18 \n",
       "  \"/>\n",
       "<polyline clip-path=\"url(#clip070)\" style=\"stroke:#000000; stroke-width:4; stroke-opacity:1; fill:none\" points=\"\n",
       "  1288.87,1486.45 1288.87,1469.18 \n",
       "  \"/>\n",
       "<polyline clip-path=\"url(#clip070)\" style=\"stroke:#000000; stroke-width:4; stroke-opacity:1; fill:none\" points=\"\n",
       "  1790.99,1486.45 1790.99,1469.18 \n",
       "  \"/>\n",
       "<polyline clip-path=\"url(#clip070)\" style=\"stroke:#000000; stroke-width:4; stroke-opacity:1; fill:none\" points=\"\n",
       "  2293.1,1486.45 2293.1,1469.18 \n",
       "  \"/>\n",
       "<polyline clip-path=\"url(#clip070)\" style=\"stroke:#000000; stroke-width:4; stroke-opacity:1; fill:none\" points=\"\n",
       "  245.07,1368.6 270.362,1368.6 \n",
       "  \"/>\n",
       "<polyline clip-path=\"url(#clip070)\" style=\"stroke:#000000; stroke-width:4; stroke-opacity:1; fill:none\" points=\"\n",
       "  245.07,1166.97 270.362,1166.97 \n",
       "  \"/>\n",
       "<polyline clip-path=\"url(#clip070)\" style=\"stroke:#000000; stroke-width:4; stroke-opacity:1; fill:none\" points=\"\n",
       "  245.07,965.337 270.362,965.337 \n",
       "  \"/>\n",
       "<polyline clip-path=\"url(#clip070)\" style=\"stroke:#000000; stroke-width:4; stroke-opacity:1; fill:none\" points=\"\n",
       "  245.07,763.708 270.362,763.708 \n",
       "  \"/>\n",
       "<polyline clip-path=\"url(#clip070)\" style=\"stroke:#000000; stroke-width:4; stroke-opacity:1; fill:none\" points=\"\n",
       "  245.07,562.078 270.362,562.078 \n",
       "  \"/>\n",
       "<polyline clip-path=\"url(#clip070)\" style=\"stroke:#000000; stroke-width:4; stroke-opacity:1; fill:none\" points=\"\n",
       "  245.07,360.449 270.362,360.449 \n",
       "  \"/>\n",
       "<polyline clip-path=\"url(#clip070)\" style=\"stroke:#000000; stroke-width:4; stroke-opacity:1; fill:none\" points=\"\n",
       "  245.07,158.819 270.362,158.819 \n",
       "  \"/>\n",
       "<path clip-path=\"url(#clip070)\" d=\"M 0 0 M284.637 1508.44 Q281.026 1508.44 279.197 1512 Q277.391 1515.55 277.391 1522.67 Q277.391 1529.78 279.197 1533.35 Q281.026 1536.89 284.637 1536.89 Q288.271 1536.89 290.077 1533.35 Q291.905 1529.78 291.905 1522.67 Q291.905 1515.55 290.077 1512 Q288.271 1508.44 284.637 1508.44 M284.637 1504.73 Q290.447 1504.73 293.502 1509.34 Q296.581 1513.92 296.581 1522.67 Q296.581 1531.4 293.502 1536.01 Q290.447 1540.59 284.637 1540.59 Q278.827 1540.59 275.748 1536.01 Q272.692 1531.4 272.692 1522.67 Q272.692 1513.92 275.748 1509.34 Q278.827 1504.73 284.637 1504.73 Z\" fill=\"#000000\" fill-rule=\"evenodd\" fill-opacity=\"1\" /><path clip-path=\"url(#clip070)\" d=\"M 0 0 M768.397 1535.98 L784.717 1535.98 L784.717 1539.92 L762.772 1539.92 L762.772 1535.98 Q765.434 1533.23 770.018 1528.6 Q774.624 1523.95 775.805 1522.61 Q778.05 1520.08 778.93 1518.35 Q779.832 1516.59 779.832 1514.9 Q779.832 1512.14 777.888 1510.41 Q775.967 1508.67 772.865 1508.67 Q770.666 1508.67 768.212 1509.43 Q765.782 1510.2 763.004 1511.75 L763.004 1507.03 Q765.828 1505.89 768.282 1505.31 Q770.735 1504.73 772.772 1504.73 Q778.143 1504.73 781.337 1507.42 Q784.531 1510.11 784.531 1514.6 Q784.531 1516.73 783.721 1518.65 Q782.934 1520.54 780.828 1523.14 Q780.249 1523.81 777.147 1527.03 Q774.045 1530.22 768.397 1535.98 Z\" fill=\"#000000\" fill-rule=\"evenodd\" fill-opacity=\"1\" /><path clip-path=\"url(#clip070)\" d=\"M 0 0 M789.832 1505.36 L808.189 1505.36 L808.189 1509.3 L794.115 1509.3 L794.115 1517.77 Q795.133 1517.42 796.152 1517.26 Q797.17 1517.07 798.189 1517.07 Q803.976 1517.07 807.355 1520.24 Q810.735 1523.42 810.735 1528.83 Q810.735 1534.41 807.263 1537.51 Q803.791 1540.59 797.471 1540.59 Q795.295 1540.59 793.027 1540.22 Q790.781 1539.85 788.374 1539.11 L788.374 1534.41 Q790.457 1535.54 792.68 1536.1 Q794.902 1536.66 797.379 1536.66 Q801.383 1536.66 803.721 1534.55 Q806.059 1532.44 806.059 1528.83 Q806.059 1525.22 803.721 1523.11 Q801.383 1521.01 797.379 1521.01 Q795.504 1521.01 793.629 1521.42 Q791.777 1521.84 789.832 1522.72 L789.832 1505.36 Z\" fill=\"#000000\" fill-rule=\"evenodd\" fill-opacity=\"1\" /><path clip-path=\"url(#clip070)\" d=\"M 0 0 M1265.64 1505.36 L1284 1505.36 L1284 1509.3 L1269.92 1509.3 L1269.92 1517.77 Q1270.94 1517.42 1271.96 1517.26 Q1272.98 1517.07 1274 1517.07 Q1279.79 1517.07 1283.16 1520.24 Q1286.54 1523.42 1286.54 1528.83 Q1286.54 1534.41 1283.07 1537.51 Q1279.6 1540.59 1273.28 1540.59 Q1271.1 1540.59 1268.84 1540.22 Q1266.59 1539.85 1264.18 1539.11 L1264.18 1534.41 Q1266.27 1535.54 1268.49 1536.1 Q1270.71 1536.66 1273.19 1536.66 Q1277.19 1536.66 1279.53 1534.55 Q1281.87 1532.44 1281.87 1528.83 Q1281.87 1525.22 1279.53 1523.11 Q1277.19 1521.01 1273.19 1521.01 Q1271.31 1521.01 1269.44 1521.42 Q1267.59 1521.84 1265.64 1522.72 L1265.64 1505.36 Z\" fill=\"#000000\" fill-rule=\"evenodd\" fill-opacity=\"1\" /><path clip-path=\"url(#clip070)\" d=\"M 0 0 M1301.61 1508.44 Q1298 1508.44 1296.17 1512 Q1294.37 1515.55 1294.37 1522.67 Q1294.37 1529.78 1296.17 1533.35 Q1298 1536.89 1301.61 1536.89 Q1305.25 1536.89 1307.05 1533.35 Q1308.88 1529.78 1308.88 1522.67 Q1308.88 1515.55 1307.05 1512 Q1305.25 1508.44 1301.61 1508.44 M1301.61 1504.73 Q1307.42 1504.73 1310.48 1509.34 Q1313.56 1513.92 1313.56 1522.67 Q1313.56 1531.4 1310.48 1536.01 Q1307.42 1540.59 1301.61 1540.59 Q1295.8 1540.59 1292.72 1536.01 Q1289.67 1531.4 1289.67 1522.67 Q1289.67 1513.92 1292.72 1509.34 Q1295.8 1504.73 1301.61 1504.73 Z\" fill=\"#000000\" fill-rule=\"evenodd\" fill-opacity=\"1\" /><path clip-path=\"url(#clip070)\" d=\"M 0 0 M1766.87 1505.36 L1789.09 1505.36 L1789.09 1507.35 L1776.54 1539.92 L1771.66 1539.92 L1783.46 1509.3 L1766.87 1509.3 L1766.87 1505.36 Z\" fill=\"#000000\" fill-rule=\"evenodd\" fill-opacity=\"1\" /><path clip-path=\"url(#clip070)\" d=\"M 0 0 M1794.21 1505.36 L1812.56 1505.36 L1812.56 1509.3 L1798.49 1509.3 L1798.49 1517.77 Q1799.51 1517.42 1800.52 1517.26 Q1801.54 1517.07 1802.56 1517.07 Q1808.35 1517.07 1811.73 1520.24 Q1815.11 1523.42 1815.11 1528.83 Q1815.11 1534.41 1811.64 1537.51 Q1808.16 1540.59 1801.84 1540.59 Q1799.67 1540.59 1797.4 1540.22 Q1795.15 1539.85 1792.75 1539.11 L1792.75 1534.41 Q1794.83 1535.54 1797.05 1536.1 Q1799.27 1536.66 1801.75 1536.66 Q1805.76 1536.66 1808.09 1534.55 Q1810.43 1532.44 1810.43 1528.83 Q1810.43 1525.22 1808.09 1523.11 Q1805.76 1521.01 1801.75 1521.01 Q1799.88 1521.01 1798 1521.42 Q1796.15 1521.84 1794.21 1522.72 L1794.21 1505.36 Z\" fill=\"#000000\" fill-rule=\"evenodd\" fill-opacity=\"1\" /><path clip-path=\"url(#clip070)\" d=\"M 0 0 M2256.47 1535.98 L2264.11 1535.98 L2264.11 1509.62 L2255.8 1511.29 L2255.8 1507.03 L2264.07 1505.36 L2268.74 1505.36 L2268.74 1535.98 L2276.38 1535.98 L2276.38 1539.92 L2256.47 1539.92 L2256.47 1535.98 Z\" fill=\"#000000\" fill-rule=\"evenodd\" fill-opacity=\"1\" /><path clip-path=\"url(#clip070)\" d=\"M 0 0 M2291.45 1508.44 Q2287.84 1508.44 2286.01 1512 Q2284.2 1515.55 2284.2 1522.67 Q2284.2 1529.78 2286.01 1533.35 Q2287.84 1536.89 2291.45 1536.89 Q2295.08 1536.89 2296.89 1533.35 Q2298.72 1529.78 2298.72 1522.67 Q2298.72 1515.55 2296.89 1512 Q2295.08 1508.44 2291.45 1508.44 M2291.45 1504.73 Q2297.26 1504.73 2300.32 1509.34 Q2303.39 1513.92 2303.39 1522.67 Q2303.39 1531.4 2300.32 1536.01 Q2297.26 1540.59 2291.45 1540.59 Q2285.64 1540.59 2282.56 1536.01 Q2279.5 1531.4 2279.5 1522.67 Q2279.5 1513.92 2282.56 1509.34 Q2285.64 1504.73 2291.45 1504.73 Z\" fill=\"#000000\" fill-rule=\"evenodd\" fill-opacity=\"1\" /><path clip-path=\"url(#clip070)\" d=\"M 0 0 M2318.46 1508.44 Q2314.85 1508.44 2313.02 1512 Q2311.22 1515.55 2311.22 1522.67 Q2311.22 1529.78 2313.02 1533.35 Q2314.85 1536.89 2318.46 1536.89 Q2322.1 1536.89 2323.9 1533.35 Q2325.73 1529.78 2325.73 1522.67 Q2325.73 1515.55 2323.9 1512 Q2322.1 1508.44 2318.46 1508.44 M2318.46 1504.73 Q2324.27 1504.73 2327.33 1509.34 Q2330.41 1513.92 2330.41 1522.67 Q2330.41 1531.4 2327.33 1536.01 Q2324.27 1540.59 2318.46 1540.59 Q2312.65 1540.59 2309.57 1536.01 Q2306.52 1531.4 2306.52 1522.67 Q2306.52 1513.92 2309.57 1509.34 Q2312.65 1504.73 2318.46 1504.73 Z\" fill=\"#000000\" fill-rule=\"evenodd\" fill-opacity=\"1\" /><path clip-path=\"url(#clip070)\" d=\"M 0 0 M44.6632 1377.44 L57.14 1377.44 L57.14 1381.24 L44.6632 1381.24 L44.6632 1377.44 Z\" fill=\"#000000\" fill-rule=\"evenodd\" fill-opacity=\"1\" /><path clip-path=\"url(#clip070)\" d=\"M 0 0 M89.9639 1373.69 Q93.3204 1374.41 95.1954 1376.68 Q97.0935 1378.94 97.0935 1382.28 Q97.0935 1387.39 93.575 1390.19 Q90.0565 1392.99 83.5751 1392.99 Q81.3991 1392.99 79.0843 1392.56 Q76.7927 1392.14 74.339 1391.28 L74.339 1386.77 Q76.2834 1387.9 78.5982 1388.48 Q80.913 1389.06 83.4362 1389.06 Q87.8343 1389.06 90.126 1387.32 Q92.4408 1385.59 92.4408 1382.28 Q92.4408 1379.22 90.288 1377.51 Q88.1584 1375.77 84.3389 1375.77 L80.3112 1375.77 L80.3112 1371.93 L84.5241 1371.93 Q87.9732 1371.93 89.8019 1370.56 Q91.6306 1369.18 91.6306 1366.58 Q91.6306 1363.92 89.7324 1362.51 Q87.8574 1361.07 84.3389 1361.07 Q82.4177 1361.07 80.2186 1361.49 Q78.0195 1361.91 75.3807 1362.79 L75.3807 1358.62 Q78.0427 1357.88 80.3575 1357.51 Q82.6954 1357.14 84.7556 1357.14 Q90.0797 1357.14 93.1815 1359.57 Q96.2833 1361.98 96.2833 1366.1 Q96.2833 1368.97 94.6398 1370.96 Q92.9963 1372.93 89.9639 1373.69 Z\" fill=\"#000000\" fill-rule=\"evenodd\" fill-opacity=\"1\" /><path clip-path=\"url(#clip070)\" d=\"M 0 0 M130.334 1366.86 L119.755 1377.49 L130.334 1388.06 L127.579 1390.87 L116.955 1380.24 L106.33 1390.87 L103.598 1388.06 L114.154 1377.49 L103.598 1366.86 L106.33 1364.06 L116.955 1374.68 L127.579 1364.06 L130.334 1366.86 Z\" fill=\"#000000\" fill-rule=\"evenodd\" fill-opacity=\"1\" /><path clip-path=\"url(#clip070)\" d=\"M 0 0 M136.214 1388.39 L143.853 1388.39 L143.853 1362.02 L135.542 1363.69 L135.542 1359.43 L143.806 1357.76 L148.482 1357.76 L148.482 1388.39 L156.121 1388.39 L156.121 1392.32 L136.214 1392.32 L136.214 1388.39 Z\" fill=\"#000000\" fill-rule=\"evenodd\" fill-opacity=\"1\" /><path clip-path=\"url(#clip070)\" d=\"M 0 0 M171.19 1360.84 Q167.579 1360.84 165.751 1364.41 Q163.945 1367.95 163.945 1375.08 Q163.945 1382.18 165.751 1385.75 Q167.579 1389.29 171.19 1389.29 Q174.825 1389.29 176.63 1385.75 Q178.459 1382.18 178.459 1375.08 Q178.459 1367.95 176.63 1364.41 Q174.825 1360.84 171.19 1360.84 M171.19 1357.14 Q177 1357.14 180.056 1361.75 Q183.135 1366.33 183.135 1375.08 Q183.135 1383.81 180.056 1388.41 Q177 1392.99 171.19 1392.99 Q165.38 1392.99 162.301 1388.41 Q159.246 1383.81 159.246 1375.08 Q159.246 1366.33 162.301 1361.75 Q165.38 1357.14 171.19 1357.14 Z\" fill=\"#000000\" fill-rule=\"evenodd\" fill-opacity=\"1\" /><path clip-path=\"url(#clip070)\" d=\"M 0 0 M183.68 1361.72 L189.887 1361.72 L189.887 1340.29 L183.135 1341.65 L183.135 1338.19 L189.849 1336.83 L193.648 1336.83 L193.648 1361.72 L199.855 1361.72 L199.855 1364.91 L183.68 1364.91 L183.68 1361.72 Z\" fill=\"#000000\" fill-rule=\"evenodd\" fill-opacity=\"1\" /><path clip-path=\"url(#clip070)\" d=\"M 0 0 M203.015 1336.83 L221.07 1336.83 L221.07 1338.45 L210.876 1364.91 L206.908 1364.91 L216.5 1340.03 L203.015 1340.03 L203.015 1336.83 Z\" fill=\"#000000\" fill-rule=\"evenodd\" fill-opacity=\"1\" /><path clip-path=\"url(#clip070)\" d=\"M 0 0 M45.4734 1175.81 L57.9502 1175.81 L57.9502 1179.61 L45.4734 1179.61 L45.4734 1175.81 Z\" fill=\"#000000\" fill-rule=\"evenodd\" fill-opacity=\"1\" /><path clip-path=\"url(#clip070)\" d=\"M 0 0 M80.7741 1186.76 L97.0935 1186.76 L97.0935 1190.69 L75.1492 1190.69 L75.1492 1186.76 Q77.8112 1184 82.3945 1179.37 Q87.001 1174.72 88.1815 1173.38 Q90.4269 1170.86 91.3065 1169.12 Q92.2093 1167.36 92.2093 1165.67 Q92.2093 1162.92 90.2648 1161.18 Q88.3436 1159.44 85.2417 1159.44 Q83.0427 1159.44 80.589 1160.21 Q78.1584 1160.97 75.3807 1162.52 L75.3807 1157.8 Q78.2047 1156.67 80.6584 1156.09 Q83.1121 1155.51 85.1491 1155.51 Q90.5195 1155.51 93.7139 1158.19 Q96.9083 1160.88 96.9083 1165.37 Q96.9083 1167.5 96.0981 1169.42 Q95.3111 1171.32 93.2046 1173.91 Q92.6259 1174.58 89.5241 1177.8 Q86.4223 1181 80.7741 1186.76 Z\" fill=\"#000000\" fill-rule=\"evenodd\" fill-opacity=\"1\" /><path clip-path=\"url(#clip070)\" d=\"M 0 0 M130.334 1165.23 L119.755 1175.86 L130.334 1186.43 L127.579 1189.24 L116.955 1178.61 L106.33 1189.24 L103.598 1186.43 L114.154 1175.86 L103.598 1165.23 L106.33 1162.43 L116.955 1173.06 L127.579 1162.43 L130.334 1165.23 Z\" fill=\"#000000\" fill-rule=\"evenodd\" fill-opacity=\"1\" /><path clip-path=\"url(#clip070)\" d=\"M 0 0 M136.214 1186.76 L143.853 1186.76 L143.853 1160.39 L135.542 1162.06 L135.542 1157.8 L143.806 1156.13 L148.482 1156.13 L148.482 1186.76 L156.121 1186.76 L156.121 1190.69 L136.214 1190.69 L136.214 1186.76 Z\" fill=\"#000000\" fill-rule=\"evenodd\" fill-opacity=\"1\" /><path clip-path=\"url(#clip070)\" d=\"M 0 0 M171.19 1159.21 Q167.579 1159.21 165.751 1162.78 Q163.945 1166.32 163.945 1173.45 Q163.945 1180.56 165.751 1184.12 Q167.579 1187.66 171.19 1187.66 Q174.825 1187.66 176.63 1184.12 Q178.459 1180.56 178.459 1173.45 Q178.459 1166.32 176.63 1162.78 Q174.825 1159.21 171.19 1159.21 M171.19 1155.51 Q177 1155.51 180.056 1160.12 Q183.135 1164.7 183.135 1173.45 Q183.135 1182.18 180.056 1186.78 Q177 1191.37 171.19 1191.37 Q165.38 1191.37 162.301 1186.78 Q159.246 1182.18 159.246 1173.45 Q159.246 1164.7 162.301 1160.12 Q165.38 1155.51 171.19 1155.51 Z\" fill=\"#000000\" fill-rule=\"evenodd\" fill-opacity=\"1\" /><path clip-path=\"url(#clip070)\" d=\"M 0 0 M183.68 1160.09 L189.887 1160.09 L189.887 1138.66 L183.135 1140.02 L183.135 1136.56 L189.849 1135.2 L193.648 1135.2 L193.648 1160.09 L199.855 1160.09 L199.855 1163.28 L183.68 1163.28 L183.68 1160.09 Z\" fill=\"#000000\" fill-rule=\"evenodd\" fill-opacity=\"1\" /><path clip-path=\"url(#clip070)\" d=\"M 0 0 M203.015 1135.2 L221.07 1135.2 L221.07 1136.82 L210.876 1163.28 L206.908 1163.28 L216.5 1138.4 L203.015 1138.4 L203.015 1135.2 Z\" fill=\"#000000\" fill-rule=\"evenodd\" fill-opacity=\"1\" /><path clip-path=\"url(#clip070)\" d=\"M 0 0 M46.8391 974.181 L59.3159 974.181 L59.3159 977.977 L46.8391 977.977 L46.8391 974.181 Z\" fill=\"#000000\" fill-rule=\"evenodd\" fill-opacity=\"1\" /><path clip-path=\"url(#clip070)\" d=\"M 0 0 M77.1862 985.13 L84.8251 985.13 L84.8251 958.764 L76.5149 960.431 L76.5149 956.171 L84.7788 954.505 L89.4547 954.505 L89.4547 985.13 L97.0935 985.13 L97.0935 989.065 L77.1862 989.065 L77.1862 985.13 Z\" fill=\"#000000\" fill-rule=\"evenodd\" fill-opacity=\"1\" /><path clip-path=\"url(#clip070)\" d=\"M 0 0 M130.334 963.602 L119.755 974.227 L130.334 984.805 L127.579 987.606 L116.955 976.981 L106.33 987.606 L103.598 984.805 L114.154 974.227 L103.598 963.602 L106.33 960.801 L116.955 971.426 L127.579 960.801 L130.334 963.602 Z\" fill=\"#000000\" fill-rule=\"evenodd\" fill-opacity=\"1\" /><path clip-path=\"url(#clip070)\" d=\"M 0 0 M136.214 985.13 L143.853 985.13 L143.853 958.764 L135.542 960.431 L135.542 956.171 L143.806 954.505 L148.482 954.505 L148.482 985.13 L156.121 985.13 L156.121 989.065 L136.214 989.065 L136.214 985.13 Z\" fill=\"#000000\" fill-rule=\"evenodd\" fill-opacity=\"1\" /><path clip-path=\"url(#clip070)\" d=\"M 0 0 M171.19 957.583 Q167.579 957.583 165.751 961.148 Q163.945 964.69 163.945 971.819 Q163.945 978.926 165.751 982.491 Q167.579 986.032 171.19 986.032 Q174.825 986.032 176.63 982.491 Q178.459 978.926 178.459 971.819 Q178.459 964.69 176.63 961.148 Q174.825 957.583 171.19 957.583 M171.19 953.88 Q177 953.88 180.056 958.486 Q183.135 963.069 183.135 971.819 Q183.135 980.546 180.056 985.153 Q177 989.736 171.19 989.736 Q165.38 989.736 162.301 985.153 Q159.246 980.546 159.246 971.819 Q159.246 963.069 162.301 958.486 Q165.38 953.88 171.19 953.88 Z\" fill=\"#000000\" fill-rule=\"evenodd\" fill-opacity=\"1\" /><path clip-path=\"url(#clip070)\" d=\"M 0 0 M183.68 958.457 L189.887 958.457 L189.887 937.035 L183.135 938.389 L183.135 934.928 L189.849 933.574 L193.648 933.574 L193.648 958.457 L199.855 958.457 L199.855 961.654 L183.68 961.654 L183.68 958.457 Z\" fill=\"#000000\" fill-rule=\"evenodd\" fill-opacity=\"1\" /><path clip-path=\"url(#clip070)\" d=\"M 0 0 M203.015 933.574 L221.07 933.574 L221.07 935.192 L210.876 961.654 L206.908 961.654 L216.5 936.772 L203.015 936.772 L203.015 933.574 Z\" fill=\"#000000\" fill-rule=\"evenodd\" fill-opacity=\"1\" /><path clip-path=\"url(#clip070)\" d=\"M 0 0 M209.126 749.506 Q205.515 749.506 203.686 753.071 Q201.88 756.613 201.88 763.742 Q201.88 770.849 203.686 774.414 Q205.515 777.955 209.126 777.955 Q212.76 777.955 214.565 774.414 Q216.394 770.849 216.394 763.742 Q216.394 756.613 214.565 753.071 Q212.76 749.506 209.126 749.506 M209.126 745.803 Q214.936 745.803 217.991 750.409 Q221.07 754.992 221.07 763.742 Q221.07 772.469 217.991 777.076 Q214.936 781.659 209.126 781.659 Q203.315 781.659 200.237 777.076 Q197.181 772.469 197.181 763.742 Q197.181 754.992 200.237 750.409 Q203.315 745.803 209.126 745.803 Z\" fill=\"#000000\" fill-rule=\"evenodd\" fill-opacity=\"1\" /><path clip-path=\"url(#clip070)\" d=\"M 0 0 M77.1862 581.871 L84.8251 581.871 L84.8251 555.505 L76.5149 557.172 L76.5149 552.913 L84.7788 551.246 L89.4547 551.246 L89.4547 581.871 L97.0935 581.871 L97.0935 585.806 L77.1862 585.806 L77.1862 581.871 Z\" fill=\"#000000\" fill-rule=\"evenodd\" fill-opacity=\"1\" /><path clip-path=\"url(#clip070)\" d=\"M 0 0 M130.334 560.343 L119.755 570.968 L130.334 581.547 L127.579 584.348 L116.955 573.723 L106.33 584.348 L103.598 581.547 L114.154 570.968 L103.598 560.343 L106.33 557.542 L116.955 568.167 L127.579 557.542 L130.334 560.343 Z\" fill=\"#000000\" fill-rule=\"evenodd\" fill-opacity=\"1\" /><path clip-path=\"url(#clip070)\" d=\"M 0 0 M136.214 581.871 L143.853 581.871 L143.853 555.505 L135.542 557.172 L135.542 552.913 L143.806 551.246 L148.482 551.246 L148.482 581.871 L156.121 581.871 L156.121 585.806 L136.214 585.806 L136.214 581.871 Z\" fill=\"#000000\" fill-rule=\"evenodd\" fill-opacity=\"1\" /><path clip-path=\"url(#clip070)\" d=\"M 0 0 M171.19 554.325 Q167.579 554.325 165.751 557.889 Q163.945 561.431 163.945 568.561 Q163.945 575.667 165.751 579.232 Q167.579 582.773 171.19 582.773 Q174.825 582.773 176.63 579.232 Q178.459 575.667 178.459 568.561 Q178.459 561.431 176.63 557.889 Q174.825 554.325 171.19 554.325 M171.19 550.621 Q177 550.621 180.056 555.227 Q183.135 559.811 183.135 568.561 Q183.135 577.287 180.056 581.894 Q177 586.477 171.19 586.477 Q165.38 586.477 162.301 581.894 Q159.246 577.287 159.246 568.561 Q159.246 559.811 162.301 555.227 Q165.38 550.621 171.19 550.621 Z\" fill=\"#000000\" fill-rule=\"evenodd\" fill-opacity=\"1\" /><path clip-path=\"url(#clip070)\" d=\"M 0 0 M183.68 555.198 L189.887 555.198 L189.887 533.776 L183.135 535.13 L183.135 531.67 L189.849 530.315 L193.648 530.315 L193.648 555.198 L199.855 555.198 L199.855 558.395 L183.68 558.395 L183.68 555.198 Z\" fill=\"#000000\" fill-rule=\"evenodd\" fill-opacity=\"1\" /><path clip-path=\"url(#clip070)\" d=\"M 0 0 M203.015 530.315 L221.07 530.315 L221.07 531.933 L210.876 558.395 L206.908 558.395 L216.5 533.513 L203.015 533.513 L203.015 530.315 Z\" fill=\"#000000\" fill-rule=\"evenodd\" fill-opacity=\"1\" /><path clip-path=\"url(#clip070)\" d=\"M 0 0 M80.7741 380.241 L97.0935 380.241 L97.0935 384.176 L75.1492 384.176 L75.1492 380.241 Q77.8112 377.487 82.3945 372.857 Q87.001 368.204 88.1815 366.862 Q90.4269 364.339 91.3065 362.602 Q92.2093 360.843 92.2093 359.153 Q92.2093 356.399 90.2648 354.663 Q88.3436 352.927 85.2417 352.927 Q83.0427 352.927 80.589 353.69 Q78.1584 354.454 75.3807 356.005 L75.3807 351.283 Q78.2047 350.149 80.6584 349.57 Q83.1121 348.991 85.1491 348.991 Q90.5195 348.991 93.7139 351.677 Q96.9083 354.362 96.9083 358.852 Q96.9083 360.982 96.0981 362.903 Q95.3111 364.802 93.2046 367.394 Q92.6259 368.065 89.5241 371.283 Q86.4223 374.477 80.7741 380.241 Z\" fill=\"#000000\" fill-rule=\"evenodd\" fill-opacity=\"1\" /><path clip-path=\"url(#clip070)\" d=\"M 0 0 M130.334 358.714 L119.755 369.339 L130.334 379.917 L127.579 382.718 L116.955 372.093 L106.33 382.718 L103.598 379.917 L114.154 369.339 L103.598 358.714 L106.33 355.913 L116.955 366.538 L127.579 355.913 L130.334 358.714 Z\" fill=\"#000000\" fill-rule=\"evenodd\" fill-opacity=\"1\" /><path clip-path=\"url(#clip070)\" d=\"M 0 0 M136.214 380.241 L143.853 380.241 L143.853 353.876 L135.542 355.542 L135.542 351.283 L143.806 349.616 L148.482 349.616 L148.482 380.241 L156.121 380.241 L156.121 384.176 L136.214 384.176 L136.214 380.241 Z\" fill=\"#000000\" fill-rule=\"evenodd\" fill-opacity=\"1\" /><path clip-path=\"url(#clip070)\" d=\"M 0 0 M171.19 352.695 Q167.579 352.695 165.751 356.26 Q163.945 359.802 163.945 366.931 Q163.945 374.038 165.751 377.602 Q167.579 381.144 171.19 381.144 Q174.825 381.144 176.63 377.602 Q178.459 374.038 178.459 366.931 Q178.459 359.802 176.63 356.26 Q174.825 352.695 171.19 352.695 M171.19 348.991 Q177 348.991 180.056 353.598 Q183.135 358.181 183.135 366.931 Q183.135 375.658 180.056 380.264 Q177 384.848 171.19 384.848 Q165.38 384.848 162.301 380.264 Q159.246 375.658 159.246 366.931 Q159.246 358.181 162.301 353.598 Q165.38 348.991 171.19 348.991 Z\" fill=\"#000000\" fill-rule=\"evenodd\" fill-opacity=\"1\" /><path clip-path=\"url(#clip070)\" d=\"M 0 0 M183.68 353.569 L189.887 353.569 L189.887 332.147 L183.135 333.501 L183.135 330.04 L189.849 328.686 L193.648 328.686 L193.648 353.569 L199.855 353.569 L199.855 356.766 L183.68 356.766 L183.68 353.569 Z\" fill=\"#000000\" fill-rule=\"evenodd\" fill-opacity=\"1\" /><path clip-path=\"url(#clip070)\" d=\"M 0 0 M203.015 328.686 L221.07 328.686 L221.07 330.303 L210.876 356.766 L206.908 356.766 L216.5 331.883 L203.015 331.883 L203.015 328.686 Z\" fill=\"#000000\" fill-rule=\"evenodd\" fill-opacity=\"1\" /><path clip-path=\"url(#clip070)\" d=\"M 0 0 M89.9639 163.913 Q93.3204 164.63 95.1954 166.899 Q97.0935 169.167 97.0935 172.501 Q97.0935 177.616 93.575 180.417 Q90.0565 183.218 83.5751 183.218 Q81.3991 183.218 79.0843 182.778 Q76.7927 182.362 74.339 181.505 L74.339 176.991 Q76.2834 178.126 78.5982 178.704 Q80.913 179.283 83.4362 179.283 Q87.8343 179.283 90.126 177.547 Q92.4408 175.811 92.4408 172.501 Q92.4408 169.445 90.288 167.732 Q88.1584 165.996 84.3389 165.996 L80.3112 165.996 L80.3112 162.154 L84.5241 162.154 Q87.9732 162.154 89.8019 160.788 Q91.6306 159.399 91.6306 156.806 Q91.6306 154.144 89.7324 152.732 Q87.8574 151.297 84.3389 151.297 Q82.4177 151.297 80.2186 151.714 Q78.0195 152.13 75.3807 153.01 L75.3807 148.843 Q78.0427 148.103 80.3575 147.732 Q82.6954 147.362 84.7556 147.362 Q90.0797 147.362 93.1815 149.793 Q96.2833 152.2 96.2833 156.32 Q96.2833 159.191 94.6398 161.181 Q92.9963 163.149 89.9639 163.913 Z\" fill=\"#000000\" fill-rule=\"evenodd\" fill-opacity=\"1\" /><path clip-path=\"url(#clip070)\" d=\"M 0 0 M130.334 157.084 L119.755 167.709 L130.334 178.288 L127.579 181.089 L116.955 170.464 L106.33 181.089 L103.598 178.288 L114.154 167.709 L103.598 157.084 L106.33 154.283 L116.955 164.908 L127.579 154.283 L130.334 157.084 Z\" fill=\"#000000\" fill-rule=\"evenodd\" fill-opacity=\"1\" /><path clip-path=\"url(#clip070)\" d=\"M 0 0 M136.214 178.612 L143.853 178.612 L143.853 152.246 L135.542 153.913 L135.542 149.654 L143.806 147.987 L148.482 147.987 L148.482 178.612 L156.121 178.612 L156.121 182.547 L136.214 182.547 L136.214 178.612 Z\" fill=\"#000000\" fill-rule=\"evenodd\" fill-opacity=\"1\" /><path clip-path=\"url(#clip070)\" d=\"M 0 0 M171.19 151.066 Q167.579 151.066 165.751 154.63 Q163.945 158.172 163.945 165.302 Q163.945 172.408 165.751 175.973 Q167.579 179.515 171.19 179.515 Q174.825 179.515 176.63 175.973 Q178.459 172.408 178.459 165.302 Q178.459 158.172 176.63 154.63 Q174.825 151.066 171.19 151.066 M171.19 147.362 Q177 147.362 180.056 151.968 Q183.135 156.552 183.135 165.302 Q183.135 174.029 180.056 178.635 Q177 183.218 171.19 183.218 Q165.38 183.218 162.301 178.635 Q159.246 174.029 159.246 165.302 Q159.246 156.552 162.301 151.968 Q165.38 147.362 171.19 147.362 Z\" fill=\"#000000\" fill-rule=\"evenodd\" fill-opacity=\"1\" /><path clip-path=\"url(#clip070)\" d=\"M 0 0 M183.68 151.939 L189.887 151.939 L189.887 130.517 L183.135 131.871 L183.135 128.411 L189.849 127.057 L193.648 127.057 L193.648 151.939 L199.855 151.939 L199.855 155.137 L183.68 155.137 L183.68 151.939 Z\" fill=\"#000000\" fill-rule=\"evenodd\" fill-opacity=\"1\" /><path clip-path=\"url(#clip070)\" d=\"M 0 0 M203.015 127.057 L221.07 127.057 L221.07 128.674 L210.876 155.137 L206.908 155.137 L216.5 130.254 L203.015 130.254 L203.015 127.057 Z\" fill=\"#000000\" fill-rule=\"evenodd\" fill-opacity=\"1\" /><polyline clip-path=\"url(#clip072)\" style=\"stroke:#009af9; stroke-width:4; stroke-opacity:1; fill:none\" points=\"\n",
       "  304.721,763.708 324.806,763.708 344.891,763.708 364.975,763.708 385.06,763.708 405.145,763.708 425.23,763.708 445.314,763.708 465.399,763.708 485.484,763.708 \n",
       "  505.568,763.708 525.653,763.708 545.738,763.708 565.822,763.707 585.907,763.708 605.992,763.706 626.076,763.713 646.161,763.695 666.246,763.737 686.33,763.643 \n",
       "  706.415,763.847 726.5,763.42 746.584,764.278 766.669,762.622 786.754,765.697 806.838,760.192 826.923,769.707 847.008,753.812 867.092,779.504 887.177,739.28 \n",
       "  907.262,800.341 927.346,710.385 947.431,839.109 967.516,660.042 987.6,902.389 1007.69,583.057 1027.77,993.01 1047.85,479.911 1067.94,1106.41 1088.02,359.711 \n",
       "  1108.11,1228.92 1128.19,240.137 1148.28,1339.9 1168.36,143.35 1188.45,1417.45 1208.53,89.0846 1228.62,1445.72 1248.7,87.9763 1268.79,1420.14 1288.87,138.247 \n",
       "  1308.96,1348.46 1329.04,227.108 1349.12,1247.2 1369.21,335.812 1389.29,1135.78 1409.38,445.735 1429.46,1030.86 1449.55,542.98 1469.63,943.1 1489.72,620.252 \n",
       "  1509.8,876.612 1529.89,676.231 1549.97,830.444 1570.06,713.562 1590.14,800.827 1610.23,736.633 1630.31,783.17 1650.39,749.916 1670.48,773.344 1690.56,757.068 \n",
       "  1710.65,768.22 1730.73,760.682 1750.82,765.709 1770.9,762.401 1790.99,764.55 1811.07,763.172 1831.16,764.044 1851.24,763.499 1871.33,763.836 1891.41,763.63 \n",
       "  1911.5,763.754 1931.58,763.68 1951.66,763.724 1971.75,763.698 1991.83,763.713 2011.92,763.705 2032,763.709 2052.09,763.707 2072.17,763.708 2092.26,763.707 \n",
       "  2112.34,763.708 2132.43,763.708 2152.51,763.708 2172.6,763.708 2192.68,763.708 2212.77,763.708 2232.85,763.708 2252.94,763.708 2273.02,763.708 2293.1,763.708 \n",
       "  \n",
       "  \"/>\n",
       "<path clip-path=\"url(#clip070)\" d=\"\n",
       "M1989.74 251.724 L2280.76 251.724 L2280.76 130.764 L1989.74 130.764  Z\n",
       "  \" fill=\"#ffffff\" fill-rule=\"evenodd\" fill-opacity=\"1\"/>\n",
       "<polyline clip-path=\"url(#clip070)\" style=\"stroke:#000000; stroke-width:4; stroke-opacity:1; fill:none\" points=\"\n",
       "  1989.74,251.724 2280.76,251.724 2280.76,130.764 1989.74,130.764 1989.74,251.724 \n",
       "  \"/>\n",
       "<polyline clip-path=\"url(#clip070)\" style=\"stroke:#009af9; stroke-width:4; stroke-opacity:1; fill:none\" points=\"\n",
       "  2013.74,191.244 2157.74,191.244 \n",
       "  \"/>\n",
       "<path clip-path=\"url(#clip070)\" d=\"M 0 0 M2195.58 210.931 Q2193.77 215.561 2192.06 216.973 Q2190.35 218.385 2187.48 218.385 L2184.08 218.385 L2184.08 214.82 L2186.58 214.82 Q2188.33 214.82 2189.31 213.987 Q2190.28 213.154 2191.46 210.052 L2192.22 208.107 L2181.74 182.598 L2186.25 182.598 L2194.35 202.876 L2202.46 182.598 L2206.97 182.598 L2195.58 210.931 Z\" fill=\"#000000\" fill-rule=\"evenodd\" fill-opacity=\"1\" /><path clip-path=\"url(#clip070)\" d=\"M 0 0 M2212.85 204.589 L2220.49 204.589 L2220.49 178.223 L2212.18 179.89 L2212.18 175.631 L2220.44 173.964 L2225.12 173.964 L2225.12 204.589 L2232.76 204.589 L2232.76 208.524 L2212.85 208.524 L2212.85 204.589 Z\" fill=\"#000000\" fill-rule=\"evenodd\" fill-opacity=\"1\" /></svg>\n"
      ]
     },
     "execution_count": 23,
     "metadata": {},
     "output_type": "execute_result"
    }
   ],
   "source": [
    "let t = -50.0\n",
    "    Plots.plot(\n",
    "        1:100,\n",
    "        k -> beta_mgf_v5(α, β, t, k),\n",
    "    )\n",
    "end"
   ]
  },
  {
   "cell_type": "markdown",
   "metadata": {},
   "source": [
    "Now this was interesting: almost all of the action in the infinite series was taking place in a subset of the iterations before stabilizing to a value. But the huge amount of values doesn't make clear what value is being stabilized on. So let's check:"
   ]
  },
  {
   "cell_type": "code",
   "execution_count": 24,
   "metadata": {},
   "outputs": [
    {
     "data": {
      "text/plain": [
       "1.58082497000782e8"
      ]
     },
     "execution_count": 24,
     "metadata": {},
     "output_type": "execute_result"
    }
   ],
   "source": [
    "beta_mgf_v5(α, β, -50.0, 100)"
   ]
  },
  {
   "cell_type": "markdown",
   "metadata": {},
   "source": [
    "That value is huge: the visual stability is an artifact of plotting on a non-logarithmic axis. To address that, let's use the `signed_log` function to visualize the results on a log-like scale:"
   ]
  },
  {
   "cell_type": "code",
   "execution_count": 25,
   "metadata": {},
   "outputs": [
    {
     "data": {
      "text/plain": [
       "signed_log (generic function with 1 method)"
      ]
     },
     "execution_count": 25,
     "metadata": {},
     "output_type": "execute_result"
    }
   ],
   "source": [
    "signed_log(x) = sign(x) * log(1 + abs(x))"
   ]
  },
  {
   "cell_type": "code",
   "execution_count": 26,
   "metadata": {},
   "outputs": [
    {
     "data": {
      "image/svg+xml": [
       "<?xml version=\"1.0\" encoding=\"utf-8\"?>\n",
       "<svg xmlns=\"http://www.w3.org/2000/svg\" xmlns:xlink=\"http://www.w3.org/1999/xlink\" width=\"600\" height=\"400\" viewBox=\"0 0 2400 1600\">\n",
       "<defs>\n",
       "  <clipPath id=\"clip110\">\n",
       "    <rect x=\"0\" y=\"0\" width=\"2400\" height=\"1600\"/>\n",
       "  </clipPath>\n",
       "</defs>\n",
       "<path clip-path=\"url(#clip110)\" d=\"\n",
       "M0 1600 L2400 1600 L2400 0 L0 0  Z\n",
       "  \" fill=\"#ffffff\" fill-rule=\"evenodd\" fill-opacity=\"1\"/>\n",
       "<defs>\n",
       "  <clipPath id=\"clip111\">\n",
       "    <rect x=\"480\" y=\"0\" width=\"1681\" height=\"1600\"/>\n",
       "  </clipPath>\n",
       "</defs>\n",
       "<path clip-path=\"url(#clip110)\" d=\"\n",
       "M153.983 1486.45 L2352.76 1486.45 L2352.76 47.2441 L153.983 47.2441  Z\n",
       "  \" fill=\"#ffffff\" fill-rule=\"evenodd\" fill-opacity=\"1\"/>\n",
       "<defs>\n",
       "  <clipPath id=\"clip112\">\n",
       "    <rect x=\"153\" y=\"47\" width=\"2200\" height=\"1440\"/>\n",
       "  </clipPath>\n",
       "</defs>\n",
       "<polyline clip-path=\"url(#clip112)\" style=\"stroke:#000000; stroke-width:2; stroke-opacity:0.1; fill:none\" points=\"\n",
       "  195.259,1486.45 195.259,47.2441 \n",
       "  \"/>\n",
       "<polyline clip-path=\"url(#clip112)\" style=\"stroke:#000000; stroke-width:2; stroke-opacity:0.1; fill:none\" points=\"\n",
       "  719.076,1486.45 719.076,47.2441 \n",
       "  \"/>\n",
       "<polyline clip-path=\"url(#clip112)\" style=\"stroke:#000000; stroke-width:2; stroke-opacity:0.1; fill:none\" points=\"\n",
       "  1242.89,1486.45 1242.89,47.2441 \n",
       "  \"/>\n",
       "<polyline clip-path=\"url(#clip112)\" style=\"stroke:#000000; stroke-width:2; stroke-opacity:0.1; fill:none\" points=\"\n",
       "  1766.71,1486.45 1766.71,47.2441 \n",
       "  \"/>\n",
       "<polyline clip-path=\"url(#clip112)\" style=\"stroke:#000000; stroke-width:2; stroke-opacity:0.1; fill:none\" points=\"\n",
       "  2290.53,1486.45 2290.53,47.2441 \n",
       "  \"/>\n",
       "<polyline clip-path=\"url(#clip112)\" style=\"stroke:#000000; stroke-width:2; stroke-opacity:0.1; fill:none\" points=\"\n",
       "  153.983,1439.62 2352.76,1439.62 \n",
       "  \"/>\n",
       "<polyline clip-path=\"url(#clip112)\" style=\"stroke:#000000; stroke-width:2; stroke-opacity:0.1; fill:none\" points=\"\n",
       "  153.983,1103.19 2352.76,1103.19 \n",
       "  \"/>\n",
       "<polyline clip-path=\"url(#clip112)\" style=\"stroke:#000000; stroke-width:2; stroke-opacity:0.1; fill:none\" points=\"\n",
       "  153.983,766.768 2352.76,766.768 \n",
       "  \"/>\n",
       "<polyline clip-path=\"url(#clip112)\" style=\"stroke:#000000; stroke-width:2; stroke-opacity:0.1; fill:none\" points=\"\n",
       "  153.983,430.344 2352.76,430.344 \n",
       "  \"/>\n",
       "<polyline clip-path=\"url(#clip112)\" style=\"stroke:#000000; stroke-width:2; stroke-opacity:0.1; fill:none\" points=\"\n",
       "  153.983,93.9194 2352.76,93.9194 \n",
       "  \"/>\n",
       "<polyline clip-path=\"url(#clip110)\" style=\"stroke:#000000; stroke-width:4; stroke-opacity:1; fill:none\" points=\"\n",
       "  153.983,1486.45 2352.76,1486.45 \n",
       "  \"/>\n",
       "<polyline clip-path=\"url(#clip110)\" style=\"stroke:#000000; stroke-width:4; stroke-opacity:1; fill:none\" points=\"\n",
       "  153.983,1486.45 153.983,47.2441 \n",
       "  \"/>\n",
       "<polyline clip-path=\"url(#clip110)\" style=\"stroke:#000000; stroke-width:4; stroke-opacity:1; fill:none\" points=\"\n",
       "  195.259,1486.45 195.259,1469.18 \n",
       "  \"/>\n",
       "<polyline clip-path=\"url(#clip110)\" style=\"stroke:#000000; stroke-width:4; stroke-opacity:1; fill:none\" points=\"\n",
       "  719.076,1486.45 719.076,1469.18 \n",
       "  \"/>\n",
       "<polyline clip-path=\"url(#clip110)\" style=\"stroke:#000000; stroke-width:4; stroke-opacity:1; fill:none\" points=\"\n",
       "  1242.89,1486.45 1242.89,1469.18 \n",
       "  \"/>\n",
       "<polyline clip-path=\"url(#clip110)\" style=\"stroke:#000000; stroke-width:4; stroke-opacity:1; fill:none\" points=\"\n",
       "  1766.71,1486.45 1766.71,1469.18 \n",
       "  \"/>\n",
       "<polyline clip-path=\"url(#clip110)\" style=\"stroke:#000000; stroke-width:4; stroke-opacity:1; fill:none\" points=\"\n",
       "  2290.53,1486.45 2290.53,1469.18 \n",
       "  \"/>\n",
       "<polyline clip-path=\"url(#clip110)\" style=\"stroke:#000000; stroke-width:4; stroke-opacity:1; fill:none\" points=\"\n",
       "  153.983,1439.62 180.368,1439.62 \n",
       "  \"/>\n",
       "<polyline clip-path=\"url(#clip110)\" style=\"stroke:#000000; stroke-width:4; stroke-opacity:1; fill:none\" points=\"\n",
       "  153.983,1103.19 180.368,1103.19 \n",
       "  \"/>\n",
       "<polyline clip-path=\"url(#clip110)\" style=\"stroke:#000000; stroke-width:4; stroke-opacity:1; fill:none\" points=\"\n",
       "  153.983,766.768 180.368,766.768 \n",
       "  \"/>\n",
       "<polyline clip-path=\"url(#clip110)\" style=\"stroke:#000000; stroke-width:4; stroke-opacity:1; fill:none\" points=\"\n",
       "  153.983,430.344 180.368,430.344 \n",
       "  \"/>\n",
       "<polyline clip-path=\"url(#clip110)\" style=\"stroke:#000000; stroke-width:4; stroke-opacity:1; fill:none\" points=\"\n",
       "  153.983,93.9194 180.368,93.9194 \n",
       "  \"/>\n",
       "<path clip-path=\"url(#clip110)\" d=\"M 0 0 M195.259 1508.44 Q191.648 1508.44 189.819 1512 Q188.014 1515.55 188.014 1522.67 Q188.014 1529.78 189.819 1533.35 Q191.648 1536.89 195.259 1536.89 Q198.894 1536.89 200.699 1533.35 Q202.528 1529.78 202.528 1522.67 Q202.528 1515.55 200.699 1512 Q198.894 1508.44 195.259 1508.44 M195.259 1504.73 Q201.069 1504.73 204.125 1509.34 Q207.204 1513.92 207.204 1522.67 Q207.204 1531.4 204.125 1536.01 Q201.069 1540.59 195.259 1540.59 Q189.449 1540.59 186.37 1536.01 Q183.315 1531.4 183.315 1522.67 Q183.315 1513.92 186.37 1509.34 Q189.449 1504.73 195.259 1504.73 Z\" fill=\"#000000\" fill-rule=\"evenodd\" fill-opacity=\"1\" /><path clip-path=\"url(#clip110)\" d=\"M 0 0 M700.72 1535.98 L717.039 1535.98 L717.039 1539.92 L695.095 1539.92 L695.095 1535.98 Q697.757 1533.23 702.34 1528.6 Q706.947 1523.95 708.127 1522.61 Q710.372 1520.08 711.252 1518.35 Q712.155 1516.59 712.155 1514.9 Q712.155 1512.14 710.21 1510.41 Q708.289 1508.67 705.187 1508.67 Q702.988 1508.67 700.535 1509.43 Q698.104 1510.2 695.326 1511.75 L695.326 1507.03 Q698.15 1505.89 700.604 1505.31 Q703.058 1504.73 705.095 1504.73 Q710.465 1504.73 713.659 1507.42 Q716.854 1510.11 716.854 1514.6 Q716.854 1516.73 716.044 1518.65 Q715.257 1520.54 713.15 1523.14 Q712.571 1523.81 709.47 1527.03 Q706.368 1530.22 700.72 1535.98 Z\" fill=\"#000000\" fill-rule=\"evenodd\" fill-opacity=\"1\" /><path clip-path=\"url(#clip110)\" d=\"M 0 0 M722.155 1505.36 L740.511 1505.36 L740.511 1509.3 L726.437 1509.3 L726.437 1517.77 Q727.456 1517.42 728.474 1517.26 Q729.493 1517.07 730.511 1517.07 Q736.298 1517.07 739.678 1520.24 Q743.057 1523.42 743.057 1528.83 Q743.057 1534.41 739.585 1537.51 Q736.113 1540.59 729.794 1540.59 Q727.618 1540.59 725.349 1540.22 Q723.104 1539.85 720.696 1539.11 L720.696 1534.41 Q722.78 1535.54 725.002 1536.1 Q727.224 1536.66 729.701 1536.66 Q733.706 1536.66 736.044 1534.55 Q738.382 1532.44 738.382 1528.83 Q738.382 1525.22 736.044 1523.11 Q733.706 1521.01 729.701 1521.01 Q727.826 1521.01 725.951 1521.42 Q724.099 1521.84 722.155 1522.72 L722.155 1505.36 Z\" fill=\"#000000\" fill-rule=\"evenodd\" fill-opacity=\"1\" /><path clip-path=\"url(#clip110)\" d=\"M 0 0 M1219.66 1505.36 L1238.02 1505.36 L1238.02 1509.3 L1223.95 1509.3 L1223.95 1517.77 Q1224.96 1517.42 1225.98 1517.26 Q1227 1517.07 1228.02 1517.07 Q1233.81 1517.07 1237.19 1520.24 Q1240.57 1523.42 1240.57 1528.83 Q1240.57 1534.41 1237.09 1537.51 Q1233.62 1540.59 1227.3 1540.59 Q1225.13 1540.59 1222.86 1540.22 Q1220.61 1539.85 1218.21 1539.11 L1218.21 1534.41 Q1220.29 1535.54 1222.51 1536.1 Q1224.73 1536.66 1227.21 1536.66 Q1231.21 1536.66 1233.55 1534.55 Q1235.89 1532.44 1235.89 1528.83 Q1235.89 1525.22 1233.55 1523.11 Q1231.21 1521.01 1227.21 1521.01 Q1225.34 1521.01 1223.46 1521.42 Q1221.61 1521.84 1219.66 1522.72 L1219.66 1505.36 Z\" fill=\"#000000\" fill-rule=\"evenodd\" fill-opacity=\"1\" /><path clip-path=\"url(#clip110)\" d=\"M 0 0 M1255.64 1508.44 Q1252.02 1508.44 1250.2 1512 Q1248.39 1515.55 1248.39 1522.67 Q1248.39 1529.78 1250.2 1533.35 Q1252.02 1536.89 1255.64 1536.89 Q1259.27 1536.89 1261.08 1533.35 Q1262.9 1529.78 1262.9 1522.67 Q1262.9 1515.55 1261.08 1512 Q1259.27 1508.44 1255.64 1508.44 M1255.64 1504.73 Q1261.45 1504.73 1264.5 1509.34 Q1267.58 1513.92 1267.58 1522.67 Q1267.58 1531.4 1264.5 1536.01 Q1261.45 1540.59 1255.64 1540.59 Q1249.83 1540.59 1246.75 1536.01 Q1243.69 1531.4 1243.69 1522.67 Q1243.69 1513.92 1246.75 1509.34 Q1249.83 1504.73 1255.64 1504.73 Z\" fill=\"#000000\" fill-rule=\"evenodd\" fill-opacity=\"1\" /><path clip-path=\"url(#clip110)\" d=\"M 0 0 M1742.59 1505.36 L1764.81 1505.36 L1764.81 1507.35 L1752.27 1539.92 L1747.38 1539.92 L1759.19 1509.3 L1742.59 1509.3 L1742.59 1505.36 Z\" fill=\"#000000\" fill-rule=\"evenodd\" fill-opacity=\"1\" /><path clip-path=\"url(#clip110)\" d=\"M 0 0 M1769.93 1505.36 L1788.28 1505.36 L1788.28 1509.3 L1774.21 1509.3 L1774.21 1517.77 Q1775.23 1517.42 1776.25 1517.26 Q1777.27 1517.07 1778.28 1517.07 Q1784.07 1517.07 1787.45 1520.24 Q1790.83 1523.42 1790.83 1528.83 Q1790.83 1534.41 1787.36 1537.51 Q1783.89 1540.59 1777.57 1540.59 Q1775.39 1540.59 1773.12 1540.22 Q1770.88 1539.85 1768.47 1539.11 L1768.47 1534.41 Q1770.55 1535.54 1772.77 1536.1 Q1775 1536.66 1777.47 1536.66 Q1781.48 1536.66 1783.82 1534.55 Q1786.15 1532.44 1786.15 1528.83 Q1786.15 1525.22 1783.82 1523.11 Q1781.48 1521.01 1777.47 1521.01 Q1775.6 1521.01 1773.72 1521.42 Q1771.87 1521.84 1769.93 1522.72 L1769.93 1505.36 Z\" fill=\"#000000\" fill-rule=\"evenodd\" fill-opacity=\"1\" /><path clip-path=\"url(#clip110)\" d=\"M 0 0 M2253.89 1535.98 L2261.53 1535.98 L2261.53 1509.62 L2253.22 1511.29 L2253.22 1507.03 L2261.49 1505.36 L2266.16 1505.36 L2266.16 1535.98 L2273.8 1535.98 L2273.8 1539.92 L2253.89 1539.92 L2253.89 1535.98 Z\" fill=\"#000000\" fill-rule=\"evenodd\" fill-opacity=\"1\" /><path clip-path=\"url(#clip110)\" d=\"M 0 0 M2288.87 1508.44 Q2285.26 1508.44 2283.43 1512 Q2281.63 1515.55 2281.63 1522.67 Q2281.63 1529.78 2283.43 1533.35 Q2285.26 1536.89 2288.87 1536.89 Q2292.51 1536.89 2294.31 1533.35 Q2296.14 1529.78 2296.14 1522.67 Q2296.14 1515.55 2294.31 1512 Q2292.51 1508.44 2288.87 1508.44 M2288.87 1504.73 Q2294.68 1504.73 2297.74 1509.34 Q2300.82 1513.92 2300.82 1522.67 Q2300.82 1531.4 2297.74 1536.01 Q2294.68 1540.59 2288.87 1540.59 Q2283.06 1540.59 2279.98 1536.01 Q2276.93 1531.4 2276.93 1522.67 Q2276.93 1513.92 2279.98 1509.34 Q2283.06 1504.73 2288.87 1504.73 Z\" fill=\"#000000\" fill-rule=\"evenodd\" fill-opacity=\"1\" /><path clip-path=\"url(#clip110)\" d=\"M 0 0 M2315.89 1508.44 Q2312.27 1508.44 2310.45 1512 Q2308.64 1515.55 2308.64 1522.67 Q2308.64 1529.78 2310.45 1533.35 Q2312.27 1536.89 2315.89 1536.89 Q2319.52 1536.89 2321.32 1533.35 Q2323.15 1529.78 2323.15 1522.67 Q2323.15 1515.55 2321.32 1512 Q2319.52 1508.44 2315.89 1508.44 M2315.89 1504.73 Q2321.7 1504.73 2324.75 1509.34 Q2327.83 1513.92 2327.83 1522.67 Q2327.83 1531.4 2324.75 1536.01 Q2321.7 1540.59 2315.89 1540.59 Q2310.07 1540.59 2307 1536.01 Q2303.94 1531.4 2303.94 1522.67 Q2303.94 1513.92 2307 1509.34 Q2310.07 1504.73 2315.89 1504.73 Z\" fill=\"#000000\" fill-rule=\"evenodd\" fill-opacity=\"1\" /><path clip-path=\"url(#clip110)\" d=\"M 0 0 M62.9921 1442.01 L75.4689 1442.01 L75.4689 1445.81 L62.9921 1445.81 L62.9921 1442.01 Z\" fill=\"#000000\" fill-rule=\"evenodd\" fill-opacity=\"1\" /><path clip-path=\"url(#clip110)\" d=\"M 0 0 M93.3855 1426.41 L81.58 1444.86 L93.3855 1444.86 L93.3855 1426.41 M92.1586 1422.34 L98.0382 1422.34 L98.0382 1444.86 L102.969 1444.86 L102.969 1448.75 L98.0382 1448.75 L98.0382 1456.9 L93.3855 1456.9 L93.3855 1448.75 L77.7837 1448.75 L77.7837 1444.24 L92.1586 1422.34 Z\" fill=\"#000000\" fill-rule=\"evenodd\" fill-opacity=\"1\" /><path clip-path=\"url(#clip110)\" d=\"M 0 0 M118.038 1425.42 Q114.427 1425.42 112.598 1428.98 Q110.793 1432.52 110.793 1439.65 Q110.793 1446.76 112.598 1450.32 Q114.427 1453.86 118.038 1453.86 Q121.672 1453.86 123.478 1450.32 Q125.307 1446.76 125.307 1439.65 Q125.307 1432.52 123.478 1428.98 Q121.672 1425.42 118.038 1425.42 M118.038 1421.71 Q123.848 1421.71 126.904 1426.32 Q129.983 1430.9 129.983 1439.65 Q129.983 1448.38 126.904 1452.99 Q123.848 1457.57 118.038 1457.57 Q112.228 1457.57 109.149 1452.99 Q106.094 1448.38 106.094 1439.65 Q106.094 1430.9 109.149 1426.32 Q112.228 1421.71 118.038 1421.71 Z\" fill=\"#000000\" fill-rule=\"evenodd\" fill-opacity=\"1\" /><path clip-path=\"url(#clip110)\" d=\"M 0 0 M65.0754 1105.59 L77.5522 1105.59 L77.5522 1109.38 L65.0754 1109.38 L65.0754 1105.59 Z\" fill=\"#000000\" fill-rule=\"evenodd\" fill-opacity=\"1\" /><path clip-path=\"url(#clip110)\" d=\"M 0 0 M86.6494 1116.54 L102.969 1116.54 L102.969 1120.47 L81.0244 1120.47 L81.0244 1116.54 Q83.6865 1113.78 88.2698 1109.15 Q92.8762 1104.5 94.0568 1103.16 Q96.3021 1100.63 97.1818 1098.9 Q98.0845 1097.14 98.0845 1095.45 Q98.0845 1092.7 96.1401 1090.96 Q94.2188 1089.22 91.117 1089.22 Q88.9179 1089.22 86.4642 1089.99 Q84.0337 1090.75 81.2559 1092.3 L81.2559 1087.58 Q84.08 1086.45 86.5337 1085.87 Q88.9874 1085.29 91.0244 1085.29 Q96.3947 1085.29 99.5892 1087.97 Q102.784 1090.66 102.784 1095.15 Q102.784 1097.28 101.973 1099.2 Q101.186 1101.1 99.0799 1103.69 Q98.5012 1104.36 95.3994 1107.58 Q92.2975 1110.77 86.6494 1116.54 Z\" fill=\"#000000\" fill-rule=\"evenodd\" fill-opacity=\"1\" /><path clip-path=\"url(#clip110)\" d=\"M 0 0 M118.038 1088.99 Q114.427 1088.99 112.598 1092.56 Q110.793 1096.1 110.793 1103.23 Q110.793 1110.33 112.598 1113.9 Q114.427 1117.44 118.038 1117.44 Q121.672 1117.44 123.478 1113.9 Q125.307 1110.33 125.307 1103.23 Q125.307 1096.1 123.478 1092.56 Q121.672 1088.99 118.038 1088.99 M118.038 1085.29 Q123.848 1085.29 126.904 1089.89 Q129.983 1094.48 129.983 1103.23 Q129.983 1111.95 126.904 1116.56 Q123.848 1121.14 118.038 1121.14 Q112.228 1121.14 109.149 1116.56 Q106.094 1111.95 106.094 1103.23 Q106.094 1094.48 109.149 1089.89 Q112.228 1085.29 118.038 1085.29 Z\" fill=\"#000000\" fill-rule=\"evenodd\" fill-opacity=\"1\" /><path clip-path=\"url(#clip110)\" d=\"M 0 0 M118.038 752.567 Q114.427 752.567 112.598 756.132 Q110.793 759.673 110.793 766.803 Q110.793 773.909 112.598 777.474 Q114.427 781.016 118.038 781.016 Q121.672 781.016 123.478 777.474 Q125.307 773.909 125.307 766.803 Q125.307 759.673 123.478 756.132 Q121.672 752.567 118.038 752.567 M118.038 748.863 Q123.848 748.863 126.904 753.47 Q129.983 758.053 129.983 766.803 Q129.983 775.53 126.904 780.136 Q123.848 784.72 118.038 784.72 Q112.228 784.72 109.149 780.136 Q106.094 775.53 106.094 766.803 Q106.094 758.053 109.149 753.47 Q112.228 748.863 118.038 748.863 Z\" fill=\"#000000\" fill-rule=\"evenodd\" fill-opacity=\"1\" /><path clip-path=\"url(#clip110)\" d=\"M 0 0 M86.6494 443.689 L102.969 443.689 L102.969 447.624 L81.0244 447.624 L81.0244 443.689 Q83.6865 440.934 88.2698 436.304 Q92.8762 431.652 94.0568 430.309 Q96.3021 427.786 97.1818 426.05 Q98.0845 424.291 98.0845 422.601 Q98.0845 419.846 96.1401 418.11 Q94.2188 416.374 91.117 416.374 Q88.9179 416.374 86.4642 417.138 Q84.0337 417.902 81.2559 419.453 L81.2559 414.73 Q84.08 413.596 86.5337 413.018 Q88.9874 412.439 91.0244 412.439 Q96.3947 412.439 99.5892 415.124 Q102.784 417.809 102.784 422.3 Q102.784 424.429 101.973 426.351 Q101.186 428.249 99.0799 430.841 Q98.5012 431.513 95.3994 434.73 Q92.2975 437.925 86.6494 443.689 Z\" fill=\"#000000\" fill-rule=\"evenodd\" fill-opacity=\"1\" /><path clip-path=\"url(#clip110)\" d=\"M 0 0 M118.038 416.142 Q114.427 416.142 112.598 419.707 Q110.793 423.249 110.793 430.379 Q110.793 437.485 112.598 441.05 Q114.427 444.591 118.038 444.591 Q121.672 444.591 123.478 441.05 Q125.307 437.485 125.307 430.379 Q125.307 423.249 123.478 419.707 Q121.672 416.142 118.038 416.142 M118.038 412.439 Q123.848 412.439 126.904 417.045 Q129.983 421.629 129.983 430.379 Q129.983 439.105 126.904 443.712 Q123.848 448.295 118.038 448.295 Q112.228 448.295 109.149 443.712 Q106.094 439.105 106.094 430.379 Q106.094 421.629 109.149 417.045 Q112.228 412.439 118.038 412.439 Z\" fill=\"#000000\" fill-rule=\"evenodd\" fill-opacity=\"1\" /><path clip-path=\"url(#clip110)\" d=\"M 0 0 M93.3855 80.7134 L81.58 99.1624 L93.3855 99.1624 L93.3855 80.7134 M92.1586 76.6394 L98.0382 76.6394 L98.0382 99.1624 L102.969 99.1624 L102.969 103.051 L98.0382 103.051 L98.0382 111.199 L93.3855 111.199 L93.3855 103.051 L77.7837 103.051 L77.7837 98.5374 L92.1586 76.6394 Z\" fill=\"#000000\" fill-rule=\"evenodd\" fill-opacity=\"1\" /><path clip-path=\"url(#clip110)\" d=\"M 0 0 M118.038 79.7181 Q114.427 79.7181 112.598 83.2829 Q110.793 86.8245 110.793 93.9541 Q110.793 101.061 112.598 104.625 Q114.427 108.167 118.038 108.167 Q121.672 108.167 123.478 104.625 Q125.307 101.061 125.307 93.9541 Q125.307 86.8245 123.478 83.2829 Q121.672 79.7181 118.038 79.7181 M118.038 76.0144 Q123.848 76.0144 126.904 80.6209 Q129.983 85.2042 129.983 93.9541 Q129.983 102.681 126.904 107.287 Q123.848 111.871 118.038 111.871 Q112.228 111.871 109.149 107.287 Q106.094 102.681 106.094 93.9541 Q106.094 85.2042 109.149 80.6209 Q112.228 76.0144 118.038 76.0144 Z\" fill=\"#000000\" fill-rule=\"evenodd\" fill-opacity=\"1\" /><polyline clip-path=\"url(#clip112)\" style=\"stroke:#009af9; stroke-width:4; stroke-opacity:1; fill:none\" points=\"\n",
       "  216.212,820.914 237.165,668.135 258.117,905.495 279.07,591.559 300.023,975.546 320.975,526.864 341.928,1035.69 362.881,470.692 383.833,1088.33 404.786,421.221 \n",
       "  425.739,1134.92 446.691,377.294 467.644,1176.39 488.597,338.102 509.549,1213.45 530.502,303.046 551.455,1246.62 572.407,271.664 593.36,1276.3 614.313,243.588 \n",
       "  635.265,1302.84 656.218,218.517 677.171,1326.51 698.123,196.202 719.076,1347.53 740.029,176.432 760.981,1366.09 781.934,159.025 802.887,1382.38 823.839,143.824 \n",
       "  844.792,1396.53 865.745,130.693 886.697,1408.67 907.65,119.51 928.603,1418.92 949.555,110.167 970.508,1427.38 991.461,102.569 1012.41,1434.14 1033.37,96.6289 \n",
       "  1054.32,1439.28 1075.27,92.2678 1096.22,1442.88 1117.18,89.4145 1138.13,1445 1159.08,88.0039 1180.03,1445.72 1200.99,87.9763 1221.94,1445.07 1242.89,89.2767 \n",
       "  1263.85,1443.13 1284.8,91.8543 1305.75,1439.93 1326.7,95.6622 1347.66,1435.52 1368.61,100.657 1389.56,1429.95 1410.51,106.797 1431.47,1423.25 1452.42,114.045 \n",
       "  1473.37,1415.46 1494.32,122.366 1515.28,1406.62 1536.23,131.726 1557.18,1396.75 1578.14,142.094 1599.09,1385.89 1620.04,153.44 1640.99,1374.07 1661.95,165.736 \n",
       "  1682.9,1361.3 1703.85,178.957 1724.8,1347.63 1745.76,193.078 1766.71,1333.07 1787.66,208.074 1808.62,1317.64 1829.57,223.925 1850.52,1301.37 1871.47,240.607 \n",
       "  1892.43,1284.28 1913.38,258.102 1934.33,1266.39 1955.28,276.39 1976.24,1247.71 1997.19,295.452 2018.14,1228.27 2039.09,315.272 2060.05,1208.08 2081,335.832 \n",
       "  2101.95,1187.15 2122.91,357.117 2143.86,1165.51 2164.81,379.111 2185.76,1143.17 2206.72,401.799 2227.67,1120.14 2248.62,425.169 2269.57,1096.44 2290.53,449.207 \n",
       "  \n",
       "  \"/>\n",
       "<path clip-path=\"url(#clip110)\" d=\"\n",
       "M1989.74 251.724 L2280.76 251.724 L2280.76 130.764 L1989.74 130.764  Z\n",
       "  \" fill=\"#ffffff\" fill-rule=\"evenodd\" fill-opacity=\"1\"/>\n",
       "<polyline clip-path=\"url(#clip110)\" style=\"stroke:#000000; stroke-width:4; stroke-opacity:1; fill:none\" points=\"\n",
       "  1989.74,251.724 2280.76,251.724 2280.76,130.764 1989.74,130.764 1989.74,251.724 \n",
       "  \"/>\n",
       "<polyline clip-path=\"url(#clip110)\" style=\"stroke:#009af9; stroke-width:4; stroke-opacity:1; fill:none\" points=\"\n",
       "  2013.74,191.244 2157.74,191.244 \n",
       "  \"/>\n",
       "<path clip-path=\"url(#clip110)\" d=\"M 0 0 M2195.58 210.931 Q2193.77 215.561 2192.06 216.973 Q2190.35 218.385 2187.48 218.385 L2184.08 218.385 L2184.08 214.82 L2186.58 214.82 Q2188.33 214.82 2189.31 213.987 Q2190.28 213.154 2191.46 210.052 L2192.22 208.107 L2181.74 182.598 L2186.25 182.598 L2194.35 202.876 L2202.46 182.598 L2206.97 182.598 L2195.58 210.931 Z\" fill=\"#000000\" fill-rule=\"evenodd\" fill-opacity=\"1\" /><path clip-path=\"url(#clip110)\" d=\"M 0 0 M2212.85 204.589 L2220.49 204.589 L2220.49 178.223 L2212.18 179.89 L2212.18 175.631 L2220.44 173.964 L2225.12 173.964 L2225.12 204.589 L2232.76 204.589 L2232.76 208.524 L2212.85 208.524 L2212.85 204.589 Z\" fill=\"#000000\" fill-rule=\"evenodd\" fill-opacity=\"1\" /></svg>\n"
      ]
     },
     "execution_count": 26,
     "metadata": {},
     "output_type": "execute_result"
    }
   ],
   "source": [
    "let t = -50.0\n",
    "    Plots.plot(\n",
    "        1:100,\n",
    "        k -> signed_log(beta_mgf_v5(α, β, t, k)),\n",
    "    )\n",
    "end"
   ]
  },
  {
   "cell_type": "markdown",
   "metadata": {},
   "source": [
    "Now it seems like the series is not stabilizing. We might want to evaluate more terms and see what happens:"
   ]
  },
  {
   "cell_type": "code",
   "execution_count": 27,
   "metadata": {},
   "outputs": [
    {
     "data": {
      "image/svg+xml": [
       "<?xml version=\"1.0\" encoding=\"utf-8\"?>\n",
       "<svg xmlns=\"http://www.w3.org/2000/svg\" xmlns:xlink=\"http://www.w3.org/1999/xlink\" width=\"600\" height=\"400\" viewBox=\"0 0 2400 1600\">\n",
       "<defs>\n",
       "  <clipPath id=\"clip150\">\n",
       "    <rect x=\"0\" y=\"0\" width=\"2400\" height=\"1600\"/>\n",
       "  </clipPath>\n",
       "</defs>\n",
       "<path clip-path=\"url(#clip150)\" d=\"\n",
       "M0 1600 L2400 1600 L2400 0 L0 0  Z\n",
       "  \" fill=\"#ffffff\" fill-rule=\"evenodd\" fill-opacity=\"1\"/>\n",
       "<defs>\n",
       "  <clipPath id=\"clip151\">\n",
       "    <rect x=\"480\" y=\"0\" width=\"1681\" height=\"1600\"/>\n",
       "  </clipPath>\n",
       "</defs>\n",
       "<path clip-path=\"url(#clip150)\" d=\"\n",
       "M153.983 1486.45 L2352.76 1486.45 L2352.76 47.2441 L153.983 47.2441  Z\n",
       "  \" fill=\"#ffffff\" fill-rule=\"evenodd\" fill-opacity=\"1\"/>\n",
       "<defs>\n",
       "  <clipPath id=\"clip152\">\n",
       "    <rect x=\"153\" y=\"47\" width=\"2200\" height=\"1440\"/>\n",
       "  </clipPath>\n",
       "</defs>\n",
       "<polyline clip-path=\"url(#clip152)\" style=\"stroke:#000000; stroke-width:2; stroke-opacity:0.1; fill:none\" points=\"\n",
       "  207.881,1486.45 207.881,47.2441 \n",
       "  \"/>\n",
       "<polyline clip-path=\"url(#clip152)\" style=\"stroke:#000000; stroke-width:2; stroke-opacity:0.1; fill:none\" points=\"\n",
       "  624.41,1486.45 624.41,47.2441 \n",
       "  \"/>\n",
       "<polyline clip-path=\"url(#clip152)\" style=\"stroke:#000000; stroke-width:2; stroke-opacity:0.1; fill:none\" points=\"\n",
       "  1040.94,1486.45 1040.94,47.2441 \n",
       "  \"/>\n",
       "<polyline clip-path=\"url(#clip152)\" style=\"stroke:#000000; stroke-width:2; stroke-opacity:0.1; fill:none\" points=\"\n",
       "  1457.47,1486.45 1457.47,47.2441 \n",
       "  \"/>\n",
       "<polyline clip-path=\"url(#clip152)\" style=\"stroke:#000000; stroke-width:2; stroke-opacity:0.1; fill:none\" points=\"\n",
       "  1874,1486.45 1874,47.2441 \n",
       "  \"/>\n",
       "<polyline clip-path=\"url(#clip152)\" style=\"stroke:#000000; stroke-width:2; stroke-opacity:0.1; fill:none\" points=\"\n",
       "  2290.53,1486.45 2290.53,47.2441 \n",
       "  \"/>\n",
       "<polyline clip-path=\"url(#clip152)\" style=\"stroke:#000000; stroke-width:2; stroke-opacity:0.1; fill:none\" points=\"\n",
       "  153.983,1439.62 2352.76,1439.62 \n",
       "  \"/>\n",
       "<polyline clip-path=\"url(#clip152)\" style=\"stroke:#000000; stroke-width:2; stroke-opacity:0.1; fill:none\" points=\"\n",
       "  153.983,1103.19 2352.76,1103.19 \n",
       "  \"/>\n",
       "<polyline clip-path=\"url(#clip152)\" style=\"stroke:#000000; stroke-width:2; stroke-opacity:0.1; fill:none\" points=\"\n",
       "  153.983,766.768 2352.76,766.768 \n",
       "  \"/>\n",
       "<polyline clip-path=\"url(#clip152)\" style=\"stroke:#000000; stroke-width:2; stroke-opacity:0.1; fill:none\" points=\"\n",
       "  153.983,430.344 2352.76,430.344 \n",
       "  \"/>\n",
       "<polyline clip-path=\"url(#clip152)\" style=\"stroke:#000000; stroke-width:2; stroke-opacity:0.1; fill:none\" points=\"\n",
       "  153.983,93.9194 2352.76,93.9194 \n",
       "  \"/>\n",
       "<polyline clip-path=\"url(#clip150)\" style=\"stroke:#000000; stroke-width:4; stroke-opacity:1; fill:none\" points=\"\n",
       "  153.983,1486.45 2352.76,1486.45 \n",
       "  \"/>\n",
       "<polyline clip-path=\"url(#clip150)\" style=\"stroke:#000000; stroke-width:4; stroke-opacity:1; fill:none\" points=\"\n",
       "  153.983,1486.45 153.983,47.2441 \n",
       "  \"/>\n",
       "<polyline clip-path=\"url(#clip150)\" style=\"stroke:#000000; stroke-width:4; stroke-opacity:1; fill:none\" points=\"\n",
       "  207.881,1486.45 207.881,1469.18 \n",
       "  \"/>\n",
       "<polyline clip-path=\"url(#clip150)\" style=\"stroke:#000000; stroke-width:4; stroke-opacity:1; fill:none\" points=\"\n",
       "  624.41,1486.45 624.41,1469.18 \n",
       "  \"/>\n",
       "<polyline clip-path=\"url(#clip150)\" style=\"stroke:#000000; stroke-width:4; stroke-opacity:1; fill:none\" points=\"\n",
       "  1040.94,1486.45 1040.94,1469.18 \n",
       "  \"/>\n",
       "<polyline clip-path=\"url(#clip150)\" style=\"stroke:#000000; stroke-width:4; stroke-opacity:1; fill:none\" points=\"\n",
       "  1457.47,1486.45 1457.47,1469.18 \n",
       "  \"/>\n",
       "<polyline clip-path=\"url(#clip150)\" style=\"stroke:#000000; stroke-width:4; stroke-opacity:1; fill:none\" points=\"\n",
       "  1874,1486.45 1874,1469.18 \n",
       "  \"/>\n",
       "<polyline clip-path=\"url(#clip150)\" style=\"stroke:#000000; stroke-width:4; stroke-opacity:1; fill:none\" points=\"\n",
       "  2290.53,1486.45 2290.53,1469.18 \n",
       "  \"/>\n",
       "<polyline clip-path=\"url(#clip150)\" style=\"stroke:#000000; stroke-width:4; stroke-opacity:1; fill:none\" points=\"\n",
       "  153.983,1439.62 180.368,1439.62 \n",
       "  \"/>\n",
       "<polyline clip-path=\"url(#clip150)\" style=\"stroke:#000000; stroke-width:4; stroke-opacity:1; fill:none\" points=\"\n",
       "  153.983,1103.19 180.368,1103.19 \n",
       "  \"/>\n",
       "<polyline clip-path=\"url(#clip150)\" style=\"stroke:#000000; stroke-width:4; stroke-opacity:1; fill:none\" points=\"\n",
       "  153.983,766.768 180.368,766.768 \n",
       "  \"/>\n",
       "<polyline clip-path=\"url(#clip150)\" style=\"stroke:#000000; stroke-width:4; stroke-opacity:1; fill:none\" points=\"\n",
       "  153.983,430.344 180.368,430.344 \n",
       "  \"/>\n",
       "<polyline clip-path=\"url(#clip150)\" style=\"stroke:#000000; stroke-width:4; stroke-opacity:1; fill:none\" points=\"\n",
       "  153.983,93.9194 180.368,93.9194 \n",
       "  \"/>\n",
       "<path clip-path=\"url(#clip150)\" d=\"M 0 0 M207.881 1508.44 Q204.27 1508.44 202.442 1512 Q200.636 1515.55 200.636 1522.67 Q200.636 1529.78 202.442 1533.35 Q204.27 1536.89 207.881 1536.89 Q211.516 1536.89 213.321 1533.35 Q215.15 1529.78 215.15 1522.67 Q215.15 1515.55 213.321 1512 Q211.516 1508.44 207.881 1508.44 M207.881 1504.73 Q213.692 1504.73 216.747 1509.34 Q219.826 1513.92 219.826 1522.67 Q219.826 1531.4 216.747 1536.01 Q213.692 1540.59 207.881 1540.59 Q202.071 1540.59 198.993 1536.01 Q195.937 1531.4 195.937 1522.67 Q195.937 1513.92 198.993 1509.34 Q202.071 1504.73 207.881 1504.73 Z\" fill=\"#000000\" fill-rule=\"evenodd\" fill-opacity=\"1\" /><path clip-path=\"url(#clip150)\" d=\"M 0 0 M601.181 1505.36 L619.538 1505.36 L619.538 1509.3 L605.464 1509.3 L605.464 1517.77 Q606.482 1517.42 607.501 1517.26 Q608.519 1517.07 609.538 1517.07 Q615.325 1517.07 618.704 1520.24 Q622.084 1523.42 622.084 1528.83 Q622.084 1534.41 618.612 1537.51 Q615.14 1540.59 608.82 1540.59 Q606.644 1540.59 604.376 1540.22 Q602.13 1539.85 599.723 1539.11 L599.723 1534.41 Q601.806 1535.54 604.029 1536.1 Q606.251 1536.66 608.728 1536.66 Q612.732 1536.66 615.07 1534.55 Q617.408 1532.44 617.408 1528.83 Q617.408 1525.22 615.07 1523.11 Q612.732 1521.01 608.728 1521.01 Q606.853 1521.01 604.978 1521.42 Q603.126 1521.84 601.181 1522.72 L601.181 1505.36 Z\" fill=\"#000000\" fill-rule=\"evenodd\" fill-opacity=\"1\" /><path clip-path=\"url(#clip150)\" d=\"M 0 0 M637.153 1508.44 Q633.542 1508.44 631.714 1512 Q629.908 1515.55 629.908 1522.67 Q629.908 1529.78 631.714 1533.35 Q633.542 1536.89 637.153 1536.89 Q640.788 1536.89 642.593 1533.35 Q644.422 1529.78 644.422 1522.67 Q644.422 1515.55 642.593 1512 Q640.788 1508.44 637.153 1508.44 M637.153 1504.73 Q642.964 1504.73 646.019 1509.34 Q649.098 1513.92 649.098 1522.67 Q649.098 1531.4 646.019 1536.01 Q642.964 1540.59 637.153 1540.59 Q631.343 1540.59 628.265 1536.01 Q625.209 1531.4 625.209 1522.67 Q625.209 1513.92 628.265 1509.34 Q631.343 1504.73 637.153 1504.73 Z\" fill=\"#000000\" fill-rule=\"evenodd\" fill-opacity=\"1\" /><path clip-path=\"url(#clip150)\" d=\"M 0 0 M1004.31 1535.98 L1011.95 1535.98 L1011.95 1509.62 L1003.64 1511.29 L1003.64 1507.03 L1011.9 1505.36 L1016.58 1505.36 L1016.58 1535.98 L1024.21 1535.98 L1024.21 1539.92 L1004.31 1539.92 L1004.31 1535.98 Z\" fill=\"#000000\" fill-rule=\"evenodd\" fill-opacity=\"1\" /><path clip-path=\"url(#clip150)\" d=\"M 0 0 M1039.28 1508.44 Q1035.67 1508.44 1033.84 1512 Q1032.04 1515.55 1032.04 1522.67 Q1032.04 1529.78 1033.84 1533.35 Q1035.67 1536.89 1039.28 1536.89 Q1042.92 1536.89 1044.72 1533.35 Q1046.55 1529.78 1046.55 1522.67 Q1046.55 1515.55 1044.72 1512 Q1042.92 1508.44 1039.28 1508.44 M1039.28 1504.73 Q1045.09 1504.73 1048.15 1509.34 Q1051.23 1513.92 1051.23 1522.67 Q1051.23 1531.4 1048.15 1536.01 Q1045.09 1540.59 1039.28 1540.59 Q1033.47 1540.59 1030.4 1536.01 Q1027.34 1531.4 1027.34 1522.67 Q1027.34 1513.92 1030.4 1509.34 Q1033.47 1504.73 1039.28 1504.73 Z\" fill=\"#000000\" fill-rule=\"evenodd\" fill-opacity=\"1\" /><path clip-path=\"url(#clip150)\" d=\"M 0 0 M1066.3 1508.44 Q1062.69 1508.44 1060.86 1512 Q1059.05 1515.55 1059.05 1522.67 Q1059.05 1529.78 1060.86 1533.35 Q1062.69 1536.89 1066.3 1536.89 Q1069.93 1536.89 1071.74 1533.35 Q1073.57 1529.78 1073.57 1522.67 Q1073.57 1515.55 1071.74 1512 Q1069.93 1508.44 1066.3 1508.44 M1066.3 1504.73 Q1072.11 1504.73 1075.16 1509.34 Q1078.24 1513.92 1078.24 1522.67 Q1078.24 1531.4 1075.16 1536.01 Q1072.11 1540.59 1066.3 1540.59 Q1060.49 1540.59 1057.41 1536.01 Q1054.35 1531.4 1054.35 1522.67 Q1054.35 1513.92 1057.41 1509.34 Q1060.49 1504.73 1066.3 1504.73 Z\" fill=\"#000000\" fill-rule=\"evenodd\" fill-opacity=\"1\" /><path clip-path=\"url(#clip150)\" d=\"M 0 0 M1421.33 1535.98 L1428.97 1535.98 L1428.97 1509.62 L1420.66 1511.29 L1420.66 1507.03 L1428.93 1505.36 L1433.6 1505.36 L1433.6 1535.98 L1441.24 1535.98 L1441.24 1539.92 L1421.33 1539.92 L1421.33 1535.98 Z\" fill=\"#000000\" fill-rule=\"evenodd\" fill-opacity=\"1\" /><path clip-path=\"url(#clip150)\" d=\"M 0 0 M1446.36 1505.36 L1464.71 1505.36 L1464.71 1509.3 L1450.64 1509.3 L1450.64 1517.77 Q1451.66 1517.42 1452.68 1517.26 Q1453.7 1517.07 1454.71 1517.07 Q1460.5 1517.07 1463.88 1520.24 Q1467.26 1523.42 1467.26 1528.83 Q1467.26 1534.41 1463.79 1537.51 Q1460.32 1540.59 1454 1540.59 Q1451.82 1540.59 1449.55 1540.22 Q1447.31 1539.85 1444.9 1539.11 L1444.9 1534.41 Q1446.98 1535.54 1449.2 1536.1 Q1451.43 1536.66 1453.9 1536.66 Q1457.91 1536.66 1460.25 1534.55 Q1462.58 1532.44 1462.58 1528.83 Q1462.58 1525.22 1460.25 1523.11 Q1457.91 1521.01 1453.9 1521.01 Q1452.03 1521.01 1450.15 1521.42 Q1448.3 1521.84 1446.36 1522.72 L1446.36 1505.36 Z\" fill=\"#000000\" fill-rule=\"evenodd\" fill-opacity=\"1\" /><path clip-path=\"url(#clip150)\" d=\"M 0 0 M1482.33 1508.44 Q1478.72 1508.44 1476.89 1512 Q1475.08 1515.55 1475.08 1522.67 Q1475.08 1529.78 1476.89 1533.35 Q1478.72 1536.89 1482.33 1536.89 Q1485.96 1536.89 1487.77 1533.35 Q1489.6 1529.78 1489.6 1522.67 Q1489.6 1515.55 1487.77 1512 Q1485.96 1508.44 1482.33 1508.44 M1482.33 1504.73 Q1488.14 1504.73 1491.2 1509.34 Q1494.27 1513.92 1494.27 1522.67 Q1494.27 1531.4 1491.2 1536.01 Q1488.14 1540.59 1482.33 1540.59 Q1476.52 1540.59 1473.44 1536.01 Q1470.39 1531.4 1470.39 1522.67 Q1470.39 1513.92 1473.44 1509.34 Q1476.52 1504.73 1482.33 1504.73 Z\" fill=\"#000000\" fill-rule=\"evenodd\" fill-opacity=\"1\" /><path clip-path=\"url(#clip150)\" d=\"M 0 0 M1841.64 1535.98 L1857.96 1535.98 L1857.96 1539.92 L1836.01 1539.92 L1836.01 1535.98 Q1838.67 1533.23 1843.26 1528.6 Q1847.86 1523.95 1849.04 1522.61 Q1851.29 1520.08 1852.17 1518.35 Q1853.07 1516.59 1853.07 1514.9 Q1853.07 1512.14 1851.13 1510.41 Q1849.21 1508.67 1846.1 1508.67 Q1843.91 1508.67 1841.45 1509.43 Q1839.02 1510.2 1836.24 1511.75 L1836.24 1507.03 Q1839.07 1505.89 1841.52 1505.31 Q1843.97 1504.73 1846.01 1504.73 Q1851.38 1504.73 1854.58 1507.42 Q1857.77 1510.11 1857.77 1514.6 Q1857.77 1516.73 1856.96 1518.65 Q1856.17 1520.54 1854.07 1523.14 Q1853.49 1523.81 1850.39 1527.03 Q1847.28 1530.22 1841.64 1535.98 Z\" fill=\"#000000\" fill-rule=\"evenodd\" fill-opacity=\"1\" /><path clip-path=\"url(#clip150)\" d=\"M 0 0 M1873.03 1508.44 Q1869.41 1508.44 1867.59 1512 Q1865.78 1515.55 1865.78 1522.67 Q1865.78 1529.78 1867.59 1533.35 Q1869.41 1536.89 1873.03 1536.89 Q1876.66 1536.89 1878.47 1533.35 Q1880.29 1529.78 1880.29 1522.67 Q1880.29 1515.55 1878.47 1512 Q1876.66 1508.44 1873.03 1508.44 M1873.03 1504.73 Q1878.84 1504.73 1881.89 1509.34 Q1884.97 1513.92 1884.97 1522.67 Q1884.97 1531.4 1881.89 1536.01 Q1878.84 1540.59 1873.03 1540.59 Q1867.22 1540.59 1864.14 1536.01 Q1861.08 1531.4 1861.08 1522.67 Q1861.08 1513.92 1864.14 1509.34 Q1867.22 1504.73 1873.03 1504.73 Z\" fill=\"#000000\" fill-rule=\"evenodd\" fill-opacity=\"1\" /><path clip-path=\"url(#clip150)\" d=\"M 0 0 M1900.04 1508.44 Q1896.43 1508.44 1894.6 1512 Q1892.79 1515.55 1892.79 1522.67 Q1892.79 1529.78 1894.6 1533.35 Q1896.43 1536.89 1900.04 1536.89 Q1903.67 1536.89 1905.48 1533.35 Q1907.31 1529.78 1907.31 1522.67 Q1907.31 1515.55 1905.48 1512 Q1903.67 1508.44 1900.04 1508.44 M1900.04 1504.73 Q1905.85 1504.73 1908.9 1509.34 Q1911.98 1513.92 1911.98 1522.67 Q1911.98 1531.4 1908.9 1536.01 Q1905.85 1540.59 1900.04 1540.59 Q1894.23 1540.59 1891.15 1536.01 Q1888.09 1531.4 1888.09 1522.67 Q1888.09 1513.92 1891.15 1509.34 Q1894.23 1504.73 1900.04 1504.73 Z\" fill=\"#000000\" fill-rule=\"evenodd\" fill-opacity=\"1\" /><path clip-path=\"url(#clip150)\" d=\"M 0 0 M2258.66 1535.98 L2274.98 1535.98 L2274.98 1539.92 L2253.04 1539.92 L2253.04 1535.98 Q2255.7 1533.23 2260.28 1528.6 Q2264.89 1523.95 2266.07 1522.61 Q2268.32 1520.08 2269.2 1518.35 Q2270.1 1516.59 2270.1 1514.9 Q2270.1 1512.14 2268.15 1510.41 Q2266.23 1508.67 2263.13 1508.67 Q2260.93 1508.67 2258.48 1509.43 Q2256.05 1510.2 2253.27 1511.75 L2253.27 1507.03 Q2256.09 1505.89 2258.55 1505.31 Q2261 1504.73 2263.04 1504.73 Q2268.41 1504.73 2271.6 1507.42 Q2274.8 1510.11 2274.8 1514.6 Q2274.8 1516.73 2273.99 1518.65 Q2273.2 1520.54 2271.09 1523.14 Q2270.52 1523.81 2267.41 1527.03 Q2264.31 1530.22 2258.66 1535.98 Z\" fill=\"#000000\" fill-rule=\"evenodd\" fill-opacity=\"1\" /><path clip-path=\"url(#clip150)\" d=\"M 0 0 M2280.1 1505.36 L2298.45 1505.36 L2298.45 1509.3 L2284.38 1509.3 L2284.38 1517.77 Q2285.4 1517.42 2286.42 1517.26 Q2287.44 1517.07 2288.45 1517.07 Q2294.24 1517.07 2297.62 1520.24 Q2301 1523.42 2301 1528.83 Q2301 1534.41 2297.53 1537.51 Q2294.06 1540.59 2287.74 1540.59 Q2285.56 1540.59 2283.29 1540.22 Q2281.05 1539.85 2278.64 1539.11 L2278.64 1534.41 Q2280.72 1535.54 2282.95 1536.1 Q2285.17 1536.66 2287.64 1536.66 Q2291.65 1536.66 2293.99 1534.55 Q2296.33 1532.44 2296.33 1528.83 Q2296.33 1525.22 2293.99 1523.11 Q2291.65 1521.01 2287.64 1521.01 Q2285.77 1521.01 2283.89 1521.42 Q2282.04 1521.84 2280.1 1522.72 L2280.1 1505.36 Z\" fill=\"#000000\" fill-rule=\"evenodd\" fill-opacity=\"1\" /><path clip-path=\"url(#clip150)\" d=\"M 0 0 M2316.07 1508.44 Q2312.46 1508.44 2310.63 1512 Q2308.82 1515.55 2308.82 1522.67 Q2308.82 1529.78 2310.63 1533.35 Q2312.46 1536.89 2316.07 1536.89 Q2319.7 1536.89 2321.51 1533.35 Q2323.34 1529.78 2323.34 1522.67 Q2323.34 1515.55 2321.51 1512 Q2319.7 1508.44 2316.07 1508.44 M2316.07 1504.73 Q2321.88 1504.73 2324.94 1509.34 Q2328.01 1513.92 2328.01 1522.67 Q2328.01 1531.4 2324.94 1536.01 Q2321.88 1540.59 2316.07 1540.59 Q2310.26 1540.59 2307.18 1536.01 Q2304.13 1531.4 2304.13 1522.67 Q2304.13 1513.92 2307.18 1509.34 Q2310.26 1504.73 2316.07 1504.73 Z\" fill=\"#000000\" fill-rule=\"evenodd\" fill-opacity=\"1\" /><path clip-path=\"url(#clip150)\" d=\"M 0 0 M62.9921 1442.01 L75.4689 1442.01 L75.4689 1445.81 L62.9921 1445.81 L62.9921 1442.01 Z\" fill=\"#000000\" fill-rule=\"evenodd\" fill-opacity=\"1\" /><path clip-path=\"url(#clip150)\" d=\"M 0 0 M93.3855 1426.41 L81.58 1444.86 L93.3855 1444.86 L93.3855 1426.41 M92.1586 1422.34 L98.0382 1422.34 L98.0382 1444.86 L102.969 1444.86 L102.969 1448.75 L98.0382 1448.75 L98.0382 1456.9 L93.3855 1456.9 L93.3855 1448.75 L77.7837 1448.75 L77.7837 1444.24 L92.1586 1422.34 Z\" fill=\"#000000\" fill-rule=\"evenodd\" fill-opacity=\"1\" /><path clip-path=\"url(#clip150)\" d=\"M 0 0 M118.038 1425.42 Q114.427 1425.42 112.598 1428.98 Q110.793 1432.52 110.793 1439.65 Q110.793 1446.76 112.598 1450.32 Q114.427 1453.86 118.038 1453.86 Q121.672 1453.86 123.478 1450.32 Q125.307 1446.76 125.307 1439.65 Q125.307 1432.52 123.478 1428.98 Q121.672 1425.42 118.038 1425.42 M118.038 1421.71 Q123.848 1421.71 126.904 1426.32 Q129.983 1430.9 129.983 1439.65 Q129.983 1448.38 126.904 1452.99 Q123.848 1457.57 118.038 1457.57 Q112.228 1457.57 109.149 1452.99 Q106.094 1448.38 106.094 1439.65 Q106.094 1430.9 109.149 1426.32 Q112.228 1421.71 118.038 1421.71 Z\" fill=\"#000000\" fill-rule=\"evenodd\" fill-opacity=\"1\" /><path clip-path=\"url(#clip150)\" d=\"M 0 0 M65.0754 1105.59 L77.5522 1105.59 L77.5522 1109.38 L65.0754 1109.38 L65.0754 1105.59 Z\" fill=\"#000000\" fill-rule=\"evenodd\" fill-opacity=\"1\" /><path clip-path=\"url(#clip150)\" d=\"M 0 0 M86.6494 1116.54 L102.969 1116.54 L102.969 1120.47 L81.0244 1120.47 L81.0244 1116.54 Q83.6865 1113.78 88.2698 1109.15 Q92.8762 1104.5 94.0568 1103.16 Q96.3021 1100.63 97.1818 1098.9 Q98.0845 1097.14 98.0845 1095.45 Q98.0845 1092.7 96.1401 1090.96 Q94.2188 1089.22 91.117 1089.22 Q88.9179 1089.22 86.4642 1089.99 Q84.0337 1090.75 81.2559 1092.3 L81.2559 1087.58 Q84.08 1086.45 86.5337 1085.87 Q88.9874 1085.29 91.0244 1085.29 Q96.3947 1085.29 99.5892 1087.97 Q102.784 1090.66 102.784 1095.15 Q102.784 1097.28 101.973 1099.2 Q101.186 1101.1 99.0799 1103.69 Q98.5012 1104.36 95.3994 1107.58 Q92.2975 1110.77 86.6494 1116.54 Z\" fill=\"#000000\" fill-rule=\"evenodd\" fill-opacity=\"1\" /><path clip-path=\"url(#clip150)\" d=\"M 0 0 M118.038 1088.99 Q114.427 1088.99 112.598 1092.56 Q110.793 1096.1 110.793 1103.23 Q110.793 1110.33 112.598 1113.9 Q114.427 1117.44 118.038 1117.44 Q121.672 1117.44 123.478 1113.9 Q125.307 1110.33 125.307 1103.23 Q125.307 1096.1 123.478 1092.56 Q121.672 1088.99 118.038 1088.99 M118.038 1085.29 Q123.848 1085.29 126.904 1089.89 Q129.983 1094.48 129.983 1103.23 Q129.983 1111.95 126.904 1116.56 Q123.848 1121.14 118.038 1121.14 Q112.228 1121.14 109.149 1116.56 Q106.094 1111.95 106.094 1103.23 Q106.094 1094.48 109.149 1089.89 Q112.228 1085.29 118.038 1085.29 Z\" fill=\"#000000\" fill-rule=\"evenodd\" fill-opacity=\"1\" /><path clip-path=\"url(#clip150)\" d=\"M 0 0 M118.038 752.567 Q114.427 752.567 112.598 756.132 Q110.793 759.673 110.793 766.803 Q110.793 773.909 112.598 777.474 Q114.427 781.016 118.038 781.016 Q121.672 781.016 123.478 777.474 Q125.307 773.909 125.307 766.803 Q125.307 759.673 123.478 756.132 Q121.672 752.567 118.038 752.567 M118.038 748.863 Q123.848 748.863 126.904 753.47 Q129.983 758.053 129.983 766.803 Q129.983 775.53 126.904 780.136 Q123.848 784.72 118.038 784.72 Q112.228 784.72 109.149 780.136 Q106.094 775.53 106.094 766.803 Q106.094 758.053 109.149 753.47 Q112.228 748.863 118.038 748.863 Z\" fill=\"#000000\" fill-rule=\"evenodd\" fill-opacity=\"1\" /><path clip-path=\"url(#clip150)\" d=\"M 0 0 M86.6494 443.689 L102.969 443.689 L102.969 447.624 L81.0244 447.624 L81.0244 443.689 Q83.6865 440.934 88.2698 436.304 Q92.8762 431.652 94.0568 430.309 Q96.3021 427.786 97.1818 426.05 Q98.0845 424.291 98.0845 422.601 Q98.0845 419.846 96.1401 418.11 Q94.2188 416.374 91.117 416.374 Q88.9179 416.374 86.4642 417.138 Q84.0337 417.902 81.2559 419.453 L81.2559 414.73 Q84.08 413.596 86.5337 413.018 Q88.9874 412.439 91.0244 412.439 Q96.3947 412.439 99.5892 415.124 Q102.784 417.809 102.784 422.3 Q102.784 424.429 101.973 426.351 Q101.186 428.249 99.0799 430.841 Q98.5012 431.513 95.3994 434.73 Q92.2975 437.925 86.6494 443.689 Z\" fill=\"#000000\" fill-rule=\"evenodd\" fill-opacity=\"1\" /><path clip-path=\"url(#clip150)\" d=\"M 0 0 M118.038 416.142 Q114.427 416.142 112.598 419.707 Q110.793 423.249 110.793 430.379 Q110.793 437.485 112.598 441.05 Q114.427 444.591 118.038 444.591 Q121.672 444.591 123.478 441.05 Q125.307 437.485 125.307 430.379 Q125.307 423.249 123.478 419.707 Q121.672 416.142 118.038 416.142 M118.038 412.439 Q123.848 412.439 126.904 417.045 Q129.983 421.629 129.983 430.379 Q129.983 439.105 126.904 443.712 Q123.848 448.295 118.038 448.295 Q112.228 448.295 109.149 443.712 Q106.094 439.105 106.094 430.379 Q106.094 421.629 109.149 417.045 Q112.228 412.439 118.038 412.439 Z\" fill=\"#000000\" fill-rule=\"evenodd\" fill-opacity=\"1\" /><path clip-path=\"url(#clip150)\" d=\"M 0 0 M93.3855 80.7134 L81.58 99.1624 L93.3855 99.1624 L93.3855 80.7134 M92.1586 76.6394 L98.0382 76.6394 L98.0382 99.1624 L102.969 99.1624 L102.969 103.051 L98.0382 103.051 L98.0382 111.199 L93.3855 111.199 L93.3855 103.051 L77.7837 103.051 L77.7837 98.5374 L92.1586 76.6394 Z\" fill=\"#000000\" fill-rule=\"evenodd\" fill-opacity=\"1\" /><path clip-path=\"url(#clip150)\" d=\"M 0 0 M118.038 79.7181 Q114.427 79.7181 112.598 83.2829 Q110.793 86.8245 110.793 93.9541 Q110.793 101.061 112.598 104.625 Q114.427 108.167 118.038 108.167 Q121.672 108.167 123.478 104.625 Q125.307 101.061 125.307 93.9541 Q125.307 86.8245 123.478 83.2829 Q121.672 79.7181 118.038 79.7181 M118.038 76.0144 Q123.848 76.0144 126.904 80.6209 Q129.983 85.2042 129.983 93.9541 Q129.983 102.681 126.904 107.287 Q123.848 111.871 118.038 111.871 Q112.228 111.871 109.149 107.287 Q106.094 102.681 106.094 93.9541 Q106.094 85.2042 109.149 80.6209 Q112.228 76.0144 118.038 76.0144 Z\" fill=\"#000000\" fill-rule=\"evenodd\" fill-opacity=\"1\" /><polyline clip-path=\"url(#clip152)\" style=\"stroke:#009af9; stroke-width:4; stroke-opacity:1; fill:none\" points=\"\n",
       "  216.212,820.914 224.543,668.135 232.873,905.495 241.204,591.559 249.534,975.546 257.865,526.864 266.195,1035.69 274.526,470.692 282.857,1088.33 291.187,421.221 \n",
       "  299.518,1134.92 307.848,377.294 316.179,1176.39 324.509,338.102 332.84,1213.45 341.171,303.046 349.501,1246.62 357.832,271.664 366.162,1276.3 374.493,243.588 \n",
       "  382.824,1302.84 391.154,218.517 399.485,1326.51 407.815,196.202 416.146,1347.53 424.476,176.432 432.807,1366.09 441.138,159.025 449.468,1382.38 457.799,143.824 \n",
       "  466.129,1396.53 474.46,130.693 482.791,1408.67 491.121,119.51 499.452,1418.92 507.782,110.167 516.113,1427.38 524.443,102.569 532.774,1434.14 541.105,96.6289 \n",
       "  549.435,1439.28 557.766,92.2678 566.096,1442.88 574.427,89.4145 582.757,1445 591.088,88.0039 599.419,1445.72 607.749,87.9763 616.08,1445.07 624.41,89.2767 \n",
       "  632.741,1443.13 641.072,91.8543 649.402,1439.93 657.733,95.6622 666.063,1435.52 674.394,100.657 682.724,1429.95 691.055,106.797 699.386,1423.25 707.716,114.045 \n",
       "  716.047,1415.46 724.377,122.366 732.708,1406.62 741.039,131.726 749.369,1396.75 757.7,142.094 766.03,1385.89 774.361,153.44 782.691,1374.07 791.022,165.736 \n",
       "  799.353,1361.3 807.683,178.957 816.014,1347.63 824.344,193.078 832.675,1333.07 841.005,208.074 849.336,1317.64 857.667,223.925 865.997,1301.37 874.328,240.607 \n",
       "  882.658,1284.28 890.989,258.102 899.32,1266.39 907.65,276.39 915.981,1247.71 924.311,295.452 932.642,1228.27 940.972,315.272 949.303,1208.08 957.634,335.832 \n",
       "  965.964,1187.15 974.295,357.117 982.625,1165.51 990.956,379.111 999.287,1143.17 1007.62,401.799 1015.95,1120.14 1024.28,425.169 1032.61,1096.44 1040.94,449.207 \n",
       "  1049.27,1072.08 1057.6,473.907 1065.93,1047.09 1074.26,499.29 1082.59,1021.55 1090.92,525.498 1099.25,995.812 1107.58,553.347 1115.91,971.342 1124.25,589.098 \n",
       "  1132.58,952.689 1140.91,932.024 1149.24,944.104 1157.57,939.906 1165.9,941.83 1174.23,941.041 1182.56,941.377 1190.89,941.238 1199.22,941.296 1207.55,941.272 \n",
       "  1215.88,941.282 1224.21,941.278 1232.54,941.279 1240.87,941.279 1249.2,941.279 1257.53,941.279 1265.87,941.279 1274.2,941.279 1282.53,941.279 1290.86,941.279 \n",
       "  1299.19,941.279 1307.52,941.279 1315.85,941.279 1324.18,941.279 1332.51,941.279 1340.84,941.279 1349.17,941.279 1357.5,941.279 1365.83,941.279 1374.16,941.279 \n",
       "  1382.49,941.279 1390.82,941.279 1399.15,941.279 1407.48,941.279 1415.82,941.279 1424.15,941.279 1432.48,941.279 1440.81,941.279 1449.14,941.279 1457.47,941.279 \n",
       "  1465.8,941.279 1474.13,941.279 1482.46,941.279 1490.79,941.279 1499.12,941.279 1507.45,941.279 1515.78,941.279 1524.11,941.279 1532.44,941.279 1540.77,941.279 \n",
       "  1549.1,941.279 1557.44,941.279 1565.77,941.279 1574.1,941.279 1582.43,941.279 1590.76,941.279 1599.09,941.279 1607.42,941.279 1615.75,941.279 1624.08,941.279 \n",
       "  1632.41,941.279 1640.74,941.279 1649.07,941.279 1657.4,941.279 1665.73,941.279 1674.06,941.279 1682.39,941.279 1690.72,941.279 1699.06,941.279 1707.39,941.279 \n",
       "  1715.72,941.279 1724.05,941.279 1732.38,941.279 1740.71,941.279 1749.04,941.279 1757.37,941.279 1765.7,941.279 1774.03,941.279 1782.36,941.279 1790.69,941.279 \n",
       "  1799.02,941.279 1807.35,941.279 1815.68,941.279 1824.01,941.279 1832.34,941.279 1840.68,941.279 1849.01,941.279 1857.34,941.279 1865.67,941.279 1874,941.279 \n",
       "  1882.33,941.279 1890.66,941.279 1898.99,941.279 1907.32,941.279 1915.65,941.279 1923.98,941.279 1932.31,941.279 1940.64,941.279 1948.97,941.279 1957.3,941.279 \n",
       "  1965.63,941.279 1973.96,941.279 1982.29,941.279 1990.63,941.279 1998.96,941.279 2007.29,941.279 2015.62,941.279 2023.95,941.279 2032.28,941.279 2040.61,941.279 \n",
       "  2048.94,941.279 2057.27,941.279 2065.6,941.279 2073.93,941.279 2082.26,941.279 2090.59,941.279 2098.92,941.279 2107.25,941.279 2115.58,941.279 2123.91,941.279 \n",
       "  2132.25,941.279 2140.58,941.279 2148.91,941.279 2157.24,941.279 2165.57,941.279 2173.9,941.279 2182.23,941.279 2190.56,941.279 2198.89,941.279 2207.22,941.279 \n",
       "  2215.55,941.279 2223.88,941.279 2232.21,941.279 2240.54,941.279 2248.87,941.279 2257.2,941.279 2265.53,941.279 2273.87,941.279 2282.2,941.279 2290.53,941.279 \n",
       "  \n",
       "  \"/>\n",
       "<path clip-path=\"url(#clip150)\" d=\"\n",
       "M1989.74 251.724 L2280.76 251.724 L2280.76 130.764 L1989.74 130.764  Z\n",
       "  \" fill=\"#ffffff\" fill-rule=\"evenodd\" fill-opacity=\"1\"/>\n",
       "<polyline clip-path=\"url(#clip150)\" style=\"stroke:#000000; stroke-width:4; stroke-opacity:1; fill:none\" points=\"\n",
       "  1989.74,251.724 2280.76,251.724 2280.76,130.764 1989.74,130.764 1989.74,251.724 \n",
       "  \"/>\n",
       "<polyline clip-path=\"url(#clip150)\" style=\"stroke:#009af9; stroke-width:4; stroke-opacity:1; fill:none\" points=\"\n",
       "  2013.74,191.244 2157.74,191.244 \n",
       "  \"/>\n",
       "<path clip-path=\"url(#clip150)\" d=\"M 0 0 M2195.58 210.931 Q2193.77 215.561 2192.06 216.973 Q2190.35 218.385 2187.48 218.385 L2184.08 218.385 L2184.08 214.82 L2186.58 214.82 Q2188.33 214.82 2189.31 213.987 Q2190.28 213.154 2191.46 210.052 L2192.22 208.107 L2181.74 182.598 L2186.25 182.598 L2194.35 202.876 L2202.46 182.598 L2206.97 182.598 L2195.58 210.931 Z\" fill=\"#000000\" fill-rule=\"evenodd\" fill-opacity=\"1\" /><path clip-path=\"url(#clip150)\" d=\"M 0 0 M2212.85 204.589 L2220.49 204.589 L2220.49 178.223 L2212.18 179.89 L2212.18 175.631 L2220.44 173.964 L2225.12 173.964 L2225.12 204.589 L2232.76 204.589 L2232.76 208.524 L2212.85 208.524 L2212.85 204.589 Z\" fill=\"#000000\" fill-rule=\"evenodd\" fill-opacity=\"1\" /></svg>\n"
      ]
     },
     "execution_count": 27,
     "metadata": {},
     "output_type": "execute_result"
    }
   ],
   "source": [
    "let t = -50.0\n",
    "    Plots.plot(\n",
    "        1:250,\n",
    "        k -> signed_log(beta_mgf_v5(α, β, t, k)),\n",
    "    )\n",
    "end"
   ]
  },
  {
   "cell_type": "code",
   "execution_count": 28,
   "metadata": {},
   "outputs": [
    {
     "data": {
      "text/plain": [
       "-32029.2467989566"
      ]
     },
     "execution_count": 28,
     "metadata": {},
     "output_type": "execute_result"
    }
   ],
   "source": [
    "let t = -50.0\n",
    "    beta_mgf_v5(α, β, t, 250)\n",
    "end"
   ]
  },
  {
   "cell_type": "markdown",
   "metadata": {},
   "source": [
    "What's going wrong isn't totally obvious, but it's clear that the alternating series is not stable enough for use."
   ]
  },
  {
   "cell_type": "markdown",
   "metadata": {},
   "source": [
    "### Horner's Method"
   ]
  },
  {
   "cell_type": "markdown",
   "metadata": {},
   "source": [
    "At this point, I tried to look into techniques for improving evaluation of infinite series. One obvious question was whether using Horner's rule would help, so I used the Polynomials.jl package to try that."
   ]
  },
  {
   "cell_type": "code",
   "execution_count": 29,
   "metadata": {},
   "outputs": [
    {
     "data": {
      "text/plain": [
       "coefs (generic function with 1 method)"
      ]
     },
     "execution_count": 29,
     "metadata": {},
     "output_type": "execute_result"
    }
   ],
   "source": [
    "function coefs(α, β, k_max)\n",
    "    c = fill(1.0, 1 + k_max)\n",
    "    p = 1.0\n",
    "    for k in 1:k_max\n",
    "        r = k - 1\n",
    "        p *= (α + r) / (α + β + r)\n",
    "        c[k + 1] = p / gamma(k + 1)\n",
    "    end\n",
    "    c\n",
    "end"
   ]
  },
  {
   "cell_type": "code",
   "execution_count": 30,
   "metadata": {},
   "outputs": [
    {
     "data": {
      "text/html": [
       "1.0 &#43; 0.5&#8729;x &#43; 0.15&#8729;x<sup>2</sup> &#43; 0.03333333333333333&#8729;x<sup>3</sup> &#43; 0.005952380952380952&#8729;x<sup>4</sup> &#43; 0.0008928571428571428&#8729;x<sup>5</sup> &#43; 0.00011574074074074073&#8729;x<sup>6</sup> &#43; 1.3227513227513228e-5&#8729;x<sup>7</sup> &#43; 1.352813852813853e-6&#8729;x<sup>8</sup> &#43; 1.2526054192720861e-7&#8729;x<sup>9</sup> &#43; 1.0598968932302268e-8&#8729;x<sup>10</sup> &#43; 8.258936830365404e-10&#8729;x<sup>11</sup> &#43; 5.964787710819458e-11&#8729;x<sup>12</sup> &#43; 4.014760959205404e-12&#8729;x<sup>13</sup> &#43; 2.530311528910969e-13&#8729;x<sup>14</sup> &#43; 1.499443868984278e-14&#8729;x<sup>15</sup> &#43; 8.385047951556817e-16&#8729;x<sup>16</sup> &#43; 4.439143033177139e-17&#8729;x<sup>17</sup> &#43; 2.231315281226604e-18&#8729;x<sup>18</sup> &#43; 1.067614967094069e-19&#8729;x<sup>19</sup> &#43; 4.873894414994662e-21&#8729;x<sup>20</sup> &#43; 2.1274935938468763e-22&#8729;x<sup>21</sup> &#43; 8.896791392450573e-24&#8729;x<sup>22</sup> &#43; 3.5706186190437084e-25&#8729;x<sup>23</sup> &#43; 1.377553479569332e-26&#8729;x<sup>24</sup> &#43; 5.116627209828948e-28&#8729;x<sup>25</sup> &#43; 1.8322139876045305e-29&#8729;x<sup>26</sup> &#43; 6.333579216410723e-31&#8729;x<sup>27</sup> &#43; 2.1160575723031215e-32&#8729;x<sup>28</sup> &#43; 6.8407033587385395e-34&#8729;x<sup>29</sup> &#43; 2.142038425463583e-35&#8729;x<sup>30</sup> &#43; 6.5033424682006315e-37&#8729;x<sup>31</sup> &#43; 1.9161634058091146e-38&#8729;x<sup>32</sup> &#43; 5.483969343224738e-40&#8729;x<sup>33</sup> &#43; 1.5257466376221448e-41&#8729;x<sup>34</sup> &#43; 4.129840522887008e-43&#8729;x<sup>35</sup> &#43; 1.0883482859460065e-44&#8729;x<sup>36</sup> &#43; 2.794407761212719e-46&#8729;x<sup>37</sup> &#43; 6.994987335513224e-48&#8729;x<sup>38</sup> &#43; 1.7081776155099448e-49&#8729;x<sup>39</sup> &#43; 4.0718187346457987e-51&#8729;x<sup>40</sup> &#43; 9.479844060705297e-53&#8729;x<sup>41</sup> &#43; 2.1567899185731628e-54&#8729;x<sup>42</sup> &#43; 4.797712660122304e-56&#8729;x<sup>43</sup> &#43; 1.0439896987693601e-57&#8729;x<sup>44</sup> &#43; 2.2233113955273413e-59&#8729;x<sup>45</sup> &#43; 4.636008677452752e-61&#8729;x<sup>46</sup> &#43; 9.469294319903493e-63&#8729;x<sup>47</sup> &#43; 1.8954061342944083e-64&#8729;x<sup>48</sup> &#43; 3.7193997925714445e-66&#8729;x<sup>49</sup> &#43; 7.158090166835611e-68&#8729;x<sup>50</sup> &#43; 1.3515638659239352e-69&#8729;x<sup>51</sup> &#43; 2.5046463249639355e-71&#8729;x<sup>52</sup> &#43; 4.5569710764168636e-73&#8729;x<sup>53</sup> &#43; 8.142735841550601e-75&#8729;x<sup>54</sup> &#43; 1.4294457903662496e-76&#8729;x<sup>55</sup> &#43; 2.466053572968409e-78&#8729;x<sup>56</sup> &#43; 4.1821961178996414e-80&#8729;x<sup>57</sup> &#43; 6.974267127079673e-82&#8729;x<sup>58</sup> &#43; 1.1439475878206134e-83&#8729;x<sup>59</sup> &#43; 1.8460529856364396e-85&#8729;x<sup>60</sup> &#43; 2.9317439833365585e-87&#8729;x<sup>61</sup> &#43; 4.583123348640277e-89&#8729;x<sup>62</sup> &#43; 7.054350512577628e-91&#8729;x<sup>63</sup> &#43; 1.0693395133338289e-92&#8729;x<sup>64</sup> &#43; 1.5967513095030025e-94&#8729;x<sup>65</sup> &#43; 2.3491949437132446e-96&#8729;x<sup>66</sup> &#43; 3.4060822211620604e-98&#8729;x<sup>67</sup> &#43; 4.867847416325232e-100&#8729;x<sup>68</sup> &#43; 6.858883235562927e-102&#8729;x<sup>69</sup> &#43; 9.529955180527746e-104&#8729;x<sup>70</sup> &#43; 1.3059702569432771e-105&#8729;x<sup>71</sup> &#43; 1.765478310312208e-107&#8729;x<sup>72</sup> &#43; 2.3548196640790082e-109&#8729;x<sup>73</sup> &#43; 3.099534482378477e-111&#8729;x<sup>74</sup> &#43; 4.026745652320756e-113&#8729;x<sup>75</sup> &#43; 5.164214111070924e-115&#8729;x<sup>76</sup> &#43; 6.539102283498896e-117&#8729;x<sup>77</sup> &#43; 8.176465343406343e-119&#8729;x<sup>78</sup> &#43; 1.0097518176482054e-120&#8729;x<sup>79</sup> &#43; 1.2317755606853108e-122&#8729;x<sup>80</sup> &#43; 1.484503174253314e-124&#8729;x<sup>81</sup> &#43; 1.7677727900003594e-126&#8729;x<sup>82</sup> &#43; 2.0803154155229784e-128&#8729;x<sup>83</sup> &#43; 2.4196334198064198e-130&#8729;x<sup>84</sup> &#43; 2.7819314719699476e-132&#8729;x<sup>85</sup> &#43; 3.1621118116198776e-134&#8729;x<sup>86</sup> &#43; 3.553842138219019e-136&#8729;x<sup>87</sup> &#43; 3.94969967908957e-138&#8729;x<sup>88</sup> &#43; 4.341389486053509e-140&#8729;x<sup>89</sup> &#43; 4.7200291903329665e-142&#8729;x<sup>90</sup> &#43; 5.076486854227647e-144&#8729;x<sup>91</sup> &#43; 5.401753746489372e-146&#8729;x<sup>92</sup> &#43; 5.687330333445352e-148&#8729;x<sup>93</sup> &#43; 5.925601904774165e-150&#8729;x<sup>94</sup> &#43; 6.110180267006658e-152&#8729;x<sup>95</sup> &#43; 6.236189876890214e-154&#8729;x<sup>96</sup> &#43; 6.300480494177741e-156&#8729;x<sup>97</sup> &#43; 6.3017535757081864e-158&#8729;x<sup>98</sup> &#43; 6.240595737480875e-160&#8729;x<sup>99</sup> &#43; 6.11941912121911e-162&#8729;x<sup>100</sup> &#43; 5.942314835913453e-164&#8729;x<sup>101</sup> &#43; 5.714831261429371e-166&#8729;x<sup>102</sup> &#43; 5.443693452909458e-168&#8729;x<sup>103</sup> &#43; 5.136482859053677e-170&#8729;x<sup>104</sup> &#43; 4.801297910579275e-172&#8729;x<sup>105</sup> &#43; 4.446415755859291e-174&#8729;x<sup>106</sup> &#43; 4.079973675724753e-176&#8729;x<sup>107</sup> &#43; 3.7096857745578755e-178&#8729;x<sup>108</sup> &#43; 3.3426067758958573e-180&#8729;x<sup>109</sup> &#43; 2.9849505400196315e-182&#8729;x<sup>110</sup> &#43; 2.64196665467203e-184&#8729;x<sup>111</sup> &#43; 2.3178744718784116e-186&#8729;x<sup>112</sup> &#43; 2.015850547712381e-188&#8729;x<sup>113</sup> &#43; 1.7380627754305277e-190&#8729;x<sup>114</sup> &#43; 1.485742682018727e-192&#8729;x<sup>115</sup> &#43; 1.2592863937713057e-194&#8729;x<sup>116</sup> &#43; 1.058374604451667e-196&#8729;x<sup>117</sup> &#43; 8.821023807938674e-199&#8729;x<sup>118</sup> &#43; 7.291106605266848e-201&#8729;x<sup>119</sup> &#43; 5.977126688599516e-203&#8729;x<sup>120</sup> &#43; 4.8601003466351695e-205&#8729;x<sup>121</sup> &#43; 3.919949787777875e-207&#8729;x<sup>122</sup> &#43; 3.13636452241874e-209&#8729;x<sup>123</sup> &#43; 2.4894943186585126e-211&#8729;x<sup>124</sup> &#43; 1.9604767759435788e-213&#8729;x<sup>125</sup> &#43; 1.531810942197825e-215&#8729;x<sup>126</sup> &#43; 1.187594188984383e-217&#8729;x<sup>127</sup> &#43; 9.136429531189493e-220&#8729;x<sup>128</sup> &#43; 6.975192853268935e-222&#8729;x<sup>129</sup> &#43; 5.284848257826665e-224&#8729;x<sup>130</sup> &#43; 3.9740228439849595e-226&#8729;x<sup>131</sup> &#43; 2.9660215390011204e-228&#8729;x<sup>132</sup> &#43; 2.1972959211972036e-230&#8729;x<sup>133</sup> &#43; 1.615834782447012e-232&#8729;x<sup>134</sup> &#43; 1.1795680644809106e-234&#8729;x<sup>135</sup> &#43; 8.548498986134403e-237&#8729;x<sup>136</sup> &#43; 6.150640563537788e-239&#8729;x<sup>137</sup> &#43; 4.393766257229687e-241&#8729;x<sup>138</sup> &#43; 3.1164620326890066e-243&#8729;x<sup>139</sup> &#43; 2.194910822223526e-245&#8729;x<sup>140</sup> &#43; 1.535053865030244e-247&#8729;x<sup>141</sup> &#43; 1.0661131748388776e-249&#8729;x<sup>142</sup> &#43; 7.353208984423717e-252&#8729;x<sup>143</sup> &#43; 5.036920364424787e-254&#8729;x<sup>144</sup> &#43; 3.426795774492166e-256&#8729;x<sup>145</sup> &#43; 2.3156154217631174e-258&#8729;x<sup>146</sup> &#43; 1.5542452717503007e-260&#8729;x<sup>147</sup> &#43; 1.0362562443654681e-262&#8729;x<sup>148</sup> &#43; 6.863230159608805e-265&#8729;x<sup>149</sup> &#43; 4.515676488457209e-267&#8729;x<sup>150</sup> &#43; 2.951676383613554e-269&#8729;x<sup>151</sup> &#43; 1.9168356820580376e-271&#8729;x<sup>152</sup> &#43; 1.2367718075956839e-273&#8729;x<sup>153</sup> &#43; 7.928680212479567e-276&#8729;x<sup>154</sup> &#43; 5.0505272076227545e-278&#8729;x<sup>155</sup> &#43; 3.1967939509626374e-280&#8729;x<sup>156</sup> &#43; 2.010722309920767e-282&#8729;x<sup>157</sup> &#43; 1.2568002487514818e-284&#8729;x<sup>158</sup> &#43; 7.806818844639999e-287&#8729;x<sup>159</sup> &#43; 4.81939353522638e-289&#8729;x<sup>160</sup> &#43; 2.9569071076604812e-291&#8729;x<sup>161</sup> &#43; 1.8031270428307462e-293&#8729;x<sup>162</sup> &#43; 1.0928850433300404e-295&#8729;x<sup>163</sup> &#43; 6.584125607910643e-298&#8729;x<sup>164</sup> &#43; 3.942874642543892e-300&#8729;x<sup>165</sup> &#43; 2.347116508536501e-302&#8729;x<sup>166</sup> &#43; 1.3889241755341043e-304&#8729;x<sup>167</sup> &#43; 8.170711001993304e-307&#8729;x<sup>168</sup> &#43; 4.778522328123237e-309&#8729;x<sup>169</sup> &#43; 2.778399585546e-311&#8729;x<sup>170</sup>"
      ],
      "text/latex": [
       "$1.0 + 0.5\\cdot x + 0.15\\cdot x^{2} + 0.03333333333333333\\cdot x^{3} + 0.005952380952380952\\cdot x^{4} + 0.0008928571428571428\\cdot x^{5} + 0.00011574074074074073\\cdot x^{6} + 1.3227513227513228e-5\\cdot x^{7} + 1.352813852813853e-6\\cdot x^{8} + 1.2526054192720861e-7\\cdot x^{9} + 1.0598968932302268e-8\\cdot x^{10} + 8.258936830365404e-10\\cdot x^{11} + 5.964787710819458e-11\\cdot x^{12} + 4.014760959205404e-12\\cdot x^{13} + 2.530311528910969e-13\\cdot x^{14} + 1.499443868984278e-14\\cdot x^{15} + 8.385047951556817e-16\\cdot x^{16} + 4.439143033177139e-17\\cdot x^{17} + 2.231315281226604e-18\\cdot x^{18} + 1.067614967094069e-19\\cdot x^{19} + 4.873894414994662e-21\\cdot x^{20} + 2.1274935938468763e-22\\cdot x^{21} + 8.896791392450573e-24\\cdot x^{22} + 3.5706186190437084e-25\\cdot x^{23} + 1.377553479569332e-26\\cdot x^{24} + 5.116627209828948e-28\\cdot x^{25} + 1.8322139876045305e-29\\cdot x^{26} + 6.333579216410723e-31\\cdot x^{27} + 2.1160575723031215e-32\\cdot x^{28} + 6.8407033587385395e-34\\cdot x^{29} + 2.142038425463583e-35\\cdot x^{30} + 6.5033424682006315e-37\\cdot x^{31} + 1.9161634058091146e-38\\cdot x^{32} + 5.483969343224738e-40\\cdot x^{33} + 1.5257466376221448e-41\\cdot x^{34} + 4.129840522887008e-43\\cdot x^{35} + 1.0883482859460065e-44\\cdot x^{36} + 2.794407761212719e-46\\cdot x^{37} + 6.994987335513224e-48\\cdot x^{38} + 1.7081776155099448e-49\\cdot x^{39} + 4.0718187346457987e-51\\cdot x^{40} + 9.479844060705297e-53\\cdot x^{41} + 2.1567899185731628e-54\\cdot x^{42} + 4.797712660122304e-56\\cdot x^{43} + 1.0439896987693601e-57\\cdot x^{44} + 2.2233113955273413e-59\\cdot x^{45} + 4.636008677452752e-61\\cdot x^{46} + 9.469294319903493e-63\\cdot x^{47} + 1.8954061342944083e-64\\cdot x^{48} + 3.7193997925714445e-66\\cdot x^{49} + 7.158090166835611e-68\\cdot x^{50} + 1.3515638659239352e-69\\cdot x^{51} + 2.5046463249639355e-71\\cdot x^{52} + 4.5569710764168636e-73\\cdot x^{53} + 8.142735841550601e-75\\cdot x^{54} + 1.4294457903662496e-76\\cdot x^{55} + 2.466053572968409e-78\\cdot x^{56} + 4.1821961178996414e-80\\cdot x^{57} + 6.974267127079673e-82\\cdot x^{58} + 1.1439475878206134e-83\\cdot x^{59} + 1.8460529856364396e-85\\cdot x^{60} + 2.9317439833365585e-87\\cdot x^{61} + 4.583123348640277e-89\\cdot x^{62} + 7.054350512577628e-91\\cdot x^{63} + 1.0693395133338289e-92\\cdot x^{64} + 1.5967513095030025e-94\\cdot x^{65} + 2.3491949437132446e-96\\cdot x^{66} + 3.4060822211620604e-98\\cdot x^{67} + 4.867847416325232e-100\\cdot x^{68} + 6.858883235562927e-102\\cdot x^{69} + 9.529955180527746e-104\\cdot x^{70} + 1.3059702569432771e-105\\cdot x^{71} + 1.765478310312208e-107\\cdot x^{72} + 2.3548196640790082e-109\\cdot x^{73} + 3.099534482378477e-111\\cdot x^{74} + 4.026745652320756e-113\\cdot x^{75} + 5.164214111070924e-115\\cdot x^{76} + 6.539102283498896e-117\\cdot x^{77} + 8.176465343406343e-119\\cdot x^{78} + 1.0097518176482054e-120\\cdot x^{79} + 1.2317755606853108e-122\\cdot x^{80} + 1.484503174253314e-124\\cdot x^{81} + 1.7677727900003594e-126\\cdot x^{82} + 2.0803154155229784e-128\\cdot x^{83} + 2.4196334198064198e-130\\cdot x^{84} + 2.7819314719699476e-132\\cdot x^{85} + 3.1621118116198776e-134\\cdot x^{86} + 3.553842138219019e-136\\cdot x^{87} + 3.94969967908957e-138\\cdot x^{88} + 4.341389486053509e-140\\cdot x^{89} + 4.7200291903329665e-142\\cdot x^{90} + 5.076486854227647e-144\\cdot x^{91} + 5.401753746489372e-146\\cdot x^{92} + 5.687330333445352e-148\\cdot x^{93} + 5.925601904774165e-150\\cdot x^{94} + 6.110180267006658e-152\\cdot x^{95} + 6.236189876890214e-154\\cdot x^{96} + 6.300480494177741e-156\\cdot x^{97} + 6.3017535757081864e-158\\cdot x^{98} + 6.240595737480875e-160\\cdot x^{99} + 6.11941912121911e-162\\cdot x^{100} + 5.942314835913453e-164\\cdot x^{101} + 5.714831261429371e-166\\cdot x^{102} + 5.443693452909458e-168\\cdot x^{103} + 5.136482859053677e-170\\cdot x^{104} + 4.801297910579275e-172\\cdot x^{105} + 4.446415755859291e-174\\cdot x^{106} + 4.079973675724753e-176\\cdot x^{107} + 3.7096857745578755e-178\\cdot x^{108} + 3.3426067758958573e-180\\cdot x^{109} + 2.9849505400196315e-182\\cdot x^{110} + 2.64196665467203e-184\\cdot x^{111} + 2.3178744718784116e-186\\cdot x^{112} + 2.015850547712381e-188\\cdot x^{113} + 1.7380627754305277e-190\\cdot x^{114} + 1.485742682018727e-192\\cdot x^{115} + 1.2592863937713057e-194\\cdot x^{116} + 1.058374604451667e-196\\cdot x^{117} + 8.821023807938674e-199\\cdot x^{118} + 7.291106605266848e-201\\cdot x^{119} + 5.977126688599516e-203\\cdot x^{120} + 4.8601003466351695e-205\\cdot x^{121} + 3.919949787777875e-207\\cdot x^{122} + 3.13636452241874e-209\\cdot x^{123} + 2.4894943186585126e-211\\cdot x^{124} + 1.9604767759435788e-213\\cdot x^{125} + 1.531810942197825e-215\\cdot x^{126} + 1.187594188984383e-217\\cdot x^{127} + 9.136429531189493e-220\\cdot x^{128} + 6.975192853268935e-222\\cdot x^{129} + 5.284848257826665e-224\\cdot x^{130} + 3.9740228439849595e-226\\cdot x^{131} + 2.9660215390011204e-228\\cdot x^{132} + 2.1972959211972036e-230\\cdot x^{133} + 1.615834782447012e-232\\cdot x^{134} + 1.1795680644809106e-234\\cdot x^{135} + 8.548498986134403e-237\\cdot x^{136} + 6.150640563537788e-239\\cdot x^{137} + 4.393766257229687e-241\\cdot x^{138} + 3.1164620326890066e-243\\cdot x^{139} + 2.194910822223526e-245\\cdot x^{140} + 1.535053865030244e-247\\cdot x^{141} + 1.0661131748388776e-249\\cdot x^{142} + 7.353208984423717e-252\\cdot x^{143} + 5.036920364424787e-254\\cdot x^{144} + 3.426795774492166e-256\\cdot x^{145} + 2.3156154217631174e-258\\cdot x^{146} + 1.5542452717503007e-260\\cdot x^{147} + 1.0362562443654681e-262\\cdot x^{148} + 6.863230159608805e-265\\cdot x^{149} + 4.515676488457209e-267\\cdot x^{150} + 2.951676383613554e-269\\cdot x^{151} + 1.9168356820580376e-271\\cdot x^{152} + 1.2367718075956839e-273\\cdot x^{153} + 7.928680212479567e-276\\cdot x^{154} + 5.0505272076227545e-278\\cdot x^{155} + 3.1967939509626374e-280\\cdot x^{156} + 2.010722309920767e-282\\cdot x^{157} + 1.2568002487514818e-284\\cdot x^{158} + 7.806818844639999e-287\\cdot x^{159} + 4.81939353522638e-289\\cdot x^{160} + 2.9569071076604812e-291\\cdot x^{161} + 1.8031270428307462e-293\\cdot x^{162} + 1.0928850433300404e-295\\cdot x^{163} + 6.584125607910643e-298\\cdot x^{164} + 3.942874642543892e-300\\cdot x^{165} + 2.347116508536501e-302\\cdot x^{166} + 1.3889241755341043e-304\\cdot x^{167} + 8.170711001993304e-307\\cdot x^{168} + 4.778522328123237e-309\\cdot x^{169} + 2.778399585546e-311\\cdot x^{170}$"
      ],
      "text/plain": [
       "Polynomial(1.0 + 0.5*x + 0.15*x^2 + 0.03333333333333333*x^3 + 0.005952380952380952*x^4 + 0.0008928571428571428*x^5 + 0.00011574074074074073*x^6 + 1.3227513227513228e-5*x^7 + 1.352813852813853e-6*x^8 + 1.2526054192720861e-7*x^9 + 1.0598968932302268e-8*x^10 + 8.258936830365404e-10*x^11 + 5.964787710819458e-11*x^12 + 4.014760959205404e-12*x^13 + 2.530311528910969e-13*x^14 + 1.499443868984278e-14*x^15 + 8.385047951556817e-16*x^16 + 4.439143033177139e-17*x^17 + 2.231315281226604e-18*x^18 + 1.067614967094069e-19*x^19 + 4.873894414994662e-21*x^20 + 2.1274935938468763e-22*x^21 + 8.896791392450573e-24*x^22 + 3.5706186190437084e-25*x^23 + 1.377553479569332e-26*x^24 + 5.116627209828948e-28*x^25 + 1.8322139876045305e-29*x^26 + 6.333579216410723e-31*x^27 + 2.1160575723031215e-32*x^28 + 6.8407033587385395e-34*x^29 + 2.142038425463583e-35*x^30 + 6.5033424682006315e-37*x^31 + 1.9161634058091146e-38*x^32 + 5.483969343224738e-40*x^33 + 1.5257466376221448e-41*x^34 + 4.129840522887008e-43*x^35 + 1.0883482859460065e-44*x^36 + 2.794407761212719e-46*x^37 + 6.994987335513224e-48*x^38 + 1.7081776155099448e-49*x^39 + 4.0718187346457987e-51*x^40 + 9.479844060705297e-53*x^41 + 2.1567899185731628e-54*x^42 + 4.797712660122304e-56*x^43 + 1.0439896987693601e-57*x^44 + 2.2233113955273413e-59*x^45 + 4.636008677452752e-61*x^46 + 9.469294319903493e-63*x^47 + 1.8954061342944083e-64*x^48 + 3.7193997925714445e-66*x^49 + 7.158090166835611e-68*x^50 + 1.3515638659239352e-69*x^51 + 2.5046463249639355e-71*x^52 + 4.5569710764168636e-73*x^53 + 8.142735841550601e-75*x^54 + 1.4294457903662496e-76*x^55 + 2.466053572968409e-78*x^56 + 4.1821961178996414e-80*x^57 + 6.974267127079673e-82*x^58 + 1.1439475878206134e-83*x^59 + 1.8460529856364396e-85*x^60 + 2.9317439833365585e-87*x^61 + 4.583123348640277e-89*x^62 + 7.054350512577628e-91*x^63 + 1.0693395133338289e-92*x^64 + 1.5967513095030025e-94*x^65 + 2.3491949437132446e-96*x^66 + 3.4060822211620604e-98*x^67 + 4.867847416325232e-100*x^68 + 6.858883235562927e-102*x^69 + 9.529955180527746e-104*x^70 + 1.3059702569432771e-105*x^71 + 1.765478310312208e-107*x^72 + 2.3548196640790082e-109*x^73 + 3.099534482378477e-111*x^74 + 4.026745652320756e-113*x^75 + 5.164214111070924e-115*x^76 + 6.539102283498896e-117*x^77 + 8.176465343406343e-119*x^78 + 1.0097518176482054e-120*x^79 + 1.2317755606853108e-122*x^80 + 1.484503174253314e-124*x^81 + 1.7677727900003594e-126*x^82 + 2.0803154155229784e-128*x^83 + 2.4196334198064198e-130*x^84 + 2.7819314719699476e-132*x^85 + 3.1621118116198776e-134*x^86 + 3.553842138219019e-136*x^87 + 3.94969967908957e-138*x^88 + 4.341389486053509e-140*x^89 + 4.7200291903329665e-142*x^90 + 5.076486854227647e-144*x^91 + 5.401753746489372e-146*x^92 + 5.687330333445352e-148*x^93 + 5.925601904774165e-150*x^94 + 6.110180267006658e-152*x^95 + 6.236189876890214e-154*x^96 + 6.300480494177741e-156*x^97 + 6.3017535757081864e-158*x^98 + 6.240595737480875e-160*x^99 + 6.11941912121911e-162*x^100 + 5.942314835913453e-164*x^101 + 5.714831261429371e-166*x^102 + 5.443693452909458e-168*x^103 + 5.136482859053677e-170*x^104 + 4.801297910579275e-172*x^105 + 4.446415755859291e-174*x^106 + 4.079973675724753e-176*x^107 + 3.7096857745578755e-178*x^108 + 3.3426067758958573e-180*x^109 + 2.9849505400196315e-182*x^110 + 2.64196665467203e-184*x^111 + 2.3178744718784116e-186*x^112 + 2.015850547712381e-188*x^113 + 1.7380627754305277e-190*x^114 + 1.485742682018727e-192*x^115 + 1.2592863937713057e-194*x^116 + 1.058374604451667e-196*x^117 + 8.821023807938674e-199*x^118 + 7.291106605266848e-201*x^119 + 5.977126688599516e-203*x^120 + 4.8601003466351695e-205*x^121 + 3.919949787777875e-207*x^122 + 3.13636452241874e-209*x^123 + 2.4894943186585126e-211*x^124 + 1.9604767759435788e-213*x^125 + 1.531810942197825e-215*x^126 + 1.187594188984383e-217*x^127 + 9.136429531189493e-220*x^128 + 6.975192853268935e-222*x^129 + 5.284848257826665e-224*x^130 + 3.9740228439849595e-226*x^131 + 2.9660215390011204e-228*x^132 + 2.1972959211972036e-230*x^133 + 1.615834782447012e-232*x^134 + 1.1795680644809106e-234*x^135 + 8.548498986134403e-237*x^136 + 6.150640563537788e-239*x^137 + 4.393766257229687e-241*x^138 + 3.1164620326890066e-243*x^139 + 2.194910822223526e-245*x^140 + 1.535053865030244e-247*x^141 + 1.0661131748388776e-249*x^142 + 7.353208984423717e-252*x^143 + 5.036920364424787e-254*x^144 + 3.426795774492166e-256*x^145 + 2.3156154217631174e-258*x^146 + 1.5542452717503007e-260*x^147 + 1.0362562443654681e-262*x^148 + 6.863230159608805e-265*x^149 + 4.515676488457209e-267*x^150 + 2.951676383613554e-269*x^151 + 1.9168356820580376e-271*x^152 + 1.2367718075956839e-273*x^153 + 7.928680212479567e-276*x^154 + 5.0505272076227545e-278*x^155 + 3.1967939509626374e-280*x^156 + 2.010722309920767e-282*x^157 + 1.2568002487514818e-284*x^158 + 7.806818844639999e-287*x^159 + 4.81939353522638e-289*x^160 + 2.9569071076604812e-291*x^161 + 1.8031270428307462e-293*x^162 + 1.0928850433300404e-295*x^163 + 6.584125607910643e-298*x^164 + 3.942874642543892e-300*x^165 + 2.347116508536501e-302*x^166 + 1.3889241755341043e-304*x^167 + 8.170711001993304e-307*x^168 + 4.778522328123237e-309*x^169 + 2.778399585546e-311*x^170)"
      ]
     },
     "execution_count": 30,
     "metadata": {},
     "output_type": "execute_result"
    }
   ],
   "source": [
    "p = Polynomial(coefs(α, β, 250))"
   ]
  },
  {
   "cell_type": "code",
   "execution_count": 31,
   "metadata": {},
   "outputs": [
    {
     "data": {
      "text/plain": [
       "-97.66989695271194"
      ]
     },
     "execution_count": 31,
     "metadata": {},
     "output_type": "execute_result"
    }
   ],
   "source": [
    "p(-50.0)"
   ]
  },
  {
   "cell_type": "code",
   "execution_count": 32,
   "metadata": {},
   "outputs": [
    {
     "data": {
      "image/svg+xml": [
       "<?xml version=\"1.0\" encoding=\"utf-8\"?>\n",
       "<svg xmlns=\"http://www.w3.org/2000/svg\" xmlns:xlink=\"http://www.w3.org/1999/xlink\" width=\"600\" height=\"400\" viewBox=\"0 0 2400 1600\">\n",
       "<defs>\n",
       "  <clipPath id=\"clip190\">\n",
       "    <rect x=\"0\" y=\"0\" width=\"2400\" height=\"1600\"/>\n",
       "  </clipPath>\n",
       "</defs>\n",
       "<path clip-path=\"url(#clip190)\" d=\"\n",
       "M0 1600 L2400 1600 L2400 0 L0 0  Z\n",
       "  \" fill=\"#ffffff\" fill-rule=\"evenodd\" fill-opacity=\"1\"/>\n",
       "<defs>\n",
       "  <clipPath id=\"clip191\">\n",
       "    <rect x=\"480\" y=\"0\" width=\"1681\" height=\"1600\"/>\n",
       "  </clipPath>\n",
       "</defs>\n",
       "<path clip-path=\"url(#clip190)\" d=\"\n",
       "M153.983 1486.45 L2352.76 1486.45 L2352.76 47.2441 L153.983 47.2441  Z\n",
       "  \" fill=\"#ffffff\" fill-rule=\"evenodd\" fill-opacity=\"1\"/>\n",
       "<defs>\n",
       "  <clipPath id=\"clip192\">\n",
       "    <rect x=\"153\" y=\"47\" width=\"2200\" height=\"1440\"/>\n",
       "  </clipPath>\n",
       "</defs>\n",
       "<polyline clip-path=\"url(#clip192)\" style=\"stroke:#000000; stroke-width:2; stroke-opacity:0.1; fill:none\" points=\"\n",
       "  207.881,1486.45 207.881,47.2441 \n",
       "  \"/>\n",
       "<polyline clip-path=\"url(#clip192)\" style=\"stroke:#000000; stroke-width:2; stroke-opacity:0.1; fill:none\" points=\"\n",
       "  624.41,1486.45 624.41,47.2441 \n",
       "  \"/>\n",
       "<polyline clip-path=\"url(#clip192)\" style=\"stroke:#000000; stroke-width:2; stroke-opacity:0.1; fill:none\" points=\"\n",
       "  1040.94,1486.45 1040.94,47.2441 \n",
       "  \"/>\n",
       "<polyline clip-path=\"url(#clip192)\" style=\"stroke:#000000; stroke-width:2; stroke-opacity:0.1; fill:none\" points=\"\n",
       "  1457.47,1486.45 1457.47,47.2441 \n",
       "  \"/>\n",
       "<polyline clip-path=\"url(#clip192)\" style=\"stroke:#000000; stroke-width:2; stroke-opacity:0.1; fill:none\" points=\"\n",
       "  1874,1486.45 1874,47.2441 \n",
       "  \"/>\n",
       "<polyline clip-path=\"url(#clip192)\" style=\"stroke:#000000; stroke-width:2; stroke-opacity:0.1; fill:none\" points=\"\n",
       "  2290.53,1486.45 2290.53,47.2441 \n",
       "  \"/>\n",
       "<polyline clip-path=\"url(#clip192)\" style=\"stroke:#000000; stroke-width:2; stroke-opacity:0.1; fill:none\" points=\"\n",
       "  153.983,1439.62 2352.76,1439.62 \n",
       "  \"/>\n",
       "<polyline clip-path=\"url(#clip192)\" style=\"stroke:#000000; stroke-width:2; stroke-opacity:0.1; fill:none\" points=\"\n",
       "  153.983,1103.19 2352.76,1103.19 \n",
       "  \"/>\n",
       "<polyline clip-path=\"url(#clip192)\" style=\"stroke:#000000; stroke-width:2; stroke-opacity:0.1; fill:none\" points=\"\n",
       "  153.983,766.768 2352.76,766.768 \n",
       "  \"/>\n",
       "<polyline clip-path=\"url(#clip192)\" style=\"stroke:#000000; stroke-width:2; stroke-opacity:0.1; fill:none\" points=\"\n",
       "  153.983,430.344 2352.76,430.344 \n",
       "  \"/>\n",
       "<polyline clip-path=\"url(#clip192)\" style=\"stroke:#000000; stroke-width:2; stroke-opacity:0.1; fill:none\" points=\"\n",
       "  153.983,93.9194 2352.76,93.9194 \n",
       "  \"/>\n",
       "<polyline clip-path=\"url(#clip190)\" style=\"stroke:#000000; stroke-width:4; stroke-opacity:1; fill:none\" points=\"\n",
       "  153.983,1486.45 2352.76,1486.45 \n",
       "  \"/>\n",
       "<polyline clip-path=\"url(#clip190)\" style=\"stroke:#000000; stroke-width:4; stroke-opacity:1; fill:none\" points=\"\n",
       "  153.983,1486.45 153.983,47.2441 \n",
       "  \"/>\n",
       "<polyline clip-path=\"url(#clip190)\" style=\"stroke:#000000; stroke-width:4; stroke-opacity:1; fill:none\" points=\"\n",
       "  207.881,1486.45 207.881,1469.18 \n",
       "  \"/>\n",
       "<polyline clip-path=\"url(#clip190)\" style=\"stroke:#000000; stroke-width:4; stroke-opacity:1; fill:none\" points=\"\n",
       "  624.41,1486.45 624.41,1469.18 \n",
       "  \"/>\n",
       "<polyline clip-path=\"url(#clip190)\" style=\"stroke:#000000; stroke-width:4; stroke-opacity:1; fill:none\" points=\"\n",
       "  1040.94,1486.45 1040.94,1469.18 \n",
       "  \"/>\n",
       "<polyline clip-path=\"url(#clip190)\" style=\"stroke:#000000; stroke-width:4; stroke-opacity:1; fill:none\" points=\"\n",
       "  1457.47,1486.45 1457.47,1469.18 \n",
       "  \"/>\n",
       "<polyline clip-path=\"url(#clip190)\" style=\"stroke:#000000; stroke-width:4; stroke-opacity:1; fill:none\" points=\"\n",
       "  1874,1486.45 1874,1469.18 \n",
       "  \"/>\n",
       "<polyline clip-path=\"url(#clip190)\" style=\"stroke:#000000; stroke-width:4; stroke-opacity:1; fill:none\" points=\"\n",
       "  2290.53,1486.45 2290.53,1469.18 \n",
       "  \"/>\n",
       "<polyline clip-path=\"url(#clip190)\" style=\"stroke:#000000; stroke-width:4; stroke-opacity:1; fill:none\" points=\"\n",
       "  153.983,1439.62 180.368,1439.62 \n",
       "  \"/>\n",
       "<polyline clip-path=\"url(#clip190)\" style=\"stroke:#000000; stroke-width:4; stroke-opacity:1; fill:none\" points=\"\n",
       "  153.983,1103.19 180.368,1103.19 \n",
       "  \"/>\n",
       "<polyline clip-path=\"url(#clip190)\" style=\"stroke:#000000; stroke-width:4; stroke-opacity:1; fill:none\" points=\"\n",
       "  153.983,766.768 180.368,766.768 \n",
       "  \"/>\n",
       "<polyline clip-path=\"url(#clip190)\" style=\"stroke:#000000; stroke-width:4; stroke-opacity:1; fill:none\" points=\"\n",
       "  153.983,430.344 180.368,430.344 \n",
       "  \"/>\n",
       "<polyline clip-path=\"url(#clip190)\" style=\"stroke:#000000; stroke-width:4; stroke-opacity:1; fill:none\" points=\"\n",
       "  153.983,93.9194 180.368,93.9194 \n",
       "  \"/>\n",
       "<path clip-path=\"url(#clip190)\" d=\"M 0 0 M207.881 1508.44 Q204.27 1508.44 202.442 1512 Q200.636 1515.55 200.636 1522.67 Q200.636 1529.78 202.442 1533.35 Q204.27 1536.89 207.881 1536.89 Q211.516 1536.89 213.321 1533.35 Q215.15 1529.78 215.15 1522.67 Q215.15 1515.55 213.321 1512 Q211.516 1508.44 207.881 1508.44 M207.881 1504.73 Q213.692 1504.73 216.747 1509.34 Q219.826 1513.92 219.826 1522.67 Q219.826 1531.4 216.747 1536.01 Q213.692 1540.59 207.881 1540.59 Q202.071 1540.59 198.993 1536.01 Q195.937 1531.4 195.937 1522.67 Q195.937 1513.92 198.993 1509.34 Q202.071 1504.73 207.881 1504.73 Z\" fill=\"#000000\" fill-rule=\"evenodd\" fill-opacity=\"1\" /><path clip-path=\"url(#clip190)\" d=\"M 0 0 M601.181 1505.36 L619.538 1505.36 L619.538 1509.3 L605.464 1509.3 L605.464 1517.77 Q606.482 1517.42 607.501 1517.26 Q608.519 1517.07 609.538 1517.07 Q615.325 1517.07 618.704 1520.24 Q622.084 1523.42 622.084 1528.83 Q622.084 1534.41 618.612 1537.51 Q615.14 1540.59 608.82 1540.59 Q606.644 1540.59 604.376 1540.22 Q602.13 1539.85 599.723 1539.11 L599.723 1534.41 Q601.806 1535.54 604.029 1536.1 Q606.251 1536.66 608.728 1536.66 Q612.732 1536.66 615.07 1534.55 Q617.408 1532.44 617.408 1528.83 Q617.408 1525.22 615.07 1523.11 Q612.732 1521.01 608.728 1521.01 Q606.853 1521.01 604.978 1521.42 Q603.126 1521.84 601.181 1522.72 L601.181 1505.36 Z\" fill=\"#000000\" fill-rule=\"evenodd\" fill-opacity=\"1\" /><path clip-path=\"url(#clip190)\" d=\"M 0 0 M637.153 1508.44 Q633.542 1508.44 631.714 1512 Q629.908 1515.55 629.908 1522.67 Q629.908 1529.78 631.714 1533.35 Q633.542 1536.89 637.153 1536.89 Q640.788 1536.89 642.593 1533.35 Q644.422 1529.78 644.422 1522.67 Q644.422 1515.55 642.593 1512 Q640.788 1508.44 637.153 1508.44 M637.153 1504.73 Q642.964 1504.73 646.019 1509.34 Q649.098 1513.92 649.098 1522.67 Q649.098 1531.4 646.019 1536.01 Q642.964 1540.59 637.153 1540.59 Q631.343 1540.59 628.265 1536.01 Q625.209 1531.4 625.209 1522.67 Q625.209 1513.92 628.265 1509.34 Q631.343 1504.73 637.153 1504.73 Z\" fill=\"#000000\" fill-rule=\"evenodd\" fill-opacity=\"1\" /><path clip-path=\"url(#clip190)\" d=\"M 0 0 M1004.31 1535.98 L1011.95 1535.98 L1011.95 1509.62 L1003.64 1511.29 L1003.64 1507.03 L1011.9 1505.36 L1016.58 1505.36 L1016.58 1535.98 L1024.21 1535.98 L1024.21 1539.92 L1004.31 1539.92 L1004.31 1535.98 Z\" fill=\"#000000\" fill-rule=\"evenodd\" fill-opacity=\"1\" /><path clip-path=\"url(#clip190)\" d=\"M 0 0 M1039.28 1508.44 Q1035.67 1508.44 1033.84 1512 Q1032.04 1515.55 1032.04 1522.67 Q1032.04 1529.78 1033.84 1533.35 Q1035.67 1536.89 1039.28 1536.89 Q1042.92 1536.89 1044.72 1533.35 Q1046.55 1529.78 1046.55 1522.67 Q1046.55 1515.55 1044.72 1512 Q1042.92 1508.44 1039.28 1508.44 M1039.28 1504.73 Q1045.09 1504.73 1048.15 1509.34 Q1051.23 1513.92 1051.23 1522.67 Q1051.23 1531.4 1048.15 1536.01 Q1045.09 1540.59 1039.28 1540.59 Q1033.47 1540.59 1030.4 1536.01 Q1027.34 1531.4 1027.34 1522.67 Q1027.34 1513.92 1030.4 1509.34 Q1033.47 1504.73 1039.28 1504.73 Z\" fill=\"#000000\" fill-rule=\"evenodd\" fill-opacity=\"1\" /><path clip-path=\"url(#clip190)\" d=\"M 0 0 M1066.3 1508.44 Q1062.69 1508.44 1060.86 1512 Q1059.05 1515.55 1059.05 1522.67 Q1059.05 1529.78 1060.86 1533.35 Q1062.69 1536.89 1066.3 1536.89 Q1069.93 1536.89 1071.74 1533.35 Q1073.57 1529.78 1073.57 1522.67 Q1073.57 1515.55 1071.74 1512 Q1069.93 1508.44 1066.3 1508.44 M1066.3 1504.73 Q1072.11 1504.73 1075.16 1509.34 Q1078.24 1513.92 1078.24 1522.67 Q1078.24 1531.4 1075.16 1536.01 Q1072.11 1540.59 1066.3 1540.59 Q1060.49 1540.59 1057.41 1536.01 Q1054.35 1531.4 1054.35 1522.67 Q1054.35 1513.92 1057.41 1509.34 Q1060.49 1504.73 1066.3 1504.73 Z\" fill=\"#000000\" fill-rule=\"evenodd\" fill-opacity=\"1\" /><path clip-path=\"url(#clip190)\" d=\"M 0 0 M1421.33 1535.98 L1428.97 1535.98 L1428.97 1509.62 L1420.66 1511.29 L1420.66 1507.03 L1428.93 1505.36 L1433.6 1505.36 L1433.6 1535.98 L1441.24 1535.98 L1441.24 1539.92 L1421.33 1539.92 L1421.33 1535.98 Z\" fill=\"#000000\" fill-rule=\"evenodd\" fill-opacity=\"1\" /><path clip-path=\"url(#clip190)\" d=\"M 0 0 M1446.36 1505.36 L1464.71 1505.36 L1464.71 1509.3 L1450.64 1509.3 L1450.64 1517.77 Q1451.66 1517.42 1452.68 1517.26 Q1453.7 1517.07 1454.71 1517.07 Q1460.5 1517.07 1463.88 1520.24 Q1467.26 1523.42 1467.26 1528.83 Q1467.26 1534.41 1463.79 1537.51 Q1460.32 1540.59 1454 1540.59 Q1451.82 1540.59 1449.55 1540.22 Q1447.31 1539.85 1444.9 1539.11 L1444.9 1534.41 Q1446.98 1535.54 1449.2 1536.1 Q1451.43 1536.66 1453.9 1536.66 Q1457.91 1536.66 1460.25 1534.55 Q1462.58 1532.44 1462.58 1528.83 Q1462.58 1525.22 1460.25 1523.11 Q1457.91 1521.01 1453.9 1521.01 Q1452.03 1521.01 1450.15 1521.42 Q1448.3 1521.84 1446.36 1522.72 L1446.36 1505.36 Z\" fill=\"#000000\" fill-rule=\"evenodd\" fill-opacity=\"1\" /><path clip-path=\"url(#clip190)\" d=\"M 0 0 M1482.33 1508.44 Q1478.72 1508.44 1476.89 1512 Q1475.08 1515.55 1475.08 1522.67 Q1475.08 1529.78 1476.89 1533.35 Q1478.72 1536.89 1482.33 1536.89 Q1485.96 1536.89 1487.77 1533.35 Q1489.6 1529.78 1489.6 1522.67 Q1489.6 1515.55 1487.77 1512 Q1485.96 1508.44 1482.33 1508.44 M1482.33 1504.73 Q1488.14 1504.73 1491.2 1509.34 Q1494.27 1513.92 1494.27 1522.67 Q1494.27 1531.4 1491.2 1536.01 Q1488.14 1540.59 1482.33 1540.59 Q1476.52 1540.59 1473.44 1536.01 Q1470.39 1531.4 1470.39 1522.67 Q1470.39 1513.92 1473.44 1509.34 Q1476.52 1504.73 1482.33 1504.73 Z\" fill=\"#000000\" fill-rule=\"evenodd\" fill-opacity=\"1\" /><path clip-path=\"url(#clip190)\" d=\"M 0 0 M1841.64 1535.98 L1857.96 1535.98 L1857.96 1539.92 L1836.01 1539.92 L1836.01 1535.98 Q1838.67 1533.23 1843.26 1528.6 Q1847.86 1523.95 1849.04 1522.61 Q1851.29 1520.08 1852.17 1518.35 Q1853.07 1516.59 1853.07 1514.9 Q1853.07 1512.14 1851.13 1510.41 Q1849.21 1508.67 1846.1 1508.67 Q1843.91 1508.67 1841.45 1509.43 Q1839.02 1510.2 1836.24 1511.75 L1836.24 1507.03 Q1839.07 1505.89 1841.52 1505.31 Q1843.97 1504.73 1846.01 1504.73 Q1851.38 1504.73 1854.58 1507.42 Q1857.77 1510.11 1857.77 1514.6 Q1857.77 1516.73 1856.96 1518.65 Q1856.17 1520.54 1854.07 1523.14 Q1853.49 1523.81 1850.39 1527.03 Q1847.28 1530.22 1841.64 1535.98 Z\" fill=\"#000000\" fill-rule=\"evenodd\" fill-opacity=\"1\" /><path clip-path=\"url(#clip190)\" d=\"M 0 0 M1873.03 1508.44 Q1869.41 1508.44 1867.59 1512 Q1865.78 1515.55 1865.78 1522.67 Q1865.78 1529.78 1867.59 1533.35 Q1869.41 1536.89 1873.03 1536.89 Q1876.66 1536.89 1878.47 1533.35 Q1880.29 1529.78 1880.29 1522.67 Q1880.29 1515.55 1878.47 1512 Q1876.66 1508.44 1873.03 1508.44 M1873.03 1504.73 Q1878.84 1504.73 1881.89 1509.34 Q1884.97 1513.92 1884.97 1522.67 Q1884.97 1531.4 1881.89 1536.01 Q1878.84 1540.59 1873.03 1540.59 Q1867.22 1540.59 1864.14 1536.01 Q1861.08 1531.4 1861.08 1522.67 Q1861.08 1513.92 1864.14 1509.34 Q1867.22 1504.73 1873.03 1504.73 Z\" fill=\"#000000\" fill-rule=\"evenodd\" fill-opacity=\"1\" /><path clip-path=\"url(#clip190)\" d=\"M 0 0 M1900.04 1508.44 Q1896.43 1508.44 1894.6 1512 Q1892.79 1515.55 1892.79 1522.67 Q1892.79 1529.78 1894.6 1533.35 Q1896.43 1536.89 1900.04 1536.89 Q1903.67 1536.89 1905.48 1533.35 Q1907.31 1529.78 1907.31 1522.67 Q1907.31 1515.55 1905.48 1512 Q1903.67 1508.44 1900.04 1508.44 M1900.04 1504.73 Q1905.85 1504.73 1908.9 1509.34 Q1911.98 1513.92 1911.98 1522.67 Q1911.98 1531.4 1908.9 1536.01 Q1905.85 1540.59 1900.04 1540.59 Q1894.23 1540.59 1891.15 1536.01 Q1888.09 1531.4 1888.09 1522.67 Q1888.09 1513.92 1891.15 1509.34 Q1894.23 1504.73 1900.04 1504.73 Z\" fill=\"#000000\" fill-rule=\"evenodd\" fill-opacity=\"1\" /><path clip-path=\"url(#clip190)\" d=\"M 0 0 M2258.66 1535.98 L2274.98 1535.98 L2274.98 1539.92 L2253.04 1539.92 L2253.04 1535.98 Q2255.7 1533.23 2260.28 1528.6 Q2264.89 1523.95 2266.07 1522.61 Q2268.32 1520.08 2269.2 1518.35 Q2270.1 1516.59 2270.1 1514.9 Q2270.1 1512.14 2268.15 1510.41 Q2266.23 1508.67 2263.13 1508.67 Q2260.93 1508.67 2258.48 1509.43 Q2256.05 1510.2 2253.27 1511.75 L2253.27 1507.03 Q2256.09 1505.89 2258.55 1505.31 Q2261 1504.73 2263.04 1504.73 Q2268.41 1504.73 2271.6 1507.42 Q2274.8 1510.11 2274.8 1514.6 Q2274.8 1516.73 2273.99 1518.65 Q2273.2 1520.54 2271.09 1523.14 Q2270.52 1523.81 2267.41 1527.03 Q2264.31 1530.22 2258.66 1535.98 Z\" fill=\"#000000\" fill-rule=\"evenodd\" fill-opacity=\"1\" /><path clip-path=\"url(#clip190)\" d=\"M 0 0 M2280.1 1505.36 L2298.45 1505.36 L2298.45 1509.3 L2284.38 1509.3 L2284.38 1517.77 Q2285.4 1517.42 2286.42 1517.26 Q2287.44 1517.07 2288.45 1517.07 Q2294.24 1517.07 2297.62 1520.24 Q2301 1523.42 2301 1528.83 Q2301 1534.41 2297.53 1537.51 Q2294.06 1540.59 2287.74 1540.59 Q2285.56 1540.59 2283.29 1540.22 Q2281.05 1539.85 2278.64 1539.11 L2278.64 1534.41 Q2280.72 1535.54 2282.95 1536.1 Q2285.17 1536.66 2287.64 1536.66 Q2291.65 1536.66 2293.99 1534.55 Q2296.33 1532.44 2296.33 1528.83 Q2296.33 1525.22 2293.99 1523.11 Q2291.65 1521.01 2287.64 1521.01 Q2285.77 1521.01 2283.89 1521.42 Q2282.04 1521.84 2280.1 1522.72 L2280.1 1505.36 Z\" fill=\"#000000\" fill-rule=\"evenodd\" fill-opacity=\"1\" /><path clip-path=\"url(#clip190)\" d=\"M 0 0 M2316.07 1508.44 Q2312.46 1508.44 2310.63 1512 Q2308.82 1515.55 2308.82 1522.67 Q2308.82 1529.78 2310.63 1533.35 Q2312.46 1536.89 2316.07 1536.89 Q2319.7 1536.89 2321.51 1533.35 Q2323.34 1529.78 2323.34 1522.67 Q2323.34 1515.55 2321.51 1512 Q2319.7 1508.44 2316.07 1508.44 M2316.07 1504.73 Q2321.88 1504.73 2324.94 1509.34 Q2328.01 1513.92 2328.01 1522.67 Q2328.01 1531.4 2324.94 1536.01 Q2321.88 1540.59 2316.07 1540.59 Q2310.26 1540.59 2307.18 1536.01 Q2304.13 1531.4 2304.13 1522.67 Q2304.13 1513.92 2307.18 1509.34 Q2310.26 1504.73 2316.07 1504.73 Z\" fill=\"#000000\" fill-rule=\"evenodd\" fill-opacity=\"1\" /><path clip-path=\"url(#clip190)\" d=\"M 0 0 M62.9921 1442.01 L75.4689 1442.01 L75.4689 1445.81 L62.9921 1445.81 L62.9921 1442.01 Z\" fill=\"#000000\" fill-rule=\"evenodd\" fill-opacity=\"1\" /><path clip-path=\"url(#clip190)\" d=\"M 0 0 M93.3855 1426.41 L81.58 1444.86 L93.3855 1444.86 L93.3855 1426.41 M92.1586 1422.34 L98.0382 1422.34 L98.0382 1444.86 L102.969 1444.86 L102.969 1448.75 L98.0382 1448.75 L98.0382 1456.9 L93.3855 1456.9 L93.3855 1448.75 L77.7837 1448.75 L77.7837 1444.24 L92.1586 1422.34 Z\" fill=\"#000000\" fill-rule=\"evenodd\" fill-opacity=\"1\" /><path clip-path=\"url(#clip190)\" d=\"M 0 0 M118.038 1425.42 Q114.427 1425.42 112.598 1428.98 Q110.793 1432.52 110.793 1439.65 Q110.793 1446.76 112.598 1450.32 Q114.427 1453.86 118.038 1453.86 Q121.672 1453.86 123.478 1450.32 Q125.307 1446.76 125.307 1439.65 Q125.307 1432.52 123.478 1428.98 Q121.672 1425.42 118.038 1425.42 M118.038 1421.71 Q123.848 1421.71 126.904 1426.32 Q129.983 1430.9 129.983 1439.65 Q129.983 1448.38 126.904 1452.99 Q123.848 1457.57 118.038 1457.57 Q112.228 1457.57 109.149 1452.99 Q106.094 1448.38 106.094 1439.65 Q106.094 1430.9 109.149 1426.32 Q112.228 1421.71 118.038 1421.71 Z\" fill=\"#000000\" fill-rule=\"evenodd\" fill-opacity=\"1\" /><path clip-path=\"url(#clip190)\" d=\"M 0 0 M65.0754 1105.59 L77.5522 1105.59 L77.5522 1109.38 L65.0754 1109.38 L65.0754 1105.59 Z\" fill=\"#000000\" fill-rule=\"evenodd\" fill-opacity=\"1\" /><path clip-path=\"url(#clip190)\" d=\"M 0 0 M86.6494 1116.54 L102.969 1116.54 L102.969 1120.47 L81.0244 1120.47 L81.0244 1116.54 Q83.6865 1113.78 88.2698 1109.15 Q92.8762 1104.5 94.0568 1103.16 Q96.3021 1100.63 97.1818 1098.9 Q98.0845 1097.14 98.0845 1095.45 Q98.0845 1092.7 96.1401 1090.96 Q94.2188 1089.22 91.117 1089.22 Q88.9179 1089.22 86.4642 1089.99 Q84.0337 1090.75 81.2559 1092.3 L81.2559 1087.58 Q84.08 1086.45 86.5337 1085.87 Q88.9874 1085.29 91.0244 1085.29 Q96.3947 1085.29 99.5892 1087.97 Q102.784 1090.66 102.784 1095.15 Q102.784 1097.28 101.973 1099.2 Q101.186 1101.1 99.0799 1103.69 Q98.5012 1104.36 95.3994 1107.58 Q92.2975 1110.77 86.6494 1116.54 Z\" fill=\"#000000\" fill-rule=\"evenodd\" fill-opacity=\"1\" /><path clip-path=\"url(#clip190)\" d=\"M 0 0 M118.038 1088.99 Q114.427 1088.99 112.598 1092.56 Q110.793 1096.1 110.793 1103.23 Q110.793 1110.33 112.598 1113.9 Q114.427 1117.44 118.038 1117.44 Q121.672 1117.44 123.478 1113.9 Q125.307 1110.33 125.307 1103.23 Q125.307 1096.1 123.478 1092.56 Q121.672 1088.99 118.038 1088.99 M118.038 1085.29 Q123.848 1085.29 126.904 1089.89 Q129.983 1094.48 129.983 1103.23 Q129.983 1111.95 126.904 1116.56 Q123.848 1121.14 118.038 1121.14 Q112.228 1121.14 109.149 1116.56 Q106.094 1111.95 106.094 1103.23 Q106.094 1094.48 109.149 1089.89 Q112.228 1085.29 118.038 1085.29 Z\" fill=\"#000000\" fill-rule=\"evenodd\" fill-opacity=\"1\" /><path clip-path=\"url(#clip190)\" d=\"M 0 0 M118.038 752.567 Q114.427 752.567 112.598 756.132 Q110.793 759.673 110.793 766.803 Q110.793 773.909 112.598 777.474 Q114.427 781.016 118.038 781.016 Q121.672 781.016 123.478 777.474 Q125.307 773.909 125.307 766.803 Q125.307 759.673 123.478 756.132 Q121.672 752.567 118.038 752.567 M118.038 748.863 Q123.848 748.863 126.904 753.47 Q129.983 758.053 129.983 766.803 Q129.983 775.53 126.904 780.136 Q123.848 784.72 118.038 784.72 Q112.228 784.72 109.149 780.136 Q106.094 775.53 106.094 766.803 Q106.094 758.053 109.149 753.47 Q112.228 748.863 118.038 748.863 Z\" fill=\"#000000\" fill-rule=\"evenodd\" fill-opacity=\"1\" /><path clip-path=\"url(#clip190)\" d=\"M 0 0 M86.6494 443.689 L102.969 443.689 L102.969 447.624 L81.0244 447.624 L81.0244 443.689 Q83.6865 440.934 88.2698 436.304 Q92.8762 431.652 94.0568 430.309 Q96.3021 427.786 97.1818 426.05 Q98.0845 424.291 98.0845 422.601 Q98.0845 419.846 96.1401 418.11 Q94.2188 416.374 91.117 416.374 Q88.9179 416.374 86.4642 417.138 Q84.0337 417.902 81.2559 419.453 L81.2559 414.73 Q84.08 413.596 86.5337 413.018 Q88.9874 412.439 91.0244 412.439 Q96.3947 412.439 99.5892 415.124 Q102.784 417.809 102.784 422.3 Q102.784 424.429 101.973 426.351 Q101.186 428.249 99.0799 430.841 Q98.5012 431.513 95.3994 434.73 Q92.2975 437.925 86.6494 443.689 Z\" fill=\"#000000\" fill-rule=\"evenodd\" fill-opacity=\"1\" /><path clip-path=\"url(#clip190)\" d=\"M 0 0 M118.038 416.142 Q114.427 416.142 112.598 419.707 Q110.793 423.249 110.793 430.379 Q110.793 437.485 112.598 441.05 Q114.427 444.591 118.038 444.591 Q121.672 444.591 123.478 441.05 Q125.307 437.485 125.307 430.379 Q125.307 423.249 123.478 419.707 Q121.672 416.142 118.038 416.142 M118.038 412.439 Q123.848 412.439 126.904 417.045 Q129.983 421.629 129.983 430.379 Q129.983 439.105 126.904 443.712 Q123.848 448.295 118.038 448.295 Q112.228 448.295 109.149 443.712 Q106.094 439.105 106.094 430.379 Q106.094 421.629 109.149 417.045 Q112.228 412.439 118.038 412.439 Z\" fill=\"#000000\" fill-rule=\"evenodd\" fill-opacity=\"1\" /><path clip-path=\"url(#clip190)\" d=\"M 0 0 M93.3855 80.7134 L81.58 99.1624 L93.3855 99.1624 L93.3855 80.7134 M92.1586 76.6394 L98.0382 76.6394 L98.0382 99.1624 L102.969 99.1624 L102.969 103.051 L98.0382 103.051 L98.0382 111.199 L93.3855 111.199 L93.3855 103.051 L77.7837 103.051 L77.7837 98.5374 L92.1586 76.6394 Z\" fill=\"#000000\" fill-rule=\"evenodd\" fill-opacity=\"1\" /><path clip-path=\"url(#clip190)\" d=\"M 0 0 M118.038 79.7181 Q114.427 79.7181 112.598 83.2829 Q110.793 86.8245 110.793 93.9541 Q110.793 101.061 112.598 104.625 Q114.427 108.167 118.038 108.167 Q121.672 108.167 123.478 104.625 Q125.307 101.061 125.307 93.9541 Q125.307 86.8245 123.478 83.2829 Q121.672 79.7181 118.038 79.7181 M118.038 76.0144 Q123.848 76.0144 126.904 80.6209 Q129.983 85.2042 129.983 93.9541 Q129.983 102.681 126.904 107.287 Q123.848 111.871 118.038 111.871 Q112.228 111.871 109.149 107.287 Q106.094 102.681 106.094 93.9541 Q106.094 85.2042 109.149 80.6209 Q112.228 76.0144 118.038 76.0144 Z\" fill=\"#000000\" fill-rule=\"evenodd\" fill-opacity=\"1\" /><polyline clip-path=\"url(#clip192)\" style=\"stroke:#009af9; stroke-width:4; stroke-opacity:1; fill:none\" points=\"\n",
       "  216.212,820.914 224.543,668.135 232.873,905.495 241.204,591.559 249.534,975.546 257.865,526.864 266.195,1035.69 274.526,470.692 282.857,1088.33 291.187,421.221 \n",
       "  299.518,1134.92 307.848,377.294 316.179,1176.39 324.509,338.102 332.84,1213.45 341.171,303.046 349.501,1246.62 357.832,271.664 366.162,1276.3 374.493,243.588 \n",
       "  382.824,1302.84 391.154,218.517 399.485,1326.51 407.815,196.202 416.146,1347.53 424.476,176.432 432.807,1366.09 441.138,159.025 449.468,1382.38 457.799,143.824 \n",
       "  466.129,1396.53 474.46,130.693 482.791,1408.67 491.121,119.51 499.452,1418.92 507.782,110.167 516.113,1427.38 524.443,102.569 532.774,1434.14 541.105,96.6289 \n",
       "  549.435,1439.28 557.766,92.2678 566.096,1442.88 574.427,89.4145 582.757,1445 591.088,88.0039 599.419,1445.72 607.749,87.9763 616.08,1445.07 624.41,89.2767 \n",
       "  632.741,1443.13 641.072,91.8543 649.402,1439.93 657.733,95.6622 666.063,1435.52 674.394,100.657 682.724,1429.95 691.055,106.797 699.386,1423.25 707.716,114.045 \n",
       "  716.047,1415.46 724.377,122.366 732.708,1406.62 741.039,131.726 749.369,1396.75 757.7,142.094 766.03,1385.89 774.361,153.44 782.691,1374.07 791.022,165.736 \n",
       "  799.353,1361.3 807.683,178.957 816.014,1347.63 824.344,193.078 832.675,1333.07 841.005,208.074 849.336,1317.64 857.667,223.925 865.997,1301.37 874.328,240.607 \n",
       "  882.658,1284.28 890.989,258.102 899.32,1266.39 907.65,276.39 915.981,1247.71 924.311,295.452 932.642,1228.27 940.972,315.272 949.303,1208.08 957.634,335.832 \n",
       "  965.964,1187.15 974.295,357.117 982.625,1165.51 990.956,379.111 999.287,1143.17 1007.62,401.799 1015.95,1120.14 1024.28,425.168 1032.61,1096.43 1040.94,449.203 \n",
       "  1049.27,1072.07 1057.6,473.893 1065.93,1047.06 1074.26,499.223 1082.59,1021.41 1090.92,525.184 1099.25,995.141 1107.58,551.766 1115.91,968.26 1124.25,578.956 \n",
       "  1132.58,940.792 1140.91,606.754 1149.24,912.86 1157.57,635.776 1165.9,884.99 1174.23,665.859 1182.56,862.631 1190.89,701.289 1199.22,844.008 1207.55,844.008 \n",
       "  1215.88,844.008 1224.21,844.008 1232.54,844.008 1240.87,844.008 1249.2,844.008 1257.53,844.008 1265.87,844.008 1274.2,844.008 1282.53,844.008 1290.86,844.008 \n",
       "  1299.19,844.008 1307.52,844.008 1315.85,844.008 1324.18,844.008 1332.51,844.008 1340.84,844.008 1349.17,844.008 1357.5,844.008 1365.83,844.008 1374.16,844.008 \n",
       "  1382.49,844.008 1390.82,844.008 1399.15,844.008 1407.48,844.008 1415.82,844.008 1424.15,844.008 1432.48,844.008 1440.81,844.008 1449.14,844.008 1457.47,844.008 \n",
       "  1465.8,844.008 1474.13,844.008 1482.46,844.008 1490.79,844.008 1499.12,844.008 1507.45,844.008 1515.78,844.008 1524.11,844.008 1532.44,844.008 1540.77,844.008 \n",
       "  1549.1,844.008 1557.44,844.008 1565.77,844.008 1574.1,844.008 1582.43,844.008 1590.76,844.008 1599.09,844.008 1607.42,844.008 1615.75,844.008 1624.08,844.008 \n",
       "  1632.41,844.008 1640.74,844.008 1649.07,844.008 1657.4,844.008 1665.73,844.008 1674.06,844.008 1682.39,844.008 1690.72,844.008 1699.06,844.008 1707.39,844.008 \n",
       "  1715.72,844.008 1724.05,844.008 1732.38,844.008 1740.71,844.008 1749.04,844.008 1757.37,844.008 1765.7,844.008 1774.03,844.008 1782.36,844.008 1790.69,844.008 \n",
       "  1799.02,844.008 1807.35,844.008 1815.68,844.008 1824.01,844.008 1832.34,844.008 1840.68,844.008 1849.01,844.008 1857.34,844.008 1865.67,844.008 1874,844.008 \n",
       "  1882.33,844.008 1890.66,844.008 1898.99,844.008 1907.32,844.008 1915.65,844.008 1923.98,844.008 1932.31,844.008 1940.64,844.008 1948.97,844.008 1957.3,844.008 \n",
       "  1965.63,844.008 1973.96,844.008 1982.29,844.008 1990.63,844.008 1998.96,844.008 2007.29,844.008 2015.62,844.008 2023.95,844.008 2032.28,844.008 2040.61,844.008 \n",
       "  2048.94,844.008 2057.27,844.008 2065.6,844.008 2073.93,844.008 2082.26,844.008 2090.59,844.008 2098.92,844.008 2107.25,844.008 2115.58,844.008 2123.91,844.008 \n",
       "  2132.25,844.008 2140.58,844.008 2148.91,844.008 2157.24,844.008 2165.57,844.008 2173.9,844.008 2182.23,844.008 2190.56,844.008 2198.89,844.008 2207.22,844.008 \n",
       "  2215.55,844.008 2223.88,844.008 2232.21,844.008 2240.54,844.008 2248.87,844.008 2257.2,844.008 2265.53,844.008 2273.87,844.008 2282.2,844.008 2290.53,844.008 \n",
       "  \n",
       "  \"/>\n",
       "<path clip-path=\"url(#clip190)\" d=\"\n",
       "M1989.74 251.724 L2280.76 251.724 L2280.76 130.764 L1989.74 130.764  Z\n",
       "  \" fill=\"#ffffff\" fill-rule=\"evenodd\" fill-opacity=\"1\"/>\n",
       "<polyline clip-path=\"url(#clip190)\" style=\"stroke:#000000; stroke-width:4; stroke-opacity:1; fill:none\" points=\"\n",
       "  1989.74,251.724 2280.76,251.724 2280.76,130.764 1989.74,130.764 1989.74,251.724 \n",
       "  \"/>\n",
       "<polyline clip-path=\"url(#clip190)\" style=\"stroke:#009af9; stroke-width:4; stroke-opacity:1; fill:none\" points=\"\n",
       "  2013.74,191.244 2157.74,191.244 \n",
       "  \"/>\n",
       "<path clip-path=\"url(#clip190)\" d=\"M 0 0 M2195.58 210.931 Q2193.77 215.561 2192.06 216.973 Q2190.35 218.385 2187.48 218.385 L2184.08 218.385 L2184.08 214.82 L2186.58 214.82 Q2188.33 214.82 2189.31 213.987 Q2190.28 213.154 2191.46 210.052 L2192.22 208.107 L2181.74 182.598 L2186.25 182.598 L2194.35 202.876 L2202.46 182.598 L2206.97 182.598 L2195.58 210.931 Z\" fill=\"#000000\" fill-rule=\"evenodd\" fill-opacity=\"1\" /><path clip-path=\"url(#clip190)\" d=\"M 0 0 M2212.85 204.589 L2220.49 204.589 L2220.49 178.223 L2212.18 179.89 L2212.18 175.631 L2220.44 173.964 L2225.12 173.964 L2225.12 204.589 L2232.76 204.589 L2232.76 208.524 L2212.85 208.524 L2212.85 204.589 Z\" fill=\"#000000\" fill-rule=\"evenodd\" fill-opacity=\"1\" /></svg>\n"
      ]
     },
     "execution_count": 32,
     "metadata": {},
     "output_type": "execute_result"
    }
   ],
   "source": [
    "let t = -50.0\n",
    "    Plots.plot(\n",
    "        1:250,\n",
    "        k -> signed_log(Polynomial(coefs(α, β, k))(t))\n",
    "    )\n",
    "end"
   ]
  },
  {
   "cell_type": "markdown",
   "metadata": {},
   "source": [
    "Using Horner's method seems to help, but the end result is still essentially unusable garbage."
   ]
  },
  {
   "cell_type": "markdown",
   "metadata": {},
   "source": [
    "To confirm that something's wrong, we can try an alternative implementation by implementing the integral directly."
   ]
  },
  {
   "cell_type": "markdown",
   "metadata": {},
   "source": [
    "### Evaluating the MGF Directly as an Expectation via Quadrature"
   ]
  },
  {
   "cell_type": "code",
   "execution_count": 33,
   "metadata": {},
   "outputs": [
    {
     "data": {
      "text/plain": [
       "beta_mgf_v6 (generic function with 1 method)"
      ]
     },
     "execution_count": 33,
     "metadata": {},
     "output_type": "execute_result"
    }
   ],
   "source": [
    "function beta_mgf_v6(α::Number, β::Number, t::Number)\n",
    "    quadgk(x -> exp(x * t) * pdf(Beta(α, β), x), 0, 1)[1]\n",
    "end"
   ]
  },
  {
   "cell_type": "code",
   "execution_count": 34,
   "metadata": {},
   "outputs": [
    {
     "data": {
      "image/svg+xml": [
       "<?xml version=\"1.0\" encoding=\"utf-8\"?>\n",
       "<svg xmlns=\"http://www.w3.org/2000/svg\" xmlns:xlink=\"http://www.w3.org/1999/xlink\" width=\"600\" height=\"400\" viewBox=\"0 0 2400 1600\">\n",
       "<defs>\n",
       "  <clipPath id=\"clip230\">\n",
       "    <rect x=\"0\" y=\"0\" width=\"2400\" height=\"1600\"/>\n",
       "  </clipPath>\n",
       "</defs>\n",
       "<path clip-path=\"url(#clip230)\" d=\"\n",
       "M0 1600 L2400 1600 L2400 0 L0 0  Z\n",
       "  \" fill=\"#ffffff\" fill-rule=\"evenodd\" fill-opacity=\"1\"/>\n",
       "<defs>\n",
       "  <clipPath id=\"clip231\">\n",
       "    <rect x=\"480\" y=\"0\" width=\"1681\" height=\"1600\"/>\n",
       "  </clipPath>\n",
       "</defs>\n",
       "<path clip-path=\"url(#clip230)\" d=\"\n",
       "M188.612 1486.45 L2352.76 1486.45 L2352.76 47.2441 L188.612 47.2441  Z\n",
       "  \" fill=\"#ffffff\" fill-rule=\"evenodd\" fill-opacity=\"1\"/>\n",
       "<defs>\n",
       "  <clipPath id=\"clip232\">\n",
       "    <rect x=\"188\" y=\"47\" width=\"2165\" height=\"1440\"/>\n",
       "  </clipPath>\n",
       "</defs>\n",
       "<polyline clip-path=\"url(#clip232)\" style=\"stroke:#000000; stroke-width:2; stroke-opacity:0.1; fill:none\" points=\"\n",
       "  249.861,1486.45 249.861,47.2441 \n",
       "  \"/>\n",
       "<polyline clip-path=\"url(#clip232)\" style=\"stroke:#000000; stroke-width:2; stroke-opacity:0.1; fill:none\" points=\"\n",
       "  713.872,1486.45 713.872,47.2441 \n",
       "  \"/>\n",
       "<polyline clip-path=\"url(#clip232)\" style=\"stroke:#000000; stroke-width:2; stroke-opacity:0.1; fill:none\" points=\"\n",
       "  1177.88,1486.45 1177.88,47.2441 \n",
       "  \"/>\n",
       "<polyline clip-path=\"url(#clip232)\" style=\"stroke:#000000; stroke-width:2; stroke-opacity:0.1; fill:none\" points=\"\n",
       "  1641.89,1486.45 1641.89,47.2441 \n",
       "  \"/>\n",
       "<polyline clip-path=\"url(#clip232)\" style=\"stroke:#000000; stroke-width:2; stroke-opacity:0.1; fill:none\" points=\"\n",
       "  2105.9,1486.45 2105.9,47.2441 \n",
       "  \"/>\n",
       "<polyline clip-path=\"url(#clip232)\" style=\"stroke:#000000; stroke-width:2; stroke-opacity:0.1; fill:none\" points=\"\n",
       "  188.612,1445.72 2352.76,1445.72 \n",
       "  \"/>\n",
       "<polyline clip-path=\"url(#clip232)\" style=\"stroke:#000000; stroke-width:2; stroke-opacity:0.1; fill:none\" points=\"\n",
       "  188.612,1124.69 2352.76,1124.69 \n",
       "  \"/>\n",
       "<polyline clip-path=\"url(#clip232)\" style=\"stroke:#000000; stroke-width:2; stroke-opacity:0.1; fill:none\" points=\"\n",
       "  188.612,803.663 2352.76,803.663 \n",
       "  \"/>\n",
       "<polyline clip-path=\"url(#clip232)\" style=\"stroke:#000000; stroke-width:2; stroke-opacity:0.1; fill:none\" points=\"\n",
       "  188.612,482.637 2352.76,482.637 \n",
       "  \"/>\n",
       "<polyline clip-path=\"url(#clip232)\" style=\"stroke:#000000; stroke-width:2; stroke-opacity:0.1; fill:none\" points=\"\n",
       "  188.612,161.61 2352.76,161.61 \n",
       "  \"/>\n",
       "<polyline clip-path=\"url(#clip230)\" style=\"stroke:#000000; stroke-width:4; stroke-opacity:1; fill:none\" points=\"\n",
       "  188.612,1486.45 2352.76,1486.45 \n",
       "  \"/>\n",
       "<polyline clip-path=\"url(#clip230)\" style=\"stroke:#000000; stroke-width:4; stroke-opacity:1; fill:none\" points=\"\n",
       "  188.612,1486.45 188.612,47.2441 \n",
       "  \"/>\n",
       "<polyline clip-path=\"url(#clip230)\" style=\"stroke:#000000; stroke-width:4; stroke-opacity:1; fill:none\" points=\"\n",
       "  249.861,1486.45 249.861,1469.18 \n",
       "  \"/>\n",
       "<polyline clip-path=\"url(#clip230)\" style=\"stroke:#000000; stroke-width:4; stroke-opacity:1; fill:none\" points=\"\n",
       "  713.872,1486.45 713.872,1469.18 \n",
       "  \"/>\n",
       "<polyline clip-path=\"url(#clip230)\" style=\"stroke:#000000; stroke-width:4; stroke-opacity:1; fill:none\" points=\"\n",
       "  1177.88,1486.45 1177.88,1469.18 \n",
       "  \"/>\n",
       "<polyline clip-path=\"url(#clip230)\" style=\"stroke:#000000; stroke-width:4; stroke-opacity:1; fill:none\" points=\"\n",
       "  1641.89,1486.45 1641.89,1469.18 \n",
       "  \"/>\n",
       "<polyline clip-path=\"url(#clip230)\" style=\"stroke:#000000; stroke-width:4; stroke-opacity:1; fill:none\" points=\"\n",
       "  2105.9,1486.45 2105.9,1469.18 \n",
       "  \"/>\n",
       "<polyline clip-path=\"url(#clip230)\" style=\"stroke:#000000; stroke-width:4; stroke-opacity:1; fill:none\" points=\"\n",
       "  188.612,1445.72 214.582,1445.72 \n",
       "  \"/>\n",
       "<polyline clip-path=\"url(#clip230)\" style=\"stroke:#000000; stroke-width:4; stroke-opacity:1; fill:none\" points=\"\n",
       "  188.612,1124.69 214.582,1124.69 \n",
       "  \"/>\n",
       "<polyline clip-path=\"url(#clip230)\" style=\"stroke:#000000; stroke-width:4; stroke-opacity:1; fill:none\" points=\"\n",
       "  188.612,803.663 214.582,803.663 \n",
       "  \"/>\n",
       "<polyline clip-path=\"url(#clip230)\" style=\"stroke:#000000; stroke-width:4; stroke-opacity:1; fill:none\" points=\"\n",
       "  188.612,482.637 214.582,482.637 \n",
       "  \"/>\n",
       "<polyline clip-path=\"url(#clip230)\" style=\"stroke:#000000; stroke-width:4; stroke-opacity:1; fill:none\" points=\"\n",
       "  188.612,161.61 214.582,161.61 \n",
       "  \"/>\n",
       "<path clip-path=\"url(#clip230)\" d=\"M 0 0 M203.716 1525.04 L216.193 1525.04 L216.193 1528.83 L203.716 1528.83 L203.716 1525.04 Z\" fill=\"#000000\" fill-rule=\"evenodd\" fill-opacity=\"1\" /><path clip-path=\"url(#clip230)\" d=\"M 0 0 M222.072 1535.98 L229.711 1535.98 L229.711 1509.62 L221.401 1511.29 L221.401 1507.03 L229.665 1505.36 L234.341 1505.36 L234.341 1535.98 L241.979 1535.98 L241.979 1539.92 L222.072 1539.92 L222.072 1535.98 Z\" fill=\"#000000\" fill-rule=\"evenodd\" fill-opacity=\"1\" /><path clip-path=\"url(#clip230)\" d=\"M 0 0 M257.049 1508.44 Q253.438 1508.44 251.609 1512 Q249.803 1515.55 249.803 1522.67 Q249.803 1529.78 251.609 1533.35 Q253.438 1536.89 257.049 1536.89 Q260.683 1536.89 262.489 1533.35 Q264.317 1529.78 264.317 1522.67 Q264.317 1515.55 262.489 1512 Q260.683 1508.44 257.049 1508.44 M257.049 1504.73 Q262.859 1504.73 265.914 1509.34 Q268.993 1513.92 268.993 1522.67 Q268.993 1531.4 265.914 1536.01 Q262.859 1540.59 257.049 1540.59 Q251.239 1540.59 248.16 1536.01 Q245.104 1531.4 245.104 1522.67 Q245.104 1513.92 248.16 1509.34 Q251.239 1504.73 257.049 1504.73 Z\" fill=\"#000000\" fill-rule=\"evenodd\" fill-opacity=\"1\" /><path clip-path=\"url(#clip230)\" d=\"M 0 0 M284.063 1508.44 Q280.451 1508.44 278.623 1512 Q276.817 1515.55 276.817 1522.67 Q276.817 1529.78 278.623 1533.35 Q280.451 1536.89 284.063 1536.89 Q287.697 1536.89 289.502 1533.35 Q291.331 1529.78 291.331 1522.67 Q291.331 1515.55 289.502 1512 Q287.697 1508.44 284.063 1508.44 M284.063 1504.73 Q289.873 1504.73 292.928 1509.34 Q296.007 1513.92 296.007 1522.67 Q296.007 1531.4 292.928 1536.01 Q289.873 1540.59 284.063 1540.59 Q278.252 1540.59 275.174 1536.01 Q272.118 1531.4 272.118 1522.67 Q272.118 1513.92 275.174 1509.34 Q278.252 1504.73 284.063 1504.73 Z\" fill=\"#000000\" fill-rule=\"evenodd\" fill-opacity=\"1\" /><path clip-path=\"url(#clip230)\" d=\"M 0 0 M681.569 1525.04 L694.045 1525.04 L694.045 1528.83 L681.569 1528.83 L681.569 1525.04 Z\" fill=\"#000000\" fill-rule=\"evenodd\" fill-opacity=\"1\" /><path clip-path=\"url(#clip230)\" d=\"M 0 0 M697.934 1505.36 L720.156 1505.36 L720.156 1507.35 L707.61 1539.92 L702.726 1539.92 L714.531 1509.3 L697.934 1509.3 L697.934 1505.36 Z\" fill=\"#000000\" fill-rule=\"evenodd\" fill-opacity=\"1\" /><path clip-path=\"url(#clip230)\" d=\"M 0 0 M725.272 1505.36 L743.628 1505.36 L743.628 1509.3 L729.554 1509.3 L729.554 1517.77 Q730.573 1517.42 731.591 1517.26 Q732.61 1517.07 733.628 1517.07 Q739.415 1517.07 742.795 1520.24 Q746.175 1523.42 746.175 1528.83 Q746.175 1534.41 742.702 1537.51 Q739.23 1540.59 732.911 1540.59 Q730.735 1540.59 728.466 1540.22 Q726.221 1539.85 723.814 1539.11 L723.814 1534.41 Q725.897 1535.54 728.119 1536.1 Q730.341 1536.66 732.818 1536.66 Q736.823 1536.66 739.161 1534.55 Q741.499 1532.44 741.499 1528.83 Q741.499 1525.22 739.161 1523.11 Q736.823 1521.01 732.818 1521.01 Q730.943 1521.01 729.068 1521.42 Q727.216 1521.84 725.272 1522.72 L725.272 1505.36 Z\" fill=\"#000000\" fill-rule=\"evenodd\" fill-opacity=\"1\" /><path clip-path=\"url(#clip230)\" d=\"M 0 0 M1145.13 1525.04 L1157.6 1525.04 L1157.6 1528.83 L1145.13 1528.83 L1145.13 1525.04 Z\" fill=\"#000000\" fill-rule=\"evenodd\" fill-opacity=\"1\" /><path clip-path=\"url(#clip230)\" d=\"M 0 0 M1162.72 1505.36 L1181.08 1505.36 L1181.08 1509.3 L1167 1509.3 L1167 1517.77 Q1168.02 1517.42 1169.04 1517.26 Q1170.06 1517.07 1171.08 1517.07 Q1176.86 1517.07 1180.24 1520.24 Q1183.62 1523.42 1183.62 1528.83 Q1183.62 1534.41 1180.15 1537.51 Q1176.68 1540.59 1170.36 1540.59 Q1168.18 1540.59 1165.91 1540.22 Q1163.67 1539.85 1161.26 1539.11 L1161.26 1534.41 Q1163.34 1535.54 1165.57 1536.1 Q1167.79 1536.66 1170.27 1536.66 Q1174.27 1536.66 1176.61 1534.55 Q1178.95 1532.44 1178.95 1528.83 Q1178.95 1525.22 1176.61 1523.11 Q1174.27 1521.01 1170.27 1521.01 Q1168.39 1521.01 1166.52 1521.42 Q1164.66 1521.84 1162.72 1522.72 L1162.72 1505.36 Z\" fill=\"#000000\" fill-rule=\"evenodd\" fill-opacity=\"1\" /><path clip-path=\"url(#clip230)\" d=\"M 0 0 M1198.69 1508.44 Q1195.08 1508.44 1193.25 1512 Q1191.45 1515.55 1191.45 1522.67 Q1191.45 1529.78 1193.25 1533.35 Q1195.08 1536.89 1198.69 1536.89 Q1202.33 1536.89 1204.13 1533.35 Q1205.96 1529.78 1205.96 1522.67 Q1205.96 1515.55 1204.13 1512 Q1202.33 1508.44 1198.69 1508.44 M1198.69 1504.73 Q1204.5 1504.73 1207.56 1509.34 Q1210.64 1513.92 1210.64 1522.67 Q1210.64 1531.4 1207.56 1536.01 Q1204.5 1540.59 1198.69 1540.59 Q1192.88 1540.59 1189.8 1536.01 Q1186.75 1531.4 1186.75 1522.67 Q1186.75 1513.92 1189.8 1509.34 Q1192.88 1504.73 1198.69 1504.73 Z\" fill=\"#000000\" fill-rule=\"evenodd\" fill-opacity=\"1\" /><path clip-path=\"url(#clip230)\" d=\"M 0 0 M1609.94 1525.04 L1622.41 1525.04 L1622.41 1528.83 L1609.94 1528.83 L1609.94 1525.04 Z\" fill=\"#000000\" fill-rule=\"evenodd\" fill-opacity=\"1\" /><path clip-path=\"url(#clip230)\" d=\"M 0 0 M1631.51 1535.98 L1647.83 1535.98 L1647.83 1539.92 L1625.89 1539.92 L1625.89 1535.98 Q1628.55 1533.23 1633.13 1528.6 Q1637.74 1523.95 1638.92 1522.61 Q1641.16 1520.08 1642.04 1518.35 Q1642.95 1516.59 1642.95 1514.9 Q1642.95 1512.14 1641 1510.41 Q1639.08 1508.67 1635.98 1508.67 Q1633.78 1508.67 1631.33 1509.43 Q1628.89 1510.2 1626.12 1511.75 L1626.12 1507.03 Q1628.94 1505.89 1631.39 1505.31 Q1633.85 1504.73 1635.89 1504.73 Q1641.26 1504.73 1644.45 1507.42 Q1647.64 1510.11 1647.64 1514.6 Q1647.64 1516.73 1646.83 1518.65 Q1646.05 1520.54 1643.94 1523.14 Q1643.36 1523.81 1640.26 1527.03 Q1637.16 1530.22 1631.51 1535.98 Z\" fill=\"#000000\" fill-rule=\"evenodd\" fill-opacity=\"1\" /><path clip-path=\"url(#clip230)\" d=\"M 0 0 M1652.95 1505.36 L1671.3 1505.36 L1671.3 1509.3 L1657.23 1509.3 L1657.23 1517.77 Q1658.25 1517.42 1659.26 1517.26 Q1660.28 1517.07 1661.3 1517.07 Q1667.09 1517.07 1670.47 1520.24 Q1673.85 1523.42 1673.85 1528.83 Q1673.85 1534.41 1670.38 1537.51 Q1666.9 1540.59 1660.58 1540.59 Q1658.41 1540.59 1656.14 1540.22 Q1653.89 1539.85 1651.49 1539.11 L1651.49 1534.41 Q1653.57 1535.54 1655.79 1536.1 Q1658.01 1536.66 1660.49 1536.66 Q1664.5 1536.66 1666.83 1534.55 Q1669.17 1532.44 1669.17 1528.83 Q1669.17 1525.22 1666.83 1523.11 Q1664.5 1521.01 1660.49 1521.01 Q1658.62 1521.01 1656.74 1521.42 Q1654.89 1521.84 1652.95 1522.72 L1652.95 1505.36 Z\" fill=\"#000000\" fill-rule=\"evenodd\" fill-opacity=\"1\" /><path clip-path=\"url(#clip230)\" d=\"M 0 0 M2105.9 1508.44 Q2102.29 1508.44 2100.46 1512 Q2098.66 1515.55 2098.66 1522.67 Q2098.66 1529.78 2100.46 1533.35 Q2102.29 1536.89 2105.9 1536.89 Q2109.54 1536.89 2111.34 1533.35 Q2113.17 1529.78 2113.17 1522.67 Q2113.17 1515.55 2111.34 1512 Q2109.54 1508.44 2105.9 1508.44 M2105.9 1504.73 Q2111.71 1504.73 2114.77 1509.34 Q2117.85 1513.92 2117.85 1522.67 Q2117.85 1531.4 2114.77 1536.01 Q2111.71 1540.59 2105.9 1540.59 Q2100.09 1540.59 2097.01 1536.01 Q2093.96 1531.4 2093.96 1522.67 Q2093.96 1513.92 2097.01 1509.34 Q2100.09 1504.73 2105.9 1504.73 Z\" fill=\"#000000\" fill-rule=\"evenodd\" fill-opacity=\"1\" /><path clip-path=\"url(#clip230)\" d=\"M 0 0 M152.668 1431.52 Q149.056 1431.52 147.228 1435.08 Q145.422 1438.62 145.422 1445.75 Q145.422 1452.86 147.228 1456.42 Q149.056 1459.96 152.668 1459.96 Q156.302 1459.96 158.107 1456.42 Q159.936 1452.86 159.936 1445.75 Q159.936 1438.62 158.107 1435.08 Q156.302 1431.52 152.668 1431.52 M152.668 1427.81 Q158.478 1427.81 161.533 1432.42 Q164.612 1437 164.612 1445.75 Q164.612 1454.48 161.533 1459.08 Q158.478 1463.67 152.668 1463.67 Q146.857 1463.67 143.779 1459.08 Q140.723 1454.48 140.723 1445.75 Q140.723 1437 143.779 1432.42 Q146.857 1427.81 152.668 1427.81 Z\" fill=\"#000000\" fill-rule=\"evenodd\" fill-opacity=\"1\" /><path clip-path=\"url(#clip230)\" d=\"M 0 0 M95.2605 1138.03 L111.58 1138.03 L111.58 1141.97 L89.6355 1141.97 L89.6355 1138.03 Q92.2975 1135.28 96.8808 1130.65 Q101.487 1126 102.668 1124.66 Q104.913 1122.13 105.793 1120.4 Q106.696 1118.64 106.696 1116.95 Q106.696 1114.19 104.751 1112.46 Q102.83 1110.72 99.728 1110.72 Q97.529 1110.72 95.0753 1111.48 Q92.6447 1112.25 89.867 1113.8 L89.867 1109.08 Q92.691 1107.94 95.1447 1107.36 Q97.5984 1106.78 99.6354 1106.78 Q105.006 1106.78 108.2 1109.47 Q111.395 1112.16 111.395 1116.65 Q111.395 1118.78 110.584 1120.7 Q109.797 1122.59 107.691 1125.19 Q107.112 1125.86 104.01 1129.08 Q100.909 1132.27 95.2605 1138.03 Z\" fill=\"#000000\" fill-rule=\"evenodd\" fill-opacity=\"1\" /><path clip-path=\"url(#clip230)\" d=\"M 0 0 M116.696 1107.41 L135.052 1107.41 L135.052 1111.34 L120.978 1111.34 L120.978 1119.82 Q121.996 1119.47 123.015 1119.31 Q124.033 1119.12 125.052 1119.12 Q130.839 1119.12 134.219 1122.29 Q137.598 1125.47 137.598 1130.88 Q137.598 1136.46 134.126 1139.56 Q130.654 1142.64 124.334 1142.64 Q122.158 1142.64 119.89 1142.27 Q117.645 1141.9 115.237 1141.16 L115.237 1136.46 Q117.321 1137.59 119.543 1138.15 Q121.765 1138.71 124.242 1138.71 Q128.246 1138.71 130.584 1136.6 Q132.922 1134.49 132.922 1130.88 Q132.922 1127.27 130.584 1125.16 Q128.246 1123.06 124.242 1123.06 Q122.367 1123.06 120.492 1123.47 Q118.64 1123.89 116.696 1124.77 L116.696 1107.41 Z\" fill=\"#000000\" fill-rule=\"evenodd\" fill-opacity=\"1\" /><path clip-path=\"url(#clip230)\" d=\"M 0 0 M152.668 1110.49 Q149.056 1110.49 147.228 1114.05 Q145.422 1117.59 145.422 1124.72 Q145.422 1131.83 147.228 1135.4 Q149.056 1138.94 152.668 1138.94 Q156.302 1138.94 158.107 1135.4 Q159.936 1131.83 159.936 1124.72 Q159.936 1117.59 158.107 1114.05 Q156.302 1110.49 152.668 1110.49 M152.668 1106.78 Q158.478 1106.78 161.533 1111.39 Q164.612 1115.97 164.612 1124.72 Q164.612 1133.45 161.533 1138.06 Q158.478 1142.64 152.668 1142.64 Q146.857 1142.64 143.779 1138.06 Q140.723 1133.45 140.723 1124.72 Q140.723 1115.97 143.779 1111.39 Q146.857 1106.78 152.668 1106.78 Z\" fill=\"#000000\" fill-rule=\"evenodd\" fill-opacity=\"1\" /><path clip-path=\"url(#clip230)\" d=\"M 0 0 M89.6818 786.383 L108.038 786.383 L108.038 790.318 L93.9642 790.318 L93.9642 798.791 Q94.9827 798.443 96.0012 798.281 Q97.0197 798.096 98.0382 798.096 Q103.825 798.096 107.205 801.267 Q110.584 804.439 110.584 809.855 Q110.584 815.434 107.112 818.536 Q103.64 821.615 97.3206 821.615 Q95.1447 821.615 92.8762 821.244 Q90.6309 820.874 88.2235 820.133 L88.2235 815.434 Q90.3068 816.568 92.529 817.124 Q94.7512 817.679 97.2281 817.679 Q101.233 817.679 103.571 815.573 Q105.909 813.466 105.909 809.855 Q105.909 806.244 103.571 804.138 Q101.233 802.031 97.2281 802.031 Q95.3531 802.031 93.4781 802.448 Q91.6262 802.865 89.6818 803.744 L89.6818 786.383 Z\" fill=\"#000000\" fill-rule=\"evenodd\" fill-opacity=\"1\" /><path clip-path=\"url(#clip230)\" d=\"M 0 0 M125.654 789.462 Q122.043 789.462 120.214 793.027 Q118.408 796.568 118.408 803.698 Q118.408 810.804 120.214 814.369 Q122.043 817.911 125.654 817.911 Q129.288 817.911 131.094 814.369 Q132.922 810.804 132.922 803.698 Q132.922 796.568 131.094 793.027 Q129.288 789.462 125.654 789.462 M125.654 785.758 Q131.464 785.758 134.52 790.365 Q137.598 794.948 137.598 803.698 Q137.598 812.425 134.52 817.031 Q131.464 821.615 125.654 821.615 Q119.844 821.615 116.765 817.031 Q113.709 812.425 113.709 803.698 Q113.709 794.948 116.765 790.365 Q119.844 785.758 125.654 785.758 Z\" fill=\"#000000\" fill-rule=\"evenodd\" fill-opacity=\"1\" /><path clip-path=\"url(#clip230)\" d=\"M 0 0 M152.668 789.462 Q149.056 789.462 147.228 793.027 Q145.422 796.568 145.422 803.698 Q145.422 810.804 147.228 814.369 Q149.056 817.911 152.668 817.911 Q156.302 817.911 158.107 814.369 Q159.936 810.804 159.936 803.698 Q159.936 796.568 158.107 793.027 Q156.302 789.462 152.668 789.462 M152.668 785.758 Q158.478 785.758 161.533 790.365 Q164.612 794.948 164.612 803.698 Q164.612 812.425 161.533 817.031 Q158.478 821.615 152.668 821.615 Q146.857 821.615 143.779 817.031 Q140.723 812.425 140.723 803.698 Q140.723 794.948 143.779 790.365 Q146.857 785.758 152.668 785.758 Z\" fill=\"#000000\" fill-rule=\"evenodd\" fill-opacity=\"1\" /><path clip-path=\"url(#clip230)\" d=\"M 0 0 M89.3577 465.357 L111.58 465.357 L111.58 467.347 L99.0336 499.917 L94.1494 499.917 L105.955 469.292 L89.3577 469.292 L89.3577 465.357 Z\" fill=\"#000000\" fill-rule=\"evenodd\" fill-opacity=\"1\" /><path clip-path=\"url(#clip230)\" d=\"M 0 0 M116.696 465.357 L135.052 465.357 L135.052 469.292 L120.978 469.292 L120.978 477.764 Q121.996 477.417 123.015 477.255 Q124.033 477.069 125.052 477.069 Q130.839 477.069 134.219 480.241 Q137.598 483.412 137.598 488.829 Q137.598 494.407 134.126 497.509 Q130.654 500.588 124.334 500.588 Q122.158 500.588 119.89 500.218 Q117.645 499.847 115.237 499.106 L115.237 494.407 Q117.321 495.542 119.543 496.097 Q121.765 496.653 124.242 496.653 Q128.246 496.653 130.584 494.546 Q132.922 492.44 132.922 488.829 Q132.922 485.218 130.584 483.111 Q128.246 481.005 124.242 481.005 Q122.367 481.005 120.492 481.421 Q118.64 481.838 116.696 482.718 L116.696 465.357 Z\" fill=\"#000000\" fill-rule=\"evenodd\" fill-opacity=\"1\" /><path clip-path=\"url(#clip230)\" d=\"M 0 0 M152.668 468.435 Q149.056 468.435 147.228 472 Q145.422 475.542 145.422 482.671 Q145.422 489.778 147.228 493.343 Q149.056 496.884 152.668 496.884 Q156.302 496.884 158.107 493.343 Q159.936 489.778 159.936 482.671 Q159.936 475.542 158.107 472 Q156.302 468.435 152.668 468.435 M152.668 464.732 Q158.478 464.732 161.533 469.338 Q164.612 473.921 164.612 482.671 Q164.612 491.398 161.533 496.005 Q158.478 500.588 152.668 500.588 Q146.857 500.588 143.779 496.005 Q140.723 491.398 140.723 482.671 Q140.723 473.921 143.779 469.338 Q146.857 464.732 152.668 464.732 Z\" fill=\"#000000\" fill-rule=\"evenodd\" fill-opacity=\"1\" /><path clip-path=\"url(#clip230)\" d=\"M 0 0 M63.6634 174.955 L71.3023 174.955 L71.3023 148.589 L62.9921 150.256 L62.9921 145.997 L71.256 144.33 L75.9319 144.33 L75.9319 174.955 L83.5707 174.955 L83.5707 178.89 L63.6634 178.89 L63.6634 174.955 Z\" fill=\"#000000\" fill-rule=\"evenodd\" fill-opacity=\"1\" /><path clip-path=\"url(#clip230)\" d=\"M 0 0 M98.6401 147.409 Q95.029 147.409 93.2003 150.973 Q91.3948 154.515 91.3948 161.645 Q91.3948 168.751 93.2003 172.316 Q95.029 175.858 98.6401 175.858 Q102.274 175.858 104.08 172.316 Q105.909 168.751 105.909 161.645 Q105.909 154.515 104.08 150.973 Q102.274 147.409 98.6401 147.409 M98.6401 143.705 Q104.45 143.705 107.506 148.311 Q110.584 152.895 110.584 161.645 Q110.584 170.371 107.506 174.978 Q104.45 179.561 98.6401 179.561 Q92.8299 179.561 89.7512 174.978 Q86.6957 170.371 86.6957 161.645 Q86.6957 152.895 89.7512 148.311 Q92.8299 143.705 98.6401 143.705 Z\" fill=\"#000000\" fill-rule=\"evenodd\" fill-opacity=\"1\" /><path clip-path=\"url(#clip230)\" d=\"M 0 0 M125.654 147.409 Q122.043 147.409 120.214 150.973 Q118.408 154.515 118.408 161.645 Q118.408 168.751 120.214 172.316 Q122.043 175.858 125.654 175.858 Q129.288 175.858 131.094 172.316 Q132.922 168.751 132.922 161.645 Q132.922 154.515 131.094 150.973 Q129.288 147.409 125.654 147.409 M125.654 143.705 Q131.464 143.705 134.52 148.311 Q137.598 152.895 137.598 161.645 Q137.598 170.371 134.52 174.978 Q131.464 179.561 125.654 179.561 Q119.844 179.561 116.765 174.978 Q113.709 170.371 113.709 161.645 Q113.709 152.895 116.765 148.311 Q119.844 143.705 125.654 143.705 Z\" fill=\"#000000\" fill-rule=\"evenodd\" fill-opacity=\"1\" /><path clip-path=\"url(#clip230)\" d=\"M 0 0 M152.668 147.409 Q149.056 147.409 147.228 150.973 Q145.422 154.515 145.422 161.645 Q145.422 168.751 147.228 172.316 Q149.056 175.858 152.668 175.858 Q156.302 175.858 158.107 172.316 Q159.936 168.751 159.936 161.645 Q159.936 154.515 158.107 150.973 Q156.302 147.409 152.668 147.409 M152.668 143.705 Q158.478 143.705 161.533 148.311 Q164.612 152.895 164.612 161.645 Q164.612 170.371 161.533 174.978 Q158.478 179.561 152.668 179.561 Q146.857 179.561 143.779 174.978 Q140.723 170.371 140.723 161.645 Q140.723 152.895 143.779 148.311 Q146.857 143.705 152.668 143.705 Z\" fill=\"#000000\" fill-rule=\"evenodd\" fill-opacity=\"1\" /><polyline clip-path=\"url(#clip232)\" style=\"stroke:#009af9; stroke-width:4; stroke-opacity:1; fill:none\" points=\"\n",
       "  249.861,1445.72 251.905,1445.72 253.949,1445.72 255.992,1445.72 258.036,1445.72 260.08,1445.72 262.123,1445.72 264.167,1445.72 266.211,1445.72 268.255,1445.72 \n",
       "  270.298,1445.72 272.342,1445.72 274.386,1445.72 276.429,1445.72 278.473,1445.72 280.517,1445.72 282.56,1445.72 284.604,1445.72 286.648,1445.72 288.691,1445.72 \n",
       "  290.735,1445.72 292.779,1445.72 294.822,1445.72 296.866,1445.72 298.91,1445.72 300.954,1445.72 302.997,1445.72 305.041,1445.72 307.085,1445.72 309.128,1445.72 \n",
       "  311.172,1445.72 313.216,1445.72 315.259,1445.72 317.303,1445.72 319.347,1445.72 321.39,1445.72 323.434,1445.72 325.478,1445.72 327.521,1445.72 329.565,1445.72 \n",
       "  331.609,1445.72 333.653,1445.72 335.696,1445.72 337.74,1445.72 339.784,1445.72 341.827,1445.72 343.871,1445.72 345.915,1445.72 347.958,1445.72 350.002,1445.72 \n",
       "  352.046,1445.72 354.089,1445.72 356.133,1445.72 358.177,1445.72 360.221,1445.72 362.264,1445.72 364.308,1445.72 366.352,1445.72 368.395,1445.72 370.439,1445.72 \n",
       "  372.483,1445.72 374.526,1445.72 376.57,1445.72 378.614,1445.72 380.657,1445.72 382.701,1445.72 384.745,1445.72 386.788,1445.72 388.832,1445.72 390.876,1445.72 \n",
       "  392.92,1445.72 394.963,1445.72 397.007,1445.72 399.051,1445.72 401.094,1445.72 403.138,1445.72 405.182,1445.72 407.225,1445.72 409.269,1445.72 411.313,1445.72 \n",
       "  413.356,1445.72 415.4,1445.72 417.444,1445.72 419.487,1445.72 421.531,1445.72 423.575,1445.72 425.619,1445.72 427.662,1445.72 429.706,1445.72 431.75,1445.72 \n",
       "  433.793,1445.72 435.837,1445.72 437.881,1445.72 439.924,1445.72 441.968,1445.72 444.012,1445.72 446.055,1445.72 448.099,1445.72 450.143,1445.72 452.187,1445.72 \n",
       "  454.23,1445.72 456.274,1445.72 458.318,1445.72 460.361,1445.72 462.405,1445.72 464.449,1445.72 466.492,1445.72 468.536,1445.72 470.58,1445.72 472.623,1445.72 \n",
       "  474.667,1445.72 476.711,1445.72 478.754,1445.72 480.798,1445.72 482.842,1445.72 484.886,1445.72 486.929,1445.72 488.973,1445.72 491.017,1445.72 493.06,1445.72 \n",
       "  495.104,1445.72 497.148,1445.72 499.191,1445.72 501.235,1445.72 503.279,1445.72 505.322,1445.72 507.366,1445.72 509.41,1445.72 511.453,1445.72 513.497,1445.72 \n",
       "  515.541,1445.72 517.585,1445.72 519.628,1445.72 521.672,1445.72 523.716,1445.72 525.759,1445.72 527.803,1445.72 529.847,1445.72 531.89,1445.72 533.934,1445.72 \n",
       "  535.978,1445.72 538.021,1445.72 540.065,1445.72 542.109,1445.72 544.153,1445.72 546.196,1445.72 548.24,1445.72 550.284,1445.72 552.327,1445.72 554.371,1445.72 \n",
       "  556.415,1445.72 558.458,1445.72 560.502,1445.72 562.546,1445.72 564.589,1445.72 566.633,1445.72 568.677,1445.72 570.72,1445.72 572.764,1445.72 574.808,1445.72 \n",
       "  576.852,1445.72 578.895,1445.72 580.939,1445.72 582.983,1445.72 585.026,1445.72 587.07,1445.72 589.114,1445.72 591.157,1445.72 593.201,1445.72 595.245,1445.72 \n",
       "  597.288,1445.72 599.332,1445.72 601.376,1445.72 603.419,1445.72 605.463,1445.72 607.507,1445.72 609.551,1445.72 611.594,1445.72 613.638,1445.72 615.682,1445.72 \n",
       "  617.725,1445.72 619.769,1445.72 621.813,1445.72 623.856,1445.72 625.9,1445.72 627.944,1445.72 629.987,1445.72 632.031,1445.72 634.075,1445.72 636.119,1445.72 \n",
       "  638.162,1445.72 640.206,1445.72 642.25,1445.72 644.293,1445.72 646.337,1445.72 648.381,1445.72 650.424,1445.72 652.468,1445.72 654.512,1445.72 656.555,1445.72 \n",
       "  658.599,1445.72 660.643,1445.72 662.686,1445.72 664.73,1445.72 666.774,1445.72 668.818,1445.72 670.861,1445.72 672.905,1445.72 674.949,1445.72 676.992,1445.72 \n",
       "  679.036,1445.72 681.08,1445.72 683.123,1445.72 685.167,1445.72 687.211,1445.72 689.254,1445.72 691.298,1445.72 693.342,1445.72 695.385,1445.72 697.429,1445.72 \n",
       "  699.473,1445.72 701.517,1445.72 703.56,1445.72 705.604,1445.72 707.648,1445.72 709.691,1445.72 711.735,1445.72 713.779,1445.72 715.822,1445.72 717.866,1445.72 \n",
       "  719.91,1445.72 721.953,1445.72 723.997,1445.72 726.041,1445.72 728.085,1445.72 730.128,1445.72 732.172,1445.72 734.216,1445.72 736.259,1445.72 738.303,1445.72 \n",
       "  740.347,1445.72 742.39,1445.72 744.434,1445.72 746.478,1445.72 748.521,1445.72 750.565,1445.72 752.609,1445.72 754.652,1445.72 756.696,1445.72 758.74,1445.72 \n",
       "  760.784,1445.72 762.827,1445.72 764.871,1445.72 766.915,1445.72 768.958,1445.72 771.002,1445.71 773.046,1445.71 775.089,1445.71 777.133,1445.71 779.177,1445.71 \n",
       "  781.22,1445.71 783.264,1445.71 785.308,1445.71 787.351,1445.71 789.395,1445.71 791.439,1445.71 793.483,1445.71 795.526,1445.71 797.57,1445.71 799.614,1445.71 \n",
       "  801.657,1445.71 803.701,1445.71 805.745,1445.71 807.788,1445.71 809.832,1445.71 811.876,1445.71 813.919,1445.71 815.963,1445.71 818.007,1445.71 820.051,1445.71 \n",
       "  822.094,1445.71 824.138,1445.71 826.182,1445.71 828.225,1445.71 830.269,1445.71 832.313,1445.71 834.356,1445.71 836.4,1445.71 838.444,1445.71 840.487,1445.71 \n",
       "  842.531,1445.71 844.575,1445.71 846.618,1445.71 848.662,1445.71 850.706,1445.71 852.75,1445.71 854.793,1445.71 856.837,1445.71 858.881,1445.71 860.924,1445.71 \n",
       "  862.968,1445.71 865.012,1445.71 867.055,1445.71 869.099,1445.71 871.143,1445.71 873.186,1445.71 875.23,1445.71 877.274,1445.71 879.317,1445.71 881.361,1445.71 \n",
       "  883.405,1445.71 885.449,1445.71 887.492,1445.71 889.536,1445.71 891.58,1445.71 893.623,1445.71 895.667,1445.71 897.711,1445.71 899.754,1445.71 901.798,1445.71 \n",
       "  903.842,1445.71 905.885,1445.71 907.929,1445.71 909.973,1445.71 912.017,1445.71 914.06,1445.71 916.104,1445.71 918.148,1445.71 920.191,1445.71 922.235,1445.71 \n",
       "  924.279,1445.71 926.322,1445.71 928.366,1445.71 930.41,1445.71 932.453,1445.71 934.497,1445.71 936.541,1445.71 938.584,1445.71 940.628,1445.71 942.672,1445.71 \n",
       "  944.716,1445.71 946.759,1445.71 948.803,1445.71 950.847,1445.71 952.89,1445.71 954.934,1445.71 956.978,1445.71 959.021,1445.71 961.065,1445.71 963.109,1445.71 \n",
       "  965.152,1445.71 967.196,1445.71 969.24,1445.71 971.284,1445.71 973.327,1445.71 975.371,1445.71 977.415,1445.71 979.458,1445.71 981.502,1445.71 983.546,1445.71 \n",
       "  985.589,1445.71 987.633,1445.71 989.677,1445.71 991.72,1445.71 993.764,1445.71 995.808,1445.71 997.851,1445.71 999.895,1445.71 1001.94,1445.71 1003.98,1445.71 \n",
       "  1006.03,1445.71 1008.07,1445.71 1010.11,1445.71 1012.16,1445.71 1014.2,1445.71 1016.24,1445.71 1018.29,1445.71 1020.33,1445.71 1022.38,1445.71 1024.42,1445.71 \n",
       "  1026.46,1445.71 1028.51,1445.71 1030.55,1445.71 1032.59,1445.71 1034.64,1445.71 1036.68,1445.71 1038.73,1445.71 1040.77,1445.71 1042.81,1445.71 1044.86,1445.71 \n",
       "  1046.9,1445.71 1048.94,1445.71 1050.99,1445.71 1053.03,1445.71 1055.07,1445.71 1057.12,1445.71 1059.16,1445.71 1061.21,1445.71 1063.25,1445.71 1065.29,1445.71 \n",
       "  1067.34,1445.71 1069.38,1445.71 1071.42,1445.71 1073.47,1445.71 1075.51,1445.71 1077.56,1445.71 1079.6,1445.71 1081.64,1445.71 1083.69,1445.71 1085.73,1445.71 \n",
       "  1087.77,1445.71 1089.82,1445.71 1091.86,1445.71 1093.9,1445.71 1095.95,1445.71 1097.99,1445.71 1100.04,1445.71 1102.08,1445.71 1104.12,1445.71 1106.17,1445.71 \n",
       "  1108.21,1445.71 1110.25,1445.71 1112.3,1445.71 1114.34,1445.71 1116.39,1445.71 1118.43,1445.71 1120.47,1445.71 1122.52,1445.71 1124.56,1445.71 1126.6,1445.71 \n",
       "  1128.65,1445.71 1130.69,1445.71 1132.73,1445.71 1134.78,1445.71 1136.82,1445.71 1138.87,1445.71 1140.91,1445.71 1142.95,1445.71 1145,1445.71 1147.04,1445.71 \n",
       "  1149.08,1445.71 1151.13,1445.71 1153.17,1445.71 1155.22,1445.71 1157.26,1445.71 1159.3,1445.71 1161.35,1445.71 1163.39,1445.71 1165.43,1445.71 1167.48,1445.71 \n",
       "  1169.52,1445.71 1171.57,1445.71 1173.61,1445.71 1175.65,1445.71 1177.7,1445.71 1179.74,1445.71 1181.78,1445.71 1183.83,1445.71 1185.87,1445.71 1187.91,1445.71 \n",
       "  1189.96,1445.71 1192,1445.71 1194.05,1445.71 1196.09,1445.71 1198.13,1445.71 1200.18,1445.71 1202.22,1445.71 1204.26,1445.71 1206.31,1445.71 1208.35,1445.71 \n",
       "  1210.4,1445.71 1212.44,1445.71 1214.48,1445.71 1216.53,1445.71 1218.57,1445.71 1220.61,1445.71 1222.66,1445.71 1224.7,1445.71 1226.74,1445.71 1228.79,1445.71 \n",
       "  1230.83,1445.71 1232.88,1445.71 1234.92,1445.71 1236.96,1445.71 1239.01,1445.71 1241.05,1445.71 1243.09,1445.71 1245.14,1445.71 1247.18,1445.71 1249.23,1445.71 \n",
       "  1251.27,1445.71 1253.31,1445.71 1255.36,1445.71 1257.4,1445.71 1259.44,1445.71 1261.49,1445.71 1263.53,1445.71 1265.57,1445.71 1267.62,1445.71 1269.66,1445.71 \n",
       "  1271.71,1445.71 1273.75,1445.71 1275.79,1445.71 1277.84,1445.71 1279.88,1445.71 1281.92,1445.71 1283.97,1445.71 1286.01,1445.71 1288.06,1445.71 1290.1,1445.71 \n",
       "  1292.14,1445.71 1294.19,1445.71 1296.23,1445.71 1298.27,1445.71 1300.32,1445.71 1302.36,1445.71 1304.4,1445.71 1306.45,1445.71 1308.49,1445.71 1310.54,1445.71 \n",
       "  1312.58,1445.71 1314.62,1445.71 1316.67,1445.71 1318.71,1445.71 1320.75,1445.71 1322.8,1445.71 1324.84,1445.71 1326.89,1445.71 1328.93,1445.71 1330.97,1445.71 \n",
       "  1333.02,1445.71 1335.06,1445.71 1337.1,1445.71 1339.15,1445.71 1341.19,1445.71 1343.23,1445.71 1345.28,1445.71 1347.32,1445.71 1349.37,1445.71 1351.41,1445.71 \n",
       "  1353.45,1445.71 1355.5,1445.71 1357.54,1445.71 1359.58,1445.71 1361.63,1445.71 1363.67,1445.71 1365.72,1445.71 1367.76,1445.71 1369.8,1445.71 1371.85,1445.71 \n",
       "  1373.89,1445.71 1375.93,1445.71 1377.98,1445.71 1380.02,1445.71 1382.06,1445.71 1384.11,1445.71 1386.15,1445.71 1388.2,1445.71 1390.24,1445.71 1392.28,1445.71 \n",
       "  1394.33,1445.71 1396.37,1445.71 1398.41,1445.71 1400.46,1445.71 1402.5,1445.71 1404.55,1445.71 1406.59,1445.71 1408.63,1445.71 1410.68,1445.71 1412.72,1445.71 \n",
       "  1414.76,1445.71 1416.81,1445.71 1418.85,1445.71 1420.9,1445.71 1422.94,1445.71 1424.98,1445.71 1427.03,1445.71 1429.07,1445.71 1431.11,1445.71 1433.16,1445.71 \n",
       "  1435.2,1445.71 1437.24,1445.71 1439.29,1445.71 1441.33,1445.71 1443.38,1445.71 1445.42,1445.71 1447.46,1445.71 1449.51,1445.71 1451.55,1445.71 1453.59,1445.71 \n",
       "  1455.64,1445.71 1457.68,1445.71 1459.73,1445.71 1461.77,1445.71 1463.81,1445.71 1465.86,1445.71 1467.9,1445.71 1469.94,1445.71 1471.99,1445.71 1474.03,1445.71 \n",
       "  1476.07,1445.71 1478.12,1445.71 1480.16,1445.71 1482.21,1445.71 1484.25,1445.71 1486.29,1445.71 1488.34,1445.71 1490.38,1445.71 1492.42,1445.71 1494.47,1445.71 \n",
       "  1496.51,1445.71 1498.56,1445.71 1500.6,1445.71 1502.64,1445.71 1504.69,1445.71 1506.73,1445.71 1508.77,1445.71 1510.82,1445.71 1512.86,1445.71 1514.9,1445.71 \n",
       "  1516.95,1445.71 1518.99,1445.71 1521.04,1445.71 1523.08,1445.71 1525.12,1445.71 1527.17,1445.71 1529.21,1445.71 1531.25,1445.71 1533.3,1445.71 1535.34,1445.71 \n",
       "  1537.39,1445.71 1539.43,1445.71 1541.47,1445.71 1543.52,1445.71 1545.56,1445.71 1547.6,1445.71 1549.65,1445.71 1551.69,1445.71 1553.73,1445.71 1555.78,1445.71 \n",
       "  1557.82,1445.71 1559.87,1445.71 1561.91,1445.71 1563.95,1445.71 1566,1445.71 1568.04,1445.71 1570.08,1445.71 1572.13,1445.71 1574.17,1445.71 1576.22,1445.71 \n",
       "  1578.26,1445.71 1580.3,1445.71 1582.35,1445.71 1584.39,1445.71 1586.43,1445.71 1588.48,1445.71 1590.52,1445.71 1592.56,1445.71 1594.61,1445.71 1596.65,1445.71 \n",
       "  1598.7,1445.71 1600.74,1445.71 1602.78,1445.71 1604.83,1445.71 1606.87,1445.71 1608.91,1445.71 1610.96,1445.71 1613,1445.71 1615.05,1445.71 1617.09,1445.71 \n",
       "  1619.13,1445.71 1621.18,1445.71 1623.22,1445.71 1625.26,1445.71 1627.31,1445.71 1629.35,1445.71 1631.4,1445.71 1633.44,1445.71 1635.48,1445.71 1637.53,1445.71 \n",
       "  1639.57,1445.71 1641.61,1445.71 1643.66,1445.71 1645.7,1445.7 1647.74,1445.7 1649.79,1445.7 1651.83,1445.7 1653.88,1445.7 1655.92,1445.7 1657.96,1445.7 \n",
       "  1660.01,1445.7 1662.05,1445.7 1664.09,1445.7 1666.14,1445.7 1668.18,1445.7 1670.23,1445.7 1672.27,1445.7 1674.31,1445.7 1676.36,1445.7 1678.4,1445.7 \n",
       "  1680.44,1445.7 1682.49,1445.7 1684.53,1445.7 1686.57,1445.7 1688.62,1445.7 1690.66,1445.7 1692.71,1445.7 1694.75,1445.7 1696.79,1445.7 1698.84,1445.7 \n",
       "  1700.88,1445.7 1702.92,1445.7 1704.97,1445.7 1707.01,1445.7 1709.06,1445.7 1711.1,1445.7 1713.14,1445.7 1715.19,1445.7 1717.23,1445.7 1719.27,1445.7 \n",
       "  1721.32,1445.7 1723.36,1445.7 1725.4,1445.7 1727.45,1445.7 1729.49,1445.7 1731.54,1445.7 1733.58,1445.7 1735.62,1445.7 1737.67,1445.7 1739.71,1445.7 \n",
       "  1741.75,1445.7 1743.8,1445.7 1745.84,1445.7 1747.89,1445.7 1749.93,1445.7 1751.97,1445.7 1754.02,1445.7 1756.06,1445.7 1758.1,1445.7 1760.15,1445.7 \n",
       "  1762.19,1445.7 1764.23,1445.7 1766.28,1445.7 1768.32,1445.7 1770.37,1445.7 1772.41,1445.7 1774.45,1445.69 1776.5,1445.69 1778.54,1445.69 1780.58,1445.69 \n",
       "  1782.63,1445.69 1784.67,1445.69 1786.72,1445.69 1788.76,1445.69 1790.8,1445.69 1792.85,1445.69 1794.89,1445.69 1796.93,1445.69 1798.98,1445.69 1801.02,1445.69 \n",
       "  1803.06,1445.69 1805.11,1445.69 1807.15,1445.69 1809.2,1445.69 1811.24,1445.69 1813.28,1445.69 1815.33,1445.69 1817.37,1445.69 1819.41,1445.69 1821.46,1445.69 \n",
       "  1823.5,1445.69 1825.55,1445.69 1827.59,1445.69 1829.63,1445.69 1831.68,1445.69 1833.72,1445.69 1835.76,1445.69 1837.81,1445.68 1839.85,1445.68 1841.89,1445.68 \n",
       "  1843.94,1445.68 1845.98,1445.68 1848.03,1445.68 1850.07,1445.68 1852.11,1445.68 1854.16,1445.68 1856.2,1445.68 1858.24,1445.68 1860.29,1445.68 1862.33,1445.68 \n",
       "  1864.38,1445.68 1866.42,1445.68 1868.46,1445.68 1870.51,1445.68 1872.55,1445.68 1874.59,1445.67 1876.64,1445.67 1878.68,1445.67 1880.73,1445.67 1882.77,1445.67 \n",
       "  1884.81,1445.67 1886.86,1445.67 1888.9,1445.67 1890.94,1445.67 1892.99,1445.67 1895.03,1445.67 1897.07,1445.67 1899.12,1445.67 1901.16,1445.66 1903.21,1445.66 \n",
       "  1905.25,1445.66 1907.29,1445.66 1909.34,1445.66 1911.38,1445.66 1913.42,1445.66 1915.47,1445.66 1917.51,1445.66 1919.56,1445.66 1921.6,1445.65 1923.64,1445.65 \n",
       "  1925.69,1445.65 1927.73,1445.65 1929.77,1445.65 1931.82,1445.65 1933.86,1445.65 1935.9,1445.64 1937.95,1445.64 1939.99,1445.64 1942.04,1445.64 1944.08,1445.64 \n",
       "  1946.12,1445.64 1948.17,1445.63 1950.21,1445.63 1952.25,1445.63 1954.3,1445.63 1956.34,1445.63 1958.39,1445.63 1960.43,1445.62 1962.47,1445.62 1964.52,1445.62 \n",
       "  1966.56,1445.62 1968.6,1445.61 1970.65,1445.61 1972.69,1445.61 1974.73,1445.61 1976.78,1445.6 1978.82,1445.6 1980.87,1445.6 1982.91,1445.59 1984.95,1445.59 \n",
       "  1987,1445.59 1989.04,1445.58 1991.08,1445.58 1993.13,1445.58 1995.17,1445.57 1997.22,1445.57 1999.26,1445.56 2001.3,1445.56 2003.35,1445.55 2005.39,1445.55 \n",
       "  2007.43,1445.54 2009.48,1445.54 2011.52,1445.53 2013.56,1445.53 2015.61,1445.52 2017.65,1445.51 2019.7,1445.51 2021.74,1445.5 2023.78,1445.49 2025.83,1445.49 \n",
       "  2027.87,1445.48 2029.91,1445.47 2031.96,1445.46 2034,1445.45 2036.05,1445.44 2038.09,1445.43 2040.13,1445.42 2042.18,1445.41 2044.22,1445.4 2046.26,1445.39 \n",
       "  2048.31,1445.37 2050.35,1445.36 2052.39,1445.34 2054.44,1445.33 2056.48,1445.31 2058.53,1445.3 2060.57,1445.28 2062.61,1445.26 2064.66,1445.24 2066.7,1445.22 \n",
       "  2068.74,1445.2 2070.79,1445.17 2072.83,1445.15 2074.88,1445.12 2076.92,1445.09 2078.96,1445.06 2081.01,1445.03 2083.05,1445 2085.09,1444.96 2087.14,1444.92 \n",
       "  2089.18,1444.88 2091.23,1444.84 2093.27,1444.79 2095.31,1444.74 2097.36,1444.69 2099.4,1444.64 2101.44,1444.58 2103.49,1444.51 2105.53,1444.45 2107.57,1444.37 \n",
       "  2109.62,1444.3 2111.66,1444.21 2113.71,1444.12 2115.75,1444.03 2117.79,1443.93 2119.84,1443.82 2121.88,1443.7 2123.92,1443.58 2125.97,1443.45 2128.01,1443.3 \n",
       "  2130.06,1443.15 2132.1,1442.98 2134.14,1442.81 2136.19,1442.62 2138.23,1442.41 2140.27,1442.19 2142.32,1441.95 2144.36,1441.69 2146.4,1441.42 2148.45,1441.12 \n",
       "  2150.49,1440.8 2152.54,1440.45 2154.58,1440.08 2156.62,1439.68 2158.67,1439.24 2160.71,1438.77 2162.75,1438.26 2164.8,1437.71 2166.84,1437.12 2168.89,1436.47 \n",
       "  2170.93,1435.78 2172.97,1435.03 2175.02,1434.21 2177.06,1433.33 2179.1,1432.37 2181.15,1431.33 2183.19,1430.2 2185.23,1428.98 2187.28,1427.65 2189.32,1426.21 \n",
       "  2191.37,1424.65 2193.41,1422.95 2195.45,1421.11 2197.5,1419.11 2199.54,1416.93 2201.58,1414.56 2203.63,1411.98 2205.67,1409.18 2207.72,1406.13 2209.76,1402.81 \n",
       "  2211.8,1399.2 2213.85,1395.26 2215.89,1390.97 2217.93,1386.3 2219.98,1381.2 2222.02,1375.65 2224.06,1369.6 2226.11,1362.99 2228.15,1355.79 2230.2,1347.93 \n",
       "  2232.24,1339.35 2234.28,1329.98 2236.33,1319.75 2238.37,1308.59 2240.41,1296.39 2242.46,1283.06 2244.5,1268.49 2246.55,1252.57 2248.59,1235.16 2250.63,1216.13 \n",
       "  2252.68,1195.32 2254.72,1172.55 2256.76,1147.64 2258.81,1120.39 2260.85,1090.56 2262.89,1057.91 2264.94,1022.16 2266.98,983.013 2269.03,940.142 2271.07,893.182 \n",
       "  2273.11,841.734 2275.16,785.362 2277.2,723.583 2279.24,655.869 2281.29,581.638 2283.33,500.25 2285.38,411.003 2287.42,313.123 2289.46,205.759 2291.51,87.9763 \n",
       "  \n",
       "  \"/>\n",
       "<path clip-path=\"url(#clip230)\" d=\"\n",
       "M1989.74 251.724 L2280.76 251.724 L2280.76 130.764 L1989.74 130.764  Z\n",
       "  \" fill=\"#ffffff\" fill-rule=\"evenodd\" fill-opacity=\"1\"/>\n",
       "<polyline clip-path=\"url(#clip230)\" style=\"stroke:#000000; stroke-width:4; stroke-opacity:1; fill:none\" points=\"\n",
       "  1989.74,251.724 2280.76,251.724 2280.76,130.764 1989.74,130.764 1989.74,251.724 \n",
       "  \"/>\n",
       "<polyline clip-path=\"url(#clip230)\" style=\"stroke:#009af9; stroke-width:4; stroke-opacity:1; fill:none\" points=\"\n",
       "  2013.74,191.244 2157.74,191.244 \n",
       "  \"/>\n",
       "<path clip-path=\"url(#clip230)\" d=\"M 0 0 M2195.58 210.931 Q2193.77 215.561 2192.06 216.973 Q2190.35 218.385 2187.48 218.385 L2184.08 218.385 L2184.08 214.82 L2186.58 214.82 Q2188.33 214.82 2189.31 213.987 Q2190.28 213.154 2191.46 210.052 L2192.22 208.107 L2181.74 182.598 L2186.25 182.598 L2194.35 202.876 L2202.46 182.598 L2206.97 182.598 L2195.58 210.931 Z\" fill=\"#000000\" fill-rule=\"evenodd\" fill-opacity=\"1\" /><path clip-path=\"url(#clip230)\" d=\"M 0 0 M2212.85 204.589 L2220.49 204.589 L2220.49 178.223 L2212.18 179.89 L2212.18 175.631 L2220.44 173.964 L2225.12 173.964 L2225.12 204.589 L2232.76 204.589 L2232.76 208.524 L2212.85 208.524 L2212.85 204.589 Z\" fill=\"#000000\" fill-rule=\"evenodd\" fill-opacity=\"1\" /></svg>\n"
      ]
     },
     "execution_count": 34,
     "metadata": {},
     "output_type": "execute_result"
    }
   ],
   "source": [
    "Plots.plot(\n",
    "    range(-100.0, 10.0, length = 1000),\n",
    "    t -> beta_mgf_v6(α, β, t),\n",
    ")"
   ]
  },
  {
   "cell_type": "markdown",
   "metadata": {},
   "source": [
    "This is **much** better. But I really wanted to find a way to avoid using `quadgk`."
   ]
  },
  {
   "cell_type": "markdown",
   "metadata": {},
   "source": [
    "At this point, I went back to searching for alternative formulas for the MGF. I found this [Stack Exchange post](https://math.stackexchange.com/questions/2279885/moment-generating-function-of-beta-distribution), which, in retrospect, seems to be an obvious implication of Wikipedia noting that the characteristic function for the Beta distribution is:\n",
    "\n",
    "$$\n",
    "\\phi(t) = {}_1 F_1(\\alpha; \\alpha + \\beta; it)\n",
    "$$\n",
    "\n",
    "This suggests that:\n",
    "\n",
    "$$\n",
    "M(t) = {}_1 F_1(\\alpha; \\alpha + \\beta; t)\n",
    "$$"
   ]
  },
  {
   "cell_type": "code",
   "execution_count": 35,
   "metadata": {},
   "outputs": [
    {
     "data": {
      "text/plain": [
       "beta_mgf_v7 (generic function with 1 method)"
      ]
     },
     "execution_count": 35,
     "metadata": {},
     "output_type": "execute_result"
    }
   ],
   "source": [
    "function beta_mgf_v7(α::Number, β::Number, t::Number)\n",
    "    drummond1F1(α, α + β, t)\n",
    "end"
   ]
  },
  {
   "cell_type": "code",
   "execution_count": 36,
   "metadata": {},
   "outputs": [
    {
     "data": {
      "image/svg+xml": [
       "<?xml version=\"1.0\" encoding=\"utf-8\"?>\n",
       "<svg xmlns=\"http://www.w3.org/2000/svg\" xmlns:xlink=\"http://www.w3.org/1999/xlink\" width=\"600\" height=\"400\" viewBox=\"0 0 2400 1600\">\n",
       "<defs>\n",
       "  <clipPath id=\"clip270\">\n",
       "    <rect x=\"0\" y=\"0\" width=\"2400\" height=\"1600\"/>\n",
       "  </clipPath>\n",
       "</defs>\n",
       "<path clip-path=\"url(#clip270)\" d=\"\n",
       "M0 1600 L2400 1600 L2400 0 L0 0  Z\n",
       "  \" fill=\"#ffffff\" fill-rule=\"evenodd\" fill-opacity=\"1\"/>\n",
       "<defs>\n",
       "  <clipPath id=\"clip271\">\n",
       "    <rect x=\"480\" y=\"0\" width=\"1681\" height=\"1600\"/>\n",
       "  </clipPath>\n",
       "</defs>\n",
       "<path clip-path=\"url(#clip270)\" d=\"\n",
       "M188.612 1486.45 L2352.76 1486.45 L2352.76 47.2441 L188.612 47.2441  Z\n",
       "  \" fill=\"#ffffff\" fill-rule=\"evenodd\" fill-opacity=\"1\"/>\n",
       "<defs>\n",
       "  <clipPath id=\"clip272\">\n",
       "    <rect x=\"188\" y=\"47\" width=\"2165\" height=\"1440\"/>\n",
       "  </clipPath>\n",
       "</defs>\n",
       "<polyline clip-path=\"url(#clip272)\" style=\"stroke:#000000; stroke-width:2; stroke-opacity:0.1; fill:none\" points=\"\n",
       "  249.861,1486.45 249.861,47.2441 \n",
       "  \"/>\n",
       "<polyline clip-path=\"url(#clip272)\" style=\"stroke:#000000; stroke-width:2; stroke-opacity:0.1; fill:none\" points=\"\n",
       "  713.872,1486.45 713.872,47.2441 \n",
       "  \"/>\n",
       "<polyline clip-path=\"url(#clip272)\" style=\"stroke:#000000; stroke-width:2; stroke-opacity:0.1; fill:none\" points=\"\n",
       "  1177.88,1486.45 1177.88,47.2441 \n",
       "  \"/>\n",
       "<polyline clip-path=\"url(#clip272)\" style=\"stroke:#000000; stroke-width:2; stroke-opacity:0.1; fill:none\" points=\"\n",
       "  1641.89,1486.45 1641.89,47.2441 \n",
       "  \"/>\n",
       "<polyline clip-path=\"url(#clip272)\" style=\"stroke:#000000; stroke-width:2; stroke-opacity:0.1; fill:none\" points=\"\n",
       "  2105.9,1486.45 2105.9,47.2441 \n",
       "  \"/>\n",
       "<polyline clip-path=\"url(#clip272)\" style=\"stroke:#000000; stroke-width:2; stroke-opacity:0.1; fill:none\" points=\"\n",
       "  188.612,1445.72 2352.76,1445.72 \n",
       "  \"/>\n",
       "<polyline clip-path=\"url(#clip272)\" style=\"stroke:#000000; stroke-width:2; stroke-opacity:0.1; fill:none\" points=\"\n",
       "  188.612,1124.69 2352.76,1124.69 \n",
       "  \"/>\n",
       "<polyline clip-path=\"url(#clip272)\" style=\"stroke:#000000; stroke-width:2; stroke-opacity:0.1; fill:none\" points=\"\n",
       "  188.612,803.663 2352.76,803.663 \n",
       "  \"/>\n",
       "<polyline clip-path=\"url(#clip272)\" style=\"stroke:#000000; stroke-width:2; stroke-opacity:0.1; fill:none\" points=\"\n",
       "  188.612,482.637 2352.76,482.637 \n",
       "  \"/>\n",
       "<polyline clip-path=\"url(#clip272)\" style=\"stroke:#000000; stroke-width:2; stroke-opacity:0.1; fill:none\" points=\"\n",
       "  188.612,161.61 2352.76,161.61 \n",
       "  \"/>\n",
       "<polyline clip-path=\"url(#clip270)\" style=\"stroke:#000000; stroke-width:4; stroke-opacity:1; fill:none\" points=\"\n",
       "  188.612,1486.45 2352.76,1486.45 \n",
       "  \"/>\n",
       "<polyline clip-path=\"url(#clip270)\" style=\"stroke:#000000; stroke-width:4; stroke-opacity:1; fill:none\" points=\"\n",
       "  188.612,1486.45 188.612,47.2441 \n",
       "  \"/>\n",
       "<polyline clip-path=\"url(#clip270)\" style=\"stroke:#000000; stroke-width:4; stroke-opacity:1; fill:none\" points=\"\n",
       "  249.861,1486.45 249.861,1469.18 \n",
       "  \"/>\n",
       "<polyline clip-path=\"url(#clip270)\" style=\"stroke:#000000; stroke-width:4; stroke-opacity:1; fill:none\" points=\"\n",
       "  713.872,1486.45 713.872,1469.18 \n",
       "  \"/>\n",
       "<polyline clip-path=\"url(#clip270)\" style=\"stroke:#000000; stroke-width:4; stroke-opacity:1; fill:none\" points=\"\n",
       "  1177.88,1486.45 1177.88,1469.18 \n",
       "  \"/>\n",
       "<polyline clip-path=\"url(#clip270)\" style=\"stroke:#000000; stroke-width:4; stroke-opacity:1; fill:none\" points=\"\n",
       "  1641.89,1486.45 1641.89,1469.18 \n",
       "  \"/>\n",
       "<polyline clip-path=\"url(#clip270)\" style=\"stroke:#000000; stroke-width:4; stroke-opacity:1; fill:none\" points=\"\n",
       "  2105.9,1486.45 2105.9,1469.18 \n",
       "  \"/>\n",
       "<polyline clip-path=\"url(#clip270)\" style=\"stroke:#000000; stroke-width:4; stroke-opacity:1; fill:none\" points=\"\n",
       "  188.612,1445.72 214.582,1445.72 \n",
       "  \"/>\n",
       "<polyline clip-path=\"url(#clip270)\" style=\"stroke:#000000; stroke-width:4; stroke-opacity:1; fill:none\" points=\"\n",
       "  188.612,1124.69 214.582,1124.69 \n",
       "  \"/>\n",
       "<polyline clip-path=\"url(#clip270)\" style=\"stroke:#000000; stroke-width:4; stroke-opacity:1; fill:none\" points=\"\n",
       "  188.612,803.663 214.582,803.663 \n",
       "  \"/>\n",
       "<polyline clip-path=\"url(#clip270)\" style=\"stroke:#000000; stroke-width:4; stroke-opacity:1; fill:none\" points=\"\n",
       "  188.612,482.637 214.582,482.637 \n",
       "  \"/>\n",
       "<polyline clip-path=\"url(#clip270)\" style=\"stroke:#000000; stroke-width:4; stroke-opacity:1; fill:none\" points=\"\n",
       "  188.612,161.61 214.582,161.61 \n",
       "  \"/>\n",
       "<path clip-path=\"url(#clip270)\" d=\"M 0 0 M203.716 1525.04 L216.193 1525.04 L216.193 1528.83 L203.716 1528.83 L203.716 1525.04 Z\" fill=\"#000000\" fill-rule=\"evenodd\" fill-opacity=\"1\" /><path clip-path=\"url(#clip270)\" d=\"M 0 0 M222.072 1535.98 L229.711 1535.98 L229.711 1509.62 L221.401 1511.29 L221.401 1507.03 L229.665 1505.36 L234.341 1505.36 L234.341 1535.98 L241.979 1535.98 L241.979 1539.92 L222.072 1539.92 L222.072 1535.98 Z\" fill=\"#000000\" fill-rule=\"evenodd\" fill-opacity=\"1\" /><path clip-path=\"url(#clip270)\" d=\"M 0 0 M257.049 1508.44 Q253.438 1508.44 251.609 1512 Q249.803 1515.55 249.803 1522.67 Q249.803 1529.78 251.609 1533.35 Q253.438 1536.89 257.049 1536.89 Q260.683 1536.89 262.489 1533.35 Q264.317 1529.78 264.317 1522.67 Q264.317 1515.55 262.489 1512 Q260.683 1508.44 257.049 1508.44 M257.049 1504.73 Q262.859 1504.73 265.914 1509.34 Q268.993 1513.92 268.993 1522.67 Q268.993 1531.4 265.914 1536.01 Q262.859 1540.59 257.049 1540.59 Q251.239 1540.59 248.16 1536.01 Q245.104 1531.4 245.104 1522.67 Q245.104 1513.92 248.16 1509.34 Q251.239 1504.73 257.049 1504.73 Z\" fill=\"#000000\" fill-rule=\"evenodd\" fill-opacity=\"1\" /><path clip-path=\"url(#clip270)\" d=\"M 0 0 M284.063 1508.44 Q280.451 1508.44 278.623 1512 Q276.817 1515.55 276.817 1522.67 Q276.817 1529.78 278.623 1533.35 Q280.451 1536.89 284.063 1536.89 Q287.697 1536.89 289.502 1533.35 Q291.331 1529.78 291.331 1522.67 Q291.331 1515.55 289.502 1512 Q287.697 1508.44 284.063 1508.44 M284.063 1504.73 Q289.873 1504.73 292.928 1509.34 Q296.007 1513.92 296.007 1522.67 Q296.007 1531.4 292.928 1536.01 Q289.873 1540.59 284.063 1540.59 Q278.252 1540.59 275.174 1536.01 Q272.118 1531.4 272.118 1522.67 Q272.118 1513.92 275.174 1509.34 Q278.252 1504.73 284.063 1504.73 Z\" fill=\"#000000\" fill-rule=\"evenodd\" fill-opacity=\"1\" /><path clip-path=\"url(#clip270)\" d=\"M 0 0 M681.569 1525.04 L694.045 1525.04 L694.045 1528.83 L681.569 1528.83 L681.569 1525.04 Z\" fill=\"#000000\" fill-rule=\"evenodd\" fill-opacity=\"1\" /><path clip-path=\"url(#clip270)\" d=\"M 0 0 M697.934 1505.36 L720.156 1505.36 L720.156 1507.35 L707.61 1539.92 L702.726 1539.92 L714.531 1509.3 L697.934 1509.3 L697.934 1505.36 Z\" fill=\"#000000\" fill-rule=\"evenodd\" fill-opacity=\"1\" /><path clip-path=\"url(#clip270)\" d=\"M 0 0 M725.272 1505.36 L743.628 1505.36 L743.628 1509.3 L729.554 1509.3 L729.554 1517.77 Q730.573 1517.42 731.591 1517.26 Q732.61 1517.07 733.628 1517.07 Q739.415 1517.07 742.795 1520.24 Q746.175 1523.42 746.175 1528.83 Q746.175 1534.41 742.702 1537.51 Q739.23 1540.59 732.911 1540.59 Q730.735 1540.59 728.466 1540.22 Q726.221 1539.85 723.814 1539.11 L723.814 1534.41 Q725.897 1535.54 728.119 1536.1 Q730.341 1536.66 732.818 1536.66 Q736.823 1536.66 739.161 1534.55 Q741.499 1532.44 741.499 1528.83 Q741.499 1525.22 739.161 1523.11 Q736.823 1521.01 732.818 1521.01 Q730.943 1521.01 729.068 1521.42 Q727.216 1521.84 725.272 1522.72 L725.272 1505.36 Z\" fill=\"#000000\" fill-rule=\"evenodd\" fill-opacity=\"1\" /><path clip-path=\"url(#clip270)\" d=\"M 0 0 M1145.13 1525.04 L1157.6 1525.04 L1157.6 1528.83 L1145.13 1528.83 L1145.13 1525.04 Z\" fill=\"#000000\" fill-rule=\"evenodd\" fill-opacity=\"1\" /><path clip-path=\"url(#clip270)\" d=\"M 0 0 M1162.72 1505.36 L1181.08 1505.36 L1181.08 1509.3 L1167 1509.3 L1167 1517.77 Q1168.02 1517.42 1169.04 1517.26 Q1170.06 1517.07 1171.08 1517.07 Q1176.86 1517.07 1180.24 1520.24 Q1183.62 1523.42 1183.62 1528.83 Q1183.62 1534.41 1180.15 1537.51 Q1176.68 1540.59 1170.36 1540.59 Q1168.18 1540.59 1165.91 1540.22 Q1163.67 1539.85 1161.26 1539.11 L1161.26 1534.41 Q1163.34 1535.54 1165.57 1536.1 Q1167.79 1536.66 1170.27 1536.66 Q1174.27 1536.66 1176.61 1534.55 Q1178.95 1532.44 1178.95 1528.83 Q1178.95 1525.22 1176.61 1523.11 Q1174.27 1521.01 1170.27 1521.01 Q1168.39 1521.01 1166.52 1521.42 Q1164.66 1521.84 1162.72 1522.72 L1162.72 1505.36 Z\" fill=\"#000000\" fill-rule=\"evenodd\" fill-opacity=\"1\" /><path clip-path=\"url(#clip270)\" d=\"M 0 0 M1198.69 1508.44 Q1195.08 1508.44 1193.25 1512 Q1191.45 1515.55 1191.45 1522.67 Q1191.45 1529.78 1193.25 1533.35 Q1195.08 1536.89 1198.69 1536.89 Q1202.33 1536.89 1204.13 1533.35 Q1205.96 1529.78 1205.96 1522.67 Q1205.96 1515.55 1204.13 1512 Q1202.33 1508.44 1198.69 1508.44 M1198.69 1504.73 Q1204.5 1504.73 1207.56 1509.34 Q1210.64 1513.92 1210.64 1522.67 Q1210.64 1531.4 1207.56 1536.01 Q1204.5 1540.59 1198.69 1540.59 Q1192.88 1540.59 1189.8 1536.01 Q1186.75 1531.4 1186.75 1522.67 Q1186.75 1513.92 1189.8 1509.34 Q1192.88 1504.73 1198.69 1504.73 Z\" fill=\"#000000\" fill-rule=\"evenodd\" fill-opacity=\"1\" /><path clip-path=\"url(#clip270)\" d=\"M 0 0 M1609.94 1525.04 L1622.41 1525.04 L1622.41 1528.83 L1609.94 1528.83 L1609.94 1525.04 Z\" fill=\"#000000\" fill-rule=\"evenodd\" fill-opacity=\"1\" /><path clip-path=\"url(#clip270)\" d=\"M 0 0 M1631.51 1535.98 L1647.83 1535.98 L1647.83 1539.92 L1625.89 1539.92 L1625.89 1535.98 Q1628.55 1533.23 1633.13 1528.6 Q1637.74 1523.95 1638.92 1522.61 Q1641.16 1520.08 1642.04 1518.35 Q1642.95 1516.59 1642.95 1514.9 Q1642.95 1512.14 1641 1510.41 Q1639.08 1508.67 1635.98 1508.67 Q1633.78 1508.67 1631.33 1509.43 Q1628.89 1510.2 1626.12 1511.75 L1626.12 1507.03 Q1628.94 1505.89 1631.39 1505.31 Q1633.85 1504.73 1635.89 1504.73 Q1641.26 1504.73 1644.45 1507.42 Q1647.64 1510.11 1647.64 1514.6 Q1647.64 1516.73 1646.83 1518.65 Q1646.05 1520.54 1643.94 1523.14 Q1643.36 1523.81 1640.26 1527.03 Q1637.16 1530.22 1631.51 1535.98 Z\" fill=\"#000000\" fill-rule=\"evenodd\" fill-opacity=\"1\" /><path clip-path=\"url(#clip270)\" d=\"M 0 0 M1652.95 1505.36 L1671.3 1505.36 L1671.3 1509.3 L1657.23 1509.3 L1657.23 1517.77 Q1658.25 1517.42 1659.26 1517.26 Q1660.28 1517.07 1661.3 1517.07 Q1667.09 1517.07 1670.47 1520.24 Q1673.85 1523.42 1673.85 1528.83 Q1673.85 1534.41 1670.38 1537.51 Q1666.9 1540.59 1660.58 1540.59 Q1658.41 1540.59 1656.14 1540.22 Q1653.89 1539.85 1651.49 1539.11 L1651.49 1534.41 Q1653.57 1535.54 1655.79 1536.1 Q1658.01 1536.66 1660.49 1536.66 Q1664.5 1536.66 1666.83 1534.55 Q1669.17 1532.44 1669.17 1528.83 Q1669.17 1525.22 1666.83 1523.11 Q1664.5 1521.01 1660.49 1521.01 Q1658.62 1521.01 1656.74 1521.42 Q1654.89 1521.84 1652.95 1522.72 L1652.95 1505.36 Z\" fill=\"#000000\" fill-rule=\"evenodd\" fill-opacity=\"1\" /><path clip-path=\"url(#clip270)\" d=\"M 0 0 M2105.9 1508.44 Q2102.29 1508.44 2100.46 1512 Q2098.66 1515.55 2098.66 1522.67 Q2098.66 1529.78 2100.46 1533.35 Q2102.29 1536.89 2105.9 1536.89 Q2109.54 1536.89 2111.34 1533.35 Q2113.17 1529.78 2113.17 1522.67 Q2113.17 1515.55 2111.34 1512 Q2109.54 1508.44 2105.9 1508.44 M2105.9 1504.73 Q2111.71 1504.73 2114.77 1509.34 Q2117.85 1513.92 2117.85 1522.67 Q2117.85 1531.4 2114.77 1536.01 Q2111.71 1540.59 2105.9 1540.59 Q2100.09 1540.59 2097.01 1536.01 Q2093.96 1531.4 2093.96 1522.67 Q2093.96 1513.92 2097.01 1509.34 Q2100.09 1504.73 2105.9 1504.73 Z\" fill=\"#000000\" fill-rule=\"evenodd\" fill-opacity=\"1\" /><path clip-path=\"url(#clip270)\" d=\"M 0 0 M152.668 1431.52 Q149.056 1431.52 147.228 1435.08 Q145.422 1438.62 145.422 1445.75 Q145.422 1452.86 147.228 1456.42 Q149.056 1459.96 152.668 1459.96 Q156.302 1459.96 158.107 1456.42 Q159.936 1452.86 159.936 1445.75 Q159.936 1438.62 158.107 1435.08 Q156.302 1431.52 152.668 1431.52 M152.668 1427.81 Q158.478 1427.81 161.533 1432.42 Q164.612 1437 164.612 1445.75 Q164.612 1454.48 161.533 1459.08 Q158.478 1463.67 152.668 1463.67 Q146.857 1463.67 143.779 1459.08 Q140.723 1454.48 140.723 1445.75 Q140.723 1437 143.779 1432.42 Q146.857 1427.81 152.668 1427.81 Z\" fill=\"#000000\" fill-rule=\"evenodd\" fill-opacity=\"1\" /><path clip-path=\"url(#clip270)\" d=\"M 0 0 M95.2605 1138.03 L111.58 1138.03 L111.58 1141.97 L89.6355 1141.97 L89.6355 1138.03 Q92.2975 1135.28 96.8808 1130.65 Q101.487 1126 102.668 1124.66 Q104.913 1122.13 105.793 1120.4 Q106.696 1118.64 106.696 1116.95 Q106.696 1114.19 104.751 1112.46 Q102.83 1110.72 99.728 1110.72 Q97.529 1110.72 95.0753 1111.48 Q92.6447 1112.25 89.867 1113.8 L89.867 1109.08 Q92.691 1107.94 95.1447 1107.36 Q97.5984 1106.78 99.6354 1106.78 Q105.006 1106.78 108.2 1109.47 Q111.395 1112.16 111.395 1116.65 Q111.395 1118.78 110.584 1120.7 Q109.797 1122.59 107.691 1125.19 Q107.112 1125.86 104.01 1129.08 Q100.909 1132.27 95.2605 1138.03 Z\" fill=\"#000000\" fill-rule=\"evenodd\" fill-opacity=\"1\" /><path clip-path=\"url(#clip270)\" d=\"M 0 0 M116.696 1107.41 L135.052 1107.41 L135.052 1111.34 L120.978 1111.34 L120.978 1119.82 Q121.996 1119.47 123.015 1119.31 Q124.033 1119.12 125.052 1119.12 Q130.839 1119.12 134.219 1122.29 Q137.598 1125.47 137.598 1130.88 Q137.598 1136.46 134.126 1139.56 Q130.654 1142.64 124.334 1142.64 Q122.158 1142.64 119.89 1142.27 Q117.645 1141.9 115.237 1141.16 L115.237 1136.46 Q117.321 1137.59 119.543 1138.15 Q121.765 1138.71 124.242 1138.71 Q128.246 1138.71 130.584 1136.6 Q132.922 1134.49 132.922 1130.88 Q132.922 1127.27 130.584 1125.16 Q128.246 1123.06 124.242 1123.06 Q122.367 1123.06 120.492 1123.47 Q118.64 1123.89 116.696 1124.77 L116.696 1107.41 Z\" fill=\"#000000\" fill-rule=\"evenodd\" fill-opacity=\"1\" /><path clip-path=\"url(#clip270)\" d=\"M 0 0 M152.668 1110.49 Q149.056 1110.49 147.228 1114.05 Q145.422 1117.59 145.422 1124.72 Q145.422 1131.83 147.228 1135.4 Q149.056 1138.94 152.668 1138.94 Q156.302 1138.94 158.107 1135.4 Q159.936 1131.83 159.936 1124.72 Q159.936 1117.59 158.107 1114.05 Q156.302 1110.49 152.668 1110.49 M152.668 1106.78 Q158.478 1106.78 161.533 1111.39 Q164.612 1115.97 164.612 1124.72 Q164.612 1133.45 161.533 1138.06 Q158.478 1142.64 152.668 1142.64 Q146.857 1142.64 143.779 1138.06 Q140.723 1133.45 140.723 1124.72 Q140.723 1115.97 143.779 1111.39 Q146.857 1106.78 152.668 1106.78 Z\" fill=\"#000000\" fill-rule=\"evenodd\" fill-opacity=\"1\" /><path clip-path=\"url(#clip270)\" d=\"M 0 0 M89.6818 786.383 L108.038 786.383 L108.038 790.318 L93.9642 790.318 L93.9642 798.791 Q94.9827 798.443 96.0012 798.281 Q97.0197 798.096 98.0382 798.096 Q103.825 798.096 107.205 801.267 Q110.584 804.439 110.584 809.855 Q110.584 815.434 107.112 818.536 Q103.64 821.615 97.3206 821.615 Q95.1447 821.615 92.8762 821.244 Q90.6309 820.874 88.2235 820.133 L88.2235 815.434 Q90.3068 816.568 92.529 817.124 Q94.7512 817.679 97.2281 817.679 Q101.233 817.679 103.571 815.573 Q105.909 813.466 105.909 809.855 Q105.909 806.244 103.571 804.138 Q101.233 802.031 97.2281 802.031 Q95.3531 802.031 93.4781 802.448 Q91.6262 802.865 89.6818 803.744 L89.6818 786.383 Z\" fill=\"#000000\" fill-rule=\"evenodd\" fill-opacity=\"1\" /><path clip-path=\"url(#clip270)\" d=\"M 0 0 M125.654 789.462 Q122.043 789.462 120.214 793.027 Q118.408 796.568 118.408 803.698 Q118.408 810.804 120.214 814.369 Q122.043 817.911 125.654 817.911 Q129.288 817.911 131.094 814.369 Q132.922 810.804 132.922 803.698 Q132.922 796.568 131.094 793.027 Q129.288 789.462 125.654 789.462 M125.654 785.758 Q131.464 785.758 134.52 790.365 Q137.598 794.948 137.598 803.698 Q137.598 812.425 134.52 817.031 Q131.464 821.615 125.654 821.615 Q119.844 821.615 116.765 817.031 Q113.709 812.425 113.709 803.698 Q113.709 794.948 116.765 790.365 Q119.844 785.758 125.654 785.758 Z\" fill=\"#000000\" fill-rule=\"evenodd\" fill-opacity=\"1\" /><path clip-path=\"url(#clip270)\" d=\"M 0 0 M152.668 789.462 Q149.056 789.462 147.228 793.027 Q145.422 796.568 145.422 803.698 Q145.422 810.804 147.228 814.369 Q149.056 817.911 152.668 817.911 Q156.302 817.911 158.107 814.369 Q159.936 810.804 159.936 803.698 Q159.936 796.568 158.107 793.027 Q156.302 789.462 152.668 789.462 M152.668 785.758 Q158.478 785.758 161.533 790.365 Q164.612 794.948 164.612 803.698 Q164.612 812.425 161.533 817.031 Q158.478 821.615 152.668 821.615 Q146.857 821.615 143.779 817.031 Q140.723 812.425 140.723 803.698 Q140.723 794.948 143.779 790.365 Q146.857 785.758 152.668 785.758 Z\" fill=\"#000000\" fill-rule=\"evenodd\" fill-opacity=\"1\" /><path clip-path=\"url(#clip270)\" d=\"M 0 0 M89.3577 465.357 L111.58 465.357 L111.58 467.347 L99.0336 499.917 L94.1494 499.917 L105.955 469.292 L89.3577 469.292 L89.3577 465.357 Z\" fill=\"#000000\" fill-rule=\"evenodd\" fill-opacity=\"1\" /><path clip-path=\"url(#clip270)\" d=\"M 0 0 M116.696 465.357 L135.052 465.357 L135.052 469.292 L120.978 469.292 L120.978 477.764 Q121.996 477.417 123.015 477.255 Q124.033 477.069 125.052 477.069 Q130.839 477.069 134.219 480.241 Q137.598 483.412 137.598 488.829 Q137.598 494.407 134.126 497.509 Q130.654 500.588 124.334 500.588 Q122.158 500.588 119.89 500.218 Q117.645 499.847 115.237 499.106 L115.237 494.407 Q117.321 495.542 119.543 496.097 Q121.765 496.653 124.242 496.653 Q128.246 496.653 130.584 494.546 Q132.922 492.44 132.922 488.829 Q132.922 485.218 130.584 483.111 Q128.246 481.005 124.242 481.005 Q122.367 481.005 120.492 481.421 Q118.64 481.838 116.696 482.718 L116.696 465.357 Z\" fill=\"#000000\" fill-rule=\"evenodd\" fill-opacity=\"1\" /><path clip-path=\"url(#clip270)\" d=\"M 0 0 M152.668 468.435 Q149.056 468.435 147.228 472 Q145.422 475.542 145.422 482.671 Q145.422 489.778 147.228 493.343 Q149.056 496.884 152.668 496.884 Q156.302 496.884 158.107 493.343 Q159.936 489.778 159.936 482.671 Q159.936 475.542 158.107 472 Q156.302 468.435 152.668 468.435 M152.668 464.732 Q158.478 464.732 161.533 469.338 Q164.612 473.921 164.612 482.671 Q164.612 491.398 161.533 496.005 Q158.478 500.588 152.668 500.588 Q146.857 500.588 143.779 496.005 Q140.723 491.398 140.723 482.671 Q140.723 473.921 143.779 469.338 Q146.857 464.732 152.668 464.732 Z\" fill=\"#000000\" fill-rule=\"evenodd\" fill-opacity=\"1\" /><path clip-path=\"url(#clip270)\" d=\"M 0 0 M63.6634 174.955 L71.3023 174.955 L71.3023 148.589 L62.9921 150.256 L62.9921 145.997 L71.256 144.33 L75.9319 144.33 L75.9319 174.955 L83.5707 174.955 L83.5707 178.89 L63.6634 178.89 L63.6634 174.955 Z\" fill=\"#000000\" fill-rule=\"evenodd\" fill-opacity=\"1\" /><path clip-path=\"url(#clip270)\" d=\"M 0 0 M98.6401 147.409 Q95.029 147.409 93.2003 150.973 Q91.3948 154.515 91.3948 161.645 Q91.3948 168.751 93.2003 172.316 Q95.029 175.858 98.6401 175.858 Q102.274 175.858 104.08 172.316 Q105.909 168.751 105.909 161.645 Q105.909 154.515 104.08 150.973 Q102.274 147.409 98.6401 147.409 M98.6401 143.705 Q104.45 143.705 107.506 148.311 Q110.584 152.895 110.584 161.645 Q110.584 170.371 107.506 174.978 Q104.45 179.561 98.6401 179.561 Q92.8299 179.561 89.7512 174.978 Q86.6957 170.371 86.6957 161.645 Q86.6957 152.895 89.7512 148.311 Q92.8299 143.705 98.6401 143.705 Z\" fill=\"#000000\" fill-rule=\"evenodd\" fill-opacity=\"1\" /><path clip-path=\"url(#clip270)\" d=\"M 0 0 M125.654 147.409 Q122.043 147.409 120.214 150.973 Q118.408 154.515 118.408 161.645 Q118.408 168.751 120.214 172.316 Q122.043 175.858 125.654 175.858 Q129.288 175.858 131.094 172.316 Q132.922 168.751 132.922 161.645 Q132.922 154.515 131.094 150.973 Q129.288 147.409 125.654 147.409 M125.654 143.705 Q131.464 143.705 134.52 148.311 Q137.598 152.895 137.598 161.645 Q137.598 170.371 134.52 174.978 Q131.464 179.561 125.654 179.561 Q119.844 179.561 116.765 174.978 Q113.709 170.371 113.709 161.645 Q113.709 152.895 116.765 148.311 Q119.844 143.705 125.654 143.705 Z\" fill=\"#000000\" fill-rule=\"evenodd\" fill-opacity=\"1\" /><path clip-path=\"url(#clip270)\" d=\"M 0 0 M152.668 147.409 Q149.056 147.409 147.228 150.973 Q145.422 154.515 145.422 161.645 Q145.422 168.751 147.228 172.316 Q149.056 175.858 152.668 175.858 Q156.302 175.858 158.107 172.316 Q159.936 168.751 159.936 161.645 Q159.936 154.515 158.107 150.973 Q156.302 147.409 152.668 147.409 M152.668 143.705 Q158.478 143.705 161.533 148.311 Q164.612 152.895 164.612 161.645 Q164.612 170.371 161.533 174.978 Q158.478 179.561 152.668 179.561 Q146.857 179.561 143.779 174.978 Q140.723 170.371 140.723 161.645 Q140.723 152.895 143.779 148.311 Q146.857 143.705 152.668 143.705 Z\" fill=\"#000000\" fill-rule=\"evenodd\" fill-opacity=\"1\" /><polyline clip-path=\"url(#clip272)\" style=\"stroke:#009af9; stroke-width:4; stroke-opacity:1; fill:none\" points=\"\n",
       "  249.861,1445.72 251.905,1445.72 253.949,1445.72 255.992,1445.72 258.036,1445.72 260.08,1445.72 262.123,1445.72 264.167,1445.72 266.211,1445.72 268.255,1445.72 \n",
       "  270.298,1445.72 272.342,1445.72 274.386,1445.72 276.429,1445.72 278.473,1445.72 280.517,1445.72 282.56,1445.72 284.604,1445.72 286.648,1445.72 288.691,1445.72 \n",
       "  290.735,1445.72 292.779,1445.72 294.822,1445.72 296.866,1445.72 298.91,1445.72 300.954,1445.72 302.997,1445.72 305.041,1445.72 307.085,1445.72 309.128,1445.72 \n",
       "  311.172,1445.72 313.216,1445.72 315.259,1445.72 317.303,1445.72 319.347,1445.72 321.39,1445.72 323.434,1445.72 325.478,1445.72 327.521,1445.72 329.565,1445.72 \n",
       "  331.609,1445.72 333.653,1445.72 335.696,1445.72 337.74,1445.72 339.784,1445.72 341.827,1445.72 343.871,1445.72 345.915,1445.72 347.958,1445.72 350.002,1445.72 \n",
       "  352.046,1445.72 354.089,1445.72 356.133,1445.72 358.177,1445.72 360.221,1445.72 362.264,1445.72 364.308,1445.72 366.352,1445.72 368.395,1445.72 370.439,1445.72 \n",
       "  372.483,1445.72 374.526,1445.72 376.57,1445.72 378.614,1445.72 380.657,1445.72 382.701,1445.72 384.745,1445.72 386.788,1445.72 388.832,1445.72 390.876,1445.72 \n",
       "  392.92,1445.72 394.963,1445.72 397.007,1445.72 399.051,1445.72 401.094,1445.72 403.138,1445.72 405.182,1445.72 407.225,1445.72 409.269,1445.72 411.313,1445.72 \n",
       "  413.356,1445.72 415.4,1445.72 417.444,1445.72 419.487,1445.72 421.531,1445.72 423.575,1445.72 425.619,1445.72 427.662,1445.72 429.706,1445.72 431.75,1445.72 \n",
       "  433.793,1445.72 435.837,1445.72 437.881,1445.72 439.924,1445.72 441.968,1445.72 444.012,1445.72 446.055,1445.72 448.099,1445.72 450.143,1445.72 452.187,1445.72 \n",
       "  454.23,1445.72 456.274,1445.72 458.318,1445.72 460.361,1445.72 462.405,1445.72 464.449,1445.72 466.492,1445.72 468.536,1445.72 470.58,1445.72 472.623,1445.72 \n",
       "  474.667,1445.72 476.711,1445.72 478.754,1445.72 480.798,1445.72 482.842,1445.72 484.886,1445.72 486.929,1445.72 488.973,1445.72 491.017,1445.72 493.06,1445.72 \n",
       "  495.104,1445.72 497.148,1445.72 499.191,1445.72 501.235,1445.72 503.279,1445.72 505.322,1445.72 507.366,1445.72 509.41,1445.72 511.453,1445.72 513.497,1445.72 \n",
       "  515.541,1445.72 517.585,1445.72 519.628,1445.72 521.672,1445.72 523.716,1445.72 525.759,1445.72 527.803,1445.72 529.847,1445.72 531.89,1445.72 533.934,1445.72 \n",
       "  535.978,1445.72 538.021,1445.72 540.065,1445.72 542.109,1445.72 544.153,1445.72 546.196,1445.72 548.24,1445.72 550.284,1445.72 552.327,1445.72 554.371,1445.72 \n",
       "  556.415,1445.72 558.458,1445.72 560.502,1445.72 562.546,1445.72 564.589,1445.72 566.633,1445.72 568.677,1445.72 570.72,1445.72 572.764,1445.72 574.808,1445.72 \n",
       "  576.852,1445.72 578.895,1445.72 580.939,1445.72 582.983,1445.72 585.026,1445.72 587.07,1445.72 589.114,1445.72 591.157,1445.72 593.201,1445.72 595.245,1445.72 \n",
       "  597.288,1445.72 599.332,1445.72 601.376,1445.72 603.419,1445.72 605.463,1445.72 607.507,1445.72 609.551,1445.72 611.594,1445.72 613.638,1445.72 615.682,1445.72 \n",
       "  617.725,1445.72 619.769,1445.72 621.813,1445.72 623.856,1445.72 625.9,1445.72 627.944,1445.72 629.987,1445.72 632.031,1445.72 634.075,1445.72 636.119,1445.72 \n",
       "  638.162,1445.72 640.206,1445.72 642.25,1445.72 644.293,1445.72 646.337,1445.72 648.381,1445.72 650.424,1445.72 652.468,1445.72 654.512,1445.72 656.555,1445.72 \n",
       "  658.599,1445.72 660.643,1445.72 662.686,1445.72 664.73,1445.72 666.774,1445.72 668.818,1445.72 670.861,1445.72 672.905,1445.72 674.949,1445.72 676.992,1445.72 \n",
       "  679.036,1445.72 681.08,1445.72 683.123,1445.72 685.167,1445.72 687.211,1445.72 689.254,1445.72 691.298,1445.72 693.342,1445.72 695.385,1445.72 697.429,1445.72 \n",
       "  699.473,1445.72 701.517,1445.72 703.56,1445.72 705.604,1445.72 707.648,1445.72 709.691,1445.72 711.735,1445.72 713.779,1445.72 715.822,1445.72 717.866,1445.72 \n",
       "  719.91,1445.72 721.953,1445.72 723.997,1445.72 726.041,1445.72 728.085,1445.72 730.128,1445.72 732.172,1445.72 734.216,1445.72 736.259,1445.72 738.303,1445.72 \n",
       "  740.347,1445.72 742.39,1445.72 744.434,1445.72 746.478,1445.72 748.521,1445.72 750.565,1445.72 752.609,1445.72 754.652,1445.72 756.696,1445.72 758.74,1445.72 \n",
       "  760.784,1445.72 762.827,1445.72 764.871,1445.72 766.915,1445.72 768.958,1445.72 771.002,1445.71 773.046,1445.71 775.089,1445.71 777.133,1445.71 779.177,1445.71 \n",
       "  781.22,1445.71 783.264,1445.71 785.308,1445.71 787.351,1445.71 789.395,1445.71 791.439,1445.71 793.483,1445.71 795.526,1445.71 797.57,1445.71 799.614,1445.71 \n",
       "  801.657,1445.71 803.701,1445.71 805.745,1445.71 807.788,1445.71 809.832,1445.71 811.876,1445.71 813.919,1445.71 815.963,1445.71 818.007,1445.71 820.051,1445.71 \n",
       "  822.094,1445.71 824.138,1445.71 826.182,1445.71 828.225,1445.71 830.269,1445.71 832.313,1445.71 834.356,1445.71 836.4,1445.71 838.444,1445.71 840.487,1445.71 \n",
       "  842.531,1445.71 844.575,1445.71 846.618,1445.71 848.662,1445.71 850.706,1445.71 852.75,1445.71 854.793,1445.71 856.837,1445.71 858.881,1445.71 860.924,1445.71 \n",
       "  862.968,1445.71 865.012,1445.71 867.055,1445.71 869.099,1445.71 871.143,1445.71 873.186,1445.71 875.23,1445.71 877.274,1445.71 879.317,1445.71 881.361,1445.71 \n",
       "  883.405,1445.71 885.449,1445.71 887.492,1445.71 889.536,1445.71 891.58,1445.71 893.623,1445.71 895.667,1445.71 897.711,1445.71 899.754,1445.71 901.798,1445.71 \n",
       "  903.842,1445.71 905.885,1445.71 907.929,1445.71 909.973,1445.71 912.017,1445.71 914.06,1445.71 916.104,1445.71 918.148,1445.71 920.191,1445.71 922.235,1445.71 \n",
       "  924.279,1445.71 926.322,1445.71 928.366,1445.71 930.41,1445.71 932.453,1445.71 934.497,1445.71 936.541,1445.71 938.584,1445.71 940.628,1445.71 942.672,1445.71 \n",
       "  944.716,1445.71 946.759,1445.71 948.803,1445.71 950.847,1445.71 952.89,1445.71 954.934,1445.71 956.978,1445.71 959.021,1445.71 961.065,1445.71 963.109,1445.71 \n",
       "  965.152,1445.71 967.196,1445.71 969.24,1445.71 971.284,1445.71 973.327,1445.71 975.371,1445.71 977.415,1445.71 979.458,1445.71 981.502,1445.71 983.546,1445.71 \n",
       "  985.589,1445.71 987.633,1445.71 989.677,1445.71 991.72,1445.71 993.764,1445.71 995.808,1445.71 997.851,1445.71 999.895,1445.71 1001.94,1445.71 1003.98,1445.71 \n",
       "  1006.03,1445.71 1008.07,1445.71 1010.11,1445.71 1012.16,1445.71 1014.2,1445.71 1016.24,1445.71 1018.29,1445.71 1020.33,1445.71 1022.38,1445.71 1024.42,1445.71 \n",
       "  1026.46,1445.71 1028.51,1445.71 1030.55,1445.71 1032.59,1445.71 1034.64,1445.71 1036.68,1445.71 1038.73,1445.71 1040.77,1445.71 1042.81,1445.71 1044.86,1445.71 \n",
       "  1046.9,1445.71 1048.94,1445.71 1050.99,1445.71 1053.03,1445.71 1055.07,1445.71 1057.12,1445.71 1059.16,1445.71 1061.21,1445.71 1063.25,1445.71 1065.29,1445.71 \n",
       "  1067.34,1445.71 1069.38,1445.71 1071.42,1445.71 1073.47,1445.71 1075.51,1445.71 1077.56,1445.71 1079.6,1445.71 1081.64,1445.71 1083.69,1445.71 1085.73,1445.71 \n",
       "  1087.77,1445.71 1089.82,1445.71 1091.86,1445.71 1093.9,1445.71 1095.95,1445.71 1097.99,1445.71 1100.04,1445.71 1102.08,1445.71 1104.12,1445.71 1106.17,1445.71 \n",
       "  1108.21,1445.71 1110.25,1445.71 1112.3,1445.71 1114.34,1445.71 1116.39,1445.71 1118.43,1445.71 1120.47,1445.71 1122.52,1445.71 1124.56,1445.71 1126.6,1445.71 \n",
       "  1128.65,1445.71 1130.69,1445.71 1132.73,1445.71 1134.78,1445.71 1136.82,1445.71 1138.87,1445.71 1140.91,1445.71 1142.95,1445.71 1145,1445.71 1147.04,1445.71 \n",
       "  1149.08,1445.71 1151.13,1445.71 1153.17,1445.71 1155.22,1445.71 1157.26,1445.71 1159.3,1445.71 1161.35,1445.71 1163.39,1445.71 1165.43,1445.71 1167.48,1445.71 \n",
       "  1169.52,1445.71 1171.57,1445.71 1173.61,1445.71 1175.65,1445.71 1177.7,1445.71 1179.74,1445.71 1181.78,1445.71 1183.83,1445.71 1185.87,1445.71 1187.91,1445.71 \n",
       "  1189.96,1445.71 1192,1445.71 1194.05,1445.71 1196.09,1445.71 1198.13,1445.71 1200.18,1445.71 1202.22,1445.71 1204.26,1445.71 1206.31,1445.71 1208.35,1445.71 \n",
       "  1210.4,1445.71 1212.44,1445.71 1214.48,1445.71 1216.53,1445.71 1218.57,1445.71 1220.61,1445.71 1222.66,1445.71 1224.7,1445.71 1226.74,1445.71 1228.79,1445.71 \n",
       "  1230.83,1445.71 1232.88,1445.71 1234.92,1445.71 1236.96,1445.71 1239.01,1445.71 1241.05,1445.71 1243.09,1445.71 1245.14,1445.71 1247.18,1445.71 1249.23,1445.71 \n",
       "  1251.27,1445.71 1253.31,1445.71 1255.36,1445.71 1257.4,1445.71 1259.44,1445.71 1261.49,1445.71 1263.53,1445.71 1265.57,1445.71 1267.62,1445.71 1269.66,1445.71 \n",
       "  1271.71,1445.71 1273.75,1445.71 1275.79,1445.71 1277.84,1445.71 1279.88,1445.71 1281.92,1445.71 1283.97,1445.71 1286.01,1445.71 1288.06,1445.71 1290.1,1445.71 \n",
       "  1292.14,1445.71 1294.19,1445.71 1296.23,1445.71 1298.27,1445.71 1300.32,1445.71 1302.36,1445.71 1304.4,1445.71 1306.45,1445.71 1308.49,1445.71 1310.54,1445.71 \n",
       "  1312.58,1445.71 1314.62,1445.71 1316.67,1445.71 1318.71,1445.71 1320.75,1445.71 1322.8,1445.71 1324.84,1445.71 1326.89,1445.71 1328.93,1445.71 1330.97,1445.71 \n",
       "  1333.02,1445.71 1335.06,1445.71 1337.1,1445.71 1339.15,1445.71 1341.19,1445.71 1343.23,1445.71 1345.28,1445.71 1347.32,1445.71 1349.37,1445.71 1351.41,1445.71 \n",
       "  1353.45,1445.71 1355.5,1445.71 1357.54,1445.71 1359.58,1445.71 1361.63,1445.71 1363.67,1445.71 1365.72,1445.71 1367.76,1445.71 1369.8,1445.71 1371.85,1445.71 \n",
       "  1373.89,1445.71 1375.93,1445.71 1377.98,1445.71 1380.02,1445.71 1382.06,1445.71 1384.11,1445.71 1386.15,1445.71 1388.2,1445.71 1390.24,1445.71 1392.28,1445.71 \n",
       "  1394.33,1445.71 1396.37,1445.71 1398.41,1445.71 1400.46,1445.71 1402.5,1445.71 1404.55,1445.71 1406.59,1445.71 1408.63,1445.71 1410.68,1445.71 1412.72,1445.71 \n",
       "  1414.76,1445.71 1416.81,1445.71 1418.85,1445.71 1420.9,1445.71 1422.94,1445.71 1424.98,1445.71 1427.03,1445.71 1429.07,1445.71 1431.11,1445.71 1433.16,1445.71 \n",
       "  1435.2,1445.71 1437.24,1445.71 1439.29,1445.71 1441.33,1445.71 1443.38,1445.71 1445.42,1445.71 1447.46,1445.71 1449.51,1445.71 1451.55,1445.71 1453.59,1445.71 \n",
       "  1455.64,1445.71 1457.68,1445.71 1459.73,1445.71 1461.77,1445.71 1463.81,1445.71 1465.86,1445.71 1467.9,1445.71 1469.94,1445.71 1471.99,1445.71 1474.03,1445.71 \n",
       "  1476.07,1445.71 1478.12,1445.71 1480.16,1445.71 1482.21,1445.71 1484.25,1445.71 1486.29,1445.71 1488.34,1445.71 1490.38,1445.71 1492.42,1445.71 1494.47,1445.71 \n",
       "  1496.51,1445.71 1498.56,1445.71 1500.6,1445.71 1502.64,1445.71 1504.69,1445.71 1506.73,1445.71 1508.77,1445.71 1510.82,1445.71 1512.86,1445.71 1514.9,1445.71 \n",
       "  1516.95,1445.71 1518.99,1445.71 1521.04,1445.71 1523.08,1445.71 1525.12,1445.71 1527.17,1445.71 1529.21,1445.71 1531.25,1445.71 1533.3,1445.71 1535.34,1445.71 \n",
       "  1537.39,1445.71 1539.43,1445.71 1541.47,1445.71 1543.52,1445.71 1545.56,1445.71 1547.6,1445.71 1549.65,1445.71 1551.69,1445.71 1553.73,1445.71 1555.78,1445.71 \n",
       "  1557.82,1445.71 1559.87,1445.71 1561.91,1445.71 1563.95,1445.71 1566,1445.71 1568.04,1445.71 1570.08,1445.71 1572.13,1445.71 1574.17,1445.71 1576.22,1445.71 \n",
       "  1578.26,1445.71 1580.3,1445.71 1582.35,1445.71 1584.39,1445.71 1586.43,1445.71 1588.48,1445.71 1590.52,1445.71 1592.56,1445.71 1594.61,1445.71 1596.65,1445.71 \n",
       "  1598.7,1445.71 1600.74,1445.71 1602.78,1445.71 1604.83,1445.71 1606.87,1445.71 1608.91,1445.71 1610.96,1445.71 1613,1445.71 1615.05,1445.71 1617.09,1445.71 \n",
       "  1619.13,1445.71 1621.18,1445.71 1623.22,1445.71 1625.26,1445.71 1627.31,1445.71 1629.35,1445.71 1631.4,1445.71 1633.44,1445.71 1635.48,1445.71 1637.53,1445.71 \n",
       "  1639.57,1445.71 1641.61,1445.71 1643.66,1445.71 1645.7,1445.7 1647.74,1445.7 1649.79,1445.7 1651.83,1445.7 1653.88,1445.7 1655.92,1445.7 1657.96,1445.7 \n",
       "  1660.01,1445.7 1662.05,1445.7 1664.09,1445.7 1666.14,1445.7 1668.18,1445.7 1670.23,1445.7 1672.27,1445.7 1674.31,1445.7 1676.36,1445.7 1678.4,1445.7 \n",
       "  1680.44,1445.7 1682.49,1445.7 1684.53,1445.7 1686.57,1445.7 1688.62,1445.7 1690.66,1445.7 1692.71,1445.7 1694.75,1445.7 1696.79,1445.7 1698.84,1445.7 \n",
       "  1700.88,1445.7 1702.92,1445.7 1704.97,1445.7 1707.01,1445.7 1709.06,1445.7 1711.1,1445.7 1713.14,1445.7 1715.19,1445.7 1717.23,1445.7 1719.27,1445.7 \n",
       "  1721.32,1445.7 1723.36,1445.7 1725.4,1445.7 1727.45,1445.7 1729.49,1445.7 1731.54,1445.7 1733.58,1445.7 1735.62,1445.7 1737.67,1445.7 1739.71,1445.7 \n",
       "  1741.75,1445.7 1743.8,1445.7 1745.84,1445.7 1747.89,1445.7 1749.93,1445.7 1751.97,1445.7 1754.02,1445.7 1756.06,1445.7 1758.1,1445.7 1760.15,1445.7 \n",
       "  1762.19,1445.7 1764.23,1445.7 1766.28,1445.7 1768.32,1445.7 1770.37,1445.7 1772.41,1445.7 1774.45,1445.69 1776.5,1445.69 1778.54,1445.69 1780.58,1445.69 \n",
       "  1782.63,1445.69 1784.67,1445.69 1786.72,1445.69 1788.76,1445.69 1790.8,1445.69 1792.85,1445.69 1794.89,1445.69 1796.93,1445.69 1798.98,1445.69 1801.02,1445.69 \n",
       "  1803.06,1445.69 1805.11,1445.69 1807.15,1445.69 1809.2,1445.69 1811.24,1445.69 1813.28,1445.69 1815.33,1445.69 1817.37,1445.69 1819.41,1445.69 1821.46,1445.69 \n",
       "  1823.5,1445.69 1825.55,1445.69 1827.59,1445.69 1829.63,1445.69 1831.68,1445.69 1833.72,1445.69 1835.76,1445.69 1837.81,1445.68 1839.85,1445.68 1841.89,1445.68 \n",
       "  1843.94,1445.68 1845.98,1445.68 1848.03,1445.68 1850.07,1445.68 1852.11,1445.68 1854.16,1445.68 1856.2,1445.68 1858.24,1445.68 1860.29,1445.68 1862.33,1445.68 \n",
       "  1864.38,1445.68 1866.42,1445.68 1868.46,1445.68 1870.51,1445.68 1872.55,1445.68 1874.59,1445.67 1876.64,1445.67 1878.68,1445.67 1880.73,1445.67 1882.77,1445.67 \n",
       "  1884.81,1445.67 1886.86,1445.67 1888.9,1445.67 1890.94,1445.67 1892.99,1445.67 1895.03,1445.67 1897.07,1445.67 1899.12,1445.67 1901.16,1445.66 1903.21,1445.66 \n",
       "  1905.25,1445.66 1907.29,1445.66 1909.34,1445.66 1911.38,1445.66 1913.42,1445.66 1915.47,1445.66 1917.51,1445.66 1919.56,1445.66 1921.6,1445.65 1923.64,1445.65 \n",
       "  1925.69,1445.65 1927.73,1445.65 1929.77,1445.65 1931.82,1445.65 1933.86,1445.65 1935.9,1445.64 1937.95,1445.64 1939.99,1445.64 1942.04,1445.64 1944.08,1445.64 \n",
       "  1946.12,1445.64 1948.17,1445.63 1950.21,1445.63 1952.25,1445.63 1954.3,1445.63 1956.34,1445.63 1958.39,1445.63 1960.43,1445.62 1962.47,1445.62 1964.52,1445.62 \n",
       "  1966.56,1445.62 1968.6,1445.61 1970.65,1445.61 1972.69,1445.61 1974.73,1445.61 1976.78,1445.6 1978.82,1445.6 1980.87,1445.6 1982.91,1445.59 1984.95,1445.59 \n",
       "  1987,1445.59 1989.04,1445.58 1991.08,1445.58 1993.13,1445.58 1995.17,1445.57 1997.22,1445.57 1999.26,1445.56 2001.3,1445.56 2003.35,1445.55 2005.39,1445.55 \n",
       "  2007.43,1445.54 2009.48,1445.54 2011.52,1445.53 2013.56,1445.53 2015.61,1445.52 2017.65,1445.51 2019.7,1445.51 2021.74,1445.5 2023.78,1445.49 2025.83,1445.49 \n",
       "  2027.87,1445.48 2029.91,1445.47 2031.96,1445.46 2034,1445.45 2036.05,1445.44 2038.09,1445.43 2040.13,1445.42 2042.18,1445.41 2044.22,1445.4 2046.26,1445.39 \n",
       "  2048.31,1445.37 2050.35,1445.36 2052.39,1445.34 2054.44,1445.33 2056.48,1445.31 2058.53,1445.3 2060.57,1445.28 2062.61,1445.26 2064.66,1445.24 2066.7,1445.22 \n",
       "  2068.74,1445.2 2070.79,1445.17 2072.83,1445.15 2074.88,1445.12 2076.92,1445.09 2078.96,1445.06 2081.01,1445.03 2083.05,1445 2085.09,1444.96 2087.14,1444.92 \n",
       "  2089.18,1444.88 2091.23,1444.84 2093.27,1444.79 2095.31,1444.74 2097.36,1444.69 2099.4,1444.64 2101.44,1444.58 2103.49,1444.51 2105.53,1444.45 2107.57,1444.37 \n",
       "  2109.62,1444.3 2111.66,1444.21 2113.71,1444.12 2115.75,1444.03 2117.79,1443.93 2119.84,1443.82 2121.88,1443.7 2123.92,1443.58 2125.97,1443.45 2128.01,1443.3 \n",
       "  2130.06,1443.15 2132.1,1442.98 2134.14,1442.81 2136.19,1442.62 2138.23,1442.41 2140.27,1442.19 2142.32,1441.95 2144.36,1441.69 2146.4,1441.42 2148.45,1441.12 \n",
       "  2150.49,1440.8 2152.54,1440.45 2154.58,1440.08 2156.62,1439.68 2158.67,1439.24 2160.71,1438.77 2162.75,1438.26 2164.8,1437.71 2166.84,1437.12 2168.89,1436.47 \n",
       "  2170.93,1435.78 2172.97,1435.03 2175.02,1434.21 2177.06,1433.33 2179.1,1432.37 2181.15,1431.33 2183.19,1430.2 2185.23,1428.98 2187.28,1427.65 2189.32,1426.21 \n",
       "  2191.37,1424.65 2193.41,1422.95 2195.45,1421.11 2197.5,1419.11 2199.54,1416.93 2201.58,1414.56 2203.63,1411.98 2205.67,1409.18 2207.72,1406.13 2209.76,1402.81 \n",
       "  2211.8,1399.2 2213.85,1395.26 2215.89,1390.97 2217.93,1386.3 2219.98,1381.2 2222.02,1375.65 2224.06,1369.6 2226.11,1362.99 2228.15,1355.79 2230.2,1347.93 \n",
       "  2232.24,1339.35 2234.28,1329.98 2236.33,1319.75 2238.37,1308.59 2240.41,1296.39 2242.46,1283.06 2244.5,1268.49 2246.55,1252.57 2248.59,1235.16 2250.63,1216.13 \n",
       "  2252.68,1195.32 2254.72,1172.55 2256.76,1147.64 2258.81,1120.39 2260.85,1090.56 2262.89,1057.91 2264.94,1022.16 2266.98,983.013 2269.03,940.142 2271.07,893.182 \n",
       "  2273.11,841.734 2275.16,785.362 2277.2,723.583 2279.24,655.869 2281.29,581.638 2283.33,500.25 2285.38,411.003 2287.42,313.123 2289.46,205.759 2291.51,87.9763 \n",
       "  \n",
       "  \"/>\n",
       "<path clip-path=\"url(#clip270)\" d=\"\n",
       "M1989.74 251.724 L2280.76 251.724 L2280.76 130.764 L1989.74 130.764  Z\n",
       "  \" fill=\"#ffffff\" fill-rule=\"evenodd\" fill-opacity=\"1\"/>\n",
       "<polyline clip-path=\"url(#clip270)\" style=\"stroke:#000000; stroke-width:4; stroke-opacity:1; fill:none\" points=\"\n",
       "  1989.74,251.724 2280.76,251.724 2280.76,130.764 1989.74,130.764 1989.74,251.724 \n",
       "  \"/>\n",
       "<polyline clip-path=\"url(#clip270)\" style=\"stroke:#009af9; stroke-width:4; stroke-opacity:1; fill:none\" points=\"\n",
       "  2013.74,191.244 2157.74,191.244 \n",
       "  \"/>\n",
       "<path clip-path=\"url(#clip270)\" d=\"M 0 0 M2195.58 210.931 Q2193.77 215.561 2192.06 216.973 Q2190.35 218.385 2187.48 218.385 L2184.08 218.385 L2184.08 214.82 L2186.58 214.82 Q2188.33 214.82 2189.31 213.987 Q2190.28 213.154 2191.46 210.052 L2192.22 208.107 L2181.74 182.598 L2186.25 182.598 L2194.35 202.876 L2202.46 182.598 L2206.97 182.598 L2195.58 210.931 Z\" fill=\"#000000\" fill-rule=\"evenodd\" fill-opacity=\"1\" /><path clip-path=\"url(#clip270)\" d=\"M 0 0 M2212.85 204.589 L2220.49 204.589 L2220.49 178.223 L2212.18 179.89 L2212.18 175.631 L2220.44 173.964 L2225.12 173.964 L2225.12 204.589 L2232.76 204.589 L2232.76 208.524 L2212.85 208.524 L2212.85 204.589 Z\" fill=\"#000000\" fill-rule=\"evenodd\" fill-opacity=\"1\" /></svg>\n"
      ]
     },
     "execution_count": 36,
     "metadata": {},
     "output_type": "execute_result"
    }
   ],
   "source": [
    "Plots.plot(\n",
    "    range(-100.0, 10.0, length = 1000),\n",
    "    t -> beta_mgf_v7(α, β, t),\n",
    ")"
   ]
  },
  {
   "cell_type": "markdown",
   "metadata": {},
   "source": [
    "This is much better, although I came to wonder if it was better than my earlier implementation for positive t, so I made a polyalgorithm that combined approaches."
   ]
  },
  {
   "cell_type": "code",
   "execution_count": 37,
   "metadata": {},
   "outputs": [
    {
     "data": {
      "text/plain": [
       "beta_mgf_v8 (generic function with 1 method)"
      ]
     },
     "execution_count": 37,
     "metadata": {},
     "output_type": "execute_result"
    }
   ],
   "source": [
    "function beta_mgf_v8(α::Number, β::Number, t::Number)\n",
    "    if t < 0\n",
    "        drummond1F1(α, α + β, t)\n",
    "    elseif t < 1\n",
    "        k_max = 100\n",
    "        s = one(t)\n",
    "        p = one(t)\n",
    "        k = 0\n",
    "        converged = false\n",
    "        while !converged\n",
    "            k += 1\n",
    "            r = k - 1\n",
    "            p *= (α + r) / (α + β + r)\n",
    "            term = (p / gamma(k + 1)) * t^k\n",
    "            if s === s + term || k > k_max\n",
    "                converged = true\n",
    "            else\n",
    "                s += term\n",
    "            end\n",
    "        end\n",
    "        s\n",
    "    else\n",
    "        k_max = 100\n",
    "        s = one(t)\n",
    "        p = zero(t)\n",
    "        k = 0\n",
    "        converged = false\n",
    "        while !converged\n",
    "            k += 1\n",
    "            r = k - 1\n",
    "            p += log(α + r) - log(α + β + r)\n",
    "            term = exp(p - lgamma(k + 1) + k * log(t))\n",
    "            if s === s + term || k > k_max\n",
    "                converged = true\n",
    "            else\n",
    "                s += term\n",
    "            end\n",
    "        end\n",
    "        s\n",
    "    end\n",
    "end"
   ]
  },
  {
   "cell_type": "code",
   "execution_count": 38,
   "metadata": {},
   "outputs": [
    {
     "data": {
      "image/svg+xml": [
       "<?xml version=\"1.0\" encoding=\"utf-8\"?>\n",
       "<svg xmlns=\"http://www.w3.org/2000/svg\" xmlns:xlink=\"http://www.w3.org/1999/xlink\" width=\"600\" height=\"400\" viewBox=\"0 0 2400 1600\">\n",
       "<defs>\n",
       "  <clipPath id=\"clip310\">\n",
       "    <rect x=\"0\" y=\"0\" width=\"2400\" height=\"1600\"/>\n",
       "  </clipPath>\n",
       "</defs>\n",
       "<path clip-path=\"url(#clip310)\" d=\"\n",
       "M0 1600 L2400 1600 L2400 0 L0 0  Z\n",
       "  \" fill=\"#ffffff\" fill-rule=\"evenodd\" fill-opacity=\"1\"/>\n",
       "<defs>\n",
       "  <clipPath id=\"clip311\">\n",
       "    <rect x=\"480\" y=\"0\" width=\"1681\" height=\"1600\"/>\n",
       "  </clipPath>\n",
       "</defs>\n",
       "<path clip-path=\"url(#clip310)\" d=\"\n",
       "M188.612 1486.45 L2352.76 1486.45 L2352.76 47.2441 L188.612 47.2441  Z\n",
       "  \" fill=\"#ffffff\" fill-rule=\"evenodd\" fill-opacity=\"1\"/>\n",
       "<defs>\n",
       "  <clipPath id=\"clip312\">\n",
       "    <rect x=\"188\" y=\"47\" width=\"2165\" height=\"1440\"/>\n",
       "  </clipPath>\n",
       "</defs>\n",
       "<polyline clip-path=\"url(#clip312)\" style=\"stroke:#000000; stroke-width:2; stroke-opacity:0.1; fill:none\" points=\"\n",
       "  249.861,1486.45 249.861,47.2441 \n",
       "  \"/>\n",
       "<polyline clip-path=\"url(#clip312)\" style=\"stroke:#000000; stroke-width:2; stroke-opacity:0.1; fill:none\" points=\"\n",
       "  713.872,1486.45 713.872,47.2441 \n",
       "  \"/>\n",
       "<polyline clip-path=\"url(#clip312)\" style=\"stroke:#000000; stroke-width:2; stroke-opacity:0.1; fill:none\" points=\"\n",
       "  1177.88,1486.45 1177.88,47.2441 \n",
       "  \"/>\n",
       "<polyline clip-path=\"url(#clip312)\" style=\"stroke:#000000; stroke-width:2; stroke-opacity:0.1; fill:none\" points=\"\n",
       "  1641.89,1486.45 1641.89,47.2441 \n",
       "  \"/>\n",
       "<polyline clip-path=\"url(#clip312)\" style=\"stroke:#000000; stroke-width:2; stroke-opacity:0.1; fill:none\" points=\"\n",
       "  2105.9,1486.45 2105.9,47.2441 \n",
       "  \"/>\n",
       "<polyline clip-path=\"url(#clip312)\" style=\"stroke:#000000; stroke-width:2; stroke-opacity:0.1; fill:none\" points=\"\n",
       "  188.612,1445.72 2352.76,1445.72 \n",
       "  \"/>\n",
       "<polyline clip-path=\"url(#clip312)\" style=\"stroke:#000000; stroke-width:2; stroke-opacity:0.1; fill:none\" points=\"\n",
       "  188.612,1124.69 2352.76,1124.69 \n",
       "  \"/>\n",
       "<polyline clip-path=\"url(#clip312)\" style=\"stroke:#000000; stroke-width:2; stroke-opacity:0.1; fill:none\" points=\"\n",
       "  188.612,803.663 2352.76,803.663 \n",
       "  \"/>\n",
       "<polyline clip-path=\"url(#clip312)\" style=\"stroke:#000000; stroke-width:2; stroke-opacity:0.1; fill:none\" points=\"\n",
       "  188.612,482.637 2352.76,482.637 \n",
       "  \"/>\n",
       "<polyline clip-path=\"url(#clip312)\" style=\"stroke:#000000; stroke-width:2; stroke-opacity:0.1; fill:none\" points=\"\n",
       "  188.612,161.61 2352.76,161.61 \n",
       "  \"/>\n",
       "<polyline clip-path=\"url(#clip310)\" style=\"stroke:#000000; stroke-width:4; stroke-opacity:1; fill:none\" points=\"\n",
       "  188.612,1486.45 2352.76,1486.45 \n",
       "  \"/>\n",
       "<polyline clip-path=\"url(#clip310)\" style=\"stroke:#000000; stroke-width:4; stroke-opacity:1; fill:none\" points=\"\n",
       "  188.612,1486.45 188.612,47.2441 \n",
       "  \"/>\n",
       "<polyline clip-path=\"url(#clip310)\" style=\"stroke:#000000; stroke-width:4; stroke-opacity:1; fill:none\" points=\"\n",
       "  249.861,1486.45 249.861,1469.18 \n",
       "  \"/>\n",
       "<polyline clip-path=\"url(#clip310)\" style=\"stroke:#000000; stroke-width:4; stroke-opacity:1; fill:none\" points=\"\n",
       "  713.872,1486.45 713.872,1469.18 \n",
       "  \"/>\n",
       "<polyline clip-path=\"url(#clip310)\" style=\"stroke:#000000; stroke-width:4; stroke-opacity:1; fill:none\" points=\"\n",
       "  1177.88,1486.45 1177.88,1469.18 \n",
       "  \"/>\n",
       "<polyline clip-path=\"url(#clip310)\" style=\"stroke:#000000; stroke-width:4; stroke-opacity:1; fill:none\" points=\"\n",
       "  1641.89,1486.45 1641.89,1469.18 \n",
       "  \"/>\n",
       "<polyline clip-path=\"url(#clip310)\" style=\"stroke:#000000; stroke-width:4; stroke-opacity:1; fill:none\" points=\"\n",
       "  2105.9,1486.45 2105.9,1469.18 \n",
       "  \"/>\n",
       "<polyline clip-path=\"url(#clip310)\" style=\"stroke:#000000; stroke-width:4; stroke-opacity:1; fill:none\" points=\"\n",
       "  188.612,1445.72 214.582,1445.72 \n",
       "  \"/>\n",
       "<polyline clip-path=\"url(#clip310)\" style=\"stroke:#000000; stroke-width:4; stroke-opacity:1; fill:none\" points=\"\n",
       "  188.612,1124.69 214.582,1124.69 \n",
       "  \"/>\n",
       "<polyline clip-path=\"url(#clip310)\" style=\"stroke:#000000; stroke-width:4; stroke-opacity:1; fill:none\" points=\"\n",
       "  188.612,803.663 214.582,803.663 \n",
       "  \"/>\n",
       "<polyline clip-path=\"url(#clip310)\" style=\"stroke:#000000; stroke-width:4; stroke-opacity:1; fill:none\" points=\"\n",
       "  188.612,482.637 214.582,482.637 \n",
       "  \"/>\n",
       "<polyline clip-path=\"url(#clip310)\" style=\"stroke:#000000; stroke-width:4; stroke-opacity:1; fill:none\" points=\"\n",
       "  188.612,161.61 214.582,161.61 \n",
       "  \"/>\n",
       "<path clip-path=\"url(#clip310)\" d=\"M 0 0 M203.716 1525.04 L216.193 1525.04 L216.193 1528.83 L203.716 1528.83 L203.716 1525.04 Z\" fill=\"#000000\" fill-rule=\"evenodd\" fill-opacity=\"1\" /><path clip-path=\"url(#clip310)\" d=\"M 0 0 M222.072 1535.98 L229.711 1535.98 L229.711 1509.62 L221.401 1511.29 L221.401 1507.03 L229.665 1505.36 L234.341 1505.36 L234.341 1535.98 L241.979 1535.98 L241.979 1539.92 L222.072 1539.92 L222.072 1535.98 Z\" fill=\"#000000\" fill-rule=\"evenodd\" fill-opacity=\"1\" /><path clip-path=\"url(#clip310)\" d=\"M 0 0 M257.049 1508.44 Q253.438 1508.44 251.609 1512 Q249.803 1515.55 249.803 1522.67 Q249.803 1529.78 251.609 1533.35 Q253.438 1536.89 257.049 1536.89 Q260.683 1536.89 262.489 1533.35 Q264.317 1529.78 264.317 1522.67 Q264.317 1515.55 262.489 1512 Q260.683 1508.44 257.049 1508.44 M257.049 1504.73 Q262.859 1504.73 265.914 1509.34 Q268.993 1513.92 268.993 1522.67 Q268.993 1531.4 265.914 1536.01 Q262.859 1540.59 257.049 1540.59 Q251.239 1540.59 248.16 1536.01 Q245.104 1531.4 245.104 1522.67 Q245.104 1513.92 248.16 1509.34 Q251.239 1504.73 257.049 1504.73 Z\" fill=\"#000000\" fill-rule=\"evenodd\" fill-opacity=\"1\" /><path clip-path=\"url(#clip310)\" d=\"M 0 0 M284.063 1508.44 Q280.451 1508.44 278.623 1512 Q276.817 1515.55 276.817 1522.67 Q276.817 1529.78 278.623 1533.35 Q280.451 1536.89 284.063 1536.89 Q287.697 1536.89 289.502 1533.35 Q291.331 1529.78 291.331 1522.67 Q291.331 1515.55 289.502 1512 Q287.697 1508.44 284.063 1508.44 M284.063 1504.73 Q289.873 1504.73 292.928 1509.34 Q296.007 1513.92 296.007 1522.67 Q296.007 1531.4 292.928 1536.01 Q289.873 1540.59 284.063 1540.59 Q278.252 1540.59 275.174 1536.01 Q272.118 1531.4 272.118 1522.67 Q272.118 1513.92 275.174 1509.34 Q278.252 1504.73 284.063 1504.73 Z\" fill=\"#000000\" fill-rule=\"evenodd\" fill-opacity=\"1\" /><path clip-path=\"url(#clip310)\" d=\"M 0 0 M681.569 1525.04 L694.045 1525.04 L694.045 1528.83 L681.569 1528.83 L681.569 1525.04 Z\" fill=\"#000000\" fill-rule=\"evenodd\" fill-opacity=\"1\" /><path clip-path=\"url(#clip310)\" d=\"M 0 0 M697.934 1505.36 L720.156 1505.36 L720.156 1507.35 L707.61 1539.92 L702.726 1539.92 L714.531 1509.3 L697.934 1509.3 L697.934 1505.36 Z\" fill=\"#000000\" fill-rule=\"evenodd\" fill-opacity=\"1\" /><path clip-path=\"url(#clip310)\" d=\"M 0 0 M725.272 1505.36 L743.628 1505.36 L743.628 1509.3 L729.554 1509.3 L729.554 1517.77 Q730.573 1517.42 731.591 1517.26 Q732.61 1517.07 733.628 1517.07 Q739.415 1517.07 742.795 1520.24 Q746.175 1523.42 746.175 1528.83 Q746.175 1534.41 742.702 1537.51 Q739.23 1540.59 732.911 1540.59 Q730.735 1540.59 728.466 1540.22 Q726.221 1539.85 723.814 1539.11 L723.814 1534.41 Q725.897 1535.54 728.119 1536.1 Q730.341 1536.66 732.818 1536.66 Q736.823 1536.66 739.161 1534.55 Q741.499 1532.44 741.499 1528.83 Q741.499 1525.22 739.161 1523.11 Q736.823 1521.01 732.818 1521.01 Q730.943 1521.01 729.068 1521.42 Q727.216 1521.84 725.272 1522.72 L725.272 1505.36 Z\" fill=\"#000000\" fill-rule=\"evenodd\" fill-opacity=\"1\" /><path clip-path=\"url(#clip310)\" d=\"M 0 0 M1145.13 1525.04 L1157.6 1525.04 L1157.6 1528.83 L1145.13 1528.83 L1145.13 1525.04 Z\" fill=\"#000000\" fill-rule=\"evenodd\" fill-opacity=\"1\" /><path clip-path=\"url(#clip310)\" d=\"M 0 0 M1162.72 1505.36 L1181.08 1505.36 L1181.08 1509.3 L1167 1509.3 L1167 1517.77 Q1168.02 1517.42 1169.04 1517.26 Q1170.06 1517.07 1171.08 1517.07 Q1176.86 1517.07 1180.24 1520.24 Q1183.62 1523.42 1183.62 1528.83 Q1183.62 1534.41 1180.15 1537.51 Q1176.68 1540.59 1170.36 1540.59 Q1168.18 1540.59 1165.91 1540.22 Q1163.67 1539.85 1161.26 1539.11 L1161.26 1534.41 Q1163.34 1535.54 1165.57 1536.1 Q1167.79 1536.66 1170.27 1536.66 Q1174.27 1536.66 1176.61 1534.55 Q1178.95 1532.44 1178.95 1528.83 Q1178.95 1525.22 1176.61 1523.11 Q1174.27 1521.01 1170.27 1521.01 Q1168.39 1521.01 1166.52 1521.42 Q1164.66 1521.84 1162.72 1522.72 L1162.72 1505.36 Z\" fill=\"#000000\" fill-rule=\"evenodd\" fill-opacity=\"1\" /><path clip-path=\"url(#clip310)\" d=\"M 0 0 M1198.69 1508.44 Q1195.08 1508.44 1193.25 1512 Q1191.45 1515.55 1191.45 1522.67 Q1191.45 1529.78 1193.25 1533.35 Q1195.08 1536.89 1198.69 1536.89 Q1202.33 1536.89 1204.13 1533.35 Q1205.96 1529.78 1205.96 1522.67 Q1205.96 1515.55 1204.13 1512 Q1202.33 1508.44 1198.69 1508.44 M1198.69 1504.73 Q1204.5 1504.73 1207.56 1509.34 Q1210.64 1513.92 1210.64 1522.67 Q1210.64 1531.4 1207.56 1536.01 Q1204.5 1540.59 1198.69 1540.59 Q1192.88 1540.59 1189.8 1536.01 Q1186.75 1531.4 1186.75 1522.67 Q1186.75 1513.92 1189.8 1509.34 Q1192.88 1504.73 1198.69 1504.73 Z\" fill=\"#000000\" fill-rule=\"evenodd\" fill-opacity=\"1\" /><path clip-path=\"url(#clip310)\" d=\"M 0 0 M1609.94 1525.04 L1622.41 1525.04 L1622.41 1528.83 L1609.94 1528.83 L1609.94 1525.04 Z\" fill=\"#000000\" fill-rule=\"evenodd\" fill-opacity=\"1\" /><path clip-path=\"url(#clip310)\" d=\"M 0 0 M1631.51 1535.98 L1647.83 1535.98 L1647.83 1539.92 L1625.89 1539.92 L1625.89 1535.98 Q1628.55 1533.23 1633.13 1528.6 Q1637.74 1523.95 1638.92 1522.61 Q1641.16 1520.08 1642.04 1518.35 Q1642.95 1516.59 1642.95 1514.9 Q1642.95 1512.14 1641 1510.41 Q1639.08 1508.67 1635.98 1508.67 Q1633.78 1508.67 1631.33 1509.43 Q1628.89 1510.2 1626.12 1511.75 L1626.12 1507.03 Q1628.94 1505.89 1631.39 1505.31 Q1633.85 1504.73 1635.89 1504.73 Q1641.26 1504.73 1644.45 1507.42 Q1647.64 1510.11 1647.64 1514.6 Q1647.64 1516.73 1646.83 1518.65 Q1646.05 1520.54 1643.94 1523.14 Q1643.36 1523.81 1640.26 1527.03 Q1637.16 1530.22 1631.51 1535.98 Z\" fill=\"#000000\" fill-rule=\"evenodd\" fill-opacity=\"1\" /><path clip-path=\"url(#clip310)\" d=\"M 0 0 M1652.95 1505.36 L1671.3 1505.36 L1671.3 1509.3 L1657.23 1509.3 L1657.23 1517.77 Q1658.25 1517.42 1659.26 1517.26 Q1660.28 1517.07 1661.3 1517.07 Q1667.09 1517.07 1670.47 1520.24 Q1673.85 1523.42 1673.85 1528.83 Q1673.85 1534.41 1670.38 1537.51 Q1666.9 1540.59 1660.58 1540.59 Q1658.41 1540.59 1656.14 1540.22 Q1653.89 1539.85 1651.49 1539.11 L1651.49 1534.41 Q1653.57 1535.54 1655.79 1536.1 Q1658.01 1536.66 1660.49 1536.66 Q1664.5 1536.66 1666.83 1534.55 Q1669.17 1532.44 1669.17 1528.83 Q1669.17 1525.22 1666.83 1523.11 Q1664.5 1521.01 1660.49 1521.01 Q1658.62 1521.01 1656.74 1521.42 Q1654.89 1521.84 1652.95 1522.72 L1652.95 1505.36 Z\" fill=\"#000000\" fill-rule=\"evenodd\" fill-opacity=\"1\" /><path clip-path=\"url(#clip310)\" d=\"M 0 0 M2105.9 1508.44 Q2102.29 1508.44 2100.46 1512 Q2098.66 1515.55 2098.66 1522.67 Q2098.66 1529.78 2100.46 1533.35 Q2102.29 1536.89 2105.9 1536.89 Q2109.54 1536.89 2111.34 1533.35 Q2113.17 1529.78 2113.17 1522.67 Q2113.17 1515.55 2111.34 1512 Q2109.54 1508.44 2105.9 1508.44 M2105.9 1504.73 Q2111.71 1504.73 2114.77 1509.34 Q2117.85 1513.92 2117.85 1522.67 Q2117.85 1531.4 2114.77 1536.01 Q2111.71 1540.59 2105.9 1540.59 Q2100.09 1540.59 2097.01 1536.01 Q2093.96 1531.4 2093.96 1522.67 Q2093.96 1513.92 2097.01 1509.34 Q2100.09 1504.73 2105.9 1504.73 Z\" fill=\"#000000\" fill-rule=\"evenodd\" fill-opacity=\"1\" /><path clip-path=\"url(#clip310)\" d=\"M 0 0 M152.668 1431.52 Q149.056 1431.52 147.228 1435.08 Q145.422 1438.62 145.422 1445.75 Q145.422 1452.86 147.228 1456.42 Q149.056 1459.96 152.668 1459.96 Q156.302 1459.96 158.107 1456.42 Q159.936 1452.86 159.936 1445.75 Q159.936 1438.62 158.107 1435.08 Q156.302 1431.52 152.668 1431.52 M152.668 1427.81 Q158.478 1427.81 161.533 1432.42 Q164.612 1437 164.612 1445.75 Q164.612 1454.48 161.533 1459.08 Q158.478 1463.67 152.668 1463.67 Q146.857 1463.67 143.779 1459.08 Q140.723 1454.48 140.723 1445.75 Q140.723 1437 143.779 1432.42 Q146.857 1427.81 152.668 1427.81 Z\" fill=\"#000000\" fill-rule=\"evenodd\" fill-opacity=\"1\" /><path clip-path=\"url(#clip310)\" d=\"M 0 0 M95.2605 1138.03 L111.58 1138.03 L111.58 1141.97 L89.6355 1141.97 L89.6355 1138.03 Q92.2975 1135.28 96.8808 1130.65 Q101.487 1126 102.668 1124.66 Q104.913 1122.13 105.793 1120.4 Q106.696 1118.64 106.696 1116.95 Q106.696 1114.19 104.751 1112.46 Q102.83 1110.72 99.728 1110.72 Q97.529 1110.72 95.0753 1111.48 Q92.6447 1112.25 89.867 1113.8 L89.867 1109.08 Q92.691 1107.94 95.1447 1107.36 Q97.5984 1106.78 99.6354 1106.78 Q105.006 1106.78 108.2 1109.47 Q111.395 1112.16 111.395 1116.65 Q111.395 1118.78 110.584 1120.7 Q109.797 1122.59 107.691 1125.19 Q107.112 1125.86 104.01 1129.08 Q100.909 1132.27 95.2605 1138.03 Z\" fill=\"#000000\" fill-rule=\"evenodd\" fill-opacity=\"1\" /><path clip-path=\"url(#clip310)\" d=\"M 0 0 M116.696 1107.41 L135.052 1107.41 L135.052 1111.34 L120.978 1111.34 L120.978 1119.82 Q121.996 1119.47 123.015 1119.31 Q124.033 1119.12 125.052 1119.12 Q130.839 1119.12 134.219 1122.29 Q137.598 1125.47 137.598 1130.88 Q137.598 1136.46 134.126 1139.56 Q130.654 1142.64 124.334 1142.64 Q122.158 1142.64 119.89 1142.27 Q117.645 1141.9 115.237 1141.16 L115.237 1136.46 Q117.321 1137.59 119.543 1138.15 Q121.765 1138.71 124.242 1138.71 Q128.246 1138.71 130.584 1136.6 Q132.922 1134.49 132.922 1130.88 Q132.922 1127.27 130.584 1125.16 Q128.246 1123.06 124.242 1123.06 Q122.367 1123.06 120.492 1123.47 Q118.64 1123.89 116.696 1124.77 L116.696 1107.41 Z\" fill=\"#000000\" fill-rule=\"evenodd\" fill-opacity=\"1\" /><path clip-path=\"url(#clip310)\" d=\"M 0 0 M152.668 1110.49 Q149.056 1110.49 147.228 1114.05 Q145.422 1117.59 145.422 1124.72 Q145.422 1131.83 147.228 1135.4 Q149.056 1138.94 152.668 1138.94 Q156.302 1138.94 158.107 1135.4 Q159.936 1131.83 159.936 1124.72 Q159.936 1117.59 158.107 1114.05 Q156.302 1110.49 152.668 1110.49 M152.668 1106.78 Q158.478 1106.78 161.533 1111.39 Q164.612 1115.97 164.612 1124.72 Q164.612 1133.45 161.533 1138.06 Q158.478 1142.64 152.668 1142.64 Q146.857 1142.64 143.779 1138.06 Q140.723 1133.45 140.723 1124.72 Q140.723 1115.97 143.779 1111.39 Q146.857 1106.78 152.668 1106.78 Z\" fill=\"#000000\" fill-rule=\"evenodd\" fill-opacity=\"1\" /><path clip-path=\"url(#clip310)\" d=\"M 0 0 M89.6818 786.383 L108.038 786.383 L108.038 790.318 L93.9642 790.318 L93.9642 798.791 Q94.9827 798.443 96.0012 798.281 Q97.0197 798.096 98.0382 798.096 Q103.825 798.096 107.205 801.267 Q110.584 804.439 110.584 809.855 Q110.584 815.434 107.112 818.536 Q103.64 821.615 97.3206 821.615 Q95.1447 821.615 92.8762 821.244 Q90.6309 820.874 88.2235 820.133 L88.2235 815.434 Q90.3068 816.568 92.529 817.124 Q94.7512 817.679 97.2281 817.679 Q101.233 817.679 103.571 815.573 Q105.909 813.466 105.909 809.855 Q105.909 806.244 103.571 804.138 Q101.233 802.031 97.2281 802.031 Q95.3531 802.031 93.4781 802.448 Q91.6262 802.865 89.6818 803.744 L89.6818 786.383 Z\" fill=\"#000000\" fill-rule=\"evenodd\" fill-opacity=\"1\" /><path clip-path=\"url(#clip310)\" d=\"M 0 0 M125.654 789.462 Q122.043 789.462 120.214 793.027 Q118.408 796.568 118.408 803.698 Q118.408 810.804 120.214 814.369 Q122.043 817.911 125.654 817.911 Q129.288 817.911 131.094 814.369 Q132.922 810.804 132.922 803.698 Q132.922 796.568 131.094 793.027 Q129.288 789.462 125.654 789.462 M125.654 785.758 Q131.464 785.758 134.52 790.365 Q137.598 794.948 137.598 803.698 Q137.598 812.425 134.52 817.031 Q131.464 821.615 125.654 821.615 Q119.844 821.615 116.765 817.031 Q113.709 812.425 113.709 803.698 Q113.709 794.948 116.765 790.365 Q119.844 785.758 125.654 785.758 Z\" fill=\"#000000\" fill-rule=\"evenodd\" fill-opacity=\"1\" /><path clip-path=\"url(#clip310)\" d=\"M 0 0 M152.668 789.462 Q149.056 789.462 147.228 793.027 Q145.422 796.568 145.422 803.698 Q145.422 810.804 147.228 814.369 Q149.056 817.911 152.668 817.911 Q156.302 817.911 158.107 814.369 Q159.936 810.804 159.936 803.698 Q159.936 796.568 158.107 793.027 Q156.302 789.462 152.668 789.462 M152.668 785.758 Q158.478 785.758 161.533 790.365 Q164.612 794.948 164.612 803.698 Q164.612 812.425 161.533 817.031 Q158.478 821.615 152.668 821.615 Q146.857 821.615 143.779 817.031 Q140.723 812.425 140.723 803.698 Q140.723 794.948 143.779 790.365 Q146.857 785.758 152.668 785.758 Z\" fill=\"#000000\" fill-rule=\"evenodd\" fill-opacity=\"1\" /><path clip-path=\"url(#clip310)\" d=\"M 0 0 M89.3577 465.357 L111.58 465.357 L111.58 467.347 L99.0336 499.917 L94.1494 499.917 L105.955 469.292 L89.3577 469.292 L89.3577 465.357 Z\" fill=\"#000000\" fill-rule=\"evenodd\" fill-opacity=\"1\" /><path clip-path=\"url(#clip310)\" d=\"M 0 0 M116.696 465.357 L135.052 465.357 L135.052 469.292 L120.978 469.292 L120.978 477.764 Q121.996 477.417 123.015 477.255 Q124.033 477.069 125.052 477.069 Q130.839 477.069 134.219 480.241 Q137.598 483.412 137.598 488.829 Q137.598 494.407 134.126 497.509 Q130.654 500.588 124.334 500.588 Q122.158 500.588 119.89 500.218 Q117.645 499.847 115.237 499.106 L115.237 494.407 Q117.321 495.542 119.543 496.097 Q121.765 496.653 124.242 496.653 Q128.246 496.653 130.584 494.546 Q132.922 492.44 132.922 488.829 Q132.922 485.218 130.584 483.111 Q128.246 481.005 124.242 481.005 Q122.367 481.005 120.492 481.421 Q118.64 481.838 116.696 482.718 L116.696 465.357 Z\" fill=\"#000000\" fill-rule=\"evenodd\" fill-opacity=\"1\" /><path clip-path=\"url(#clip310)\" d=\"M 0 0 M152.668 468.435 Q149.056 468.435 147.228 472 Q145.422 475.542 145.422 482.671 Q145.422 489.778 147.228 493.343 Q149.056 496.884 152.668 496.884 Q156.302 496.884 158.107 493.343 Q159.936 489.778 159.936 482.671 Q159.936 475.542 158.107 472 Q156.302 468.435 152.668 468.435 M152.668 464.732 Q158.478 464.732 161.533 469.338 Q164.612 473.921 164.612 482.671 Q164.612 491.398 161.533 496.005 Q158.478 500.588 152.668 500.588 Q146.857 500.588 143.779 496.005 Q140.723 491.398 140.723 482.671 Q140.723 473.921 143.779 469.338 Q146.857 464.732 152.668 464.732 Z\" fill=\"#000000\" fill-rule=\"evenodd\" fill-opacity=\"1\" /><path clip-path=\"url(#clip310)\" d=\"M 0 0 M63.6634 174.955 L71.3023 174.955 L71.3023 148.589 L62.9921 150.256 L62.9921 145.997 L71.256 144.33 L75.9319 144.33 L75.9319 174.955 L83.5707 174.955 L83.5707 178.89 L63.6634 178.89 L63.6634 174.955 Z\" fill=\"#000000\" fill-rule=\"evenodd\" fill-opacity=\"1\" /><path clip-path=\"url(#clip310)\" d=\"M 0 0 M98.6401 147.409 Q95.029 147.409 93.2003 150.973 Q91.3948 154.515 91.3948 161.645 Q91.3948 168.751 93.2003 172.316 Q95.029 175.858 98.6401 175.858 Q102.274 175.858 104.08 172.316 Q105.909 168.751 105.909 161.645 Q105.909 154.515 104.08 150.973 Q102.274 147.409 98.6401 147.409 M98.6401 143.705 Q104.45 143.705 107.506 148.311 Q110.584 152.895 110.584 161.645 Q110.584 170.371 107.506 174.978 Q104.45 179.561 98.6401 179.561 Q92.8299 179.561 89.7512 174.978 Q86.6957 170.371 86.6957 161.645 Q86.6957 152.895 89.7512 148.311 Q92.8299 143.705 98.6401 143.705 Z\" fill=\"#000000\" fill-rule=\"evenodd\" fill-opacity=\"1\" /><path clip-path=\"url(#clip310)\" d=\"M 0 0 M125.654 147.409 Q122.043 147.409 120.214 150.973 Q118.408 154.515 118.408 161.645 Q118.408 168.751 120.214 172.316 Q122.043 175.858 125.654 175.858 Q129.288 175.858 131.094 172.316 Q132.922 168.751 132.922 161.645 Q132.922 154.515 131.094 150.973 Q129.288 147.409 125.654 147.409 M125.654 143.705 Q131.464 143.705 134.52 148.311 Q137.598 152.895 137.598 161.645 Q137.598 170.371 134.52 174.978 Q131.464 179.561 125.654 179.561 Q119.844 179.561 116.765 174.978 Q113.709 170.371 113.709 161.645 Q113.709 152.895 116.765 148.311 Q119.844 143.705 125.654 143.705 Z\" fill=\"#000000\" fill-rule=\"evenodd\" fill-opacity=\"1\" /><path clip-path=\"url(#clip310)\" d=\"M 0 0 M152.668 147.409 Q149.056 147.409 147.228 150.973 Q145.422 154.515 145.422 161.645 Q145.422 168.751 147.228 172.316 Q149.056 175.858 152.668 175.858 Q156.302 175.858 158.107 172.316 Q159.936 168.751 159.936 161.645 Q159.936 154.515 158.107 150.973 Q156.302 147.409 152.668 147.409 M152.668 143.705 Q158.478 143.705 161.533 148.311 Q164.612 152.895 164.612 161.645 Q164.612 170.371 161.533 174.978 Q158.478 179.561 152.668 179.561 Q146.857 179.561 143.779 174.978 Q140.723 170.371 140.723 161.645 Q140.723 152.895 143.779 148.311 Q146.857 143.705 152.668 143.705 Z\" fill=\"#000000\" fill-rule=\"evenodd\" fill-opacity=\"1\" /><polyline clip-path=\"url(#clip312)\" style=\"stroke:#009af9; stroke-width:4; stroke-opacity:1; fill:none\" points=\"\n",
       "  249.861,1445.72 251.905,1445.72 253.949,1445.72 255.992,1445.72 258.036,1445.72 260.08,1445.72 262.123,1445.72 264.167,1445.72 266.211,1445.72 268.255,1445.72 \n",
       "  270.298,1445.72 272.342,1445.72 274.386,1445.72 276.429,1445.72 278.473,1445.72 280.517,1445.72 282.56,1445.72 284.604,1445.72 286.648,1445.72 288.691,1445.72 \n",
       "  290.735,1445.72 292.779,1445.72 294.822,1445.72 296.866,1445.72 298.91,1445.72 300.954,1445.72 302.997,1445.72 305.041,1445.72 307.085,1445.72 309.128,1445.72 \n",
       "  311.172,1445.72 313.216,1445.72 315.259,1445.72 317.303,1445.72 319.347,1445.72 321.39,1445.72 323.434,1445.72 325.478,1445.72 327.521,1445.72 329.565,1445.72 \n",
       "  331.609,1445.72 333.653,1445.72 335.696,1445.72 337.74,1445.72 339.784,1445.72 341.827,1445.72 343.871,1445.72 345.915,1445.72 347.958,1445.72 350.002,1445.72 \n",
       "  352.046,1445.72 354.089,1445.72 356.133,1445.72 358.177,1445.72 360.221,1445.72 362.264,1445.72 364.308,1445.72 366.352,1445.72 368.395,1445.72 370.439,1445.72 \n",
       "  372.483,1445.72 374.526,1445.72 376.57,1445.72 378.614,1445.72 380.657,1445.72 382.701,1445.72 384.745,1445.72 386.788,1445.72 388.832,1445.72 390.876,1445.72 \n",
       "  392.92,1445.72 394.963,1445.72 397.007,1445.72 399.051,1445.72 401.094,1445.72 403.138,1445.72 405.182,1445.72 407.225,1445.72 409.269,1445.72 411.313,1445.72 \n",
       "  413.356,1445.72 415.4,1445.72 417.444,1445.72 419.487,1445.72 421.531,1445.72 423.575,1445.72 425.619,1445.72 427.662,1445.72 429.706,1445.72 431.75,1445.72 \n",
       "  433.793,1445.72 435.837,1445.72 437.881,1445.72 439.924,1445.72 441.968,1445.72 444.012,1445.72 446.055,1445.72 448.099,1445.72 450.143,1445.72 452.187,1445.72 \n",
       "  454.23,1445.72 456.274,1445.72 458.318,1445.72 460.361,1445.72 462.405,1445.72 464.449,1445.72 466.492,1445.72 468.536,1445.72 470.58,1445.72 472.623,1445.72 \n",
       "  474.667,1445.72 476.711,1445.72 478.754,1445.72 480.798,1445.72 482.842,1445.72 484.886,1445.72 486.929,1445.72 488.973,1445.72 491.017,1445.72 493.06,1445.72 \n",
       "  495.104,1445.72 497.148,1445.72 499.191,1445.72 501.235,1445.72 503.279,1445.72 505.322,1445.72 507.366,1445.72 509.41,1445.72 511.453,1445.72 513.497,1445.72 \n",
       "  515.541,1445.72 517.585,1445.72 519.628,1445.72 521.672,1445.72 523.716,1445.72 525.759,1445.72 527.803,1445.72 529.847,1445.72 531.89,1445.72 533.934,1445.72 \n",
       "  535.978,1445.72 538.021,1445.72 540.065,1445.72 542.109,1445.72 544.153,1445.72 546.196,1445.72 548.24,1445.72 550.284,1445.72 552.327,1445.72 554.371,1445.72 \n",
       "  556.415,1445.72 558.458,1445.72 560.502,1445.72 562.546,1445.72 564.589,1445.72 566.633,1445.72 568.677,1445.72 570.72,1445.72 572.764,1445.72 574.808,1445.72 \n",
       "  576.852,1445.72 578.895,1445.72 580.939,1445.72 582.983,1445.72 585.026,1445.72 587.07,1445.72 589.114,1445.72 591.157,1445.72 593.201,1445.72 595.245,1445.72 \n",
       "  597.288,1445.72 599.332,1445.72 601.376,1445.72 603.419,1445.72 605.463,1445.72 607.507,1445.72 609.551,1445.72 611.594,1445.72 613.638,1445.72 615.682,1445.72 \n",
       "  617.725,1445.72 619.769,1445.72 621.813,1445.72 623.856,1445.72 625.9,1445.72 627.944,1445.72 629.987,1445.72 632.031,1445.72 634.075,1445.72 636.119,1445.72 \n",
       "  638.162,1445.72 640.206,1445.72 642.25,1445.72 644.293,1445.72 646.337,1445.72 648.381,1445.72 650.424,1445.72 652.468,1445.72 654.512,1445.72 656.555,1445.72 \n",
       "  658.599,1445.72 660.643,1445.72 662.686,1445.72 664.73,1445.72 666.774,1445.72 668.818,1445.72 670.861,1445.72 672.905,1445.72 674.949,1445.72 676.992,1445.72 \n",
       "  679.036,1445.72 681.08,1445.72 683.123,1445.72 685.167,1445.72 687.211,1445.72 689.254,1445.72 691.298,1445.72 693.342,1445.72 695.385,1445.72 697.429,1445.72 \n",
       "  699.473,1445.72 701.517,1445.72 703.56,1445.72 705.604,1445.72 707.648,1445.72 709.691,1445.72 711.735,1445.72 713.779,1445.72 715.822,1445.72 717.866,1445.72 \n",
       "  719.91,1445.72 721.953,1445.72 723.997,1445.72 726.041,1445.72 728.085,1445.72 730.128,1445.72 732.172,1445.72 734.216,1445.72 736.259,1445.72 738.303,1445.72 \n",
       "  740.347,1445.72 742.39,1445.72 744.434,1445.72 746.478,1445.72 748.521,1445.72 750.565,1445.72 752.609,1445.72 754.652,1445.72 756.696,1445.72 758.74,1445.72 \n",
       "  760.784,1445.72 762.827,1445.72 764.871,1445.72 766.915,1445.72 768.958,1445.72 771.002,1445.71 773.046,1445.71 775.089,1445.71 777.133,1445.71 779.177,1445.71 \n",
       "  781.22,1445.71 783.264,1445.71 785.308,1445.71 787.351,1445.71 789.395,1445.71 791.439,1445.71 793.483,1445.71 795.526,1445.71 797.57,1445.71 799.614,1445.71 \n",
       "  801.657,1445.71 803.701,1445.71 805.745,1445.71 807.788,1445.71 809.832,1445.71 811.876,1445.71 813.919,1445.71 815.963,1445.71 818.007,1445.71 820.051,1445.71 \n",
       "  822.094,1445.71 824.138,1445.71 826.182,1445.71 828.225,1445.71 830.269,1445.71 832.313,1445.71 834.356,1445.71 836.4,1445.71 838.444,1445.71 840.487,1445.71 \n",
       "  842.531,1445.71 844.575,1445.71 846.618,1445.71 848.662,1445.71 850.706,1445.71 852.75,1445.71 854.793,1445.71 856.837,1445.71 858.881,1445.71 860.924,1445.71 \n",
       "  862.968,1445.71 865.012,1445.71 867.055,1445.71 869.099,1445.71 871.143,1445.71 873.186,1445.71 875.23,1445.71 877.274,1445.71 879.317,1445.71 881.361,1445.71 \n",
       "  883.405,1445.71 885.449,1445.71 887.492,1445.71 889.536,1445.71 891.58,1445.71 893.623,1445.71 895.667,1445.71 897.711,1445.71 899.754,1445.71 901.798,1445.71 \n",
       "  903.842,1445.71 905.885,1445.71 907.929,1445.71 909.973,1445.71 912.017,1445.71 914.06,1445.71 916.104,1445.71 918.148,1445.71 920.191,1445.71 922.235,1445.71 \n",
       "  924.279,1445.71 926.322,1445.71 928.366,1445.71 930.41,1445.71 932.453,1445.71 934.497,1445.71 936.541,1445.71 938.584,1445.71 940.628,1445.71 942.672,1445.71 \n",
       "  944.716,1445.71 946.759,1445.71 948.803,1445.71 950.847,1445.71 952.89,1445.71 954.934,1445.71 956.978,1445.71 959.021,1445.71 961.065,1445.71 963.109,1445.71 \n",
       "  965.152,1445.71 967.196,1445.71 969.24,1445.71 971.284,1445.71 973.327,1445.71 975.371,1445.71 977.415,1445.71 979.458,1445.71 981.502,1445.71 983.546,1445.71 \n",
       "  985.589,1445.71 987.633,1445.71 989.677,1445.71 991.72,1445.71 993.764,1445.71 995.808,1445.71 997.851,1445.71 999.895,1445.71 1001.94,1445.71 1003.98,1445.71 \n",
       "  1006.03,1445.71 1008.07,1445.71 1010.11,1445.71 1012.16,1445.71 1014.2,1445.71 1016.24,1445.71 1018.29,1445.71 1020.33,1445.71 1022.38,1445.71 1024.42,1445.71 \n",
       "  1026.46,1445.71 1028.51,1445.71 1030.55,1445.71 1032.59,1445.71 1034.64,1445.71 1036.68,1445.71 1038.73,1445.71 1040.77,1445.71 1042.81,1445.71 1044.86,1445.71 \n",
       "  1046.9,1445.71 1048.94,1445.71 1050.99,1445.71 1053.03,1445.71 1055.07,1445.71 1057.12,1445.71 1059.16,1445.71 1061.21,1445.71 1063.25,1445.71 1065.29,1445.71 \n",
       "  1067.34,1445.71 1069.38,1445.71 1071.42,1445.71 1073.47,1445.71 1075.51,1445.71 1077.56,1445.71 1079.6,1445.71 1081.64,1445.71 1083.69,1445.71 1085.73,1445.71 \n",
       "  1087.77,1445.71 1089.82,1445.71 1091.86,1445.71 1093.9,1445.71 1095.95,1445.71 1097.99,1445.71 1100.04,1445.71 1102.08,1445.71 1104.12,1445.71 1106.17,1445.71 \n",
       "  1108.21,1445.71 1110.25,1445.71 1112.3,1445.71 1114.34,1445.71 1116.39,1445.71 1118.43,1445.71 1120.47,1445.71 1122.52,1445.71 1124.56,1445.71 1126.6,1445.71 \n",
       "  1128.65,1445.71 1130.69,1445.71 1132.73,1445.71 1134.78,1445.71 1136.82,1445.71 1138.87,1445.71 1140.91,1445.71 1142.95,1445.71 1145,1445.71 1147.04,1445.71 \n",
       "  1149.08,1445.71 1151.13,1445.71 1153.17,1445.71 1155.22,1445.71 1157.26,1445.71 1159.3,1445.71 1161.35,1445.71 1163.39,1445.71 1165.43,1445.71 1167.48,1445.71 \n",
       "  1169.52,1445.71 1171.57,1445.71 1173.61,1445.71 1175.65,1445.71 1177.7,1445.71 1179.74,1445.71 1181.78,1445.71 1183.83,1445.71 1185.87,1445.71 1187.91,1445.71 \n",
       "  1189.96,1445.71 1192,1445.71 1194.05,1445.71 1196.09,1445.71 1198.13,1445.71 1200.18,1445.71 1202.22,1445.71 1204.26,1445.71 1206.31,1445.71 1208.35,1445.71 \n",
       "  1210.4,1445.71 1212.44,1445.71 1214.48,1445.71 1216.53,1445.71 1218.57,1445.71 1220.61,1445.71 1222.66,1445.71 1224.7,1445.71 1226.74,1445.71 1228.79,1445.71 \n",
       "  1230.83,1445.71 1232.88,1445.71 1234.92,1445.71 1236.96,1445.71 1239.01,1445.71 1241.05,1445.71 1243.09,1445.71 1245.14,1445.71 1247.18,1445.71 1249.23,1445.71 \n",
       "  1251.27,1445.71 1253.31,1445.71 1255.36,1445.71 1257.4,1445.71 1259.44,1445.71 1261.49,1445.71 1263.53,1445.71 1265.57,1445.71 1267.62,1445.71 1269.66,1445.71 \n",
       "  1271.71,1445.71 1273.75,1445.71 1275.79,1445.71 1277.84,1445.71 1279.88,1445.71 1281.92,1445.71 1283.97,1445.71 1286.01,1445.71 1288.06,1445.71 1290.1,1445.71 \n",
       "  1292.14,1445.71 1294.19,1445.71 1296.23,1445.71 1298.27,1445.71 1300.32,1445.71 1302.36,1445.71 1304.4,1445.71 1306.45,1445.71 1308.49,1445.71 1310.54,1445.71 \n",
       "  1312.58,1445.71 1314.62,1445.71 1316.67,1445.71 1318.71,1445.71 1320.75,1445.71 1322.8,1445.71 1324.84,1445.71 1326.89,1445.71 1328.93,1445.71 1330.97,1445.71 \n",
       "  1333.02,1445.71 1335.06,1445.71 1337.1,1445.71 1339.15,1445.71 1341.19,1445.71 1343.23,1445.71 1345.28,1445.71 1347.32,1445.71 1349.37,1445.71 1351.41,1445.71 \n",
       "  1353.45,1445.71 1355.5,1445.71 1357.54,1445.71 1359.58,1445.71 1361.63,1445.71 1363.67,1445.71 1365.72,1445.71 1367.76,1445.71 1369.8,1445.71 1371.85,1445.71 \n",
       "  1373.89,1445.71 1375.93,1445.71 1377.98,1445.71 1380.02,1445.71 1382.06,1445.71 1384.11,1445.71 1386.15,1445.71 1388.2,1445.71 1390.24,1445.71 1392.28,1445.71 \n",
       "  1394.33,1445.71 1396.37,1445.71 1398.41,1445.71 1400.46,1445.71 1402.5,1445.71 1404.55,1445.71 1406.59,1445.71 1408.63,1445.71 1410.68,1445.71 1412.72,1445.71 \n",
       "  1414.76,1445.71 1416.81,1445.71 1418.85,1445.71 1420.9,1445.71 1422.94,1445.71 1424.98,1445.71 1427.03,1445.71 1429.07,1445.71 1431.11,1445.71 1433.16,1445.71 \n",
       "  1435.2,1445.71 1437.24,1445.71 1439.29,1445.71 1441.33,1445.71 1443.38,1445.71 1445.42,1445.71 1447.46,1445.71 1449.51,1445.71 1451.55,1445.71 1453.59,1445.71 \n",
       "  1455.64,1445.71 1457.68,1445.71 1459.73,1445.71 1461.77,1445.71 1463.81,1445.71 1465.86,1445.71 1467.9,1445.71 1469.94,1445.71 1471.99,1445.71 1474.03,1445.71 \n",
       "  1476.07,1445.71 1478.12,1445.71 1480.16,1445.71 1482.21,1445.71 1484.25,1445.71 1486.29,1445.71 1488.34,1445.71 1490.38,1445.71 1492.42,1445.71 1494.47,1445.71 \n",
       "  1496.51,1445.71 1498.56,1445.71 1500.6,1445.71 1502.64,1445.71 1504.69,1445.71 1506.73,1445.71 1508.77,1445.71 1510.82,1445.71 1512.86,1445.71 1514.9,1445.71 \n",
       "  1516.95,1445.71 1518.99,1445.71 1521.04,1445.71 1523.08,1445.71 1525.12,1445.71 1527.17,1445.71 1529.21,1445.71 1531.25,1445.71 1533.3,1445.71 1535.34,1445.71 \n",
       "  1537.39,1445.71 1539.43,1445.71 1541.47,1445.71 1543.52,1445.71 1545.56,1445.71 1547.6,1445.71 1549.65,1445.71 1551.69,1445.71 1553.73,1445.71 1555.78,1445.71 \n",
       "  1557.82,1445.71 1559.87,1445.71 1561.91,1445.71 1563.95,1445.71 1566,1445.71 1568.04,1445.71 1570.08,1445.71 1572.13,1445.71 1574.17,1445.71 1576.22,1445.71 \n",
       "  1578.26,1445.71 1580.3,1445.71 1582.35,1445.71 1584.39,1445.71 1586.43,1445.71 1588.48,1445.71 1590.52,1445.71 1592.56,1445.71 1594.61,1445.71 1596.65,1445.71 \n",
       "  1598.7,1445.71 1600.74,1445.71 1602.78,1445.71 1604.83,1445.71 1606.87,1445.71 1608.91,1445.71 1610.96,1445.71 1613,1445.71 1615.05,1445.71 1617.09,1445.71 \n",
       "  1619.13,1445.71 1621.18,1445.71 1623.22,1445.71 1625.26,1445.71 1627.31,1445.71 1629.35,1445.71 1631.4,1445.71 1633.44,1445.71 1635.48,1445.71 1637.53,1445.71 \n",
       "  1639.57,1445.71 1641.61,1445.71 1643.66,1445.71 1645.7,1445.7 1647.74,1445.7 1649.79,1445.7 1651.83,1445.7 1653.88,1445.7 1655.92,1445.7 1657.96,1445.7 \n",
       "  1660.01,1445.7 1662.05,1445.7 1664.09,1445.7 1666.14,1445.7 1668.18,1445.7 1670.23,1445.7 1672.27,1445.7 1674.31,1445.7 1676.36,1445.7 1678.4,1445.7 \n",
       "  1680.44,1445.7 1682.49,1445.7 1684.53,1445.7 1686.57,1445.7 1688.62,1445.7 1690.66,1445.7 1692.71,1445.7 1694.75,1445.7 1696.79,1445.7 1698.84,1445.7 \n",
       "  1700.88,1445.7 1702.92,1445.7 1704.97,1445.7 1707.01,1445.7 1709.06,1445.7 1711.1,1445.7 1713.14,1445.7 1715.19,1445.7 1717.23,1445.7 1719.27,1445.7 \n",
       "  1721.32,1445.7 1723.36,1445.7 1725.4,1445.7 1727.45,1445.7 1729.49,1445.7 1731.54,1445.7 1733.58,1445.7 1735.62,1445.7 1737.67,1445.7 1739.71,1445.7 \n",
       "  1741.75,1445.7 1743.8,1445.7 1745.84,1445.7 1747.89,1445.7 1749.93,1445.7 1751.97,1445.7 1754.02,1445.7 1756.06,1445.7 1758.1,1445.7 1760.15,1445.7 \n",
       "  1762.19,1445.7 1764.23,1445.7 1766.28,1445.7 1768.32,1445.7 1770.37,1445.7 1772.41,1445.7 1774.45,1445.69 1776.5,1445.69 1778.54,1445.69 1780.58,1445.69 \n",
       "  1782.63,1445.69 1784.67,1445.69 1786.72,1445.69 1788.76,1445.69 1790.8,1445.69 1792.85,1445.69 1794.89,1445.69 1796.93,1445.69 1798.98,1445.69 1801.02,1445.69 \n",
       "  1803.06,1445.69 1805.11,1445.69 1807.15,1445.69 1809.2,1445.69 1811.24,1445.69 1813.28,1445.69 1815.33,1445.69 1817.37,1445.69 1819.41,1445.69 1821.46,1445.69 \n",
       "  1823.5,1445.69 1825.55,1445.69 1827.59,1445.69 1829.63,1445.69 1831.68,1445.69 1833.72,1445.69 1835.76,1445.69 1837.81,1445.68 1839.85,1445.68 1841.89,1445.68 \n",
       "  1843.94,1445.68 1845.98,1445.68 1848.03,1445.68 1850.07,1445.68 1852.11,1445.68 1854.16,1445.68 1856.2,1445.68 1858.24,1445.68 1860.29,1445.68 1862.33,1445.68 \n",
       "  1864.38,1445.68 1866.42,1445.68 1868.46,1445.68 1870.51,1445.68 1872.55,1445.68 1874.59,1445.67 1876.64,1445.67 1878.68,1445.67 1880.73,1445.67 1882.77,1445.67 \n",
       "  1884.81,1445.67 1886.86,1445.67 1888.9,1445.67 1890.94,1445.67 1892.99,1445.67 1895.03,1445.67 1897.07,1445.67 1899.12,1445.67 1901.16,1445.66 1903.21,1445.66 \n",
       "  1905.25,1445.66 1907.29,1445.66 1909.34,1445.66 1911.38,1445.66 1913.42,1445.66 1915.47,1445.66 1917.51,1445.66 1919.56,1445.66 1921.6,1445.65 1923.64,1445.65 \n",
       "  1925.69,1445.65 1927.73,1445.65 1929.77,1445.65 1931.82,1445.65 1933.86,1445.65 1935.9,1445.64 1937.95,1445.64 1939.99,1445.64 1942.04,1445.64 1944.08,1445.64 \n",
       "  1946.12,1445.64 1948.17,1445.63 1950.21,1445.63 1952.25,1445.63 1954.3,1445.63 1956.34,1445.63 1958.39,1445.63 1960.43,1445.62 1962.47,1445.62 1964.52,1445.62 \n",
       "  1966.56,1445.62 1968.6,1445.61 1970.65,1445.61 1972.69,1445.61 1974.73,1445.61 1976.78,1445.6 1978.82,1445.6 1980.87,1445.6 1982.91,1445.59 1984.95,1445.59 \n",
       "  1987,1445.59 1989.04,1445.58 1991.08,1445.58 1993.13,1445.58 1995.17,1445.57 1997.22,1445.57 1999.26,1445.56 2001.3,1445.56 2003.35,1445.55 2005.39,1445.55 \n",
       "  2007.43,1445.54 2009.48,1445.54 2011.52,1445.53 2013.56,1445.53 2015.61,1445.52 2017.65,1445.51 2019.7,1445.51 2021.74,1445.5 2023.78,1445.49 2025.83,1445.49 \n",
       "  2027.87,1445.48 2029.91,1445.47 2031.96,1445.46 2034,1445.45 2036.05,1445.44 2038.09,1445.43 2040.13,1445.42 2042.18,1445.41 2044.22,1445.4 2046.26,1445.39 \n",
       "  2048.31,1445.37 2050.35,1445.36 2052.39,1445.34 2054.44,1445.33 2056.48,1445.31 2058.53,1445.3 2060.57,1445.28 2062.61,1445.26 2064.66,1445.24 2066.7,1445.22 \n",
       "  2068.74,1445.2 2070.79,1445.17 2072.83,1445.15 2074.88,1445.12 2076.92,1445.09 2078.96,1445.06 2081.01,1445.03 2083.05,1445 2085.09,1444.96 2087.14,1444.92 \n",
       "  2089.18,1444.88 2091.23,1444.84 2093.27,1444.79 2095.31,1444.74 2097.36,1444.69 2099.4,1444.64 2101.44,1444.58 2103.49,1444.51 2105.53,1444.45 2107.57,1444.37 \n",
       "  2109.62,1444.3 2111.66,1444.21 2113.71,1444.12 2115.75,1444.03 2117.79,1443.93 2119.84,1443.82 2121.88,1443.7 2123.92,1443.58 2125.97,1443.45 2128.01,1443.3 \n",
       "  2130.06,1443.15 2132.1,1442.98 2134.14,1442.81 2136.19,1442.62 2138.23,1442.41 2140.27,1442.19 2142.32,1441.95 2144.36,1441.69 2146.4,1441.42 2148.45,1441.12 \n",
       "  2150.49,1440.8 2152.54,1440.45 2154.58,1440.08 2156.62,1439.68 2158.67,1439.24 2160.71,1438.77 2162.75,1438.26 2164.8,1437.71 2166.84,1437.12 2168.89,1436.47 \n",
       "  2170.93,1435.78 2172.97,1435.03 2175.02,1434.21 2177.06,1433.33 2179.1,1432.37 2181.15,1431.33 2183.19,1430.2 2185.23,1428.98 2187.28,1427.65 2189.32,1426.21 \n",
       "  2191.37,1424.65 2193.41,1422.95 2195.45,1421.11 2197.5,1419.11 2199.54,1416.93 2201.58,1414.56 2203.63,1411.98 2205.67,1409.18 2207.72,1406.13 2209.76,1402.81 \n",
       "  2211.8,1399.2 2213.85,1395.26 2215.89,1390.97 2217.93,1386.3 2219.98,1381.2 2222.02,1375.65 2224.06,1369.6 2226.11,1362.99 2228.15,1355.79 2230.2,1347.93 \n",
       "  2232.24,1339.35 2234.28,1329.98 2236.33,1319.75 2238.37,1308.59 2240.41,1296.39 2242.46,1283.06 2244.5,1268.49 2246.55,1252.57 2248.59,1235.16 2250.63,1216.13 \n",
       "  2252.68,1195.32 2254.72,1172.55 2256.76,1147.64 2258.81,1120.39 2260.85,1090.56 2262.89,1057.91 2264.94,1022.16 2266.98,983.013 2269.03,940.142 2271.07,893.182 \n",
       "  2273.11,841.734 2275.16,785.362 2277.2,723.583 2279.24,655.869 2281.29,581.638 2283.33,500.25 2285.38,411.003 2287.42,313.123 2289.46,205.759 2291.51,87.9763 \n",
       "  \n",
       "  \"/>\n",
       "<path clip-path=\"url(#clip310)\" d=\"\n",
       "M1989.74 251.724 L2280.76 251.724 L2280.76 130.764 L1989.74 130.764  Z\n",
       "  \" fill=\"#ffffff\" fill-rule=\"evenodd\" fill-opacity=\"1\"/>\n",
       "<polyline clip-path=\"url(#clip310)\" style=\"stroke:#000000; stroke-width:4; stroke-opacity:1; fill:none\" points=\"\n",
       "  1989.74,251.724 2280.76,251.724 2280.76,130.764 1989.74,130.764 1989.74,251.724 \n",
       "  \"/>\n",
       "<polyline clip-path=\"url(#clip310)\" style=\"stroke:#009af9; stroke-width:4; stroke-opacity:1; fill:none\" points=\"\n",
       "  2013.74,191.244 2157.74,191.244 \n",
       "  \"/>\n",
       "<path clip-path=\"url(#clip310)\" d=\"M 0 0 M2195.58 210.931 Q2193.77 215.561 2192.06 216.973 Q2190.35 218.385 2187.48 218.385 L2184.08 218.385 L2184.08 214.82 L2186.58 214.82 Q2188.33 214.82 2189.31 213.987 Q2190.28 213.154 2191.46 210.052 L2192.22 208.107 L2181.74 182.598 L2186.25 182.598 L2194.35 202.876 L2202.46 182.598 L2206.97 182.598 L2195.58 210.931 Z\" fill=\"#000000\" fill-rule=\"evenodd\" fill-opacity=\"1\" /><path clip-path=\"url(#clip310)\" d=\"M 0 0 M2212.85 204.589 L2220.49 204.589 L2220.49 178.223 L2212.18 179.89 L2212.18 175.631 L2220.44 173.964 L2225.12 173.964 L2225.12 204.589 L2232.76 204.589 L2232.76 208.524 L2212.85 208.524 L2212.85 204.589 Z\" fill=\"#000000\" fill-rule=\"evenodd\" fill-opacity=\"1\" /></svg>\n"
      ]
     },
     "execution_count": 38,
     "metadata": {},
     "output_type": "execute_result"
    }
   ],
   "source": [
    "Plots.plot(\n",
    "    range(-100.0, 10.0, length = 1000),\n",
    "    t -> beta_mgf_v8(α, β, t),\n",
    ")"
   ]
  },
  {
   "cell_type": "code",
   "execution_count": 39,
   "metadata": {},
   "outputs": [
    {
     "data": {
      "image/svg+xml": [
       "<?xml version=\"1.0\" encoding=\"utf-8\"?>\n",
       "<svg xmlns=\"http://www.w3.org/2000/svg\" xmlns:xlink=\"http://www.w3.org/1999/xlink\" width=\"600\" height=\"400\" viewBox=\"0 0 2400 1600\">\n",
       "<defs>\n",
       "  <clipPath id=\"clip350\">\n",
       "    <rect x=\"0\" y=\"0\" width=\"2400\" height=\"1600\"/>\n",
       "  </clipPath>\n",
       "</defs>\n",
       "<path clip-path=\"url(#clip350)\" d=\"\n",
       "M0 1600 L2400 1600 L2400 0 L0 0  Z\n",
       "  \" fill=\"#ffffff\" fill-rule=\"evenodd\" fill-opacity=\"1\"/>\n",
       "<defs>\n",
       "  <clipPath id=\"clip351\">\n",
       "    <rect x=\"480\" y=\"0\" width=\"1681\" height=\"1600\"/>\n",
       "  </clipPath>\n",
       "</defs>\n",
       "<path clip-path=\"url(#clip350)\" d=\"\n",
       "M126.969 1486.45 L2352.76 1486.45 L2352.76 47.2441 L126.969 47.2441  Z\n",
       "  \" fill=\"#ffffff\" fill-rule=\"evenodd\" fill-opacity=\"1\"/>\n",
       "<defs>\n",
       "  <clipPath id=\"clip352\">\n",
       "    <rect x=\"126\" y=\"47\" width=\"2227\" height=\"1440\"/>\n",
       "  </clipPath>\n",
       "</defs>\n",
       "<polyline clip-path=\"url(#clip352)\" style=\"stroke:#000000; stroke-width:2; stroke-opacity:0.1; fill:none\" points=\"\n",
       "  189.963,1486.45 189.963,47.2441 \n",
       "  \"/>\n",
       "<polyline clip-path=\"url(#clip352)\" style=\"stroke:#000000; stroke-width:2; stroke-opacity:0.1; fill:none\" points=\"\n",
       "  667.19,1486.45 667.19,47.2441 \n",
       "  \"/>\n",
       "<polyline clip-path=\"url(#clip352)\" style=\"stroke:#000000; stroke-width:2; stroke-opacity:0.1; fill:none\" points=\"\n",
       "  1144.42,1486.45 1144.42,47.2441 \n",
       "  \"/>\n",
       "<polyline clip-path=\"url(#clip352)\" style=\"stroke:#000000; stroke-width:2; stroke-opacity:0.1; fill:none\" points=\"\n",
       "  1621.64,1486.45 1621.64,47.2441 \n",
       "  \"/>\n",
       "<polyline clip-path=\"url(#clip352)\" style=\"stroke:#000000; stroke-width:2; stroke-opacity:0.1; fill:none\" points=\"\n",
       "  2098.87,1486.45 2098.87,47.2441 \n",
       "  \"/>\n",
       "<polyline clip-path=\"url(#clip352)\" style=\"stroke:#000000; stroke-width:2; stroke-opacity:0.1; fill:none\" points=\"\n",
       "  126.969,1310.08 2352.76,1310.08 \n",
       "  \"/>\n",
       "<polyline clip-path=\"url(#clip352)\" style=\"stroke:#000000; stroke-width:2; stroke-opacity:0.1; fill:none\" points=\"\n",
       "  126.969,1121.53 2352.76,1121.53 \n",
       "  \"/>\n",
       "<polyline clip-path=\"url(#clip352)\" style=\"stroke:#000000; stroke-width:2; stroke-opacity:0.1; fill:none\" points=\"\n",
       "  126.969,932.988 2352.76,932.988 \n",
       "  \"/>\n",
       "<polyline clip-path=\"url(#clip352)\" style=\"stroke:#000000; stroke-width:2; stroke-opacity:0.1; fill:none\" points=\"\n",
       "  126.969,744.444 2352.76,744.444 \n",
       "  \"/>\n",
       "<polyline clip-path=\"url(#clip352)\" style=\"stroke:#000000; stroke-width:2; stroke-opacity:0.1; fill:none\" points=\"\n",
       "  126.969,555.899 2352.76,555.899 \n",
       "  \"/>\n",
       "<polyline clip-path=\"url(#clip352)\" style=\"stroke:#000000; stroke-width:2; stroke-opacity:0.1; fill:none\" points=\"\n",
       "  126.969,367.354 2352.76,367.354 \n",
       "  \"/>\n",
       "<polyline clip-path=\"url(#clip352)\" style=\"stroke:#000000; stroke-width:2; stroke-opacity:0.1; fill:none\" points=\"\n",
       "  126.969,178.809 2352.76,178.809 \n",
       "  \"/>\n",
       "<polyline clip-path=\"url(#clip350)\" style=\"stroke:#000000; stroke-width:4; stroke-opacity:1; fill:none\" points=\"\n",
       "  126.969,1486.45 2352.76,1486.45 \n",
       "  \"/>\n",
       "<polyline clip-path=\"url(#clip350)\" style=\"stroke:#000000; stroke-width:4; stroke-opacity:1; fill:none\" points=\"\n",
       "  126.969,1486.45 126.969,47.2441 \n",
       "  \"/>\n",
       "<polyline clip-path=\"url(#clip350)\" style=\"stroke:#000000; stroke-width:4; stroke-opacity:1; fill:none\" points=\"\n",
       "  189.963,1486.45 189.963,1469.18 \n",
       "  \"/>\n",
       "<polyline clip-path=\"url(#clip350)\" style=\"stroke:#000000; stroke-width:4; stroke-opacity:1; fill:none\" points=\"\n",
       "  667.19,1486.45 667.19,1469.18 \n",
       "  \"/>\n",
       "<polyline clip-path=\"url(#clip350)\" style=\"stroke:#000000; stroke-width:4; stroke-opacity:1; fill:none\" points=\"\n",
       "  1144.42,1486.45 1144.42,1469.18 \n",
       "  \"/>\n",
       "<polyline clip-path=\"url(#clip350)\" style=\"stroke:#000000; stroke-width:4; stroke-opacity:1; fill:none\" points=\"\n",
       "  1621.64,1486.45 1621.64,1469.18 \n",
       "  \"/>\n",
       "<polyline clip-path=\"url(#clip350)\" style=\"stroke:#000000; stroke-width:4; stroke-opacity:1; fill:none\" points=\"\n",
       "  2098.87,1486.45 2098.87,1469.18 \n",
       "  \"/>\n",
       "<polyline clip-path=\"url(#clip350)\" style=\"stroke:#000000; stroke-width:4; stroke-opacity:1; fill:none\" points=\"\n",
       "  126.969,1310.08 153.678,1310.08 \n",
       "  \"/>\n",
       "<polyline clip-path=\"url(#clip350)\" style=\"stroke:#000000; stroke-width:4; stroke-opacity:1; fill:none\" points=\"\n",
       "  126.969,1121.53 153.678,1121.53 \n",
       "  \"/>\n",
       "<polyline clip-path=\"url(#clip350)\" style=\"stroke:#000000; stroke-width:4; stroke-opacity:1; fill:none\" points=\"\n",
       "  126.969,932.988 153.678,932.988 \n",
       "  \"/>\n",
       "<polyline clip-path=\"url(#clip350)\" style=\"stroke:#000000; stroke-width:4; stroke-opacity:1; fill:none\" points=\"\n",
       "  126.969,744.444 153.678,744.444 \n",
       "  \"/>\n",
       "<polyline clip-path=\"url(#clip350)\" style=\"stroke:#000000; stroke-width:4; stroke-opacity:1; fill:none\" points=\"\n",
       "  126.969,555.899 153.678,555.899 \n",
       "  \"/>\n",
       "<polyline clip-path=\"url(#clip350)\" style=\"stroke:#000000; stroke-width:4; stroke-opacity:1; fill:none\" points=\"\n",
       "  126.969,367.354 153.678,367.354 \n",
       "  \"/>\n",
       "<polyline clip-path=\"url(#clip350)\" style=\"stroke:#000000; stroke-width:4; stroke-opacity:1; fill:none\" points=\"\n",
       "  126.969,178.809 153.678,178.809 \n",
       "  \"/>\n",
       "<path clip-path=\"url(#clip350)\" d=\"M 0 0 M143.817 1525.04 L156.294 1525.04 L156.294 1528.83 L143.817 1528.83 L143.817 1525.04 Z\" fill=\"#000000\" fill-rule=\"evenodd\" fill-opacity=\"1\" /><path clip-path=\"url(#clip350)\" d=\"M 0 0 M162.174 1535.98 L169.812 1535.98 L169.812 1509.62 L161.502 1511.29 L161.502 1507.03 L169.766 1505.36 L174.442 1505.36 L174.442 1535.98 L182.081 1535.98 L182.081 1539.92 L162.174 1539.92 L162.174 1535.98 Z\" fill=\"#000000\" fill-rule=\"evenodd\" fill-opacity=\"1\" /><path clip-path=\"url(#clip350)\" d=\"M 0 0 M197.15 1508.44 Q193.539 1508.44 191.71 1512 Q189.905 1515.55 189.905 1522.67 Q189.905 1529.78 191.71 1533.35 Q193.539 1536.89 197.15 1536.89 Q200.784 1536.89 202.59 1533.35 Q204.419 1529.78 204.419 1522.67 Q204.419 1515.55 202.59 1512 Q200.784 1508.44 197.15 1508.44 M197.15 1504.73 Q202.96 1504.73 206.016 1509.34 Q209.095 1513.92 209.095 1522.67 Q209.095 1531.4 206.016 1536.01 Q202.96 1540.59 197.15 1540.59 Q191.34 1540.59 188.261 1536.01 Q185.206 1531.4 185.206 1522.67 Q185.206 1513.92 188.261 1509.34 Q191.34 1504.73 197.15 1504.73 Z\" fill=\"#000000\" fill-rule=\"evenodd\" fill-opacity=\"1\" /><path clip-path=\"url(#clip350)\" d=\"M 0 0 M224.164 1508.44 Q220.553 1508.44 218.724 1512 Q216.919 1515.55 216.919 1522.67 Q216.919 1529.78 218.724 1533.35 Q220.553 1536.89 224.164 1536.89 Q227.798 1536.89 229.604 1533.35 Q231.432 1529.78 231.432 1522.67 Q231.432 1515.55 229.604 1512 Q227.798 1508.44 224.164 1508.44 M224.164 1504.73 Q229.974 1504.73 233.03 1509.34 Q236.108 1513.92 236.108 1522.67 Q236.108 1531.4 233.03 1536.01 Q229.974 1540.59 224.164 1540.59 Q218.354 1540.59 215.275 1536.01 Q212.22 1531.4 212.22 1522.67 Q212.22 1513.92 215.275 1509.34 Q218.354 1504.73 224.164 1504.73 Z\" fill=\"#000000\" fill-rule=\"evenodd\" fill-opacity=\"1\" /><path clip-path=\"url(#clip350)\" d=\"M 0 0 M634.887 1525.04 L647.364 1525.04 L647.364 1528.83 L634.887 1528.83 L634.887 1525.04 Z\" fill=\"#000000\" fill-rule=\"evenodd\" fill-opacity=\"1\" /><path clip-path=\"url(#clip350)\" d=\"M 0 0 M651.252 1505.36 L673.475 1505.36 L673.475 1507.35 L660.928 1539.92 L656.044 1539.92 L667.85 1509.3 L651.252 1509.3 L651.252 1505.36 Z\" fill=\"#000000\" fill-rule=\"evenodd\" fill-opacity=\"1\" /><path clip-path=\"url(#clip350)\" d=\"M 0 0 M678.59 1505.36 L696.947 1505.36 L696.947 1509.3 L682.873 1509.3 L682.873 1517.77 Q683.891 1517.42 684.91 1517.26 Q685.928 1517.07 686.947 1517.07 Q692.734 1517.07 696.113 1520.24 Q699.493 1523.42 699.493 1528.83 Q699.493 1534.41 696.021 1537.51 Q692.548 1540.59 686.229 1540.59 Q684.053 1540.59 681.785 1540.22 Q679.539 1539.85 677.132 1539.11 L677.132 1534.41 Q679.215 1535.54 681.437 1536.1 Q683.66 1536.66 686.136 1536.66 Q690.141 1536.66 692.479 1534.55 Q694.817 1532.44 694.817 1528.83 Q694.817 1525.22 692.479 1523.11 Q690.141 1521.01 686.136 1521.01 Q684.261 1521.01 682.387 1521.42 Q680.535 1521.84 678.59 1522.72 L678.59 1505.36 Z\" fill=\"#000000\" fill-rule=\"evenodd\" fill-opacity=\"1\" /><path clip-path=\"url(#clip350)\" d=\"M 0 0 M1111.66 1525.04 L1124.14 1525.04 L1124.14 1528.83 L1111.66 1528.83 L1111.66 1525.04 Z\" fill=\"#000000\" fill-rule=\"evenodd\" fill-opacity=\"1\" /><path clip-path=\"url(#clip350)\" d=\"M 0 0 M1129.25 1505.36 L1147.61 1505.36 L1147.61 1509.3 L1133.54 1509.3 L1133.54 1517.77 Q1134.56 1517.42 1135.57 1517.26 Q1136.59 1517.07 1137.61 1517.07 Q1143.4 1517.07 1146.78 1520.24 Q1150.16 1523.42 1150.16 1528.83 Q1150.16 1534.41 1146.69 1537.51 Q1143.21 1540.59 1136.89 1540.59 Q1134.72 1540.59 1132.45 1540.22 Q1130.2 1539.85 1127.8 1539.11 L1127.8 1534.41 Q1129.88 1535.54 1132.1 1536.1 Q1134.32 1536.66 1136.8 1536.66 Q1140.81 1536.66 1143.14 1534.55 Q1145.48 1532.44 1145.48 1528.83 Q1145.48 1525.22 1143.14 1523.11 Q1140.81 1521.01 1136.8 1521.01 Q1134.93 1521.01 1133.05 1521.42 Q1131.2 1521.84 1129.25 1522.72 L1129.25 1505.36 Z\" fill=\"#000000\" fill-rule=\"evenodd\" fill-opacity=\"1\" /><path clip-path=\"url(#clip350)\" d=\"M 0 0 M1165.23 1508.44 Q1161.62 1508.44 1159.79 1512 Q1157.98 1515.55 1157.98 1522.67 Q1157.98 1529.78 1159.79 1533.35 Q1161.62 1536.89 1165.23 1536.89 Q1168.86 1536.89 1170.67 1533.35 Q1172.5 1529.78 1172.5 1522.67 Q1172.5 1515.55 1170.67 1512 Q1168.86 1508.44 1165.23 1508.44 M1165.23 1504.73 Q1171.04 1504.73 1174.09 1509.34 Q1177.17 1513.92 1177.17 1522.67 Q1177.17 1531.4 1174.09 1536.01 Q1171.04 1540.59 1165.23 1540.59 Q1159.42 1540.59 1156.34 1536.01 Q1153.28 1531.4 1153.28 1522.67 Q1153.28 1513.92 1156.34 1509.34 Q1159.42 1504.73 1165.23 1504.73 Z\" fill=\"#000000\" fill-rule=\"evenodd\" fill-opacity=\"1\" /><path clip-path=\"url(#clip350)\" d=\"M 0 0 M1589.69 1525.04 L1602.16 1525.04 L1602.16 1528.83 L1589.69 1528.83 L1589.69 1525.04 Z\" fill=\"#000000\" fill-rule=\"evenodd\" fill-opacity=\"1\" /><path clip-path=\"url(#clip350)\" d=\"M 0 0 M1611.26 1535.98 L1627.58 1535.98 L1627.58 1539.92 L1605.64 1539.92 L1605.64 1535.98 Q1608.3 1533.23 1612.88 1528.6 Q1617.49 1523.95 1618.67 1522.61 Q1620.91 1520.08 1621.79 1518.35 Q1622.7 1516.59 1622.7 1514.9 Q1622.7 1512.14 1620.75 1510.41 Q1618.83 1508.67 1615.73 1508.67 Q1613.53 1508.67 1611.08 1509.43 Q1608.65 1510.2 1605.87 1511.75 L1605.87 1507.03 Q1608.69 1505.89 1611.15 1505.31 Q1613.6 1504.73 1615.64 1504.73 Q1621.01 1504.73 1624.2 1507.42 Q1627.4 1510.11 1627.4 1514.6 Q1627.4 1516.73 1626.59 1518.65 Q1625.8 1520.54 1623.69 1523.14 Q1623.11 1523.81 1620.01 1527.03 Q1616.91 1530.22 1611.26 1535.98 Z\" fill=\"#000000\" fill-rule=\"evenodd\" fill-opacity=\"1\" /><path clip-path=\"url(#clip350)\" d=\"M 0 0 M1632.7 1505.36 L1651.05 1505.36 L1651.05 1509.3 L1636.98 1509.3 L1636.98 1517.77 Q1638 1517.42 1639.02 1517.26 Q1640.04 1517.07 1641.05 1517.07 Q1646.84 1517.07 1650.22 1520.24 Q1653.6 1523.42 1653.6 1528.83 Q1653.6 1534.41 1650.13 1537.51 Q1646.66 1540.59 1640.34 1540.59 Q1638.16 1540.59 1635.89 1540.22 Q1633.65 1539.85 1631.24 1539.11 L1631.24 1534.41 Q1633.32 1535.54 1635.54 1536.1 Q1637.77 1536.66 1640.24 1536.66 Q1644.25 1536.66 1646.59 1534.55 Q1648.92 1532.44 1648.92 1528.83 Q1648.92 1525.22 1646.59 1523.11 Q1644.25 1521.01 1640.24 1521.01 Q1638.37 1521.01 1636.49 1521.42 Q1634.64 1521.84 1632.7 1522.72 L1632.7 1505.36 Z\" fill=\"#000000\" fill-rule=\"evenodd\" fill-opacity=\"1\" /><path clip-path=\"url(#clip350)\" d=\"M 0 0 M2098.87 1508.44 Q2095.26 1508.44 2093.43 1512 Q2091.63 1515.55 2091.63 1522.67 Q2091.63 1529.78 2093.43 1533.35 Q2095.26 1536.89 2098.87 1536.89 Q2102.51 1536.89 2104.31 1533.35 Q2106.14 1529.78 2106.14 1522.67 Q2106.14 1515.55 2104.31 1512 Q2102.51 1508.44 2098.87 1508.44 M2098.87 1504.73 Q2104.68 1504.73 2107.74 1509.34 Q2110.82 1513.92 2110.82 1522.67 Q2110.82 1531.4 2107.74 1536.01 Q2104.68 1540.59 2098.87 1540.59 Q2093.06 1540.59 2089.98 1536.01 Q2086.93 1531.4 2086.93 1522.67 Q2086.93 1513.92 2089.98 1509.34 Q2093.06 1504.73 2098.87 1504.73 Z\" fill=\"#000000\" fill-rule=\"evenodd\" fill-opacity=\"1\" /><path clip-path=\"url(#clip350)\" d=\"M 0 0 M63.3162 1312.47 L75.793 1312.47 L75.793 1316.27 L63.3162 1316.27 L63.3162 1312.47 Z\" fill=\"#000000\" fill-rule=\"evenodd\" fill-opacity=\"1\" /><path clip-path=\"url(#clip350)\" d=\"M 0 0 M91.441 1308.21 Q88.2929 1308.21 86.4411 1310.37 Q84.6124 1312.52 84.6124 1316.27 Q84.6124 1320 86.4411 1322.17 Q88.2929 1324.33 91.441 1324.33 Q94.5892 1324.33 96.4179 1322.17 Q98.2697 1320 98.2697 1316.27 Q98.2697 1312.52 96.4179 1310.37 Q94.5892 1308.21 91.441 1308.21 M100.723 1293.56 L100.723 1297.82 Q98.9642 1296.99 97.1586 1296.55 Q95.3762 1296.11 93.617 1296.11 Q88.9874 1296.11 86.5337 1299.23 Q84.1031 1302.36 83.7559 1308.68 Q85.1216 1306.66 87.1818 1305.6 Q89.242 1304.51 91.7188 1304.51 Q96.9271 1304.51 99.9364 1307.68 Q102.969 1310.83 102.969 1316.27 Q102.969 1321.59 99.8206 1324.81 Q96.6725 1328.03 91.441 1328.03 Q85.4457 1328.03 82.2744 1323.45 Q79.1032 1318.84 79.1032 1310.11 Q79.1032 1301.92 82.992 1297.06 Q86.8809 1292.17 93.4318 1292.17 Q95.191 1292.17 96.9734 1292.52 Q98.779 1292.87 100.723 1293.56 Z\" fill=\"#000000\" fill-rule=\"evenodd\" fill-opacity=\"1\" /><path clip-path=\"url(#clip350)\" d=\"M 0 0 M62.9921 1123.93 L75.4689 1123.93 L75.4689 1127.73 L62.9921 1127.73 L62.9921 1123.93 Z\" fill=\"#000000\" fill-rule=\"evenodd\" fill-opacity=\"1\" /><path clip-path=\"url(#clip350)\" d=\"M 0 0 M93.3855 1108.33 L81.58 1126.78 L93.3855 1126.78 L93.3855 1108.33 M92.1586 1104.25 L98.0382 1104.25 L98.0382 1126.78 L102.969 1126.78 L102.969 1130.67 L98.0382 1130.67 L98.0382 1138.81 L93.3855 1138.81 L93.3855 1130.67 L77.7837 1130.67 L77.7837 1126.15 L92.1586 1104.25 Z\" fill=\"#000000\" fill-rule=\"evenodd\" fill-opacity=\"1\" /><path clip-path=\"url(#clip350)\" d=\"M 0 0 M65.0754 935.384 L77.5522 935.384 L77.5522 939.181 L65.0754 939.181 L65.0754 935.384 Z\" fill=\"#000000\" fill-rule=\"evenodd\" fill-opacity=\"1\" /><path clip-path=\"url(#clip350)\" d=\"M 0 0 M86.6494 946.333 L102.969 946.333 L102.969 950.268 L81.0244 950.268 L81.0244 946.333 Q83.6865 943.579 88.2698 938.949 Q92.8762 934.296 94.0568 932.954 Q96.3021 930.431 97.1818 928.694 Q98.0845 926.935 98.0845 925.245 Q98.0845 922.491 96.1401 920.755 Q94.2188 919.019 91.117 919.019 Q88.9179 919.019 86.4642 919.782 Q84.0337 920.546 81.2559 922.097 L81.2559 917.375 Q84.08 916.241 86.5337 915.662 Q88.9874 915.083 91.0244 915.083 Q96.3947 915.083 99.5892 917.769 Q102.784 920.454 102.784 924.944 Q102.784 927.074 101.973 928.995 Q101.186 930.894 99.0799 933.486 Q98.5012 934.157 95.3994 937.375 Q92.2975 940.569 86.6494 946.333 Z\" fill=\"#000000\" fill-rule=\"evenodd\" fill-opacity=\"1\" /><path clip-path=\"url(#clip350)\" d=\"M 0 0 M91.0244 730.242 Q87.4133 730.242 85.5846 733.807 Q83.7791 737.349 83.7791 744.478 Q83.7791 751.585 85.5846 755.15 Q87.4133 758.691 91.0244 758.691 Q94.6586 758.691 96.4642 755.15 Q98.2929 751.585 98.2929 744.478 Q98.2929 737.349 96.4642 733.807 Q94.6586 730.242 91.0244 730.242 M91.0244 726.539 Q96.8345 726.539 99.8901 731.145 Q102.969 735.728 102.969 744.478 Q102.969 753.205 99.8901 757.812 Q96.8345 762.395 91.0244 762.395 Q85.2142 762.395 82.1355 757.812 Q79.08 753.205 79.08 744.478 Q79.08 735.728 82.1355 731.145 Q85.2142 726.539 91.0244 726.539 Z\" fill=\"#000000\" fill-rule=\"evenodd\" fill-opacity=\"1\" /><path clip-path=\"url(#clip350)\" d=\"M 0 0 M86.6494 569.244 L102.969 569.244 L102.969 573.179 L81.0244 573.179 L81.0244 569.244 Q83.6865 566.489 88.2698 561.859 Q92.8762 557.207 94.0568 555.864 Q96.3021 553.341 97.1818 551.605 Q98.0845 549.846 98.0845 548.156 Q98.0845 545.401 96.1401 543.665 Q94.2188 541.929 91.117 541.929 Q88.9179 541.929 86.4642 542.693 Q84.0337 543.457 81.2559 545.008 L81.2559 540.285 Q84.08 539.151 86.5337 538.572 Q88.9874 537.994 91.0244 537.994 Q96.3947 537.994 99.5892 540.679 Q102.784 543.364 102.784 547.855 Q102.784 549.984 101.973 551.906 Q101.186 553.804 99.0799 556.396 Q98.5012 557.068 95.3994 560.285 Q92.2975 563.48 86.6494 569.244 Z\" fill=\"#000000\" fill-rule=\"evenodd\" fill-opacity=\"1\" /><path clip-path=\"url(#clip350)\" d=\"M 0 0 M93.3855 354.148 L81.58 372.597 L93.3855 372.597 L93.3855 354.148 M92.1586 350.074 L98.0382 350.074 L98.0382 372.597 L102.969 372.597 L102.969 376.486 L98.0382 376.486 L98.0382 384.634 L93.3855 384.634 L93.3855 376.486 L77.7837 376.486 L77.7837 371.972 L92.1586 350.074 Z\" fill=\"#000000\" fill-rule=\"evenodd\" fill-opacity=\"1\" /><path clip-path=\"url(#clip350)\" d=\"M 0 0 M91.441 176.946 Q88.2929 176.946 86.4411 179.098 Q84.6124 181.251 84.6124 185.001 Q84.6124 188.728 86.4411 190.904 Q88.2929 193.057 91.441 193.057 Q94.5892 193.057 96.4179 190.904 Q98.2697 188.728 98.2697 185.001 Q98.2697 181.251 96.4179 179.098 Q94.5892 176.946 91.441 176.946 M100.723 162.293 L100.723 166.552 Q98.9642 165.719 97.1586 165.279 Q95.3762 164.839 93.617 164.839 Q88.9874 164.839 86.5337 167.964 Q84.1031 171.089 83.7559 177.409 Q85.1216 175.395 87.1818 174.33 Q89.242 173.242 91.7188 173.242 Q96.9271 173.242 99.9364 176.413 Q102.969 179.561 102.969 185.001 Q102.969 190.325 99.8206 193.543 Q96.6725 196.76 91.441 196.76 Q85.4457 196.76 82.2744 192.177 Q79.1032 187.571 79.1032 178.844 Q79.1032 170.649 82.992 165.788 Q86.8809 160.904 93.4318 160.904 Q95.191 160.904 96.9734 161.251 Q98.779 161.599 100.723 162.293 Z\" fill=\"#000000\" fill-rule=\"evenodd\" fill-opacity=\"1\" /><polyline clip-path=\"url(#clip352)\" style=\"stroke:#009af9; stroke-width:4; stroke-opacity:1; fill:none\" points=\"\n",
       "  189.963,1445.72 192.065,1445.51 194.167,1445.3 196.268,1445.1 198.37,1444.89 200.472,1444.69 202.574,1444.48 204.676,1444.27 206.778,1444.06 208.88,1443.86 \n",
       "  210.982,1443.65 213.084,1443.44 215.186,1443.23 217.287,1443.03 219.389,1442.82 221.491,1442.61 223.593,1442.4 225.695,1442.19 227.797,1441.98 229.899,1441.77 \n",
       "  232.001,1441.56 234.103,1441.35 236.205,1441.14 238.306,1440.93 240.408,1440.72 242.51,1440.51 244.612,1440.3 246.714,1440.08 248.816,1439.87 250.918,1439.66 \n",
       "  253.02,1439.45 255.122,1439.24 257.224,1439.02 259.325,1438.81 261.427,1438.6 263.529,1438.38 265.631,1438.17 267.733,1437.96 269.835,1437.74 271.937,1437.53 \n",
       "  274.039,1437.31 276.141,1437.1 278.243,1436.88 280.344,1436.67 282.446,1436.45 284.548,1436.23 286.65,1436.02 288.752,1435.8 290.854,1435.58 292.956,1435.37 \n",
       "  295.058,1435.15 297.16,1434.93 299.262,1434.72 301.363,1434.5 303.465,1434.28 305.567,1434.06 307.669,1433.84 309.771,1433.62 311.873,1433.4 313.975,1433.18 \n",
       "  316.077,1432.96 318.179,1432.74 320.281,1432.52 322.383,1432.3 324.484,1432.08 326.586,1431.86 328.688,1431.64 330.79,1431.42 332.892,1431.2 334.994,1430.98 \n",
       "  337.096,1430.75 339.198,1430.53 341.3,1430.31 343.402,1430.08 345.503,1429.86 347.605,1429.64 349.707,1429.41 351.809,1429.19 353.911,1428.97 356.013,1428.74 \n",
       "  358.115,1428.52 360.217,1428.29 362.319,1428.06 364.421,1427.84 366.522,1427.61 368.624,1427.39 370.726,1427.16 372.828,1426.93 374.93,1426.71 377.032,1426.48 \n",
       "  379.134,1426.25 381.236,1426.02 383.338,1425.79 385.44,1425.57 387.541,1425.34 389.643,1425.11 391.745,1424.88 393.847,1424.65 395.949,1424.42 398.051,1424.19 \n",
       "  400.153,1423.96 402.255,1423.73 404.357,1423.5 406.459,1423.27 408.56,1423.03 410.662,1422.8 412.764,1422.57 414.866,1422.34 416.968,1422.1 419.07,1421.87 \n",
       "  421.172,1421.64 423.274,1421.4 425.376,1421.17 427.478,1420.94 429.579,1420.7 431.681,1420.47 433.783,1420.23 435.885,1420 437.987,1419.76 440.089,1419.53 \n",
       "  442.191,1419.29 444.293,1419.05 446.395,1418.82 448.497,1418.58 450.598,1418.34 452.7,1418.1 454.802,1417.87 456.904,1417.63 459.006,1417.39 461.108,1417.15 \n",
       "  463.21,1416.91 465.312,1416.67 467.414,1416.43 469.516,1416.19 471.617,1415.95 473.719,1415.71 475.821,1415.47 477.923,1415.23 480.025,1414.99 482.127,1414.74 \n",
       "  484.229,1414.5 486.331,1414.26 488.433,1414.02 490.535,1413.77 492.636,1413.53 494.738,1413.28 496.84,1413.04 498.942,1412.8 501.044,1412.55 503.146,1412.31 \n",
       "  505.248,1412.06 507.35,1411.81 509.452,1411.57 511.554,1411.32 513.656,1411.08 515.757,1410.83 517.859,1410.58 519.961,1410.33 522.063,1410.09 524.165,1409.84 \n",
       "  526.267,1409.59 528.369,1409.34 530.471,1409.09 532.573,1408.84 534.675,1408.59 536.776,1408.34 538.878,1408.09 540.98,1407.84 543.082,1407.59 545.184,1407.34 \n",
       "  547.286,1407.08 549.388,1406.83 551.49,1406.58 553.592,1406.32 555.694,1406.07 557.795,1405.82 559.897,1405.56 561.999,1405.31 564.101,1405.05 566.203,1404.8 \n",
       "  568.305,1404.54 570.407,1404.29 572.509,1404.03 574.611,1403.78 576.713,1403.52 578.814,1403.26 580.916,1403 583.018,1402.75 585.12,1402.49 587.222,1402.23 \n",
       "  589.324,1401.97 591.426,1401.71 593.528,1401.45 595.63,1401.19 597.732,1400.93 599.833,1400.67 601.935,1400.41 604.037,1400.15 606.139,1399.89 608.241,1399.62 \n",
       "  610.343,1399.36 612.445,1399.1 614.547,1398.84 616.649,1398.57 618.751,1398.31 620.852,1398.04 622.954,1397.78 625.056,1397.51 627.158,1397.25 629.26,1396.98 \n",
       "  631.362,1396.72 633.464,1396.45 635.566,1396.18 637.668,1395.91 639.77,1395.65 641.871,1395.38 643.973,1395.11 646.075,1394.84 648.177,1394.57 650.279,1394.3 \n",
       "  652.381,1394.03 654.483,1393.76 656.585,1393.49 658.687,1393.22 660.789,1392.95 662.89,1392.68 664.992,1392.4 667.094,1392.13 669.196,1391.86 671.298,1391.58 \n",
       "  673.4,1391.31 675.502,1391.04 677.604,1390.76 679.706,1390.49 681.808,1390.21 683.909,1389.93 686.011,1389.66 688.113,1389.38 690.215,1389.1 692.317,1388.83 \n",
       "  694.419,1388.55 696.521,1388.27 698.623,1387.99 700.725,1387.71 702.827,1387.43 704.929,1387.15 707.03,1386.87 709.132,1386.59 711.234,1386.31 713.336,1386.03 \n",
       "  715.438,1385.74 717.54,1385.46 719.642,1385.18 721.744,1384.9 723.846,1384.61 725.948,1384.33 728.049,1384.04 730.151,1383.76 732.253,1383.47 734.355,1383.19 \n",
       "  736.457,1382.9 738.559,1382.61 740.661,1382.33 742.763,1382.04 744.865,1381.75 746.967,1381.46 749.068,1381.17 751.17,1380.88 753.272,1380.59 755.374,1380.3 \n",
       "  757.476,1380.01 759.578,1379.72 761.68,1379.43 763.782,1379.14 765.884,1378.84 767.986,1378.55 770.087,1378.26 772.189,1377.96 774.291,1377.67 776.393,1377.37 \n",
       "  778.495,1377.08 780.597,1376.78 782.699,1376.48 784.801,1376.19 786.903,1375.89 789.005,1375.59 791.106,1375.29 793.208,1375 795.31,1374.7 797.412,1374.4 \n",
       "  799.514,1374.1 801.616,1373.8 803.718,1373.49 805.82,1373.19 807.922,1372.89 810.024,1372.59 812.125,1372.29 814.227,1371.98 816.329,1371.68 818.431,1371.37 \n",
       "  820.533,1371.07 822.635,1370.76 824.737,1370.46 826.839,1370.15 828.941,1369.84 831.043,1369.54 833.144,1369.23 835.246,1368.92 837.348,1368.61 839.45,1368.3 \n",
       "  841.552,1367.99 843.654,1367.68 845.756,1367.37 847.858,1367.06 849.96,1366.75 852.062,1366.43 854.163,1366.12 856.265,1365.81 858.367,1365.49 860.469,1365.18 \n",
       "  862.571,1364.86 864.673,1364.55 866.775,1364.23 868.877,1363.91 870.979,1363.6 873.081,1363.28 875.182,1362.96 877.284,1362.64 879.386,1362.32 881.488,1362 \n",
       "  883.59,1361.68 885.692,1361.36 887.794,1361.04 889.896,1360.72 891.998,1360.39 894.1,1360.07 896.202,1359.75 898.303,1359.42 900.405,1359.1 902.507,1358.77 \n",
       "  904.609,1358.45 906.711,1358.12 908.813,1357.79 910.915,1357.46 913.017,1357.14 915.119,1356.81 917.221,1356.48 919.322,1356.15 921.424,1355.82 923.526,1355.49 \n",
       "  925.628,1355.15 927.73,1354.82 929.832,1354.49 931.934,1354.15 934.036,1353.82 936.138,1353.49 938.24,1353.15 940.341,1352.81 942.443,1352.48 944.545,1352.14 \n",
       "  946.647,1351.8 948.749,1351.46 950.851,1351.13 952.953,1350.79 955.055,1350.45 957.157,1350.11 959.259,1349.76 961.36,1349.42 963.462,1349.08 965.564,1348.74 \n",
       "  967.666,1348.39 969.768,1348.05 971.87,1347.7 973.972,1347.36 976.074,1347.01 978.176,1346.66 980.278,1346.32 982.379,1345.97 984.481,1345.62 986.583,1345.27 \n",
       "  988.685,1344.92 990.787,1344.57 992.889,1344.22 994.991,1343.86 997.093,1343.51 999.195,1343.16 1001.3,1342.8 1003.4,1342.45 1005.5,1342.09 1007.6,1341.74 \n",
       "  1009.7,1341.38 1011.81,1341.02 1013.91,1340.66 1016.01,1340.3 1018.11,1339.94 1020.21,1339.58 1022.32,1339.22 1024.42,1338.86 1026.52,1338.5 1028.62,1338.14 \n",
       "  1030.72,1337.77 1032.83,1337.41 1034.93,1337.04 1037.03,1336.68 1039.13,1336.31 1041.23,1335.94 1043.33,1335.57 1045.44,1335.21 1047.54,1334.84 1049.64,1334.47 \n",
       "  1051.74,1334.1 1053.84,1333.72 1055.95,1333.35 1058.05,1332.98 1060.15,1332.6 1062.25,1332.23 1064.35,1331.85 1066.46,1331.48 1068.56,1331.1 1070.66,1330.72 \n",
       "  1072.76,1330.35 1074.86,1329.97 1076.96,1329.59 1079.07,1329.21 1081.17,1328.82 1083.27,1328.44 1085.37,1328.06 1087.47,1327.68 1089.58,1327.29 1091.68,1326.91 \n",
       "  1093.78,1326.52 1095.88,1326.13 1097.98,1325.74 1100.09,1325.36 1102.19,1324.97 1104.29,1324.58 1106.39,1324.19 1108.49,1323.79 1110.6,1323.4 1112.7,1323.01 \n",
       "  1114.8,1322.61 1116.9,1322.22 1119,1321.82 1121.1,1321.43 1123.21,1321.03 1125.31,1320.63 1127.41,1320.23 1129.51,1319.83 1131.61,1319.43 1133.72,1319.03 \n",
       "  1135.82,1318.63 1137.92,1318.22 1140.02,1317.82 1142.12,1317.41 1144.23,1317.01 1146.33,1316.6 1148.43,1316.19 1150.53,1315.78 1152.63,1315.37 1154.74,1314.96 \n",
       "  1156.84,1314.55 1158.94,1314.14 1161.04,1313.73 1163.14,1313.31 1165.24,1312.9 1167.35,1312.48 1169.45,1312.07 1171.55,1311.65 1173.65,1311.23 1175.75,1310.81 \n",
       "  1177.86,1310.39 1179.96,1309.97 1182.06,1309.54 1184.16,1309.12 1186.26,1308.7 1188.37,1308.27 1190.47,1307.85 1192.57,1307.42 1194.67,1306.99 1196.77,1306.56 \n",
       "  1198.88,1306.13 1200.98,1305.7 1203.08,1305.27 1205.18,1304.84 1207.28,1304.4 1209.38,1303.97 1211.49,1303.53 1213.59,1303.09 1215.69,1302.65 1217.79,1302.22 \n",
       "  1219.89,1301.78 1222,1301.33 1224.1,1300.89 1226.2,1300.45 1228.3,1300 1230.4,1299.56 1232.51,1299.11 1234.61,1298.67 1236.71,1298.22 1238.81,1297.77 \n",
       "  1240.91,1297.32 1243.02,1296.87 1245.12,1296.41 1247.22,1295.96 1249.32,1295.5 1251.42,1295.05 1253.52,1294.59 1255.63,1294.13 1257.73,1293.67 1259.83,1293.21 \n",
       "  1261.93,1292.75 1264.03,1292.29 1266.14,1291.82 1268.24,1291.36 1270.34,1290.89 1272.44,1290.43 1274.54,1289.96 1276.65,1289.49 1278.75,1289.02 1280.85,1288.54 \n",
       "  1282.95,1288.07 1285.05,1287.6 1287.16,1287.12 1289.26,1286.64 1291.36,1286.17 1293.46,1285.69 1295.56,1285.21 1297.66,1284.73 1299.77,1284.24 1301.87,1283.76 \n",
       "  1303.97,1283.27 1306.07,1282.79 1308.17,1282.3 1310.28,1281.81 1312.38,1281.32 1314.48,1280.83 1316.58,1280.33 1318.68,1279.84 1320.79,1279.34 1322.89,1278.85 \n",
       "  1324.99,1278.35 1327.09,1277.85 1329.19,1277.35 1331.3,1276.85 1333.4,1276.34 1335.5,1275.84 1337.6,1275.33 1339.7,1274.83 1341.8,1274.32 1343.91,1273.81 \n",
       "  1346.01,1273.29 1348.11,1272.78 1350.21,1272.27 1352.31,1271.75 1354.42,1271.23 1356.52,1270.72 1358.62,1270.2 1360.72,1269.67 1362.82,1269.15 1364.93,1268.63 \n",
       "  1367.03,1268.1 1369.13,1267.57 1371.23,1267.04 1373.33,1266.51 1375.43,1265.98 1377.54,1265.45 1379.64,1264.91 1381.74,1264.38 1383.84,1263.84 1385.94,1263.3 \n",
       "  1388.05,1262.76 1390.15,1262.22 1392.25,1261.67 1394.35,1261.13 1396.45,1260.58 1398.56,1260.03 1400.66,1259.48 1402.76,1258.93 1404.86,1258.38 1406.96,1257.82 \n",
       "  1409.07,1257.26 1411.17,1256.7 1413.27,1256.14 1415.37,1255.58 1417.47,1255.02 1419.57,1254.45 1421.68,1253.89 1423.78,1253.32 1425.88,1252.75 1427.98,1252.18 \n",
       "  1430.08,1251.6 1432.19,1251.03 1434.29,1250.45 1436.39,1249.87 1438.49,1249.29 1440.59,1248.71 1442.7,1248.12 1444.8,1247.54 1446.9,1246.95 1449,1246.36 \n",
       "  1451.1,1245.77 1453.21,1245.17 1455.31,1244.58 1457.41,1243.98 1459.51,1243.38 1461.61,1242.78 1463.71,1242.18 1465.82,1241.57 1467.92,1240.97 1470.02,1240.36 \n",
       "  1472.12,1239.75 1474.22,1239.13 1476.33,1238.52 1478.43,1237.9 1480.53,1237.28 1482.63,1236.66 1484.73,1236.04 1486.84,1235.41 1488.94,1234.79 1491.04,1234.16 \n",
       "  1493.14,1233.53 1495.24,1232.89 1497.35,1232.26 1499.45,1231.62 1501.55,1230.98 1503.65,1230.34 1505.75,1229.69 1507.85,1229.05 1509.96,1228.4 1512.06,1227.75 \n",
       "  1514.16,1227.1 1516.26,1226.44 1518.36,1225.78 1520.47,1225.12 1522.57,1224.46 1524.67,1223.8 1526.77,1223.13 1528.87,1222.46 1530.98,1221.79 1533.08,1221.12 \n",
       "  1535.18,1220.44 1537.28,1219.76 1539.38,1219.08 1541.49,1218.4 1543.59,1217.71 1545.69,1217.02 1547.79,1216.33 1549.89,1215.64 1551.99,1214.94 1554.1,1214.24 \n",
       "  1556.2,1213.54 1558.3,1212.84 1560.4,1212.13 1562.5,1211.42 1564.61,1210.71 1566.71,1209.99 1568.81,1209.28 1570.91,1208.56 1573.01,1207.83 1575.12,1207.11 \n",
       "  1577.22,1206.38 1579.32,1205.65 1581.42,1204.92 1583.52,1204.18 1585.63,1203.44 1587.73,1202.7 1589.83,1201.95 1591.93,1201.2 1594.03,1200.45 1596.13,1199.7 \n",
       "  1598.24,1198.94 1600.34,1198.18 1602.44,1197.41 1604.54,1196.65 1606.64,1195.88 1608.75,1195.11 1610.85,1194.33 1612.95,1193.55 1615.05,1192.77 1617.15,1191.98 \n",
       "  1619.26,1191.19 1621.36,1190.4 1623.46,1189.61 1625.56,1188.81 1627.66,1188 1629.76,1187.2 1631.87,1186.39 1633.97,1185.58 1636.07,1184.76 1638.17,1183.94 \n",
       "  1640.27,1183.12 1642.38,1182.29 1644.48,1181.46 1646.58,1180.63 1648.68,1179.79 1650.78,1178.95 1652.89,1178.1 1654.99,1177.25 1657.09,1176.4 1659.19,1175.55 \n",
       "  1661.29,1174.68 1663.4,1173.82 1665.5,1172.95 1667.6,1172.08 1669.7,1171.2 1671.8,1170.32 1673.9,1169.44 1676.01,1168.55 1678.11,1167.66 1680.21,1166.76 \n",
       "  1682.31,1165.86 1684.41,1164.95 1686.52,1164.04 1688.62,1163.13 1690.72,1162.21 1692.82,1161.29 1694.92,1160.36 1697.03,1159.43 1699.13,1158.49 1701.23,1157.55 \n",
       "  1703.33,1156.6 1705.43,1155.65 1707.54,1154.7 1709.64,1153.74 1711.74,1152.77 1713.84,1151.8 1715.94,1150.83 1718.04,1149.85 1720.15,1148.86 1722.25,1147.87 \n",
       "  1724.35,1146.88 1726.45,1145.87 1728.55,1144.87 1730.66,1143.86 1732.76,1142.84 1734.86,1141.82 1736.96,1140.79 1739.06,1139.76 1741.17,1138.72 1743.27,1137.67 \n",
       "  1745.37,1136.62 1747.47,1135.57 1749.57,1134.51 1751.68,1133.44 1753.78,1132.36 1755.88,1131.28 1757.98,1130.2 1760.08,1129.11 1762.18,1128.01 1764.29,1126.9 \n",
       "  1766.39,1125.79 1768.49,1124.67 1770.59,1123.55 1772.69,1122.42 1774.8,1121.28 1776.9,1120.13 1779,1118.98 1781.1,1117.82 1783.2,1116.66 1785.31,1115.49 \n",
       "  1787.41,1114.31 1789.51,1113.12 1791.61,1111.92 1793.71,1110.72 1795.82,1109.51 1797.92,1108.3 1800.02,1107.07 1802.12,1105.84 1804.22,1104.6 1806.32,1103.35 \n",
       "  1808.43,1102.09 1810.53,1100.83 1812.63,1099.55 1814.73,1098.27 1816.83,1096.98 1818.94,1095.68 1821.04,1094.37 1823.14,1093.05 1825.24,1091.73 1827.34,1090.39 \n",
       "  1829.45,1089.05 1831.55,1087.69 1833.65,1086.33 1835.75,1084.95 1837.85,1083.57 1839.96,1082.18 1842.06,1080.78 1844.16,1079.36 1846.26,1077.94 1848.36,1076.5 \n",
       "  1850.46,1075.06 1852.57,1073.6 1854.67,1072.13 1856.77,1070.66 1858.87,1069.17 1860.97,1067.67 1863.08,1066.15 1865.18,1064.63 1867.28,1063.09 1869.38,1061.54 \n",
       "  1871.48,1059.98 1873.59,1058.41 1875.69,1056.82 1877.79,1055.23 1879.89,1053.61 1881.99,1051.99 1884.1,1050.35 1886.2,1048.7 1888.3,1047.03 1890.4,1045.35 \n",
       "  1892.5,1043.65 1894.6,1041.94 1896.71,1040.22 1898.81,1038.48 1900.91,1036.72 1903.01,1034.95 1905.11,1033.16 1907.22,1031.36 1909.32,1029.54 1911.42,1027.7 \n",
       "  1913.52,1025.85 1915.62,1023.98 1917.73,1022.09 1919.83,1020.19 1921.93,1018.26 1924.03,1016.32 1926.13,1014.36 1928.23,1012.38 1930.34,1010.38 1932.44,1008.36 \n",
       "  1934.54,1006.32 1936.64,1004.26 1938.74,1002.18 1940.85,1000.08 1942.95,997.952 1945.05,995.806 1947.15,993.638 1949.25,991.447 1951.36,989.233 1953.46,986.995 \n",
       "  1955.56,984.734 1957.66,982.448 1959.76,980.137 1961.87,977.8 1963.97,975.438 1966.07,973.05 1968.17,970.635 1970.27,968.193 1972.37,965.723 1974.48,963.225 \n",
       "  1976.58,960.698 1978.68,958.142 1980.78,955.556 1982.88,952.94 1984.99,950.294 1987.09,947.616 1989.19,944.905 1991.29,942.163 1993.39,939.387 1995.5,936.578 \n",
       "  1997.6,933.735 1999.7,930.857 2001.8,927.943 2003.9,924.994 2006.01,922.008 2008.11,918.985 2010.21,915.923 2012.31,912.824 2014.41,909.685 2016.51,906.507 \n",
       "  2018.62,903.289 2020.72,900.029 2022.82,896.728 2024.92,893.385 2027.02,889.998 2029.13,886.569 2031.23,883.095 2033.33,879.577 2035.43,876.013 2037.53,872.403 \n",
       "  2039.64,868.747 2041.74,865.044 2043.84,861.292 2045.94,857.493 2048.04,853.644 2050.15,849.746 2052.25,845.798 2054.35,841.8 2056.45,837.75 2058.55,833.649 \n",
       "  2060.65,829.496 2062.76,825.29 2064.86,821.031 2066.96,816.718 2069.06,812.352 2071.16,807.931 2073.27,803.456 2075.37,798.926 2077.47,794.34 2079.57,789.699 \n",
       "  2081.67,785.001 2083.78,780.248 2085.88,775.438 2087.98,770.572 2090.08,765.649 2092.18,760.669 2094.29,755.632 2096.39,750.538 2098.49,745.386 2100.59,740.178 \n",
       "  2102.69,734.912 2104.79,729.59 2106.9,724.21 2109,718.774 2111.1,713.28 2113.2,707.73 2115.3,702.124 2117.41,696.461 2119.51,690.742 2121.61,684.968 \n",
       "  2123.71,679.138 2125.81,673.253 2127.92,667.313 2130.02,661.319 2132.12,655.27 2134.22,649.169 2136.32,643.013 2138.43,636.805 2140.53,630.545 2142.63,624.233 \n",
       "  2144.73,617.87 2146.83,611.456 2148.93,604.992 2151.04,598.478 2153.14,591.915 2155.24,585.303 2157.34,578.643 2159.44,571.936 2161.55,565.183 2163.65,558.383 \n",
       "  2165.75,551.537 2167.85,544.647 2169.95,537.712 2172.06,530.733 2174.16,523.712 2176.26,516.648 2178.36,509.542 2180.46,502.395 2182.56,495.208 2184.67,487.98 \n",
       "  2186.77,480.714 2188.87,473.408 2190.97,466.065 2193.07,458.684 2195.18,451.266 2197.28,443.813 2199.38,436.323 2201.48,428.799 2203.58,421.24 2205.69,413.647 \n",
       "  2207.79,406.021 2209.89,398.363 2211.99,390.672 2214.09,382.95 2216.2,375.197 2218.3,367.413 2220.4,359.599 2222.5,351.756 2224.6,343.884 2226.7,335.984 \n",
       "  2228.81,328.056 2230.91,320.101 2233.01,312.118 2235.11,304.109 2237.21,296.075 2239.32,288.014 2241.42,279.929 2243.52,271.819 2245.62,263.685 2247.72,255.527 \n",
       "  2249.83,247.346 2251.93,239.142 2254.03,230.916 2256.13,222.667 2258.23,214.397 2260.34,206.106 2262.44,197.793 2264.54,189.46 2266.64,181.106 2268.74,172.733 \n",
       "  2270.84,164.34 2272.95,155.928 2275.05,147.497 2277.15,139.047 2279.25,130.579 2281.35,122.093 2283.46,113.59 2285.56,105.069 2287.66,96.531 2289.76,87.9763 \n",
       "  \n",
       "  \"/>\n",
       "<path clip-path=\"url(#clip350)\" d=\"\n",
       "M1989.74 251.724 L2280.76 251.724 L2280.76 130.764 L1989.74 130.764  Z\n",
       "  \" fill=\"#ffffff\" fill-rule=\"evenodd\" fill-opacity=\"1\"/>\n",
       "<polyline clip-path=\"url(#clip350)\" style=\"stroke:#000000; stroke-width:4; stroke-opacity:1; fill:none\" points=\"\n",
       "  1989.74,251.724 2280.76,251.724 2280.76,130.764 1989.74,130.764 1989.74,251.724 \n",
       "  \"/>\n",
       "<polyline clip-path=\"url(#clip350)\" style=\"stroke:#009af9; stroke-width:4; stroke-opacity:1; fill:none\" points=\"\n",
       "  2013.74,191.244 2157.74,191.244 \n",
       "  \"/>\n",
       "<path clip-path=\"url(#clip350)\" d=\"M 0 0 M2195.58 210.931 Q2193.77 215.561 2192.06 216.973 Q2190.35 218.385 2187.48 218.385 L2184.08 218.385 L2184.08 214.82 L2186.58 214.82 Q2188.33 214.82 2189.31 213.987 Q2190.28 213.154 2191.46 210.052 L2192.22 208.107 L2181.74 182.598 L2186.25 182.598 L2194.35 202.876 L2202.46 182.598 L2206.97 182.598 L2195.58 210.931 Z\" fill=\"#000000\" fill-rule=\"evenodd\" fill-opacity=\"1\" /><path clip-path=\"url(#clip350)\" d=\"M 0 0 M2212.85 204.589 L2220.49 204.589 L2220.49 178.223 L2212.18 179.89 L2212.18 175.631 L2220.44 173.964 L2225.12 173.964 L2225.12 204.589 L2232.76 204.589 L2232.76 208.524 L2212.85 208.524 L2212.85 204.589 Z\" fill=\"#000000\" fill-rule=\"evenodd\" fill-opacity=\"1\" /></svg>\n"
      ]
     },
     "execution_count": 39,
     "metadata": {},
     "output_type": "execute_result"
    }
   ],
   "source": [
    "Plots.plot(\n",
    "    range(-100.0, 10.0, length = 1000),\n",
    "    t -> log(beta_mgf_v8(α, β, t)),\n",
    ")"
   ]
  },
  {
   "cell_type": "markdown",
   "metadata": {},
   "source": [
    "### Testing It All"
   ]
  },
  {
   "cell_type": "code",
   "execution_count": 40,
   "metadata": {},
   "outputs": [
    {
     "name": "stdout",
     "output_type": "stream",
     "text": [
      "\u001b[37m\u001b[1mTest Summary:    | \u001b[22m\u001b[39m\u001b[32m\u001b[1mPass  \u001b[22m\u001b[39m\u001b[36m\u001b[1mTotal\u001b[22m\u001b[39m\n",
      "Derivatives at 0 | \u001b[32m1875  \u001b[39m\u001b[36m 1875\u001b[39m\n"
     ]
    },
    {
     "data": {
      "text/plain": [
       "Test.DefaultTestSet(\"Derivatives at 0\", Any[], 1875, false)"
      ]
     },
     "execution_count": 40,
     "metadata": {},
     "output_type": "execute_result"
    }
   ],
   "source": [
    "@testset \"Derivatives at 0\" begin\n",
    "    for α in 1:25, β in 1:25\n",
    "        M = t -> beta_mgf_v8(α, β, t)\n",
    "        M′ = t -> derivative(M, t)\n",
    "        M′′ = t -> derivative(M′, t)\n",
    "        d = Beta(α, β)\n",
    "        @test M(0.0) ≈ 1.0\n",
    "        @test M′(0.0) ≈ mean(d)\n",
    "        @test M′′(0.0) ≈ var(d) + mean(d)^2\n",
    "    end\n",
    "end"
   ]
  },
  {
   "cell_type": "code",
   "execution_count": 41,
   "metadata": {},
   "outputs": [
    {
     "name": "stdout",
     "output_type": "stream",
     "text": [
      "\u001b[37m\u001b[1mTest Summary:          | \u001b[22m\u001b[39m\u001b[32m\u001b[1mPass  \u001b[22m\u001b[39m\u001b[36m\u001b[1mTotal\u001b[22m\u001b[39m\n",
      "Lower and upper bounds | \u001b[32m1000  \u001b[39m\u001b[36m 1000\u001b[39m\n"
     ]
    },
    {
     "data": {
      "text/plain": [
       "Test.DefaultTestSet(\"Lower and upper bounds\", Any[], 1000, false)"
      ]
     },
     "execution_count": 41,
     "metadata": {},
     "output_type": "execute_result"
    }
   ],
   "source": [
    "@testset \"Lower and upper bounds\" begin\n",
    "    r = range(-100.0, 10.0, length = 1000)\n",
    "    for t in r\n",
    "        if t <= 0\n",
    "            @test exp(t) <= beta_mgf_v8(α, β, t) <= 1.0\n",
    "        else\n",
    "            @test 1.0 <= beta_mgf_v8(α, β, t) <= exp(t)\n",
    "        end\n",
    "    end\n",
    "end"
   ]
  },
  {
   "cell_type": "code",
   "execution_count": 42,
   "metadata": {},
   "outputs": [
    {
     "name": "stdout",
     "output_type": "stream",
     "text": [
      "\u001b[37m\u001b[1mTest Summary: | \u001b[22m\u001b[39m\u001b[32m\u001b[1mPass  \u001b[22m\u001b[39m\u001b[36m\u001b[1mTotal\u001b[22m\u001b[39m\n",
      "Monotonicity  | \u001b[32m 999  \u001b[39m\u001b[36m  999\u001b[39m\n"
     ]
    },
    {
     "data": {
      "text/plain": [
       "Test.DefaultTestSet(\"Monotonicity\", Any[], 999, false)"
      ]
     },
     "execution_count": 42,
     "metadata": {},
     "output_type": "execute_result"
    }
   ],
   "source": [
    "@testset \"Monotonicity\" begin\n",
    "    r = range(-100.0, 10.0, length = 1000)\n",
    "    t_previous = -Inf\n",
    "    for (i, t) in enumerate(r)\n",
    "        if i == 1\n",
    "            t_previous = t\n",
    "        else\n",
    "            @test beta_mgf_v8(α, β, t_previous) < beta_mgf_v8(α, β, t)\n",
    "            t_previous = t\n",
    "        end\n",
    "    end\n",
    "end"
   ]
  },
  {
   "cell_type": "code",
   "execution_count": 43,
   "metadata": {},
   "outputs": [
    {
     "name": "stdout",
     "output_type": "stream",
     "text": [
      "\u001b[37m\u001b[1mTest Summary:      | \u001b[22m\u001b[39m\u001b[32m\u001b[1mPass  \u001b[22m\u001b[39m\u001b[36m\u001b[1mTotal\u001b[22m\u001b[39m\n",
      "Numerical Accuracy | \u001b[32m1000  \u001b[39m\u001b[36m 1000\u001b[39m\n"
     ]
    },
    {
     "data": {
      "text/plain": [
       "Test.DefaultTestSet(\"Numerical Accuracy\", Any[], 1000, false)"
      ]
     },
     "execution_count": 43,
     "metadata": {},
     "output_type": "execute_result"
    }
   ],
   "source": [
    "@testset \"Numerical Accuracy\" begin\n",
    "    r = range(-100.0, 10.0, length = 1000)\n",
    "    for t in r\n",
    "        @test beta_mgf_v8(α, β, t) ≈ Float64(beta_mgf_v8(α, β, big(t)))\n",
    "    end\n",
    "end"
   ]
  }
 ],
 "metadata": {
  "@webio": {
   "lastCommId": null,
   "lastKernelId": null
  },
  "kernelspec": {
   "display_name": "Julia 1.4.1",
   "language": "julia",
   "name": "julia-1.4"
  },
  "language_info": {
   "file_extension": ".jl",
   "mimetype": "application/julia",
   "name": "julia",
   "version": "1.5.0"
  }
 },
 "nbformat": 4,
 "nbformat_minor": 4
}
